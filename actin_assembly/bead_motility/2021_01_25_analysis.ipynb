{
 "cells": [
  {
   "cell_type": "code",
   "execution_count": 1,
   "id": "understanding-impact",
   "metadata": {},
   "outputs": [],
   "source": [
    "from bead_motility import *"
   ]
  },
  {
   "cell_type": "code",
   "execution_count": 2,
   "id": "toxic-venice",
   "metadata": {},
   "outputs": [],
   "source": [
    "first_day_folder_path = '/home/jiongyi/Documents/lab_data/wasp_kinetics_architecture/versus/wave_versus_n_wasp/2021_01_21/100_nM_npf_50_nM_arp23_5_uM_profilin_actin/98_nM_cp'\n",
    "second_day_folder_path = '/home/jiongyi/Documents/lab_data/wasp_kinetics_architecture/versus/wave_versus_n_wasp/2021_01_22/100_nM_npf_50_nM_arp23_5_uM_profilin_actin/100_nM_cp'"
   ]
  },
  {
   "cell_type": "code",
   "execution_count": 3,
   "id": "advance-spell",
   "metadata": {},
   "outputs": [
    {
     "name": "stderr",
     "output_type": "stream",
     "text": [
      "/home/jiongyi/github/jupyter/actin_assembly/bead_motility/bead_motility.py:94: RuntimeWarning: Mean of empty slice.\n",
      "  chase_fluor_row[i] = c2_im[i_chase_bw_im].mean() - c2_mean_back_fluor\n",
      "/home/jiongyi/anaconda3/lib/python3.8/site-packages/numpy/core/_methods.py:170: RuntimeWarning: invalid value encountered in double_scalars\n",
      "  ret = ret.dtype.type(ret / rcount)\n",
      "/home/jiongyi/github/jupyter/actin_assembly/bead_motility/bead_motility.py:58: UserWarning: /home/jiongyi/Documents/lab_data/wasp_kinetics_architecture/versus/wave_versus_n_wasp/2021_01_21/100_nM_npf_50_nM_arp23_5_uM_profilin_actin/98_nM_cp/c0_egfp_c1_hylite555_actin_c2_a647_actin_11/c0_egfp_c1_hylite555_actin_c2_a647_actin_11_segment.jpg is a low contrast image\n",
      "  imsave(save_file_path, rgb_stack.astype('uint8'))\n",
      "/home/jiongyi/github/jupyter/actin_assembly/bead_motility/bead_motility.py:58: UserWarning: /home/jiongyi/Documents/lab_data/wasp_kinetics_architecture/versus/wave_versus_n_wasp/2021_01_21/100_nM_npf_50_nM_arp23_5_uM_profilin_actin/98_nM_cp/c0_egfp_c1_hylite555_actin_c2_a647_actin_14/c0_egfp_c1_hylite555_actin_c2_a647_actin_14_segment.jpg is a low contrast image\n",
      "  imsave(save_file_path, rgb_stack.astype('uint8'))\n",
      "/home/jiongyi/github/jupyter/actin_assembly/bead_motility/bead_motility.py:58: UserWarning: /home/jiongyi/Documents/lab_data/wasp_kinetics_architecture/versus/wave_versus_n_wasp/2021_01_21/100_nM_npf_50_nM_arp23_5_uM_profilin_actin/98_nM_cp/c0_egfp_c1_hylite555_actin_c2_a647_actin_2/c0_egfp_c1_hylite555_actin_c2_a647_actin_2_segment.jpg is a low contrast image\n",
      "  imsave(save_file_path, rgb_stack.astype('uint8'))\n",
      "/home/jiongyi/github/jupyter/actin_assembly/bead_motility/bead_motility.py:58: UserWarning: /home/jiongyi/Documents/lab_data/wasp_kinetics_architecture/versus/wave_versus_n_wasp/2021_01_21/100_nM_npf_50_nM_arp23_5_uM_profilin_actin/98_nM_cp/c0_egfp_c1_hylite555_actin_c2_a647_actin_21/c0_egfp_c1_hylite555_actin_c2_a647_actin_21_segment.jpg is a low contrast image\n",
      "  imsave(save_file_path, rgb_stack.astype('uint8'))\n",
      "/home/jiongyi/github/jupyter/actin_assembly/bead_motility/bead_motility.py:58: UserWarning: /home/jiongyi/Documents/lab_data/wasp_kinetics_architecture/versus/wave_versus_n_wasp/2021_01_21/100_nM_npf_50_nM_arp23_5_uM_profilin_actin/98_nM_cp/c0_egfp_c1_hylite555_actin_c2_a647_actin_8/c0_egfp_c1_hylite555_actin_c2_a647_actin_8_segment.jpg is a low contrast image\n",
      "  imsave(save_file_path, rgb_stack.astype('uint8'))\n",
      "/home/jiongyi/github/jupyter/actin_assembly/bead_motility/bead_motility.py:58: UserWarning: /home/jiongyi/Documents/lab_data/wasp_kinetics_architecture/versus/wave_versus_n_wasp/2021_01_21/100_nM_npf_50_nM_arp23_5_uM_profilin_actin/98_nM_cp/c0_egfp_c1_hylite555_actin_c2_a647_actin_3/c0_egfp_c1_hylite555_actin_c2_a647_actin_3_segment.jpg is a low contrast image\n",
      "  imsave(save_file_path, rgb_stack.astype('uint8'))\n",
      "/home/jiongyi/github/jupyter/actin_assembly/bead_motility/bead_motility.py:58: UserWarning: /home/jiongyi/Documents/lab_data/wasp_kinetics_architecture/versus/wave_versus_n_wasp/2021_01_21/100_nM_npf_50_nM_arp23_5_uM_profilin_actin/98_nM_cp/c0_egfp_c1_hylite555_actin_c2_a647_actin_18/c0_egfp_c1_hylite555_actin_c2_a647_actin_18_segment.jpg is a low contrast image\n",
      "  imsave(save_file_path, rgb_stack.astype('uint8'))\n",
      "/home/jiongyi/github/jupyter/actin_assembly/bead_motility/bead_motility.py:58: UserWarning: /home/jiongyi/Documents/lab_data/wasp_kinetics_architecture/versus/wave_versus_n_wasp/2021_01_21/100_nM_npf_50_nM_arp23_5_uM_profilin_actin/98_nM_cp/c0_egfp_c1_hylite555_actin_c2_a647_actin_23/c0_egfp_c1_hylite555_actin_c2_a647_actin_23_segment.jpg is a low contrast image\n",
      "  imsave(save_file_path, rgb_stack.astype('uint8'))\n",
      "/home/jiongyi/github/jupyter/actin_assembly/bead_motility/bead_motility.py:58: UserWarning: /home/jiongyi/Documents/lab_data/wasp_kinetics_architecture/versus/wave_versus_n_wasp/2021_01_21/100_nM_npf_50_nM_arp23_5_uM_profilin_actin/98_nM_cp/c0_egfp_c1_hylite555_actin_c2_a647_actin_7/c0_egfp_c1_hylite555_actin_c2_a647_actin_7_segment.jpg is a low contrast image\n",
      "  imsave(save_file_path, rgb_stack.astype('uint8'))\n",
      "/home/jiongyi/github/jupyter/actin_assembly/bead_motility/bead_motility.py:58: UserWarning: /home/jiongyi/Documents/lab_data/wasp_kinetics_architecture/versus/wave_versus_n_wasp/2021_01_21/100_nM_npf_50_nM_arp23_5_uM_profilin_actin/98_nM_cp/c0_egfp_c1_hylite555_actin_c2_a647_actin_5/c0_egfp_c1_hylite555_actin_c2_a647_actin_5_segment.jpg is a low contrast image\n",
      "  imsave(save_file_path, rgb_stack.astype('uint8'))\n",
      "/home/jiongyi/github/jupyter/actin_assembly/bead_motility/bead_motility.py:58: UserWarning: /home/jiongyi/Documents/lab_data/wasp_kinetics_architecture/versus/wave_versus_n_wasp/2021_01_21/100_nM_npf_50_nM_arp23_5_uM_profilin_actin/98_nM_cp/c0_egfp_c1_hylite555_actin_c2_a647_actin_22/c0_egfp_c1_hylite555_actin_c2_a647_actin_22_segment.jpg is a low contrast image\n",
      "  imsave(save_file_path, rgb_stack.astype('uint8'))\n",
      "/home/jiongyi/github/jupyter/actin_assembly/bead_motility/bead_motility.py:58: UserWarning: /home/jiongyi/Documents/lab_data/wasp_kinetics_architecture/versus/wave_versus_n_wasp/2021_01_21/100_nM_npf_50_nM_arp23_5_uM_profilin_actin/98_nM_cp/c0_egfp_c1_hylite555_actin_c2_a647_actin_4/c0_egfp_c1_hylite555_actin_c2_a647_actin_4_segment.jpg is a low contrast image\n",
      "  imsave(save_file_path, rgb_stack.astype('uint8'))\n",
      "/home/jiongyi/github/jupyter/actin_assembly/bead_motility/bead_motility.py:58: UserWarning: /home/jiongyi/Documents/lab_data/wasp_kinetics_architecture/versus/wave_versus_n_wasp/2021_01_21/100_nM_npf_50_nM_arp23_5_uM_profilin_actin/98_nM_cp/c0_egfp_c1_hylite555_actin_c2_a647_actin_20/c0_egfp_c1_hylite555_actin_c2_a647_actin_20_segment.jpg is a low contrast image\n",
      "  imsave(save_file_path, rgb_stack.astype('uint8'))\n"
     ]
    }
   ],
   "source": [
    "first_day_comet_tail_props_df = batch_analysis(first_day_folder_path)"
   ]
  },
  {
   "cell_type": "code",
   "execution_count": 4,
   "id": "essential-booking",
   "metadata": {},
   "outputs": [
    {
     "name": "stderr",
     "output_type": "stream",
     "text": [
      "/home/jiongyi/github/jupyter/actin_assembly/bead_motility/bead_motility.py:58: UserWarning: /home/jiongyi/Documents/lab_data/wasp_kinetics_architecture/versus/wave_versus_n_wasp/2021_01_22/100_nM_npf_50_nM_arp23_5_uM_profilin_actin/100_nM_cp/c0_egfp_c1_hylite555_actin_c2_a647_actin_6/c0_egfp_c1_hylite555_actin_c2_a647_actin_6_segment.jpg is a low contrast image\n",
      "  imsave(save_file_path, rgb_stack.astype('uint8'))\n",
      "/home/jiongyi/github/jupyter/actin_assembly/bead_motility/bead_motility.py:58: UserWarning: /home/jiongyi/Documents/lab_data/wasp_kinetics_architecture/versus/wave_versus_n_wasp/2021_01_22/100_nM_npf_50_nM_arp23_5_uM_profilin_actin/100_nM_cp/c0_egfp_c1_hylite555_actin_c2_a647_actin_10/c0_egfp_c1_hylite555_actin_c2_a647_actin_10_segment.jpg is a low contrast image\n",
      "  imsave(save_file_path, rgb_stack.astype('uint8'))\n",
      "/home/jiongyi/github/jupyter/actin_assembly/bead_motility/bead_motility.py:58: UserWarning: /home/jiongyi/Documents/lab_data/wasp_kinetics_architecture/versus/wave_versus_n_wasp/2021_01_22/100_nM_npf_50_nM_arp23_5_uM_profilin_actin/100_nM_cp/c0_egfp_c1_hylite555_actin_c2_a647_actin_2/c0_egfp_c1_hylite555_actin_c2_a647_actin_2_segment.jpg is a low contrast image\n",
      "  imsave(save_file_path, rgb_stack.astype('uint8'))\n",
      "/home/jiongyi/github/jupyter/actin_assembly/bead_motility/bead_motility.py:58: UserWarning: /home/jiongyi/Documents/lab_data/wasp_kinetics_architecture/versus/wave_versus_n_wasp/2021_01_22/100_nM_npf_50_nM_arp23_5_uM_profilin_actin/100_nM_cp/c0_egfp_c1_hylite555_actin_c2_a647_actin_35/c0_egfp_c1_hylite555_actin_c2_a647_actin_35_segment.jpg is a low contrast image\n",
      "  imsave(save_file_path, rgb_stack.astype('uint8'))\n",
      "/home/jiongyi/github/jupyter/actin_assembly/bead_motility/bead_motility.py:58: UserWarning: /home/jiongyi/Documents/lab_data/wasp_kinetics_architecture/versus/wave_versus_n_wasp/2021_01_22/100_nM_npf_50_nM_arp23_5_uM_profilin_actin/100_nM_cp/c0_egfp_c1_hylite555_actin_c2_a647_actin_8/c0_egfp_c1_hylite555_actin_c2_a647_actin_8_segment.jpg is a low contrast image\n",
      "  imsave(save_file_path, rgb_stack.astype('uint8'))\n",
      "/home/jiongyi/github/jupyter/actin_assembly/bead_motility/bead_motility.py:58: UserWarning: /home/jiongyi/Documents/lab_data/wasp_kinetics_architecture/versus/wave_versus_n_wasp/2021_01_22/100_nM_npf_50_nM_arp23_5_uM_profilin_actin/100_nM_cp/c0_egfp_c1_hylite555_actin_c2_a647_actin_13/c0_egfp_c1_hylite555_actin_c2_a647_actin_13_segment.jpg is a low contrast image\n",
      "  imsave(save_file_path, rgb_stack.astype('uint8'))\n",
      "/home/jiongyi/github/jupyter/actin_assembly/bead_motility/bead_motility.py:58: UserWarning: /home/jiongyi/Documents/lab_data/wasp_kinetics_architecture/versus/wave_versus_n_wasp/2021_01_22/100_nM_npf_50_nM_arp23_5_uM_profilin_actin/100_nM_cp/c0_egfp_c1_hylite555_actin_c2_a647_actin_23/c0_egfp_c1_hylite555_actin_c2_a647_actin_23_segment.jpg is a low contrast image\n",
      "  imsave(save_file_path, rgb_stack.astype('uint8'))\n",
      "/home/jiongyi/github/jupyter/actin_assembly/bead_motility/bead_motility.py:58: UserWarning: /home/jiongyi/Documents/lab_data/wasp_kinetics_architecture/versus/wave_versus_n_wasp/2021_01_22/100_nM_npf_50_nM_arp23_5_uM_profilin_actin/100_nM_cp/c0_egfp_c1_hylite555_actin_c2_a647_actin_7/c0_egfp_c1_hylite555_actin_c2_a647_actin_7_segment.jpg is a low contrast image\n",
      "  imsave(save_file_path, rgb_stack.astype('uint8'))\n",
      "/home/jiongyi/github/jupyter/actin_assembly/bead_motility/bead_motility.py:58: UserWarning: /home/jiongyi/Documents/lab_data/wasp_kinetics_architecture/versus/wave_versus_n_wasp/2021_01_22/100_nM_npf_50_nM_arp23_5_uM_profilin_actin/100_nM_cp/c0_egfp_c1_hylite555_actin_c2_a647_actin_5/c0_egfp_c1_hylite555_actin_c2_a647_actin_5_segment.jpg is a low contrast image\n",
      "  imsave(save_file_path, rgb_stack.astype('uint8'))\n",
      "/home/jiongyi/github/jupyter/actin_assembly/bead_motility/bead_motility.py:58: UserWarning: /home/jiongyi/Documents/lab_data/wasp_kinetics_architecture/versus/wave_versus_n_wasp/2021_01_22/100_nM_npf_50_nM_arp23_5_uM_profilin_actin/100_nM_cp/c0_egfp_c1_hylite555_actin_c2_a647_actin_9/c0_egfp_c1_hylite555_actin_c2_a647_actin_9_segment.jpg is a low contrast image\n",
      "  imsave(save_file_path, rgb_stack.astype('uint8'))\n",
      "/home/jiongyi/github/jupyter/actin_assembly/bead_motility/bead_motility.py:58: UserWarning: /home/jiongyi/Documents/lab_data/wasp_kinetics_architecture/versus/wave_versus_n_wasp/2021_01_22/100_nM_npf_50_nM_arp23_5_uM_profilin_actin/100_nM_cp/c0_egfp_c1_hylite555_actin_c2_a647_actin_4/c0_egfp_c1_hylite555_actin_c2_a647_actin_4_segment.jpg is a low contrast image\n",
      "  imsave(save_file_path, rgb_stack.astype('uint8'))\n",
      "/home/jiongyi/github/jupyter/actin_assembly/bead_motility/bead_motility.py:58: UserWarning: /home/jiongyi/Documents/lab_data/wasp_kinetics_architecture/versus/wave_versus_n_wasp/2021_01_22/100_nM_npf_50_nM_arp23_5_uM_profilin_actin/100_nM_cp/c0_egfp_c1_hylite555_actin_c2_a647_actin_20/c0_egfp_c1_hylite555_actin_c2_a647_actin_20_segment.jpg is a low contrast image\n",
      "  imsave(save_file_path, rgb_stack.astype('uint8'))\n"
     ]
    }
   ],
   "source": [
    "second_day_comet_tail_props_df = batch_analysis(second_day_folder_path)"
   ]
  },
  {
   "cell_type": "code",
   "execution_count": 6,
   "id": "spare-private",
   "metadata": {},
   "outputs": [],
   "source": [
    "%matplotlib inline\n",
    "from matplotlib.pyplot import subplots"
   ]
  },
  {
   "cell_type": "code",
   "execution_count": 9,
   "id": "durable-vehicle",
   "metadata": {},
   "outputs": [
    {
     "data": {
      "text/plain": [
       "<matplotlib.collections.PathCollection at 0x7fae28277d90>"
      ]
     },
     "execution_count": 9,
     "metadata": {},
     "output_type": "execute_result"
    },
    {
     "data": {
      "image/png": "[encoded data removed]",
      "text/plain": [
       "<Figure size 432x288 with 1 Axes>"
      ]
     },
     "metadata": {
      "needs_background": "light"
     },
     "output_type": "display_data"
    }
   ],
   "source": [
    "fig1_hand, axes1_hand = subplots()\n",
    "axes1_hand.scatter(first_day_comet_tail_props_df['npf_fluor'], first_day_comet_tail_props_df['chase_tail_length'])\n",
    "axes1_hand.scatter(second_day_comet_tail_props_df['npf_fluor'], second_day_comet_tail_props_df['chase_tail_length'])"
   ]
  },
  {
   "cell_type": "code",
   "execution_count": 32,
   "id": "occupational-warrior",
   "metadata": {},
   "outputs": [
    {
     "name": "stdout",
     "output_type": "stream",
     "text": [
      "12541.437174750765\n"
     ]
    }
   ],
   "source": [
    "print(first_day_comet_tail_props_df['npf_fluor'][first_day_comet_tail_props_df['chase_channel_name'] == 1.0].mean())"
   ]
  },
  {
   "cell_type": "code",
   "execution_count": 33,
   "id": "broke-anthropology",
   "metadata": {},
   "outputs": [
    {
     "name": "stdout",
     "output_type": "stream",
     "text": [
      "17453.431228874695\n"
     ]
    }
   ],
   "source": [
    "print(second_day_comet_tail_props_df['npf_fluor'][second_day_comet_tail_props_df['chase_channel_name'] == 1.0].mean())"
   ]
  },
  {
   "cell_type": "code",
   "execution_count": null,
   "id": "complete-vegetable",
   "metadata": {},
   "outputs": [],
   "source": []
  }
 ],
 "metadata": {
  "kernelspec": {
   "display_name": "Python 3",
   "language": "python",
   "name": "python3"
  },
  "language_info": {
   "codemirror_mode": {
    "name": "ipython",
    "version": 3
   },
   "file_extension": ".py",
   "mimetype": "text/x-python",
   "name": "python",
   "nbconvert_exporter": "python",
   "pygments_lexer": "ipython3",
   "version": "3.8.5"
  }
 },
 "nbformat": 4,
 "nbformat_minor": 5
}
