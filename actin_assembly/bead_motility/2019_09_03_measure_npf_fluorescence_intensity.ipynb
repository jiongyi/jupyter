{
 "cells": [
  {
   "cell_type": "code",
   "execution_count": 1,
   "metadata": {},
   "outputs": [],
   "source": [
    "from bead_motility import *\n",
    "data_folder_path_str = '/home/jiongyi/Documents/bead_motility/2019_08_28/exp_06'"
   ]
  },
  {
   "cell_type": "code",
   "execution_count": 2,
   "metadata": {},
   "outputs": [
    {
     "name": "stderr",
     "output_type": "stream",
     "text": [
      "/home/jiongyi/anaconda3/lib/python3.6/site-packages/skimage/measure/_regionprops.py:250: UserWarning: regionprops and image moments (including moments, normalized moments, central moments, and inertia tensor) of 2D images will change from xy coordinates to rc coordinates in version 0.16.\n",
      "See https://scikit-image.org/docs/0.14.x/release_notes_and_installation.html#deprecations for details on how to avoid this message.\n",
      "  warn(XY_TO_RC_DEPRECATION_MESSAGE)\n",
      "/home/jiongyi/anaconda3/lib/python3.6/site-packages/skimage/measure/_regionprops.py:260: UserWarning: regionprops and image moments (including moments, normalized moments, central moments, and inertia tensor) of 2D images will change from xy coordinates to rc coordinates in version 0.16.\n",
      "See https://scikit-image.org/docs/0.14.x/release_notes_and_installation.html#deprecations for details on how to avoid this message.\n",
      "  warn(XY_TO_RC_DEPRECATION_MESSAGE)\n",
      "/home/jiongyi/anaconda3/lib/python3.6/site-packages/skimage/util/dtype.py:135: UserWarning: Possible precision loss when converting from float64 to uint16\n",
      "  .format(dtypeobj_in, dtypeobj_out))\n",
      "/home/jiongyi/anaconda3/lib/python3.6/site-packages/skimage/io/_io.py:141: UserWarning: /home/jiongyi/Documents/bead_motility/2019_08_28/exp_06/470_egfp_wave_pwca_550_a568_actin_7/470_egfp_wave_pwca_550_a568_actin_7_MMStack.ome_npf_segmentation.tif is a low contrast image\n",
      "  warn('%s is a low contrast image' % fname)\n",
      "/home/jiongyi/anaconda3/lib/python3.6/site-packages/skimage/io/_io.py:141: UserWarning: /home/jiongyi/Documents/bead_motility/2019_08_28/exp_06/470_egfp_wave_pwca_550_a568_actin_1/470_egfp_wave_pwca_550_a568_actin_1_MMStack.ome_npf_segmentation.tif is a low contrast image\n",
      "  warn('%s is a low contrast image' % fname)\n",
      "/home/jiongyi/anaconda3/lib/python3.6/site-packages/skimage/io/_io.py:141: UserWarning: /home/jiongyi/Documents/bead_motility/2019_08_28/exp_06/470_egfp_wave_pwca_550_a568_actin_35/470_egfp_wave_pwca_550_a568_actin_35_MMStack.ome_npf_segmentation.tif is a low contrast image\n",
      "  warn('%s is a low contrast image' % fname)\n",
      "/home/jiongyi/anaconda3/lib/python3.6/site-packages/skimage/io/_io.py:141: UserWarning: /home/jiongyi/Documents/bead_motility/2019_08_28/exp_06/470_egfp_wave_pwca_550_a568_actin_28/470_egfp_wave_pwca_550_a568_actin_28_MMStack.ome_npf_segmentation.tif is a low contrast image\n",
      "  warn('%s is a low contrast image' % fname)\n",
      "/home/jiongyi/anaconda3/lib/python3.6/site-packages/skimage/io/_io.py:141: UserWarning: /home/jiongyi/Documents/bead_motility/2019_08_28/exp_06/470_egfp_wave_pwca_550_a568_actin_2/470_egfp_wave_pwca_550_a568_actin_2_MMStack.ome_npf_segmentation.tif is a low contrast image\n",
      "  warn('%s is a low contrast image' % fname)\n",
      "/home/jiongyi/anaconda3/lib/python3.6/site-packages/skimage/io/_io.py:141: UserWarning: /home/jiongyi/Documents/bead_motility/2019_08_28/exp_06/470_egfp_wave_pwca_550_a568_actin_25/470_egfp_wave_pwca_550_a568_actin_25_MMStack.ome_npf_segmentation.tif is a low contrast image\n",
      "  warn('%s is a low contrast image' % fname)\n",
      "/home/jiongyi/anaconda3/lib/python3.6/site-packages/skimage/io/_io.py:141: UserWarning: /home/jiongyi/Documents/bead_motility/2019_08_28/exp_06/470_egfp_wave_pwca_550_a568_actin_42/470_egfp_wave_pwca_550_a568_actin_42_MMStack.ome_npf_segmentation.tif is a low contrast image\n",
      "  warn('%s is a low contrast image' % fname)\n",
      "/home/jiongyi/anaconda3/lib/python3.6/site-packages/skimage/io/_io.py:141: UserWarning: /home/jiongyi/Documents/bead_motility/2019_08_28/exp_06/470_egfp_wave_pwca_550_a568_actin_6/470_egfp_wave_pwca_550_a568_actin_6_MMStack.ome_npf_segmentation.tif is a low contrast image\n",
      "  warn('%s is a low contrast image' % fname)\n",
      "/home/jiongyi/anaconda3/lib/python3.6/site-packages/skimage/io/_io.py:141: UserWarning: /home/jiongyi/Documents/bead_motility/2019_08_28/exp_06/470_egfp_wave_pwca_550_a568_actin_32/470_egfp_wave_pwca_550_a568_actin_32_MMStack.ome_npf_segmentation.tif is a low contrast image\n",
      "  warn('%s is a low contrast image' % fname)\n",
      "/home/jiongyi/anaconda3/lib/python3.6/site-packages/skimage/io/_io.py:141: UserWarning: /home/jiongyi/Documents/bead_motility/2019_08_28/exp_06/470_egfp_wave_pwca_550_a568_actin_36/470_egfp_wave_pwca_550_a568_actin_36_MMStack.ome_npf_segmentation.tif is a low contrast image\n",
      "  warn('%s is a low contrast image' % fname)\n",
      "/home/jiongyi/anaconda3/lib/python3.6/site-packages/skimage/io/_io.py:141: UserWarning: /home/jiongyi/Documents/bead_motility/2019_08_28/exp_06/470_egfp_wave_pwca_550_a568_actin_12/470_egfp_wave_pwca_550_a568_actin_12_MMStack.ome_npf_segmentation.tif is a low contrast image\n",
      "  warn('%s is a low contrast image' % fname)\n",
      "/home/jiongyi/anaconda3/lib/python3.6/site-packages/skimage/io/_io.py:141: UserWarning: /home/jiongyi/Documents/bead_motility/2019_08_28/exp_06/470_egfp_wave_pwca_550_a568_actin_44/470_egfp_wave_pwca_550_a568_actin_44_MMStack.ome_npf_segmentation.tif is a low contrast image\n",
      "  warn('%s is a low contrast image' % fname)\n",
      "/home/jiongyi/anaconda3/lib/python3.6/site-packages/skimage/io/_io.py:141: UserWarning: /home/jiongyi/Documents/bead_motility/2019_08_28/exp_06/470_egfp_wave_pwca_550_a568_actin_21/470_egfp_wave_pwca_550_a568_actin_21_MMStack.ome_npf_segmentation.tif is a low contrast image\n",
      "  warn('%s is a low contrast image' % fname)\n",
      "/home/jiongyi/anaconda3/lib/python3.6/site-packages/skimage/io/_io.py:141: UserWarning: /home/jiongyi/Documents/bead_motility/2019_08_28/exp_06/470_egfp_wave_pwca_550_a568_actin_50/470_egfp_wave_pwca_550_a568_actin_50_MMStack.ome_npf_segmentation.tif is a low contrast image\n",
      "  warn('%s is a low contrast image' % fname)\n",
      "/home/jiongyi/anaconda3/lib/python3.6/site-packages/skimage/io/_io.py:141: UserWarning: /home/jiongyi/Documents/bead_motility/2019_08_28/exp_06/470_egfp_wave_pwca_550_a568_actin_13/470_egfp_wave_pwca_550_a568_actin_13_MMStack.ome_npf_segmentation.tif is a low contrast image\n",
      "  warn('%s is a low contrast image' % fname)\n",
      "/home/jiongyi/anaconda3/lib/python3.6/site-packages/skimage/io/_io.py:141: UserWarning: /home/jiongyi/Documents/bead_motility/2019_08_28/exp_06/470_egfp_wave_pwca_550_a568_actin_40/470_egfp_wave_pwca_550_a568_actin_40_MMStack.ome_npf_segmentation.tif is a low contrast image\n",
      "  warn('%s is a low contrast image' % fname)\n",
      "/home/jiongyi/anaconda3/lib/python3.6/site-packages/skimage/io/_io.py:141: UserWarning: /home/jiongyi/Documents/bead_motility/2019_08_28/exp_06/470_egfp_wave_pwca_550_a568_actin_4/470_egfp_wave_pwca_550_a568_actin_4_MMStack.ome_npf_segmentation.tif is a low contrast image\n",
      "  warn('%s is a low contrast image' % fname)\n",
      "/home/jiongyi/anaconda3/lib/python3.6/site-packages/skimage/io/_io.py:141: UserWarning: /home/jiongyi/Documents/bead_motility/2019_08_28/exp_06/470_egfp_wave_pwca_550_a568_actin_45/470_egfp_wave_pwca_550_a568_actin_45_MMStack.ome_npf_segmentation.tif is a low contrast image\n",
      "  warn('%s is a low contrast image' % fname)\n",
      "/home/jiongyi/anaconda3/lib/python3.6/site-packages/skimage/io/_io.py:141: UserWarning: /home/jiongyi/Documents/bead_motility/2019_08_28/exp_06/470_egfp_wave_pwca_550_a568_actin_16/470_egfp_wave_pwca_550_a568_actin_16_MMStack.ome_npf_segmentation.tif is a low contrast image\n",
      "  warn('%s is a low contrast image' % fname)\n",
      "/home/jiongyi/anaconda3/lib/python3.6/site-packages/skimage/io/_io.py:141: UserWarning: /home/jiongyi/Documents/bead_motility/2019_08_28/exp_06/470_egfp_wave_pwca_550_a568_actin_3/470_egfp_wave_pwca_550_a568_actin_3_MMStack.ome_npf_segmentation.tif is a low contrast image\n",
      "  warn('%s is a low contrast image' % fname)\n",
      "/home/jiongyi/anaconda3/lib/python3.6/site-packages/skimage/io/_io.py:141: UserWarning: /home/jiongyi/Documents/bead_motility/2019_08_28/exp_06/470_egfp_wave_pwca_550_a568_actin_20/470_egfp_wave_pwca_550_a568_actin_20_MMStack.ome_npf_segmentation.tif is a low contrast image\n",
      "  warn('%s is a low contrast image' % fname)\n",
      "/home/jiongyi/anaconda3/lib/python3.6/site-packages/skimage/io/_io.py:141: UserWarning: /home/jiongyi/Documents/bead_motility/2019_08_28/exp_06/470_egfp_wave_pwca_550_a568_actin_24/470_egfp_wave_pwca_550_a568_actin_24_MMStack.ome_npf_segmentation.tif is a low contrast image\n",
      "  warn('%s is a low contrast image' % fname)\n",
      "/home/jiongyi/anaconda3/lib/python3.6/site-packages/skimage/io/_io.py:141: UserWarning: /home/jiongyi/Documents/bead_motility/2019_08_28/exp_06/470_egfp_wave_pwca_550_a568_actin_14/470_egfp_wave_pwca_550_a568_actin_14_MMStack.ome_npf_segmentation.tif is a low contrast image\n",
      "  warn('%s is a low contrast image' % fname)\n",
      "/home/jiongyi/anaconda3/lib/python3.6/site-packages/skimage/io/_io.py:141: UserWarning: /home/jiongyi/Documents/bead_motility/2019_08_28/exp_06/470_egfp_wave_pwca_550_a568_actin_43/470_egfp_wave_pwca_550_a568_actin_43_MMStack.ome_npf_segmentation.tif is a low contrast image\n",
      "  warn('%s is a low contrast image' % fname)\n",
      "/home/jiongyi/anaconda3/lib/python3.6/site-packages/skimage/io/_io.py:141: UserWarning: /home/jiongyi/Documents/bead_motility/2019_08_28/exp_06/470_egfp_wave_pwca_550_a568_actin_9/470_egfp_wave_pwca_550_a568_actin_9_MMStack.ome_npf_segmentation.tif is a low contrast image\n",
      "  warn('%s is a low contrast image' % fname)\n",
      "/home/jiongyi/anaconda3/lib/python3.6/site-packages/skimage/io/_io.py:141: UserWarning: /home/jiongyi/Documents/bead_motility/2019_08_28/exp_06/470_egfp_wave_pwca_550_a568_actin_17/470_egfp_wave_pwca_550_a568_actin_17_MMStack.ome_npf_segmentation.tif is a low contrast image\n",
      "  warn('%s is a low contrast image' % fname)\n",
      "/home/jiongyi/anaconda3/lib/python3.6/site-packages/skimage/io/_io.py:141: UserWarning: /home/jiongyi/Documents/bead_motility/2019_08_28/exp_06/470_egfp_wave_pwca_550_a568_actin_47/470_egfp_wave_pwca_550_a568_actin_47_MMStack.ome_npf_segmentation.tif is a low contrast image\n",
      "  warn('%s is a low contrast image' % fname)\n",
      "/home/jiongyi/anaconda3/lib/python3.6/site-packages/skimage/io/_io.py:141: UserWarning: /home/jiongyi/Documents/bead_motility/2019_08_28/exp_06/470_egfp_wave_pwca_550_a568_actin_10/470_egfp_wave_pwca_550_a568_actin_10_MMStack.ome_npf_segmentation.tif is a low contrast image\n",
      "  warn('%s is a low contrast image' % fname)\n",
      "/home/jiongyi/anaconda3/lib/python3.6/site-packages/skimage/io/_io.py:141: UserWarning: /home/jiongyi/Documents/bead_motility/2019_08_28/exp_06/470_egfp_wave_pwca_550_a568_actin_51/470_egfp_wave_pwca_550_a568_actin_51_MMStack.ome_npf_segmentation.tif is a low contrast image\n",
      "  warn('%s is a low contrast image' % fname)\n",
      "/home/jiongyi/anaconda3/lib/python3.6/site-packages/skimage/io/_io.py:141: UserWarning: /home/jiongyi/Documents/bead_motility/2019_08_28/exp_06/470_egfp_wave_pwca_550_a568_actin_30/470_egfp_wave_pwca_550_a568_actin_30_MMStack.ome_npf_segmentation.tif is a low contrast image\n",
      "  warn('%s is a low contrast image' % fname)\n",
      "/home/jiongyi/anaconda3/lib/python3.6/site-packages/skimage/io/_io.py:141: UserWarning: /home/jiongyi/Documents/bead_motility/2019_08_28/exp_06/470_egfp_wave_pwca_550_a568_actin_8/470_egfp_wave_pwca_550_a568_actin_8_MMStack.ome_npf_segmentation.tif is a low contrast image\n",
      "  warn('%s is a low contrast image' % fname)\n",
      "/home/jiongyi/anaconda3/lib/python3.6/site-packages/skimage/io/_io.py:141: UserWarning: /home/jiongyi/Documents/bead_motility/2019_08_28/exp_06/470_egfp_wave_pwca_550_a568_actin_26/470_egfp_wave_pwca_550_a568_actin_26_MMStack.ome_npf_segmentation.tif is a low contrast image\n",
      "  warn('%s is a low contrast image' % fname)\n",
      "/home/jiongyi/anaconda3/lib/python3.6/site-packages/skimage/io/_io.py:141: UserWarning: /home/jiongyi/Documents/bead_motility/2019_08_28/exp_06/470_egfp_wave_pwca_550_a568_actin_41/470_egfp_wave_pwca_550_a568_actin_41_MMStack.ome_npf_segmentation.tif is a low contrast image\n",
      "  warn('%s is a low contrast image' % fname)\n",
      "/home/jiongyi/anaconda3/lib/python3.6/site-packages/skimage/io/_io.py:141: UserWarning: /home/jiongyi/Documents/bead_motility/2019_08_28/exp_06/470_egfp_wave_pwca_550_a568_actin_49/470_egfp_wave_pwca_550_a568_actin_49_MMStack.ome_npf_segmentation.tif is a low contrast image\n",
      "  warn('%s is a low contrast image' % fname)\n",
      "/home/jiongyi/anaconda3/lib/python3.6/site-packages/skimage/io/_io.py:141: UserWarning: /home/jiongyi/Documents/bead_motility/2019_08_28/exp_06/470_egfp_wave_pwca_550_a568_actin_5/470_egfp_wave_pwca_550_a568_actin_5_MMStack.ome_npf_segmentation.tif is a low contrast image\n",
      "  warn('%s is a low contrast image' % fname)\n",
      "/home/jiongyi/anaconda3/lib/python3.6/site-packages/skimage/io/_io.py:141: UserWarning: /home/jiongyi/Documents/bead_motility/2019_08_28/exp_06/470_egfp_wave_pwca_550_a568_actin_37/470_egfp_wave_pwca_550_a568_actin_37_MMStack.ome_npf_segmentation.tif is a low contrast image\n",
      "  warn('%s is a low contrast image' % fname)\n",
      "/home/jiongyi/anaconda3/lib/python3.6/site-packages/skimage/io/_io.py:141: UserWarning: /home/jiongyi/Documents/bead_motility/2019_08_28/exp_06/470_egfp_wave_pwca_550_a568_actin_23/470_egfp_wave_pwca_550_a568_actin_23_MMStack.ome_npf_segmentation.tif is a low contrast image\n",
      "  warn('%s is a low contrast image' % fname)\n",
      "/home/jiongyi/anaconda3/lib/python3.6/site-packages/skimage/io/_io.py:141: UserWarning: /home/jiongyi/Documents/bead_motility/2019_08_28/exp_06/470_egfp_wave_pwca_550_a568_actin_19/470_egfp_wave_pwca_550_a568_actin_19_MMStack.ome_npf_segmentation.tif is a low contrast image\n",
      "  warn('%s is a low contrast image' % fname)\n",
      "/home/jiongyi/anaconda3/lib/python3.6/site-packages/skimage/io/_io.py:141: UserWarning: /home/jiongyi/Documents/bead_motility/2019_08_28/exp_06/470_egfp_wave_pwca_550_a568_actin_33/470_egfp_wave_pwca_550_a568_actin_33_MMStack.ome_npf_segmentation.tif is a low contrast image\n",
      "  warn('%s is a low contrast image' % fname)\n",
      "/home/jiongyi/anaconda3/lib/python3.6/site-packages/skimage/io/_io.py:141: UserWarning: /home/jiongyi/Documents/bead_motility/2019_08_28/exp_06/470_egfp_wave_pwca_550_a568_actin_39/470_egfp_wave_pwca_550_a568_actin_39_MMStack.ome_npf_segmentation.tif is a low contrast image\n",
      "  warn('%s is a low contrast image' % fname)\n",
      "/home/jiongyi/anaconda3/lib/python3.6/site-packages/skimage/io/_io.py:141: UserWarning: /home/jiongyi/Documents/bead_motility/2019_08_28/exp_06/470_egfp_wave_pwca_550_a568_actin_52/470_egfp_wave_pwca_550_a568_actin_52_MMStack.ome_npf_segmentation.tif is a low contrast image\n",
      "  warn('%s is a low contrast image' % fname)\n",
      "/home/jiongyi/anaconda3/lib/python3.6/site-packages/skimage/io/_io.py:141: UserWarning: /home/jiongyi/Documents/bead_motility/2019_08_28/exp_06/470_egfp_wave_pwca_550_a568_actin_38/470_egfp_wave_pwca_550_a568_actin_38_MMStack.ome_npf_segmentation.tif is a low contrast image\n",
      "  warn('%s is a low contrast image' % fname)\n",
      "/home/jiongyi/anaconda3/lib/python3.6/site-packages/skimage/io/_io.py:141: UserWarning: /home/jiongyi/Documents/bead_motility/2019_08_28/exp_06/470_egfp_wave_pwca_550_a568_actin_18/470_egfp_wave_pwca_550_a568_actin_18_MMStack.ome_npf_segmentation.tif is a low contrast image\n",
      "  warn('%s is a low contrast image' % fname)\n",
      "/home/jiongyi/anaconda3/lib/python3.6/site-packages/skimage/io/_io.py:141: UserWarning: /home/jiongyi/Documents/bead_motility/2019_08_28/exp_06/470_egfp_wave_pwca_550_a568_actin_46/470_egfp_wave_pwca_550_a568_actin_46_MMStack.ome_npf_segmentation.tif is a low contrast image\n",
      "  warn('%s is a low contrast image' % fname)\n",
      "/home/jiongyi/anaconda3/lib/python3.6/site-packages/skimage/io/_io.py:141: UserWarning: /home/jiongyi/Documents/bead_motility/2019_08_28/exp_06/470_egfp_wave_pwca_550_a568_actin_48/470_egfp_wave_pwca_550_a568_actin_48_MMStack.ome_npf_segmentation.tif is a low contrast image\n",
      "  warn('%s is a low contrast image' % fname)\n",
      "/home/jiongyi/anaconda3/lib/python3.6/site-packages/skimage/io/_io.py:141: UserWarning: /home/jiongyi/Documents/bead_motility/2019_08_28/exp_06/470_egfp_wave_pwca_550_a568_actin_15/470_egfp_wave_pwca_550_a568_actin_15_MMStack.ome_npf_segmentation.tif is a low contrast image\n",
      "  warn('%s is a low contrast image' % fname)\n",
      "/home/jiongyi/anaconda3/lib/python3.6/site-packages/skimage/io/_io.py:141: UserWarning: /home/jiongyi/Documents/bead_motility/2019_08_28/exp_06/470_egfp_wave_pwca_550_a568_actin_22/470_egfp_wave_pwca_550_a568_actin_22_MMStack.ome_npf_segmentation.tif is a low contrast image\n",
      "  warn('%s is a low contrast image' % fname)\n",
      "/home/jiongyi/anaconda3/lib/python3.6/site-packages/skimage/io/_io.py:141: UserWarning: /home/jiongyi/Documents/bead_motility/2019_08_28/exp_06/470_egfp_wave_pwca_550_a568_actin_27/470_egfp_wave_pwca_550_a568_actin_27_MMStack.ome_npf_segmentation.tif is a low contrast image\n",
      "  warn('%s is a low contrast image' % fname)\n",
      "/home/jiongyi/anaconda3/lib/python3.6/site-packages/skimage/io/_io.py:141: UserWarning: /home/jiongyi/Documents/bead_motility/2019_08_28/exp_06/470_egfp_wave_pwca_550_a568_actin_31/470_egfp_wave_pwca_550_a568_actin_31_MMStack.ome_npf_segmentation.tif is a low contrast image\n",
      "  warn('%s is a low contrast image' % fname)\n",
      "/home/jiongyi/anaconda3/lib/python3.6/site-packages/skimage/io/_io.py:141: UserWarning: /home/jiongyi/Documents/bead_motility/2019_08_28/exp_06/470_egfp_wave_pwca_550_a568_actin_34/470_egfp_wave_pwca_550_a568_actin_34_MMStack.ome_npf_segmentation.tif is a low contrast image\n",
      "  warn('%s is a low contrast image' % fname)\n",
      "/home/jiongyi/anaconda3/lib/python3.6/site-packages/skimage/io/_io.py:141: UserWarning: /home/jiongyi/Documents/bead_motility/2019_08_28/exp_06/470_egfp_wave_pwca_550_a568_actin_29/470_egfp_wave_pwca_550_a568_actin_29_MMStack.ome_npf_segmentation.tif is a low contrast image\n",
      "  warn('%s is a low contrast image' % fname)\n"
     ]
    }
   ],
   "source": [
    "npf_intensity_row, actin_intensity_row = batch_measure_actin_density(data_folder_path_str, save_images = True)"
   ]
  },
  {
   "cell_type": "code",
   "execution_count": 3,
   "metadata": {},
   "outputs": [
    {
     "data": {
      "text/plain": [
       "(array([14.,  8.,  3.,  3.,  2., 36.,  7.,  1.,  0.,  1.]),\n",
       " array([0.00119183, 0.00200639, 0.00282095, 0.00363551, 0.00445007,\n",
       "        0.00526463, 0.00607919, 0.00689375, 0.00770831, 0.00852287,\n",
       "        0.00933743]),\n",
       " <a list of 10 Patch objects>)"
      ]
     },
     "execution_count": 3,
     "metadata": {},
     "output_type": "execute_result"
    },
    {
     "data": {
      "image/png": "[encoded data removed]",
      "text/plain": [
       "<Figure size 432x288 with 2 Axes>"
      ]
     },
     "metadata": {
      "needs_background": "light"
     },
     "output_type": "display_data"
    }
   ],
   "source": [
    "%matplotlib inline\n",
    "from matplotlib.pyplot import subplots\n",
    "fig_hand, axes_hand = subplots(ncols = 2, nrows = 1)\n",
    "axes_hand[0].hist(npf_intensity_row)\n",
    "axes_hand[1].hist(actin_intensity_row)"
   ]
  },
  {
   "cell_type": "code",
   "execution_count": 4,
   "metadata": {},
   "outputs": [
    {
     "data": {
      "text/plain": [
       "<matplotlib.collections.PathCollection at 0x7f71c196e0b8>"
      ]
     },
     "execution_count": 4,
     "metadata": {},
     "output_type": "execute_result"
    },
    {
     "data": {
      "image/png": "[encoded data removed]",
      "text/plain": [
       "<Figure size 432x288 with 1 Axes>"
      ]
     },
     "metadata": {
      "needs_background": "light"
     },
     "output_type": "display_data"
    }
   ],
   "source": [
    "fig2_hand, axes2_hand = subplots()\n",
    "axes2_hand.scatter(npf_intensity_row, actin_intensity_row)"
   ]
  }
 ],
 "metadata": {
  "kernelspec": {
   "display_name": "Python 3",
   "language": "python",
   "name": "python3"
  },
  "language_info": {
   "codemirror_mode": {
    "name": "ipython",
    "version": 3
   },
   "file_extension": ".py",
   "mimetype": "text/x-python",
   "name": "python",
   "nbconvert_exporter": "python",
   "pygments_lexer": "ipython3",
   "version": "3.6.9"
  }
 },
 "nbformat": 4,
 "nbformat_minor": 4
}
