{
 "cells": [
  {
   "cell_type": "code",
   "execution_count": 1,
   "id": "tutorial-popularity",
   "metadata": {},
   "outputs": [],
   "source": [
    "from bead_motility import *"
   ]
  },
  {
   "cell_type": "code",
   "execution_count": 2,
   "id": "optional-offense",
   "metadata": {},
   "outputs": [],
   "source": [
    "pre_assembly_folder_path = '/home/jiongyi/Documents/mullins_lab/data/wave/2021_02_01/100nM_60min_pwca/pre_assembly'\n",
    "cp0_folder_path = '/home/jiongyi/Documents/mullins_lab/data/wave/2021_02_01/100nM_60min_pwca/50nM_arp23_5uM_profilin_actin/0nM_cp_3min_pulse_1min_chase'\n",
    "cp25_folder_path = '/home/jiongyi/Documents/mullins_lab/data/wave/2021_02_01/100nM_60min_pwca/50nM_arp23_5uM_profilin_actin/25nM_cp_3min_pulse_1min_chase'\n",
    "cp75_folder_path = '/home/jiongyi/Documents/mullins_lab/data/wave/2021_02_01/100nM_60min_pwca/50nM_arp23_5uM_profilin_actin/75nM_cp_3min_pulse_1min_chase'\n",
    "cp125_folder_path = '/home/jiongyi/Documents/mullins_lab/data/wave/2021_02_01/100nM_60min_pwca/50nM_arp23_5uM_profilin_actin/125nM_cp_3min_pulse_1min_chase'\n",
    "cp175_folder_path = '/home/jiongyi/Documents/mullins_lab/data/wave/2021_02_01/100nM_60min_pwca/50nM_arp23_5uM_profilin_actin/175nM_cp_3min_pulse_1min_chase'\n",
    "cp225_folder_path = '/home/jiongyi/Documents/mullins_lab/data/wave/2021_02_01/100nM_60min_pwca/50nM_arp23_5uM_profilin_actin/225nM_cp_3min_pulse_1min_chase'"
   ]
  },
  {
   "cell_type": "code",
   "execution_count": 3,
   "id": "endless-complex",
   "metadata": {},
   "outputs": [
    {
     "name": "stderr",
     "output_type": "stream",
     "text": [
      "/home/jiongyi/github/jupyter/actin_assembly/bead_motility/bead_motility.py:48: FutureWarning: Previously, hessian implicitly used 'constant' as the border mode when dealing with the edge of the array. The new behavior is 'reflect'. To recover the old behavior, use mode='constant'. To avoid this warning, please explicitly set the mode.\n",
      "  composite_bw_im = hessian(composite_closed_im) > threshold_isodata(hessian(composite_closed_im))\n"
     ]
    }
   ],
   "source": [
    "pre_assembly_df = batch_analysis(pre_assembly_folder_path)\n",
    "cp0_df = batch_analysis(cp0_folder_path)\n",
    "cp25_df = batch_analysis(cp25_folder_path)\n",
    "cp75_df = batch_analysis(cp75_folder_path)\n",
    "cp125_df = batch_analysis(cp125_folder_path)\n",
    "cp175_df = batch_analysis(cp175_folder_path)\n",
    "cp225_df = batch_analysis(cp225_folder_path)"
   ]
  }
 ],
 "metadata": {
  "kernelspec": {
   "display_name": "Python 3",
   "language": "python",
   "name": "python3"
  },
  "language_info": {
   "codemirror_mode": {
    "name": "ipython",
    "version": 3
   },
   "file_extension": ".py",
   "mimetype": "text/x-python",
   "name": "python",
   "nbconvert_exporter": "python",
   "pygments_lexer": "ipython3",
   "version": "3.7.9"
  }
 },
 "nbformat": 4,
 "nbformat_minor": 5
}
