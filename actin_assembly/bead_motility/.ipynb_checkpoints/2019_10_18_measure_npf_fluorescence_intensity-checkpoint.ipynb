{
 "cells": [
  {
   "cell_type": "code",
   "execution_count": 1,
   "metadata": {},
   "outputs": [
    {
     "ename": "NameError",
     "evalue": "name 'median' is not defined",
     "output_type": "error",
     "traceback": [
      "\u001b[0;31m---------------------------------------------------------------------------\u001b[0m",
      "\u001b[0;31mNameError\u001b[0m                                 Traceback (most recent call last)",
      "\u001b[0;32m<ipython-input-1-20577a238ef7>\u001b[0m in \u001b[0;36m<module>\u001b[0;34m\u001b[0m\n\u001b[1;32m      1\u001b[0m \u001b[0;32mfrom\u001b[0m \u001b[0mbead_motility2\u001b[0m \u001b[0;32mimport\u001b[0m \u001b[0;34m*\u001b[0m\u001b[0;34m\u001b[0m\u001b[0;34m\u001b[0m\u001b[0m\n\u001b[1;32m      2\u001b[0m \u001b[0mcp100_n_wasp_folder_path\u001b[0m \u001b[0;34m=\u001b[0m \u001b[0;34m'/home/jiongyi/Documents/bead_motility/2019_10_17/exp_05'\u001b[0m\u001b[0;34m\u001b[0m\u001b[0;34m\u001b[0m\u001b[0m\n\u001b[0;32m----> 3\u001b[0;31m \u001b[0mcp100_n_wasp_props_mat\u001b[0m \u001b[0;34m=\u001b[0m \u001b[0mbatch_analysis\u001b[0m\u001b[0;34m(\u001b[0m\u001b[0mcp100_n_wasp_folder_path\u001b[0m\u001b[0;34m)\u001b[0m\u001b[0;34m\u001b[0m\u001b[0;34m\u001b[0m\u001b[0m\n\u001b[0m",
      "\u001b[0;32m~/jupyter/actin_assembly/bead_motility/bead_motility2.py\u001b[0m in \u001b[0;36mbatch_analysis\u001b[0;34m(folder_path_str)\u001b[0m\n\u001b[1;32m    103\u001b[0m         \u001b[0mi_actin_label_im\u001b[0m\u001b[0;34m,\u001b[0m \u001b[0mi_no_labels\u001b[0m \u001b[0;34m=\u001b[0m \u001b[0mlabel\u001b[0m\u001b[0;34m(\u001b[0m\u001b[0mi_actin_bw_im\u001b[0m\u001b[0;34m,\u001b[0m \u001b[0mreturn_num\u001b[0m \u001b[0;34m=\u001b[0m \u001b[0;32mTrue\u001b[0m\u001b[0;34m)\u001b[0m\u001b[0;34m\u001b[0m\u001b[0;34m\u001b[0m\u001b[0m\n\u001b[1;32m    104\u001b[0m         \u001b[0;32mif\u001b[0m \u001b[0mi_no_labels\u001b[0m \u001b[0;34m>\u001b[0m \u001b[0;36m0\u001b[0m\u001b[0;34m:\u001b[0m\u001b[0;34m\u001b[0m\u001b[0;34m\u001b[0m\u001b[0m\n\u001b[0;32m--> 105\u001b[0;31m             \u001b[0mi_comet_props_mat\u001b[0m\u001b[0;34m,\u001b[0m \u001b[0mi_tail_axis_bw_im\u001b[0m \u001b[0;34m=\u001b[0m \u001b[0mmeasure_comet_props\u001b[0m\u001b[0;34m(\u001b[0m\u001b[0mi_npf_im\u001b[0m\u001b[0;34m,\u001b[0m \u001b[0mi_npf_bw_im\u001b[0m\u001b[0;34m,\u001b[0m \u001b[0mi_pulse_im\u001b[0m\u001b[0;34m,\u001b[0m \u001b[0mi_chase_im\u001b[0m\u001b[0;34m,\u001b[0m \u001b[0mi_actin_bw_im\u001b[0m\u001b[0;34m)\u001b[0m\u001b[0;34m\u001b[0m\u001b[0;34m\u001b[0m\u001b[0m\n\u001b[0m\u001b[1;32m    106\u001b[0m             \u001b[0mcomet_props_mat\u001b[0m \u001b[0;34m=\u001b[0m \u001b[0mvstack\u001b[0m\u001b[0;34m(\u001b[0m\u001b[0;34m(\u001b[0m\u001b[0mcomet_props_mat\u001b[0m\u001b[0;34m,\u001b[0m \u001b[0mi_comet_props_mat\u001b[0m\u001b[0;34m)\u001b[0m\u001b[0;34m)\u001b[0m\u001b[0;34m\u001b[0m\u001b[0;34m\u001b[0m\u001b[0m\n\u001b[1;32m    107\u001b[0m             \u001b[0msave_segmentation\u001b[0m\u001b[0;34m(\u001b[0m\u001b[0mfile_path_list\u001b[0m\u001b[0;34m[\u001b[0m\u001b[0mi\u001b[0m\u001b[0;34m]\u001b[0m\u001b[0;34m,\u001b[0m \u001b[0mi_chase_im\u001b[0m\u001b[0;34m,\u001b[0m \u001b[0mi_npf_bw_im\u001b[0m\u001b[0;34m,\u001b[0m \u001b[0mi_tail_axis_bw_im\u001b[0m\u001b[0;34m)\u001b[0m\u001b[0;34m\u001b[0m\u001b[0;34m\u001b[0m\u001b[0m\n",
      "\u001b[0;32m~/jupyter/actin_assembly/bead_motility/bead_motility2.py\u001b[0m in \u001b[0;36mmeasure_comet_props\u001b[0;34m(npf_im, npf_bw_im, pulse_im, chase_im, actin_bw_im)\u001b[0m\n\u001b[1;32m     78\u001b[0m     \u001b[0;32mfor\u001b[0m \u001b[0mi\u001b[0m \u001b[0;32min\u001b[0m \u001b[0mrange\u001b[0m\u001b[0;34m(\u001b[0m\u001b[0;36m1\u001b[0m\u001b[0;34m,\u001b[0m \u001b[0mno_beads\u001b[0m \u001b[0;34m+\u001b[0m \u001b[0;36m1\u001b[0m\u001b[0;34m)\u001b[0m\u001b[0;34m:\u001b[0m\u001b[0;34m\u001b[0m\u001b[0;34m\u001b[0m\u001b[0m\n\u001b[1;32m     79\u001b[0m         \u001b[0mi_bead_bw_im\u001b[0m \u001b[0;34m=\u001b[0m \u001b[0mbinary_fill_holes\u001b[0m\u001b[0;34m(\u001b[0m\u001b[0mnpf_label_im\u001b[0m \u001b[0;34m==\u001b[0m \u001b[0mi\u001b[0m\u001b[0;34m)\u001b[0m\u001b[0;34m\u001b[0m\u001b[0;34m\u001b[0m\u001b[0m\n\u001b[0;32m---> 80\u001b[0;31m         \u001b[0mi_npf_fluor\u001b[0m \u001b[0;34m=\u001b[0m \u001b[0mmedian\u001b[0m\u001b[0;34m(\u001b[0m\u001b[0mnpf_im\u001b[0m\u001b[0;34m[\u001b[0m\u001b[0mi_bead_bw_im\u001b[0m\u001b[0;34m]\u001b[0m\u001b[0;34m.\u001b[0m\u001b[0mflatten\u001b[0m\u001b[0;34m(\u001b[0m\u001b[0;34m)\u001b[0m\u001b[0;34m)\u001b[0m \u001b[0;34m-\u001b[0m \u001b[0mnpf_back_mean\u001b[0m\u001b[0;34m\u001b[0m\u001b[0;34m\u001b[0m\u001b[0m\n\u001b[0m\u001b[1;32m     81\u001b[0m         \u001b[0mi_npf_fluor\u001b[0m \u001b[0;34m*=\u001b[0m \u001b[0;34m(\u001b[0m\u001b[0;36m2\u001b[0m\u001b[0;34m**\u001b[0m\u001b[0;36m16\u001b[0m \u001b[0;34m-\u001b[0m \u001b[0;36m1\u001b[0m\u001b[0;34m)\u001b[0m\u001b[0;34m\u001b[0m\u001b[0;34m\u001b[0m\u001b[0m\n\u001b[1;32m     82\u001b[0m         \u001b[0mi_bead_actin_bw_im\u001b[0m \u001b[0;34m=\u001b[0m \u001b[0mi_bead_bw_im\u001b[0m \u001b[0;34m&\u001b[0m \u001b[0mactin_bw_im\u001b[0m\u001b[0;34m\u001b[0m\u001b[0;34m\u001b[0m\u001b[0m\n",
      "\u001b[0;31mNameError\u001b[0m: name 'median' is not defined"
     ]
    }
   ],
   "source": [
    "from bead_motility2 import *\n",
    "cp100_n_wasp_folder_path = '/home/jiongyi/Documents/bead_motility/2019_10_17/exp_05'\n",
    "cp100_n_wasp_props_mat = batch_analysis(cp100_n_wasp_folder_path)"
   ]
  },
  {
   "cell_type": "code",
   "execution_count": null,
   "metadata": {},
   "outputs": [],
   "source": [
    "cp100_wave_folder_path = '/home/jiongyi/Documents/bead_motility/2019_10_17/exp_04'\n",
    "cp100_wave_comet_props_mat = batch_analysis(cp100_wave_folder_path)"
   ]
  },
  {
   "cell_type": "code",
   "execution_count": null,
   "metadata": {},
   "outputs": [],
   "source": [
    "%matplotlib inline\n",
    "from matplotlib.pyplot import subplots\n",
    "fig1_hand, axes1_hand = subplots()\n",
    "fig1_hand.set_figwidth(7)\n",
    "fig1_hand.set_figheight(5)\n",
    "axes1_hand.scatter(cp100_wave_comet_props_mat[:, 0], cp100_wave_comet_props_mat[:, 1] / cp100_wave_comet_props_mat[:, 0])\n",
    "axes1_hand.scatter(cp100_n_wasp_props_mat[:, 0], cp100_n_wasp_props_mat[:, 1] / cp100_n_wasp_props_mat[:, 0])\n",
    "axes1_hand.set_xlabel('Mean NPF intensity (AU)', fontsize = 12)\n",
    "axes1_hand.set_ylabel('Mean Actin / NPF intensity (AU)', fontsize = 12)\n",
    "axes1_hand.set_title('50 nM Arp2/3, 50 nM CP')\n",
    "axes1_hand.legend({'WAVE', 'N-WASP'})"
   ]
  },
  {
   "cell_type": "code",
   "execution_count": null,
   "metadata": {},
   "outputs": [],
   "source": [
    "fig2_hand, axes2_hand = subplots()\n",
    "fig2_hand.set_figwidth(7)\n",
    "fig2_hand.set_figheight(5)\n",
    "axes2_hand.scatter(cp100_wave_comet_props_mat[:, 0], cp100_wave_comet_props_mat[:, 2])\n",
    "axes2_hand.scatter(cp100_n_wasp_props_mat[:, 0], cp100_n_wasp_props_mat[:, 2])\n",
    "axes2_hand.set_xlabel('Mean NPF intensity (AU)', fontsize = 12)\n",
    "axes2_hand.set_ylabel('Tail length ($\\mu$m)', fontsize = 12)\n",
    "axes2_hand.set_title('50 nM Arp2/3, 50 nM CP')\n",
    "axes2_hand.legend({'WAVE', 'N-WASP'})"
   ]
  },
  {
   "cell_type": "code",
   "execution_count": null,
   "metadata": {},
   "outputs": [],
   "source": [
    "cp75_wave_folder_path = '/home/jiongyi/Documents/bead_motility/2019_10_17/exp_02'\n",
    "cp75_wave_comet_props_mat = batch_analysis(cp75_wave_folder_path)"
   ]
  },
  {
   "cell_type": "code",
   "execution_count": null,
   "metadata": {},
   "outputs": [],
   "source": [
    "fig3_hand, axes3_hand = subplots()\n",
    "fig3_hand.set_figwidth(7)\n",
    "fig3_hand.set_figheight(5)\n",
    "axes3_hand.scatter(cp75_wave_comet_props_mat[:, 0], 0.5 * cp75_wave_comet_props_mat[:, 2])\n",
    "axes3_hand.set_xlabel('Mean NPF intensity (AU)', fontsize = 12)\n",
    "axes3_hand.set_ylabel('Tail length ($\\mu$m)', fontsize = 12)\n",
    "axes3_hand.set_title('50 nM Arp2/3, 50 nM CP')\n",
    "axes3_hand.legend({'WAVE'})"
   ]
  },
  {
   "cell_type": "code",
   "execution_count": null,
   "metadata": {},
   "outputs": [],
   "source": [
    "cp25_wave_folder_path = '/home/jiongyi/Documents/bead_motility/2019_10_16/exp_03'\n",
    "cp25_wave_comet_props_mat = batch_analysis(cp25_wave_folder_path)"
   ]
  },
  {
   "cell_type": "code",
   "execution_count": null,
   "metadata": {},
   "outputs": [],
   "source": [
    "fig4_hand, axes4_hand = subplots()\n",
    "fig4_hand.set_figwidth(7)\n",
    "fig4_hand.set_figheight(5)\n",
    "axes4_hand.scatter(cp25_wave_comet_props_mat[:, 0], 0.5 * cp25_wave_comet_props_mat[:, 2])\n",
    "axes4_hand.set_xlabel('Mean NPF intensity (AU)', fontsize = 12)\n",
    "axes4_hand.set_ylabel('Tail length ($\\mu$m)', fontsize = 12)\n",
    "axes4_hand.set_title('50 nM Arp2/3, 50 nM CP')\n",
    "axes4_hand.legend({'WAVE'})"
   ]
  },
  {
   "cell_type": "code",
   "execution_count": null,
   "metadata": {},
   "outputs": [],
   "source": [
    "cp50_wave_folder_path = '/home/jiongyi/Documents/bead_motility/2019_10_16/exp_05'\n",
    "cp50_wave_comet_props_mat = batch_analysis(cp50_wave_folder_path)"
   ]
  },
  {
   "cell_type": "code",
   "execution_count": null,
   "metadata": {},
   "outputs": [],
   "source": [
    "fig5_hand, axes5_hand = subplots()\n",
    "fig5_hand.set_figwidth(7)\n",
    "fig5_hand.set_figheight(5)\n",
    "axes5_hand.scatter(cp50_wave_comet_props_mat[:, 0], 0.5 * cp50_wave_comet_props_mat[:, 2])\n",
    "axes5_hand.set_xlabel('Mean NPF intensity (AU)', fontsize = 12)\n",
    "axes5_hand.set_ylabel('Tail length ($\\mu$m)', fontsize = 12)\n",
    "axes5_hand.set_title('50 nM Arp2/3, 50 nM CP')\n",
    "axes5_hand.legend({'WAVE'})"
   ]
  },
  {
   "cell_type": "code",
   "execution_count": null,
   "metadata": {},
   "outputs": [],
   "source": [
    "cp_row = array([25, 50, 75, 100])\n",
    "wave_mean_tail_growth_rate_row = array([mean(0.5 * cp25_wave_comet_props_mat[:, 2]),\n",
    "                                        mean(0.5 * cp50_wave_comet_props_mat[:, 2]),\n",
    "                                        mean(cp75_wave_comet_props_mat[:, 2]),\n",
    "                                        mean(cp100_wave_comet_props_mat[:, 2])])\n",
    "wave_std_tail_growth_rate_row = array([std(0.5 * cp25_wave_comet_props_mat[:, 2]),\n",
    "                                        std(0.5 * cp50_wave_comet_props_mat[:, 2]),\n",
    "                                        std(cp75_wave_comet_props_mat[:, 2]),\n",
    "                                        std(cp100_wave_comet_props_mat[:, 2])])\n",
    "\n",
    "fig6_hand, axes6_hand = subplots()\n",
    "axes6_hand.errorbar(cp_row, wave_mean_tail_growth_rate_row, yerr = wave_std_tail_growth_rate_row, fmt = '')\n",
    "axes6_hand.tick_params(labelsize = 12)\n",
    "axes6_hand.set_xlabel('[CP] ($\\mu$M)', fontsize = 12)\n",
    "axes6_hand.set_ylabel('Growth rate ($\\mu$m/min)', fontsize = 12)"
   ]
  },
  {
   "cell_type": "code",
   "execution_count": null,
   "metadata": {},
   "outputs": [],
   "source": [
    "wave_mean_tail_intensity_row = array([mean(cp25_wave_comet_props_mat[:, 0]),\n",
    "                                        mean(cp50_wave_comet_props_mat[:, 0]),\n",
    "                                        mean(cp75_wave_comet_props_mat[:, 0]),\n",
    "                                        mean(cp100_wave_comet_props_mat[:, 0])])\n",
    "wave_std_tail_intensity_row = array([std(cp25_wave_comet_props_mat[:, 0]),\n",
    "                                        std(cp50_wave_comet_props_mat[:, 0]),\n",
    "                                        std(cp75_wave_comet_props_mat[:, 0]),\n",
    "                                        std(cp100_wave_comet_props_mat[:, 0])])\n",
    "fig7_hand, axes7_hand = subplots()\n",
    "axes7_hand.errorbar(cp_row, wave_mean_tail_intensity_row, yerr = wave_std_tail_intensity_row, fmt = '')\n",
    "axes6_hand.tick_params(labelsize = 12)\n",
    "axes6_hand.set_xlabel('[CP] ($\\mu$M)', fontsize = 12)\n",
    "axes6_hand.set_ylabel('Tail intensity (AU)', fontsize = 12)"
   ]
  },
  {
   "cell_type": "code",
   "execution_count": null,
   "metadata": {},
   "outputs": [],
   "source": []
  }
 ],
 "metadata": {
  "kernelspec": {
   "display_name": "Python 3",
   "language": "python",
   "name": "python3"
  },
  "language_info": {
   "codemirror_mode": {
    "name": "ipython",
    "version": 3
   },
   "file_extension": ".py",
   "mimetype": "text/x-python",
   "name": "python",
   "nbconvert_exporter": "python",
   "pygments_lexer": "ipython3",
   "version": "3.6.9"
  }
 },
 "nbformat": 4,
 "nbformat_minor": 4
}
