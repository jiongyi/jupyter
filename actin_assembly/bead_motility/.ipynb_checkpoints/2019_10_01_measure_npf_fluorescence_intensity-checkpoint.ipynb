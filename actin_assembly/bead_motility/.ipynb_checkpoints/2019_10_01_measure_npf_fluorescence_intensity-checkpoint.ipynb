{
 "cells": [
  {
   "cell_type": "code",
   "execution_count": 1,
   "metadata": {},
   "outputs": [
    {
     "name": "stderr",
     "output_type": "stream",
     "text": [
      "/home/jiongyi/anaconda3/lib/python3.6/site-packages/skimage/util/dtype.py:135: UserWarning: Possible precision loss when converting from float64 to uint16\n",
      "  .format(dtypeobj_in, dtypeobj_out))\n",
      "/home/jiongyi/anaconda3/lib/python3.6/site-packages/skimage/io/_io.py:141: UserWarning: /home/jiongyi/Documents/bead_motility/2019_03_07/4900_nM_profilin_a568_actin_fresh_50_nM_arp23/100_nM_n_wasp_200_nM_fresh_cp/470_gfp_550_a568_wf_20/470_gfp_550_a568_wf_20_MMStack.ome_tail_segmentation.tif is a low contrast image\n",
      "  warn('%s is a low contrast image' % fname)\n",
      "/home/jiongyi/anaconda3/lib/python3.6/site-packages/skimage/io/_io.py:141: UserWarning: /home/jiongyi/Documents/bead_motility/2019_03_07/4900_nM_profilin_a568_actin_fresh_50_nM_arp23/100_nM_n_wasp_200_nM_fresh_cp/470_gfp_550_a568_wf_8/470_gfp_550_a568_wf_8_MMStack.ome_tail_segmentation.tif is a low contrast image\n",
      "  warn('%s is a low contrast image' % fname)\n",
      "/home/jiongyi/anaconda3/lib/python3.6/site-packages/skimage/io/_io.py:141: UserWarning: /home/jiongyi/Documents/bead_motility/2019_03_07/4900_nM_profilin_a568_actin_fresh_50_nM_arp23/100_nM_n_wasp_200_nM_fresh_cp/470_gfp_550_a568_wf_10/470_gfp_550_a568_wf_10_MMStack.ome_tail_segmentation.tif is a low contrast image\n",
      "  warn('%s is a low contrast image' % fname)\n",
      "/home/jiongyi/anaconda3/lib/python3.6/site-packages/numpy/core/fromnumeric.py:3257: RuntimeWarning: Mean of empty slice.\n",
      "  out=out, **kwargs)\n",
      "/home/jiongyi/anaconda3/lib/python3.6/site-packages/numpy/core/_methods.py:161: RuntimeWarning: invalid value encountered in double_scalars\n",
      "  ret = ret.dtype.type(ret / rcount)\n"
     ]
    }
   ],
   "source": [
    "from bead_motility import *\n",
    "folder_path = '/home/jiongyi/Documents/bead_motility/2019_03_07/4900_nM_profilin_a568_actin_fresh_50_nM_arp23/100_nM_n_wasp_200_nM_fresh_cp/'\n",
    "comet_props_mat = batch_analysis(folder_path)"
   ]
  }
 ],
 "metadata": {
  "kernelspec": {
   "display_name": "Python 3",
   "language": "python",
   "name": "python3"
  },
  "language_info": {
   "codemirror_mode": {
    "name": "ipython",
    "version": 3
   },
   "file_extension": ".py",
   "mimetype": "text/x-python",
   "name": "python",
   "nbconvert_exporter": "python",
   "pygments_lexer": "ipython3",
   "version": "3.6.9"
  }
 },
 "nbformat": 4,
 "nbformat_minor": 4
}
