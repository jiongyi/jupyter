{
 "cells": [
  {
   "cell_type": "code",
   "execution_count": null,
   "id": "french-blowing",
   "metadata": {},
   "outputs": [],
   "source": [
    "from bead_motility import *"
   ]
  },
  {
   "cell_type": "code",
   "execution_count": null,
   "id": "under-israel",
   "metadata": {},
   "outputs": [],
   "source": [
    "cp25_folder_path = '/home/jiongyi/Documents/mullins_lab/data/wave/2021_02_01/100nM_60min_pwca/50nM_arp23_5uM_profilin_actin/25nM_cp_3min_pulse_1min_chase'\n",
    "cp75_folder_path = '/home/jiongyi/Documents/mullins_lab/data/wave/2021_02_01/100nM_60min_pwca/50nM_arp23_5uM_profilin_actin/75nM_cp_3min_pulse_1min_chase'\n",
    "cp125_folder_path = '/home/jiongyi/Documents/mullins_lab/data/wave/2021_02_01/100nM_60min_pwca/50nM_arp23_5uM_profilin_actin/125nM_cp_3min_pulse_1min_chase'\n",
    "cp175_folder_path = '/home/jiongyi/Documents/mullins_lab/data/wave/2021_02_01/100nM_60min_pwca/50nM_arp23_5uM_profilin_actin/175nM_cp_3min_pulse_1min_chase'\n",
    "cp225_folder_path = '/home/jiongyi/Documents/mullins_lab/data/wave/2021_02_01/100nM_60min_pwca/50nM_arp23_5uM_profilin_actin/225nM_cp_3min_pulse_1min_chase'"
   ]
  },
  {
   "cell_type": "code",
   "execution_count": null,
   "id": "english-vegetable",
   "metadata": {},
   "outputs": [],
   "source": [
    "cp25_comet_tail_props_df = batch_analysis(cp25_folder_path, save_segmentation = True)\n",
    "cp75_comet_tail_props_df = batch_analysis(cp75_folder_path, save_segmentation = True)\n",
    "cp125_comet_tail_props_df = batch_analysis(cp125_folder_path, save_segmentation = True)\n",
    "cp175_comet_tail_props_df = batch_analysis(cp175_folder_path, save_segmentation = True)\n",
    "cp225_comet_tail_props_df = batch_analysis(cp225_folder_path, save_segmentation = True)"
   ]
  }
 ],
 "metadata": {
  "kernelspec": {
   "display_name": "Python 3",
   "language": "python",
   "name": "python3"
  },
  "language_info": {
   "codemirror_mode": {
    "name": "ipython",
    "version": 3
   },
   "file_extension": ".py",
   "mimetype": "text/x-python",
   "name": "python",
   "nbconvert_exporter": "python",
   "pygments_lexer": "ipython3",
   "version": "3.7.9"
  }
 },
 "nbformat": 4,
 "nbformat_minor": 5
}
