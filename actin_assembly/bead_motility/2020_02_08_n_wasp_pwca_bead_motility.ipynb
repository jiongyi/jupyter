{
 "cells": [
  {
   "cell_type": "code",
   "execution_count": 1,
   "id": "vocal-determination",
   "metadata": {},
   "outputs": [
    {
     "name": "stderr",
     "output_type": "stream",
     "text": [
      "/home/jiongyi/anaconda3/lib/python3.7/site-packages/skan/csr.py:21: NumbaDeprecationWarning: \u001b[1mThe 'numba.jitclass' decorator has moved to 'numba.experimental.jitclass' to better reflect the experimental nature of the functionality. Please update your imports to accommodate this change and see https://numba.pydata.org/numba-doc/latest/reference/deprecation.html#change-of-jitclass-location for the time frame.\u001b[0m\n",
      "  @numba.jitclass(csr_spec)\n"
     ]
    }
   ],
   "source": [
    "from bead_motility import *"
   ]
  },
  {
   "cell_type": "code",
   "execution_count": 2,
   "id": "racial-borough",
   "metadata": {},
   "outputs": [],
   "source": [
    "cp25_folder_path = '/home/jiongyi/Documents/mullins_lab/data/n_wasp/2021_02_03/40nM_60min_pwca/50nM_arp23_5uM_profilin_actin/25nM_cp_3min_pulse_1min_chase/'\n",
    "cp75_folder_path = '/home/jiongyi/Documents/mullins_lab/data/n_wasp/2021_02_03/40nM_60min_pwca/50nM_arp23_5uM_profilin_actin/75nM_cp_3min_pulse_1min_chase/'\n",
    "cp125_folder_path = '/home/jiongyi/Documents/mullins_lab/data/n_wasp/2021_02_03/40nM_60min_pwca/50nM_arp23_5uM_profilin_actin/125nM_cp_3min_pulse_1min_chase/'\n",
    "cp175_folder_path = '/home/jiongyi/Documents/mullins_lab/data/n_wasp/2021_02_03/40nM_60min_pwca/50nM_arp23_5uM_profilin_actin/175nM_cp_3min_pulse_1min_chase/'\n",
    "cp225_folder_path = '/home/jiongyi/Documents/mullins_lab/data/n_wasp/2021_02_03/40nM_60min_pwca/50nM_arp23_5uM_profilin_actin/225nM_cp_3min_pulse_1min_chase/'"
   ]
  },
  {
   "cell_type": "code",
   "execution_count": null,
   "id": "flush-fabric",
   "metadata": {},
   "outputs": [],
   "source": [
    "batch_analysis(cp25_folder_path, save_segmentation = True)\n",
    "batch_analysis(cp75_folder_path, save_segmentation = True)\n",
    "batch_analysis(cp125_folder_path, save_segmentation = True)\n",
    "batch_analysis(cp175_folder_path, save_segmentation = True)\n",
    "batch_analysis(cp225_folder_path, save_segmentation = True)"
   ]
  },
  {
   "cell_type": "code",
   "execution_count": null,
   "id": "featured-swedish",
   "metadata": {},
   "outputs": [],
   "source": [
    "cp25_file_path = '/home/jiongyi/Documents/mullins_lab/data/n_wasp/2021_02_03/40nM_60min_pwca/50nM_arp23_5uM_profilin_actin/25nM_cp_3min_pulse_1min_chase/comet_tail_properties.csv'\n",
    "cp75_file_path = '/home/jiongyi/Documents/mullins_lab/data/n_wasp/2021_02_03/40nM_60min_pwca/50nM_arp23_5uM_profilin_actin/75nM_cp_3min_pulse_1min_chase/comet_tail_properties.csv'\n",
    "cp125_file_path = '/home/jiongyi/Documents/mullins_lab/data/n_wasp/2021_02_03/40nM_60min_pwca/50nM_arp23_5uM_profilin_actin/125nM_cp_3min_pulse_1min_chase/comet_tail_properties.csv'\n",
    "cp175_file_path = '/home/jiongyi/Documents/mullins_lab/data/n_wasp/2021_02_03/40nM_60min_pwca/50nM_arp23_5uM_profilin_actin/175nM_cp_3min_pulse_1min_chase/comet_tail_properties.csv'\n",
    "cp225_file_path = '/home/jiongyi/Documents/mullins_lab/data/n_wasp/2021_02_03/40nM_60min_pwca/50nM_arp23_5uM_profilin_actin/225nM_cp_3min_pulse_1min_chase/comet_tail_properties.csv'"
   ]
  },
  {
   "cell_type": "code",
   "execution_count": null,
   "id": "cultural-constraint",
   "metadata": {},
   "outputs": [],
   "source": [
    "props_file_path_row = array([cp25_file_path, cp75_file_path, cp125_file_path, cp175_file_path, cp225_file_path])"
   ]
  },
  {
   "cell_type": "code",
   "execution_count": null,
   "id": "coral-merit",
   "metadata": {},
   "outputs": [],
   "source": [
    "plot_mean_npf_fluor(props_file_path_row)"
   ]
  },
  {
   "cell_type": "code",
   "execution_count": null,
   "id": "animated-scout",
   "metadata": {},
   "outputs": [],
   "source": [
    "plot_median_chase_fluor(props_file_path_row)"
   ]
  },
  {
   "cell_type": "code",
   "execution_count": null,
   "id": "present-thought",
   "metadata": {},
   "outputs": [],
   "source": [
    "plot_median_tail_length(props_file_path_row)"
   ]
  },
  {
   "cell_type": "code",
   "execution_count": null,
   "id": "charming-leadership",
   "metadata": {},
   "outputs": [],
   "source": [
    "box_plot_tail_length(props_file_path_row)"
   ]
  }
 ],
 "metadata": {
  "kernelspec": {
   "display_name": "Python 3",
   "language": "python",
   "name": "python3"
  },
  "language_info": {
   "codemirror_mode": {
    "name": "ipython",
    "version": 3
   },
   "file_extension": ".py",
   "mimetype": "text/x-python",
   "name": "python",
   "nbconvert_exporter": "python",
   "pygments_lexer": "ipython3",
   "version": "3.7.9"
  }
 },
 "nbformat": 4,
 "nbformat_minor": 5
}
