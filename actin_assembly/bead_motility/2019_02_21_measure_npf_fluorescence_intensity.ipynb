{
 "cells": [
  {
   "cell_type": "code",
   "execution_count": 1,
   "metadata": {},
   "outputs": [],
   "source": [
    "from bead_motility import *\n",
    "data_folder_path_str = '/home/jiongyi/Documents/bead_motility/2019_02_19/15_min_100_nM_egfp_n_wasp_pwwca'"
   ]
  },
  {
   "cell_type": "code",
   "execution_count": 2,
   "metadata": {},
   "outputs": [
    {
     "name": "stderr",
     "output_type": "stream",
     "text": [
      "/home/jiongyi/anaconda3/lib/python3.6/site-packages/skimage/measure/_regionprops.py:250: UserWarning: regionprops and image moments (including moments, normalized moments, central moments, and inertia tensor) of 2D images will change from xy coordinates to rc coordinates in version 0.16.\n",
      "See http://scikit-image.org/docs/0.14.x/release_notes_and_installation.html#deprecations for details on how to avoid this message.\n",
      "  warn(XY_TO_RC_DEPRECATION_MESSAGE)\n",
      "/home/jiongyi/anaconda3/lib/python3.6/site-packages/skimage/measure/_regionprops.py:260: UserWarning: regionprops and image moments (including moments, normalized moments, central moments, and inertia tensor) of 2D images will change from xy coordinates to rc coordinates in version 0.16.\n",
      "See http://scikit-image.org/docs/0.14.x/release_notes_and_installation.html#deprecations for details on how to avoid this message.\n",
      "  warn(XY_TO_RC_DEPRECATION_MESSAGE)\n",
      "/home/jiongyi/anaconda3/lib/python3.6/site-packages/skimage/util/dtype.py:55: UserWarning: The default of `clip_negative` in `skimage.util.dtype_limits` will change to `False` in version 0.15.\n",
      "  warn('The default of `clip_negative` in `skimage.util.dtype_limits` '\n",
      "/home/jiongyi/anaconda3/lib/python3.6/site-packages/skimage/io/_io.py:140: UserWarning: /home/jiongyi/Documents/bead_motility/2019_02_19/15_min_100_nM_egfp_n_wasp_pwwca/470_egfp_25/470_egfp_25_MMStack.ome_segmentation.tif is a low contrast image\n",
      "  warn('%s is a low contrast image' % fname)\n",
      "/home/jiongyi/anaconda3/lib/python3.6/site-packages/skimage/io/_io.py:140: UserWarning: /home/jiongyi/Documents/bead_motility/2019_02_19/15_min_100_nM_egfp_n_wasp_pwwca/470_egfp_28/470_egfp_28_MMStack.ome_segmentation.tif is a low contrast image\n",
      "  warn('%s is a low contrast image' % fname)\n",
      "/home/jiongyi/anaconda3/lib/python3.6/site-packages/skimage/io/_io.py:140: UserWarning: /home/jiongyi/Documents/bead_motility/2019_02_19/15_min_100_nM_egfp_n_wasp_pwwca/470_egfp_31/470_egfp_31_MMStack.ome_segmentation.tif is a low contrast image\n",
      "  warn('%s is a low contrast image' % fname)\n",
      "/home/jiongyi/anaconda3/lib/python3.6/site-packages/skimage/io/_io.py:140: UserWarning: /home/jiongyi/Documents/bead_motility/2019_02_19/15_min_100_nM_egfp_n_wasp_pwwca/470_egfp_20/470_egfp_20_MMStack.ome_segmentation.tif is a low contrast image\n",
      "  warn('%s is a low contrast image' % fname)\n",
      "/home/jiongyi/anaconda3/lib/python3.6/site-packages/skimage/io/_io.py:140: UserWarning: /home/jiongyi/Documents/bead_motility/2019_02_19/15_min_100_nM_egfp_n_wasp_pwwca/470_egfp_14/470_egfp_14_MMStack.ome_segmentation.tif is a low contrast image\n",
      "  warn('%s is a low contrast image' % fname)\n",
      "/home/jiongyi/anaconda3/lib/python3.6/site-packages/skimage/io/_io.py:140: UserWarning: /home/jiongyi/Documents/bead_motility/2019_02_19/15_min_100_nM_egfp_n_wasp_pwwca/470_egfp_23/470_egfp_23_MMStack.ome_segmentation.tif is a low contrast image\n",
      "  warn('%s is a low contrast image' % fname)\n",
      "/home/jiongyi/anaconda3/lib/python3.6/site-packages/skimage/io/_io.py:140: UserWarning: /home/jiongyi/Documents/bead_motility/2019_02_19/15_min_100_nM_egfp_n_wasp_pwwca/470_egfp_9/470_egfp_9_MMStack.ome_segmentation.tif is a low contrast image\n",
      "  warn('%s is a low contrast image' % fname)\n",
      "/home/jiongyi/anaconda3/lib/python3.6/site-packages/skimage/io/_io.py:140: UserWarning: /home/jiongyi/Documents/bead_motility/2019_02_19/15_min_100_nM_egfp_n_wasp_pwwca/470_egfp_15/470_egfp_15_MMStack.ome_segmentation.tif is a low contrast image\n",
      "  warn('%s is a low contrast image' % fname)\n",
      "/home/jiongyi/anaconda3/lib/python3.6/site-packages/skimage/io/_io.py:140: UserWarning: /home/jiongyi/Documents/bead_motility/2019_02_19/15_min_100_nM_egfp_n_wasp_pwwca/470_egfp_2/470_egfp_2_MMStack.ome_segmentation.tif is a low contrast image\n",
      "  warn('%s is a low contrast image' % fname)\n",
      "/home/jiongyi/anaconda3/lib/python3.6/site-packages/skimage/io/_io.py:140: UserWarning: /home/jiongyi/Documents/bead_motility/2019_02_19/15_min_100_nM_egfp_n_wasp_pwwca/470_egfp_13/470_egfp_13_MMStack.ome_segmentation.tif is a low contrast image\n",
      "  warn('%s is a low contrast image' % fname)\n",
      "/home/jiongyi/anaconda3/lib/python3.6/site-packages/skimage/io/_io.py:140: UserWarning: /home/jiongyi/Documents/bead_motility/2019_02_19/15_min_100_nM_egfp_n_wasp_pwwca/470_egfp_26/470_egfp_26_MMStack.ome_segmentation.tif is a low contrast image\n",
      "  warn('%s is a low contrast image' % fname)\n",
      "/home/jiongyi/anaconda3/lib/python3.6/site-packages/skimage/io/_io.py:140: UserWarning: /home/jiongyi/Documents/bead_motility/2019_02_19/15_min_100_nM_egfp_n_wasp_pwwca/470_egfp_29/470_egfp_29_MMStack.ome_segmentation.tif is a low contrast image\n",
      "  warn('%s is a low contrast image' % fname)\n",
      "/home/jiongyi/anaconda3/lib/python3.6/site-packages/skimage/io/_io.py:140: UserWarning: /home/jiongyi/Documents/bead_motility/2019_02_19/15_min_100_nM_egfp_n_wasp_pwwca/470_egfp_11/470_egfp_11_MMStack.ome_segmentation.tif is a low contrast image\n",
      "  warn('%s is a low contrast image' % fname)\n",
      "/home/jiongyi/anaconda3/lib/python3.6/site-packages/skimage/io/_io.py:140: UserWarning: /home/jiongyi/Documents/bead_motility/2019_02_19/15_min_100_nM_egfp_n_wasp_pwwca/470_egfp_3/470_egfp_3_MMStack.ome_segmentation.tif is a low contrast image\n",
      "  warn('%s is a low contrast image' % fname)\n",
      "/home/jiongyi/anaconda3/lib/python3.6/site-packages/skimage/io/_io.py:140: UserWarning: /home/jiongyi/Documents/bead_motility/2019_02_19/15_min_100_nM_egfp_n_wasp_pwwca/470_egfp_5/470_egfp_5_MMStack.ome_segmentation.tif is a low contrast image\n",
      "  warn('%s is a low contrast image' % fname)\n",
      "/home/jiongyi/anaconda3/lib/python3.6/site-packages/skimage/io/_io.py:140: UserWarning: /home/jiongyi/Documents/bead_motility/2019_02_19/15_min_100_nM_egfp_n_wasp_pwwca/470_egfp_32/470_egfp_32_MMStack.ome_segmentation.tif is a low contrast image\n",
      "  warn('%s is a low contrast image' % fname)\n",
      "/home/jiongyi/anaconda3/lib/python3.6/site-packages/skimage/io/_io.py:140: UserWarning: /home/jiongyi/Documents/bead_motility/2019_02_19/15_min_100_nM_egfp_n_wasp_pwwca/470_egfp_4/470_egfp_4_MMStack.ome_segmentation.tif is a low contrast image\n",
      "  warn('%s is a low contrast image' % fname)\n",
      "/home/jiongyi/anaconda3/lib/python3.6/site-packages/skimage/io/_io.py:140: UserWarning: /home/jiongyi/Documents/bead_motility/2019_02_19/15_min_100_nM_egfp_n_wasp_pwwca/470_egfp_8/470_egfp_8_MMStack.ome_segmentation.tif is a low contrast image\n",
      "  warn('%s is a low contrast image' % fname)\n",
      "/home/jiongyi/anaconda3/lib/python3.6/site-packages/skimage/io/_io.py:140: UserWarning: /home/jiongyi/Documents/bead_motility/2019_02_19/15_min_100_nM_egfp_n_wasp_pwwca/470_egfp_10/470_egfp_10_MMStack.ome_segmentation.tif is a low contrast image\n",
      "  warn('%s is a low contrast image' % fname)\n",
      "/home/jiongyi/anaconda3/lib/python3.6/site-packages/skimage/io/_io.py:140: UserWarning: /home/jiongyi/Documents/bead_motility/2019_02_19/15_min_100_nM_egfp_n_wasp_pwwca/470_egfp_12/470_egfp_12_MMStack.ome_segmentation.tif is a low contrast image\n",
      "  warn('%s is a low contrast image' % fname)\n",
      "/home/jiongyi/anaconda3/lib/python3.6/site-packages/skimage/io/_io.py:140: UserWarning: /home/jiongyi/Documents/bead_motility/2019_02_19/15_min_100_nM_egfp_n_wasp_pwwca/470_egfp_24/470_egfp_24_MMStack.ome_segmentation.tif is a low contrast image\n",
      "  warn('%s is a low contrast image' % fname)\n",
      "/home/jiongyi/anaconda3/lib/python3.6/site-packages/skimage/io/_io.py:140: UserWarning: /home/jiongyi/Documents/bead_motility/2019_02_19/15_min_100_nM_egfp_n_wasp_pwwca/470_egfp_22/470_egfp_22_MMStack.ome_segmentation.tif is a low contrast image\n",
      "  warn('%s is a low contrast image' % fname)\n",
      "/home/jiongyi/anaconda3/lib/python3.6/site-packages/skimage/io/_io.py:140: UserWarning: /home/jiongyi/Documents/bead_motility/2019_02_19/15_min_100_nM_egfp_n_wasp_pwwca/470_egfp_21/470_egfp_21_MMStack.ome_segmentation.tif is a low contrast image\n",
      "  warn('%s is a low contrast image' % fname)\n",
      "/home/jiongyi/anaconda3/lib/python3.6/site-packages/skimage/io/_io.py:140: UserWarning: /home/jiongyi/Documents/bead_motility/2019_02_19/15_min_100_nM_egfp_n_wasp_pwwca/470_egfp_18/470_egfp_18_MMStack.ome_segmentation.tif is a low contrast image\n",
      "  warn('%s is a low contrast image' % fname)\n",
      "/home/jiongyi/anaconda3/lib/python3.6/site-packages/skimage/io/_io.py:140: UserWarning: /home/jiongyi/Documents/bead_motility/2019_02_19/15_min_100_nM_egfp_n_wasp_pwwca/470_egfp_6/470_egfp_6_MMStack.ome_segmentation.tif is a low contrast image\n",
      "  warn('%s is a low contrast image' % fname)\n",
      "/home/jiongyi/anaconda3/lib/python3.6/site-packages/skimage/io/_io.py:140: UserWarning: /home/jiongyi/Documents/bead_motility/2019_02_19/15_min_100_nM_egfp_n_wasp_pwwca/470_egfp_16/470_egfp_16_MMStack.ome_segmentation.tif is a low contrast image\n",
      "  warn('%s is a low contrast image' % fname)\n",
      "/home/jiongyi/anaconda3/lib/python3.6/site-packages/skimage/io/_io.py:140: UserWarning: /home/jiongyi/Documents/bead_motility/2019_02_19/15_min_100_nM_egfp_n_wasp_pwwca/470_egfp_30/470_egfp_30_MMStack.ome_segmentation.tif is a low contrast image\n",
      "  warn('%s is a low contrast image' % fname)\n",
      "/home/jiongyi/anaconda3/lib/python3.6/site-packages/skimage/io/_io.py:140: UserWarning: /home/jiongyi/Documents/bead_motility/2019_02_19/15_min_100_nM_egfp_n_wasp_pwwca/470_egfp_19/470_egfp_19_MMStack.ome_segmentation.tif is a low contrast image\n",
      "  warn('%s is a low contrast image' % fname)\n",
      "/home/jiongyi/anaconda3/lib/python3.6/site-packages/skimage/io/_io.py:140: UserWarning: /home/jiongyi/Documents/bead_motility/2019_02_19/15_min_100_nM_egfp_n_wasp_pwwca/470_egfp_17/470_egfp_17_MMStack.ome_segmentation.tif is a low contrast image\n",
      "  warn('%s is a low contrast image' % fname)\n",
      "/home/jiongyi/anaconda3/lib/python3.6/site-packages/skimage/io/_io.py:140: UserWarning: /home/jiongyi/Documents/bead_motility/2019_02_19/15_min_100_nM_egfp_n_wasp_pwwca/470_egfp_27/470_egfp_27_MMStack.ome_segmentation.tif is a low contrast image\n",
      "  warn('%s is a low contrast image' % fname)\n",
      "/home/jiongyi/anaconda3/lib/python3.6/site-packages/skimage/io/_io.py:140: UserWarning: /home/jiongyi/Documents/bead_motility/2019_02_19/15_min_100_nM_egfp_n_wasp_pwwca/470_egfp_1/470_egfp_1_MMStack.ome_segmentation.tif is a low contrast image\n",
      "  warn('%s is a low contrast image' % fname)\n"
     ]
    }
   ],
   "source": [
    "npf_intensity_row = measure_npf_density(data_folder_path_str)"
   ]
  },
  {
   "cell_type": "code",
   "execution_count": 3,
   "metadata": {},
   "outputs": [
    {
     "data": {
      "text/plain": [
       "Text(0.5, 1.0, '15 min 100 nM EGFP-N-WASP PWWCA')"
      ]
     },
     "execution_count": 3,
     "metadata": {},
     "output_type": "execute_result"
    },
    {
     "data": {
      "image/png": "[encoded data removed]",
      "text/plain": [
       "<Figure size 432x288 with 1 Axes>"
      ]
     },
     "metadata": {
      "needs_background": "light"
     },
     "output_type": "display_data"
    }
   ],
   "source": [
    "%matplotlib inline\n",
    "from matplotlib.pyplot import subplots\n",
    "fig_handle, ax_handle = subplots()\n",
    "ax_handle.hist(npf_intensity_row)\n",
    "ax_handle.set_xlabel('Mean intensity (AU)')\n",
    "ax_handle.set_ylabel('Counts')\n",
    "ax_handle.set_title('15 min 100 nM EGFP-N-WASP PWWCA')"
   ]
  },
  {
   "cell_type": "code",
   "execution_count": 4,
   "metadata": {},
   "outputs": [
    {
     "name": "stderr",
     "output_type": "stream",
     "text": [
      "/home/jiongyi/anaconda3/lib/python3.6/site-packages/skimage/measure/_regionprops.py:250: UserWarning: regionprops and image moments (including moments, normalized moments, central moments, and inertia tensor) of 2D images will change from xy coordinates to rc coordinates in version 0.16.\n",
      "See http://scikit-image.org/docs/0.14.x/release_notes_and_installation.html#deprecations for details on how to avoid this message.\n",
      "  warn(XY_TO_RC_DEPRECATION_MESSAGE)\n",
      "/home/jiongyi/anaconda3/lib/python3.6/site-packages/skimage/measure/_regionprops.py:260: UserWarning: regionprops and image moments (including moments, normalized moments, central moments, and inertia tensor) of 2D images will change from xy coordinates to rc coordinates in version 0.16.\n",
      "See http://scikit-image.org/docs/0.14.x/release_notes_and_installation.html#deprecations for details on how to avoid this message.\n",
      "  warn(XY_TO_RC_DEPRECATION_MESSAGE)\n",
      "/home/jiongyi/anaconda3/lib/python3.6/site-packages/skimage/util/dtype.py:55: UserWarning: The default of `clip_negative` in `skimage.util.dtype_limits` will change to `False` in version 0.15.\n",
      "  warn('The default of `clip_negative` in `skimage.util.dtype_limits` '\n",
      "/home/jiongyi/anaconda3/lib/python3.6/site-packages/skimage/io/_io.py:140: UserWarning: /home/jiongyi/Documents/bead_motility/2019_02_19/15_min_100_nM_egfp_wave_pwca/470_egfp_7/470_egfp_7_MMStack.ome_segmentation.tif is a low contrast image\n",
      "  warn('%s is a low contrast image' % fname)\n",
      "/home/jiongyi/anaconda3/lib/python3.6/site-packages/skimage/io/_io.py:140: UserWarning: /home/jiongyi/Documents/bead_motility/2019_02_19/15_min_100_nM_egfp_wave_pwca/470_egfp_25/470_egfp_25_MMStack.ome_segmentation.tif is a low contrast image\n",
      "  warn('%s is a low contrast image' % fname)\n",
      "/home/jiongyi/anaconda3/lib/python3.6/site-packages/skimage/io/_io.py:140: UserWarning: /home/jiongyi/Documents/bead_motility/2019_02_19/15_min_100_nM_egfp_wave_pwca/470_egfp_28/470_egfp_28_MMStack.ome_segmentation.tif is a low contrast image\n",
      "  warn('%s is a low contrast image' % fname)\n",
      "/home/jiongyi/anaconda3/lib/python3.6/site-packages/skimage/io/_io.py:140: UserWarning: /home/jiongyi/Documents/bead_motility/2019_02_19/15_min_100_nM_egfp_wave_pwca/470_egfp_20/470_egfp_20_MMStack.ome_segmentation.tif is a low contrast image\n",
      "  warn('%s is a low contrast image' % fname)\n",
      "/home/jiongyi/anaconda3/lib/python3.6/site-packages/skimage/io/_io.py:140: UserWarning: /home/jiongyi/Documents/bead_motility/2019_02_19/15_min_100_nM_egfp_wave_pwca/470_egfp_14/470_egfp_14_MMStack.ome_segmentation.tif is a low contrast image\n",
      "  warn('%s is a low contrast image' % fname)\n",
      "/home/jiongyi/anaconda3/lib/python3.6/site-packages/skimage/io/_io.py:140: UserWarning: /home/jiongyi/Documents/bead_motility/2019_02_19/15_min_100_nM_egfp_wave_pwca/470_egfp_23/470_egfp_23_MMStack.ome_segmentation.tif is a low contrast image\n",
      "  warn('%s is a low contrast image' % fname)\n",
      "/home/jiongyi/anaconda3/lib/python3.6/site-packages/skimage/io/_io.py:140: UserWarning: /home/jiongyi/Documents/bead_motility/2019_02_19/15_min_100_nM_egfp_wave_pwca/470_egfp_9/470_egfp_9_MMStack.ome_segmentation.tif is a low contrast image\n",
      "  warn('%s is a low contrast image' % fname)\n",
      "/home/jiongyi/anaconda3/lib/python3.6/site-packages/skimage/io/_io.py:140: UserWarning: /home/jiongyi/Documents/bead_motility/2019_02_19/15_min_100_nM_egfp_wave_pwca/470_egfp_15/470_egfp_15_MMStack.ome_segmentation.tif is a low contrast image\n",
      "  warn('%s is a low contrast image' % fname)\n",
      "/home/jiongyi/anaconda3/lib/python3.6/site-packages/skimage/io/_io.py:140: UserWarning: /home/jiongyi/Documents/bead_motility/2019_02_19/15_min_100_nM_egfp_wave_pwca/470_egfp_2/470_egfp_2_MMStack.ome_segmentation.tif is a low contrast image\n",
      "  warn('%s is a low contrast image' % fname)\n",
      "/home/jiongyi/anaconda3/lib/python3.6/site-packages/skimage/io/_io.py:140: UserWarning: /home/jiongyi/Documents/bead_motility/2019_02_19/15_min_100_nM_egfp_wave_pwca/470_egfp_13/470_egfp_13_MMStack.ome_segmentation.tif is a low contrast image\n",
      "  warn('%s is a low contrast image' % fname)\n",
      "/home/jiongyi/anaconda3/lib/python3.6/site-packages/skimage/io/_io.py:140: UserWarning: /home/jiongyi/Documents/bead_motility/2019_02_19/15_min_100_nM_egfp_wave_pwca/470_egfp_26/470_egfp_26_MMStack.ome_segmentation.tif is a low contrast image\n",
      "  warn('%s is a low contrast image' % fname)\n",
      "/home/jiongyi/anaconda3/lib/python3.6/site-packages/skimage/io/_io.py:140: UserWarning: /home/jiongyi/Documents/bead_motility/2019_02_19/15_min_100_nM_egfp_wave_pwca/470_egfp_29/470_egfp_29_MMStack.ome_segmentation.tif is a low contrast image\n",
      "  warn('%s is a low contrast image' % fname)\n",
      "/home/jiongyi/anaconda3/lib/python3.6/site-packages/skimage/io/_io.py:140: UserWarning: /home/jiongyi/Documents/bead_motility/2019_02_19/15_min_100_nM_egfp_wave_pwca/470_egfp_11/470_egfp_11_MMStack.ome_segmentation.tif is a low contrast image\n",
      "  warn('%s is a low contrast image' % fname)\n",
      "/home/jiongyi/anaconda3/lib/python3.6/site-packages/skimage/io/_io.py:140: UserWarning: /home/jiongyi/Documents/bead_motility/2019_02_19/15_min_100_nM_egfp_wave_pwca/470_egfp_3/470_egfp_3_MMStack.ome_segmentation.tif is a low contrast image\n",
      "  warn('%s is a low contrast image' % fname)\n",
      "/home/jiongyi/anaconda3/lib/python3.6/site-packages/skimage/io/_io.py:140: UserWarning: /home/jiongyi/Documents/bead_motility/2019_02_19/15_min_100_nM_egfp_wave_pwca/470_egfp_5/470_egfp_5_MMStack.ome_segmentation.tif is a low contrast image\n",
      "  warn('%s is a low contrast image' % fname)\n",
      "/home/jiongyi/anaconda3/lib/python3.6/site-packages/skimage/io/_io.py:140: UserWarning: /home/jiongyi/Documents/bead_motility/2019_02_19/15_min_100_nM_egfp_wave_pwca/470_egfp_4/470_egfp_4_MMStack.ome_segmentation.tif is a low contrast image\n",
      "  warn('%s is a low contrast image' % fname)\n",
      "/home/jiongyi/anaconda3/lib/python3.6/site-packages/skimage/io/_io.py:140: UserWarning: /home/jiongyi/Documents/bead_motility/2019_02_19/15_min_100_nM_egfp_wave_pwca/470_egfp_8/470_egfp_8_MMStack.ome_segmentation.tif is a low contrast image\n",
      "  warn('%s is a low contrast image' % fname)\n",
      "/home/jiongyi/anaconda3/lib/python3.6/site-packages/skimage/io/_io.py:140: UserWarning: /home/jiongyi/Documents/bead_motility/2019_02_19/15_min_100_nM_egfp_wave_pwca/470_egfp_10/470_egfp_10_MMStack.ome_segmentation.tif is a low contrast image\n",
      "  warn('%s is a low contrast image' % fname)\n",
      "/home/jiongyi/anaconda3/lib/python3.6/site-packages/skimage/io/_io.py:140: UserWarning: /home/jiongyi/Documents/bead_motility/2019_02_19/15_min_100_nM_egfp_wave_pwca/470_egfp_12/470_egfp_12_MMStack.ome_segmentation.tif is a low contrast image\n",
      "  warn('%s is a low contrast image' % fname)\n",
      "/home/jiongyi/anaconda3/lib/python3.6/site-packages/skimage/io/_io.py:140: UserWarning: /home/jiongyi/Documents/bead_motility/2019_02_19/15_min_100_nM_egfp_wave_pwca/470_egfp_24/470_egfp_24_MMStack.ome_segmentation.tif is a low contrast image\n",
      "  warn('%s is a low contrast image' % fname)\n",
      "/home/jiongyi/anaconda3/lib/python3.6/site-packages/skimage/io/_io.py:140: UserWarning: /home/jiongyi/Documents/bead_motility/2019_02_19/15_min_100_nM_egfp_wave_pwca/470_egfp_22/470_egfp_22_MMStack.ome_segmentation.tif is a low contrast image\n",
      "  warn('%s is a low contrast image' % fname)\n",
      "/home/jiongyi/anaconda3/lib/python3.6/site-packages/skimage/io/_io.py:140: UserWarning: /home/jiongyi/Documents/bead_motility/2019_02_19/15_min_100_nM_egfp_wave_pwca/470_egfp_21/470_egfp_21_MMStack.ome_segmentation.tif is a low contrast image\n",
      "  warn('%s is a low contrast image' % fname)\n",
      "/home/jiongyi/anaconda3/lib/python3.6/site-packages/skimage/io/_io.py:140: UserWarning: /home/jiongyi/Documents/bead_motility/2019_02_19/15_min_100_nM_egfp_wave_pwca/470_egfp_18/470_egfp_18_MMStack.ome_segmentation.tif is a low contrast image\n",
      "  warn('%s is a low contrast image' % fname)\n",
      "/home/jiongyi/anaconda3/lib/python3.6/site-packages/skimage/io/_io.py:140: UserWarning: /home/jiongyi/Documents/bead_motility/2019_02_19/15_min_100_nM_egfp_wave_pwca/470_egfp_6/470_egfp_6_MMStack.ome_segmentation.tif is a low contrast image\n",
      "  warn('%s is a low contrast image' % fname)\n",
      "/home/jiongyi/anaconda3/lib/python3.6/site-packages/skimage/io/_io.py:140: UserWarning: /home/jiongyi/Documents/bead_motility/2019_02_19/15_min_100_nM_egfp_wave_pwca/470_egfp_16/470_egfp_16_MMStack.ome_segmentation.tif is a low contrast image\n",
      "  warn('%s is a low contrast image' % fname)\n",
      "/home/jiongyi/anaconda3/lib/python3.6/site-packages/skimage/io/_io.py:140: UserWarning: /home/jiongyi/Documents/bead_motility/2019_02_19/15_min_100_nM_egfp_wave_pwca/470_egfp_30/470_egfp_30_MMStack.ome_segmentation.tif is a low contrast image\n",
      "  warn('%s is a low contrast image' % fname)\n",
      "/home/jiongyi/anaconda3/lib/python3.6/site-packages/skimage/io/_io.py:140: UserWarning: /home/jiongyi/Documents/bead_motility/2019_02_19/15_min_100_nM_egfp_wave_pwca/470_egfp_19/470_egfp_19_MMStack.ome_segmentation.tif is a low contrast image\n",
      "  warn('%s is a low contrast image' % fname)\n",
      "/home/jiongyi/anaconda3/lib/python3.6/site-packages/skimage/io/_io.py:140: UserWarning: /home/jiongyi/Documents/bead_motility/2019_02_19/15_min_100_nM_egfp_wave_pwca/470_egfp_17/470_egfp_17_MMStack.ome_segmentation.tif is a low contrast image\n",
      "  warn('%s is a low contrast image' % fname)\n",
      "/home/jiongyi/anaconda3/lib/python3.6/site-packages/skimage/io/_io.py:140: UserWarning: /home/jiongyi/Documents/bead_motility/2019_02_19/15_min_100_nM_egfp_wave_pwca/470_egfp_27/470_egfp_27_MMStack.ome_segmentation.tif is a low contrast image\n",
      "  warn('%s is a low contrast image' % fname)\n",
      "/home/jiongyi/anaconda3/lib/python3.6/site-packages/skimage/io/_io.py:140: UserWarning: /home/jiongyi/Documents/bead_motility/2019_02_19/15_min_100_nM_egfp_wave_pwca/470_egfp_1/470_egfp_1_MMStack.ome_segmentation.tif is a low contrast image\n",
      "  warn('%s is a low contrast image' % fname)\n"
     ]
    },
    {
     "data": {
      "text/plain": [
       "Text(0.5, 1.0, '15 min 100 nM EGFP-WAVE PWCA')"
      ]
     },
     "execution_count": 4,
     "metadata": {},
     "output_type": "execute_result"
    },
    {
     "data": {
      "image/png": "[encoded data removed]",
      "text/plain": [
       "<Figure size 432x288 with 1 Axes>"
      ]
     },
     "metadata": {
      "needs_background": "light"
     },
     "output_type": "display_data"
    }
   ],
   "source": [
    "data_folder_path_str = '/home/jiongyi/Documents/bead_motility/2019_02_19/15_min_100_nM_egfp_wave_pwca'\n",
    "npf_intensity_row = measure_npf_density(data_folder_path_str)\n",
    "fig_handle, ax_handle = subplots()\n",
    "ax_handle.hist(npf_intensity_row)\n",
    "ax_handle.set_xlabel('Mean intensity (AU)')\n",
    "ax_handle.set_ylabel('Counts')\n",
    "ax_handle.set_title('15 min 100 nM EGFP-WAVE PWCA')"
   ]
  },
  {
   "cell_type": "code",
   "execution_count": 5,
   "metadata": {},
   "outputs": [
    {
     "name": "stderr",
     "output_type": "stream",
     "text": [
      "/home/jiongyi/anaconda3/lib/python3.6/site-packages/skimage/io/_io.py:140: UserWarning: /home/jiongyi/Documents/bead_motility/2019_02_19/45_min_100_nM_egfp_wave_pwca/470_egfp_7/470_egfp_7_MMStack.ome_segmentation.tif is a low contrast image\n",
      "  warn('%s is a low contrast image' % fname)\n",
      "/home/jiongyi/anaconda3/lib/python3.6/site-packages/skimage/io/_io.py:140: UserWarning: /home/jiongyi/Documents/bead_motility/2019_02_19/45_min_100_nM_egfp_wave_pwca/470_egfp_2/470_egfp_2_MMStack.ome_segmentation.tif is a low contrast image\n",
      "  warn('%s is a low contrast image' % fname)\n",
      "/home/jiongyi/anaconda3/lib/python3.6/site-packages/skimage/io/_io.py:140: UserWarning: /home/jiongyi/Documents/bead_motility/2019_02_19/45_min_100_nM_egfp_wave_pwca/470_egfp_3/470_egfp_3_MMStack.ome_segmentation.tif is a low contrast image\n",
      "  warn('%s is a low contrast image' % fname)\n",
      "/home/jiongyi/anaconda3/lib/python3.6/site-packages/skimage/io/_io.py:140: UserWarning: /home/jiongyi/Documents/bead_motility/2019_02_19/45_min_100_nM_egfp_wave_pwca/470_egfp_5/470_egfp_5_MMStack.ome_segmentation.tif is a low contrast image\n",
      "  warn('%s is a low contrast image' % fname)\n",
      "/home/jiongyi/anaconda3/lib/python3.6/site-packages/skimage/io/_io.py:140: UserWarning: /home/jiongyi/Documents/bead_motility/2019_02_19/45_min_100_nM_egfp_wave_pwca/470_egfp_6/470_egfp_6_MMStack.ome_segmentation.tif is a low contrast image\n",
      "  warn('%s is a low contrast image' % fname)\n",
      "/home/jiongyi/anaconda3/lib/python3.6/site-packages/skimage/io/_io.py:140: UserWarning: /home/jiongyi/Documents/bead_motility/2019_02_19/45_min_100_nM_egfp_wave_pwca/470_egfp_1/470_egfp_1_MMStack.ome_segmentation.tif is a low contrast image\n",
      "  warn('%s is a low contrast image' % fname)\n"
     ]
    },
    {
     "data": {
      "text/plain": [
       "Text(0.5, 1.0, '45 min 100 nM EGFP-WAVE PWCA')"
      ]
     },
     "execution_count": 5,
     "metadata": {},
     "output_type": "execute_result"
    },
    {
     "data": {
      "image/png": "[encoded data removed]",
      "text/plain": [
       "<Figure size 432x288 with 1 Axes>"
      ]
     },
     "metadata": {
      "needs_background": "light"
     },
     "output_type": "display_data"
    }
   ],
   "source": [
    "data_folder_path_str = '/home/jiongyi/Documents/bead_motility/2019_02_19/45_min_100_nM_egfp_wave_pwca'\n",
    "npf_intensity_row = measure_npf_density(data_folder_path_str)\n",
    "fig_handle, ax_handle = subplots()\n",
    "ax_handle.hist(npf_intensity_row)\n",
    "ax_handle.set_xlabel('Mean intensity (AU)')\n",
    "ax_handle.set_ylabel('Counts')\n",
    "ax_handle.set_title('45 min 100 nM EGFP-WAVE PWCA')"
   ]
  },
  {
   "cell_type": "code",
   "execution_count": 6,
   "metadata": {},
   "outputs": [
    {
     "name": "stderr",
     "output_type": "stream",
     "text": [
      "/home/jiongyi/anaconda3/lib/python3.6/site-packages/skimage/io/_io.py:140: UserWarning: /home/jiongyi/Documents/bead_motility/2019_02_19/45_min_100_nM_egfp_n_wasp_pwwca/470_egfp_25/470_egfp_25_MMStack.ome_segmentation.tif is a low contrast image\n",
      "  warn('%s is a low contrast image' % fname)\n",
      "/home/jiongyi/anaconda3/lib/python3.6/site-packages/skimage/io/_io.py:140: UserWarning: /home/jiongyi/Documents/bead_motility/2019_02_19/45_min_100_nM_egfp_n_wasp_pwwca/470_egfp_40/470_egfp_40_MMStack.ome_segmentation.tif is a low contrast image\n",
      "  warn('%s is a low contrast image' % fname)\n",
      "/home/jiongyi/anaconda3/lib/python3.6/site-packages/skimage/io/_io.py:140: UserWarning: /home/jiongyi/Documents/bead_motility/2019_02_19/45_min_100_nM_egfp_n_wasp_pwwca/470_egfp_28/470_egfp_28_MMStack.ome_segmentation.tif is a low contrast image\n",
      "  warn('%s is a low contrast image' % fname)\n",
      "/home/jiongyi/anaconda3/lib/python3.6/site-packages/skimage/io/_io.py:140: UserWarning: /home/jiongyi/Documents/bead_motility/2019_02_19/45_min_100_nM_egfp_n_wasp_pwwca/470_egfp_31/470_egfp_31_MMStack.ome_segmentation.tif is a low contrast image\n",
      "  warn('%s is a low contrast image' % fname)\n",
      "/home/jiongyi/anaconda3/lib/python3.6/site-packages/skimage/io/_io.py:140: UserWarning: /home/jiongyi/Documents/bead_motility/2019_02_19/45_min_100_nM_egfp_n_wasp_pwwca/470_egfp_20/470_egfp_20_MMStack.ome_segmentation.tif is a low contrast image\n",
      "  warn('%s is a low contrast image' % fname)\n",
      "/home/jiongyi/anaconda3/lib/python3.6/site-packages/skimage/io/_io.py:140: UserWarning: /home/jiongyi/Documents/bead_motility/2019_02_19/45_min_100_nM_egfp_n_wasp_pwwca/470_egfp_14/470_egfp_14_MMStack.ome_segmentation.tif is a low contrast image\n",
      "  warn('%s is a low contrast image' % fname)\n",
      "/home/jiongyi/anaconda3/lib/python3.6/site-packages/skimage/io/_io.py:140: UserWarning: /home/jiongyi/Documents/bead_motility/2019_02_19/45_min_100_nM_egfp_n_wasp_pwwca/470_egfp_35/470_egfp_35_MMStack.ome_segmentation.tif is a low contrast image\n",
      "  warn('%s is a low contrast image' % fname)\n",
      "/home/jiongyi/anaconda3/lib/python3.6/site-packages/skimage/io/_io.py:140: UserWarning: /home/jiongyi/Documents/bead_motility/2019_02_19/45_min_100_nM_egfp_n_wasp_pwwca/470_egfp_23/470_egfp_23_MMStack.ome_segmentation.tif is a low contrast image\n",
      "  warn('%s is a low contrast image' % fname)\n",
      "/home/jiongyi/anaconda3/lib/python3.6/site-packages/skimage/io/_io.py:140: UserWarning: /home/jiongyi/Documents/bead_motility/2019_02_19/45_min_100_nM_egfp_n_wasp_pwwca/470_egfp_9/470_egfp_9_MMStack.ome_segmentation.tif is a low contrast image\n",
      "  warn('%s is a low contrast image' % fname)\n",
      "/home/jiongyi/anaconda3/lib/python3.6/site-packages/skimage/io/_io.py:140: UserWarning: /home/jiongyi/Documents/bead_motility/2019_02_19/45_min_100_nM_egfp_n_wasp_pwwca/470_egfp_15/470_egfp_15_MMStack.ome_segmentation.tif is a low contrast image\n",
      "  warn('%s is a low contrast image' % fname)\n",
      "/home/jiongyi/anaconda3/lib/python3.6/site-packages/skimage/io/_io.py:140: UserWarning: /home/jiongyi/Documents/bead_motility/2019_02_19/45_min_100_nM_egfp_n_wasp_pwwca/470_egfp_13/470_egfp_13_MMStack.ome_segmentation.tif is a low contrast image\n",
      "  warn('%s is a low contrast image' % fname)\n",
      "/home/jiongyi/anaconda3/lib/python3.6/site-packages/skimage/io/_io.py:140: UserWarning: /home/jiongyi/Documents/bead_motility/2019_02_19/45_min_100_nM_egfp_n_wasp_pwwca/470_egfp_26/470_egfp_26_MMStack.ome_segmentation.tif is a low contrast image\n",
      "  warn('%s is a low contrast image' % fname)\n",
      "/home/jiongyi/anaconda3/lib/python3.6/site-packages/skimage/io/_io.py:140: UserWarning: /home/jiongyi/Documents/bead_motility/2019_02_19/45_min_100_nM_egfp_n_wasp_pwwca/470_egfp_29/470_egfp_29_MMStack.ome_segmentation.tif is a low contrast image\n",
      "  warn('%s is a low contrast image' % fname)\n",
      "/home/jiongyi/anaconda3/lib/python3.6/site-packages/skimage/io/_io.py:140: UserWarning: /home/jiongyi/Documents/bead_motility/2019_02_19/45_min_100_nM_egfp_n_wasp_pwwca/470_egfp_11/470_egfp_11_MMStack.ome_segmentation.tif is a low contrast image\n",
      "  warn('%s is a low contrast image' % fname)\n",
      "/home/jiongyi/anaconda3/lib/python3.6/site-packages/skimage/io/_io.py:140: UserWarning: /home/jiongyi/Documents/bead_motility/2019_02_19/45_min_100_nM_egfp_n_wasp_pwwca/470_egfp_36/470_egfp_36_MMStack.ome_segmentation.tif is a low contrast image\n",
      "  warn('%s is a low contrast image' % fname)\n",
      "/home/jiongyi/anaconda3/lib/python3.6/site-packages/skimage/io/_io.py:140: UserWarning: /home/jiongyi/Documents/bead_motility/2019_02_19/45_min_100_nM_egfp_n_wasp_pwwca/470_egfp_39/470_egfp_39_MMStack.ome_segmentation.tif is a low contrast image\n",
      "  warn('%s is a low contrast image' % fname)\n",
      "/home/jiongyi/anaconda3/lib/python3.6/site-packages/skimage/io/_io.py:140: UserWarning: /home/jiongyi/Documents/bead_motility/2019_02_19/45_min_100_nM_egfp_n_wasp_pwwca/470_egfp_32/470_egfp_32_MMStack.ome_segmentation.tif is a low contrast image\n",
      "  warn('%s is a low contrast image' % fname)\n",
      "/home/jiongyi/anaconda3/lib/python3.6/site-packages/skimage/io/_io.py:140: UserWarning: /home/jiongyi/Documents/bead_motility/2019_02_19/45_min_100_nM_egfp_n_wasp_pwwca/470_egfp_34/470_egfp_34_MMStack.ome_segmentation.tif is a low contrast image\n",
      "  warn('%s is a low contrast image' % fname)\n",
      "/home/jiongyi/anaconda3/lib/python3.6/site-packages/skimage/io/_io.py:140: UserWarning: /home/jiongyi/Documents/bead_motility/2019_02_19/45_min_100_nM_egfp_n_wasp_pwwca/470_egfp_8/470_egfp_8_MMStack.ome_segmentation.tif is a low contrast image\n",
      "  warn('%s is a low contrast image' % fname)\n",
      "/home/jiongyi/anaconda3/lib/python3.6/site-packages/skimage/io/_io.py:140: UserWarning: /home/jiongyi/Documents/bead_motility/2019_02_19/45_min_100_nM_egfp_n_wasp_pwwca/470_egfp_10/470_egfp_10_MMStack.ome_segmentation.tif is a low contrast image\n",
      "  warn('%s is a low contrast image' % fname)\n",
      "/home/jiongyi/anaconda3/lib/python3.6/site-packages/skimage/io/_io.py:140: UserWarning: /home/jiongyi/Documents/bead_motility/2019_02_19/45_min_100_nM_egfp_n_wasp_pwwca/470_egfp_37/470_egfp_37_MMStack.ome_segmentation.tif is a low contrast image\n",
      "  warn('%s is a low contrast image' % fname)\n",
      "/home/jiongyi/anaconda3/lib/python3.6/site-packages/skimage/io/_io.py:140: UserWarning: /home/jiongyi/Documents/bead_motility/2019_02_19/45_min_100_nM_egfp_n_wasp_pwwca/470_egfp_12/470_egfp_12_MMStack.ome_segmentation.tif is a low contrast image\n",
      "  warn('%s is a low contrast image' % fname)\n",
      "/home/jiongyi/anaconda3/lib/python3.6/site-packages/skimage/io/_io.py:140: UserWarning: /home/jiongyi/Documents/bead_motility/2019_02_19/45_min_100_nM_egfp_n_wasp_pwwca/470_egfp_24/470_egfp_24_MMStack.ome_segmentation.tif is a low contrast image\n",
      "  warn('%s is a low contrast image' % fname)\n",
      "/home/jiongyi/anaconda3/lib/python3.6/site-packages/skimage/io/_io.py:140: UserWarning: /home/jiongyi/Documents/bead_motility/2019_02_19/45_min_100_nM_egfp_n_wasp_pwwca/470_egfp_22/470_egfp_22_MMStack.ome_segmentation.tif is a low contrast image\n",
      "  warn('%s is a low contrast image' % fname)\n",
      "/home/jiongyi/anaconda3/lib/python3.6/site-packages/skimage/io/_io.py:140: UserWarning: /home/jiongyi/Documents/bead_motility/2019_02_19/45_min_100_nM_egfp_n_wasp_pwwca/470_egfp_21/470_egfp_21_MMStack.ome_segmentation.tif is a low contrast image\n",
      "  warn('%s is a low contrast image' % fname)\n",
      "/home/jiongyi/anaconda3/lib/python3.6/site-packages/skimage/io/_io.py:140: UserWarning: /home/jiongyi/Documents/bead_motility/2019_02_19/45_min_100_nM_egfp_n_wasp_pwwca/470_egfp_18/470_egfp_18_MMStack.ome_segmentation.tif is a low contrast image\n",
      "  warn('%s is a low contrast image' % fname)\n",
      "/home/jiongyi/anaconda3/lib/python3.6/site-packages/skimage/io/_io.py:140: UserWarning: /home/jiongyi/Documents/bead_motility/2019_02_19/45_min_100_nM_egfp_n_wasp_pwwca/470_egfp_38/470_egfp_38_MMStack.ome_segmentation.tif is a low contrast image\n",
      "  warn('%s is a low contrast image' % fname)\n",
      "/home/jiongyi/anaconda3/lib/python3.6/site-packages/skimage/io/_io.py:140: UserWarning: /home/jiongyi/Documents/bead_motility/2019_02_19/45_min_100_nM_egfp_n_wasp_pwwca/470_egfp_16/470_egfp_16_MMStack.ome_segmentation.tif is a low contrast image\n",
      "  warn('%s is a low contrast image' % fname)\n",
      "/home/jiongyi/anaconda3/lib/python3.6/site-packages/skimage/io/_io.py:140: UserWarning: /home/jiongyi/Documents/bead_motility/2019_02_19/45_min_100_nM_egfp_n_wasp_pwwca/470_egfp_30/470_egfp_30_MMStack.ome_segmentation.tif is a low contrast image\n",
      "  warn('%s is a low contrast image' % fname)\n",
      "/home/jiongyi/anaconda3/lib/python3.6/site-packages/skimage/io/_io.py:140: UserWarning: /home/jiongyi/Documents/bead_motility/2019_02_19/45_min_100_nM_egfp_n_wasp_pwwca/470_egfp_19/470_egfp_19_MMStack.ome_segmentation.tif is a low contrast image\n",
      "  warn('%s is a low contrast image' % fname)\n",
      "/home/jiongyi/anaconda3/lib/python3.6/site-packages/skimage/io/_io.py:140: UserWarning: /home/jiongyi/Documents/bead_motility/2019_02_19/45_min_100_nM_egfp_n_wasp_pwwca/470_egfp_17/470_egfp_17_MMStack.ome_segmentation.tif is a low contrast image\n",
      "  warn('%s is a low contrast image' % fname)\n",
      "/home/jiongyi/anaconda3/lib/python3.6/site-packages/skimage/io/_io.py:140: UserWarning: /home/jiongyi/Documents/bead_motility/2019_02_19/45_min_100_nM_egfp_n_wasp_pwwca/470_egfp_27/470_egfp_27_MMStack.ome_segmentation.tif is a low contrast image\n",
      "  warn('%s is a low contrast image' % fname)\n",
      "/home/jiongyi/anaconda3/lib/python3.6/site-packages/skimage/io/_io.py:140: UserWarning: /home/jiongyi/Documents/bead_motility/2019_02_19/45_min_100_nM_egfp_n_wasp_pwwca/470_egfp_33/470_egfp_33_MMStack.ome_segmentation.tif is a low contrast image\n",
      "  warn('%s is a low contrast image' % fname)\n"
     ]
    },
    {
     "data": {
      "text/plain": [
       "Text(0.5, 1.0, '45 min 100 nM EGFP-N-WASP PWWCA')"
      ]
     },
     "execution_count": 6,
     "metadata": {},
     "output_type": "execute_result"
    },
    {
     "data": {
      "image/png": "[encoded data removed]",
      "text/plain": [
       "<Figure size 432x288 with 1 Axes>"
      ]
     },
     "metadata": {
      "needs_background": "light"
     },
     "output_type": "display_data"
    }
   ],
   "source": [
    "data_folder_path_str = '/home/jiongyi/Documents/bead_motility/2019_02_19/45_min_100_nM_egfp_n_wasp_pwwca'\n",
    "npf_intensity_row = measure_npf_density(data_folder_path_str)\n",
    "fig_handle, ax_handle = subplots()\n",
    "ax_handle.hist(npf_intensity_row)\n",
    "ax_handle.set_xlabel('Mean intensity (AU)')\n",
    "ax_handle.set_ylabel('Counts')\n",
    "ax_handle.set_title('45 min 100 nM EGFP-N-WASP PWWCA')"
   ]
  },
  {
   "cell_type": "code",
   "execution_count": 7,
   "metadata": {},
   "outputs": [
    {
     "name": "stderr",
     "output_type": "stream",
     "text": [
      "/home/jiongyi/anaconda3/lib/python3.6/site-packages/skimage/io/_io.py:140: UserWarning: /home/jiongyi/Documents/bead_motility/2019_02_19/inf_min_100_nM_egfp_wave_pwca/470_egfp_7/470_egfp_7_MMStack.ome_segmentation.tif is a low contrast image\n",
      "  warn('%s is a low contrast image' % fname)\n",
      "/home/jiongyi/anaconda3/lib/python3.6/site-packages/skimage/io/_io.py:140: UserWarning: /home/jiongyi/Documents/bead_motility/2019_02_19/inf_min_100_nM_egfp_wave_pwca/470_egfp_25/470_egfp_25_MMStack.ome_segmentation.tif is a low contrast image\n",
      "  warn('%s is a low contrast image' % fname)\n",
      "/home/jiongyi/anaconda3/lib/python3.6/site-packages/skimage/io/_io.py:140: UserWarning: /home/jiongyi/Documents/bead_motility/2019_02_19/inf_min_100_nM_egfp_wave_pwca/470_egfp_28/470_egfp_28_MMStack.ome_segmentation.tif is a low contrast image\n",
      "  warn('%s is a low contrast image' % fname)\n",
      "/home/jiongyi/anaconda3/lib/python3.6/site-packages/skimage/io/_io.py:140: UserWarning: /home/jiongyi/Documents/bead_motility/2019_02_19/inf_min_100_nM_egfp_wave_pwca/470_egfp_31/470_egfp_31_MMStack.ome_segmentation.tif is a low contrast image\n",
      "  warn('%s is a low contrast image' % fname)\n",
      "/home/jiongyi/anaconda3/lib/python3.6/site-packages/skimage/io/_io.py:140: UserWarning: /home/jiongyi/Documents/bead_motility/2019_02_19/inf_min_100_nM_egfp_wave_pwca/470_egfp_20/470_egfp_20_MMStack.ome_segmentation.tif is a low contrast image\n",
      "  warn('%s is a low contrast image' % fname)\n",
      "/home/jiongyi/anaconda3/lib/python3.6/site-packages/skimage/io/_io.py:140: UserWarning: /home/jiongyi/Documents/bead_motility/2019_02_19/inf_min_100_nM_egfp_wave_pwca/470_egfp_14/470_egfp_14_MMStack.ome_segmentation.tif is a low contrast image\n",
      "  warn('%s is a low contrast image' % fname)\n",
      "/home/jiongyi/anaconda3/lib/python3.6/site-packages/skimage/io/_io.py:140: UserWarning: /home/jiongyi/Documents/bead_motility/2019_02_19/inf_min_100_nM_egfp_wave_pwca/470_egfp_35/470_egfp_35_MMStack.ome_segmentation.tif is a low contrast image\n",
      "  warn('%s is a low contrast image' % fname)\n",
      "/home/jiongyi/anaconda3/lib/python3.6/site-packages/skimage/io/_io.py:140: UserWarning: /home/jiongyi/Documents/bead_motility/2019_02_19/inf_min_100_nM_egfp_wave_pwca/470_egfp_23/470_egfp_23_MMStack.ome_segmentation.tif is a low contrast image\n",
      "  warn('%s is a low contrast image' % fname)\n",
      "/home/jiongyi/anaconda3/lib/python3.6/site-packages/skimage/io/_io.py:140: UserWarning: /home/jiongyi/Documents/bead_motility/2019_02_19/inf_min_100_nM_egfp_wave_pwca/470_egfp_9/470_egfp_9_MMStack.ome_segmentation.tif is a low contrast image\n",
      "  warn('%s is a low contrast image' % fname)\n",
      "/home/jiongyi/anaconda3/lib/python3.6/site-packages/skimage/io/_io.py:140: UserWarning: /home/jiongyi/Documents/bead_motility/2019_02_19/inf_min_100_nM_egfp_wave_pwca/470_egfp_15/470_egfp_15_MMStack.ome_segmentation.tif is a low contrast image\n",
      "  warn('%s is a low contrast image' % fname)\n",
      "/home/jiongyi/anaconda3/lib/python3.6/site-packages/skimage/io/_io.py:140: UserWarning: /home/jiongyi/Documents/bead_motility/2019_02_19/inf_min_100_nM_egfp_wave_pwca/470_egfp_2/470_egfp_2_MMStack.ome_segmentation.tif is a low contrast image\n",
      "  warn('%s is a low contrast image' % fname)\n",
      "/home/jiongyi/anaconda3/lib/python3.6/site-packages/skimage/io/_io.py:140: UserWarning: /home/jiongyi/Documents/bead_motility/2019_02_19/inf_min_100_nM_egfp_wave_pwca/470_egfp_13/470_egfp_13_MMStack.ome_segmentation.tif is a low contrast image\n",
      "  warn('%s is a low contrast image' % fname)\n",
      "/home/jiongyi/anaconda3/lib/python3.6/site-packages/skimage/io/_io.py:140: UserWarning: /home/jiongyi/Documents/bead_motility/2019_02_19/inf_min_100_nM_egfp_wave_pwca/470_egfp_26/470_egfp_26_MMStack.ome_segmentation.tif is a low contrast image\n",
      "  warn('%s is a low contrast image' % fname)\n",
      "/home/jiongyi/anaconda3/lib/python3.6/site-packages/skimage/io/_io.py:140: UserWarning: /home/jiongyi/Documents/bead_motility/2019_02_19/inf_min_100_nM_egfp_wave_pwca/470_egfp_29/470_egfp_29_MMStack.ome_segmentation.tif is a low contrast image\n",
      "  warn('%s is a low contrast image' % fname)\n",
      "/home/jiongyi/anaconda3/lib/python3.6/site-packages/skimage/io/_io.py:140: UserWarning: /home/jiongyi/Documents/bead_motility/2019_02_19/inf_min_100_nM_egfp_wave_pwca/470_egfp_11/470_egfp_11_MMStack.ome_segmentation.tif is a low contrast image\n",
      "  warn('%s is a low contrast image' % fname)\n",
      "/home/jiongyi/anaconda3/lib/python3.6/site-packages/skimage/io/_io.py:140: UserWarning: /home/jiongyi/Documents/bead_motility/2019_02_19/inf_min_100_nM_egfp_wave_pwca/470_egfp_3/470_egfp_3_MMStack.ome_segmentation.tif is a low contrast image\n",
      "  warn('%s is a low contrast image' % fname)\n",
      "/home/jiongyi/anaconda3/lib/python3.6/site-packages/skimage/io/_io.py:140: UserWarning: /home/jiongyi/Documents/bead_motility/2019_02_19/inf_min_100_nM_egfp_wave_pwca/470_egfp_5/470_egfp_5_MMStack.ome_segmentation.tif is a low contrast image\n",
      "  warn('%s is a low contrast image' % fname)\n",
      "/home/jiongyi/anaconda3/lib/python3.6/site-packages/skimage/io/_io.py:140: UserWarning: /home/jiongyi/Documents/bead_motility/2019_02_19/inf_min_100_nM_egfp_wave_pwca/470_egfp_36/470_egfp_36_MMStack.ome_segmentation.tif is a low contrast image\n",
      "  warn('%s is a low contrast image' % fname)\n",
      "/home/jiongyi/anaconda3/lib/python3.6/site-packages/skimage/io/_io.py:140: UserWarning: /home/jiongyi/Documents/bead_motility/2019_02_19/inf_min_100_nM_egfp_wave_pwca/470_egfp_32/470_egfp_32_MMStack.ome_segmentation.tif is a low contrast image\n",
      "  warn('%s is a low contrast image' % fname)\n",
      "/home/jiongyi/anaconda3/lib/python3.6/site-packages/skimage/io/_io.py:140: UserWarning: /home/jiongyi/Documents/bead_motility/2019_02_19/inf_min_100_nM_egfp_wave_pwca/470_egfp_34/470_egfp_34_MMStack.ome_segmentation.tif is a low contrast image\n",
      "  warn('%s is a low contrast image' % fname)\n",
      "/home/jiongyi/anaconda3/lib/python3.6/site-packages/skimage/io/_io.py:140: UserWarning: /home/jiongyi/Documents/bead_motility/2019_02_19/inf_min_100_nM_egfp_wave_pwca/470_egfp_4/470_egfp_4_MMStack.ome_segmentation.tif is a low contrast image\n",
      "  warn('%s is a low contrast image' % fname)\n",
      "/home/jiongyi/anaconda3/lib/python3.6/site-packages/skimage/io/_io.py:140: UserWarning: /home/jiongyi/Documents/bead_motility/2019_02_19/inf_min_100_nM_egfp_wave_pwca/470_egfp_8/470_egfp_8_MMStack.ome_segmentation.tif is a low contrast image\n",
      "  warn('%s is a low contrast image' % fname)\n",
      "/home/jiongyi/anaconda3/lib/python3.6/site-packages/skimage/io/_io.py:140: UserWarning: /home/jiongyi/Documents/bead_motility/2019_02_19/inf_min_100_nM_egfp_wave_pwca/470_egfp_10/470_egfp_10_MMStack.ome_segmentation.tif is a low contrast image\n",
      "  warn('%s is a low contrast image' % fname)\n",
      "/home/jiongyi/anaconda3/lib/python3.6/site-packages/skimage/io/_io.py:140: UserWarning: /home/jiongyi/Documents/bead_motility/2019_02_19/inf_min_100_nM_egfp_wave_pwca/470_egfp_37/470_egfp_37_MMStack.ome_segmentation.tif is a low contrast image\n",
      "  warn('%s is a low contrast image' % fname)\n",
      "/home/jiongyi/anaconda3/lib/python3.6/site-packages/skimage/io/_io.py:140: UserWarning: /home/jiongyi/Documents/bead_motility/2019_02_19/inf_min_100_nM_egfp_wave_pwca/470_egfp_12/470_egfp_12_MMStack.ome_segmentation.tif is a low contrast image\n",
      "  warn('%s is a low contrast image' % fname)\n",
      "/home/jiongyi/anaconda3/lib/python3.6/site-packages/skimage/io/_io.py:140: UserWarning: /home/jiongyi/Documents/bead_motility/2019_02_19/inf_min_100_nM_egfp_wave_pwca/470_egfp_24/470_egfp_24_MMStack.ome_segmentation.tif is a low contrast image\n",
      "  warn('%s is a low contrast image' % fname)\n",
      "/home/jiongyi/anaconda3/lib/python3.6/site-packages/skimage/io/_io.py:140: UserWarning: /home/jiongyi/Documents/bead_motility/2019_02_19/inf_min_100_nM_egfp_wave_pwca/470_egfp_22/470_egfp_22_MMStack.ome_segmentation.tif is a low contrast image\n",
      "  warn('%s is a low contrast image' % fname)\n",
      "/home/jiongyi/anaconda3/lib/python3.6/site-packages/skimage/io/_io.py:140: UserWarning: /home/jiongyi/Documents/bead_motility/2019_02_19/inf_min_100_nM_egfp_wave_pwca/470_egfp_21/470_egfp_21_MMStack.ome_segmentation.tif is a low contrast image\n",
      "  warn('%s is a low contrast image' % fname)\n",
      "/home/jiongyi/anaconda3/lib/python3.6/site-packages/skimage/io/_io.py:140: UserWarning: /home/jiongyi/Documents/bead_motility/2019_02_19/inf_min_100_nM_egfp_wave_pwca/470_egfp_18/470_egfp_18_MMStack.ome_segmentation.tif is a low contrast image\n",
      "  warn('%s is a low contrast image' % fname)\n",
      "/home/jiongyi/anaconda3/lib/python3.6/site-packages/skimage/io/_io.py:140: UserWarning: /home/jiongyi/Documents/bead_motility/2019_02_19/inf_min_100_nM_egfp_wave_pwca/470_egfp_6/470_egfp_6_MMStack.ome_segmentation.tif is a low contrast image\n",
      "  warn('%s is a low contrast image' % fname)\n",
      "/home/jiongyi/anaconda3/lib/python3.6/site-packages/skimage/io/_io.py:140: UserWarning: /home/jiongyi/Documents/bead_motility/2019_02_19/inf_min_100_nM_egfp_wave_pwca/470_egfp_16/470_egfp_16_MMStack.ome_segmentation.tif is a low contrast image\n",
      "  warn('%s is a low contrast image' % fname)\n",
      "/home/jiongyi/anaconda3/lib/python3.6/site-packages/skimage/io/_io.py:140: UserWarning: /home/jiongyi/Documents/bead_motility/2019_02_19/inf_min_100_nM_egfp_wave_pwca/470_egfp_30/470_egfp_30_MMStack.ome_segmentation.tif is a low contrast image\n",
      "  warn('%s is a low contrast image' % fname)\n",
      "/home/jiongyi/anaconda3/lib/python3.6/site-packages/skimage/io/_io.py:140: UserWarning: /home/jiongyi/Documents/bead_motility/2019_02_19/inf_min_100_nM_egfp_wave_pwca/470_egfp_19/470_egfp_19_MMStack.ome_segmentation.tif is a low contrast image\n",
      "  warn('%s is a low contrast image' % fname)\n",
      "/home/jiongyi/anaconda3/lib/python3.6/site-packages/skimage/io/_io.py:140: UserWarning: /home/jiongyi/Documents/bead_motility/2019_02_19/inf_min_100_nM_egfp_wave_pwca/470_egfp_17/470_egfp_17_MMStack.ome_segmentation.tif is a low contrast image\n",
      "  warn('%s is a low contrast image' % fname)\n",
      "/home/jiongyi/anaconda3/lib/python3.6/site-packages/skimage/io/_io.py:140: UserWarning: /home/jiongyi/Documents/bead_motility/2019_02_19/inf_min_100_nM_egfp_wave_pwca/470_egfp_27/470_egfp_27_MMStack.ome_segmentation.tif is a low contrast image\n",
      "  warn('%s is a low contrast image' % fname)\n",
      "/home/jiongyi/anaconda3/lib/python3.6/site-packages/skimage/io/_io.py:140: UserWarning: /home/jiongyi/Documents/bead_motility/2019_02_19/inf_min_100_nM_egfp_wave_pwca/470_egfp_1/470_egfp_1_MMStack.ome_segmentation.tif is a low contrast image\n",
      "  warn('%s is a low contrast image' % fname)\n",
      "/home/jiongyi/anaconda3/lib/python3.6/site-packages/skimage/io/_io.py:140: UserWarning: /home/jiongyi/Documents/bead_motility/2019_02_19/inf_min_100_nM_egfp_wave_pwca/470_egfp_33/470_egfp_33_MMStack.ome_segmentation.tif is a low contrast image\n",
      "  warn('%s is a low contrast image' % fname)\n"
     ]
    },
    {
     "data": {
      "text/plain": [
       "Text(0.5, 1.0, '>45 min 100 nM EGFP-WAVE PWCA')"
      ]
     },
     "execution_count": 7,
     "metadata": {},
     "output_type": "execute_result"
    },
    {
     "data": {
      "image/png": "[encoded data removed]",
      "text/plain": [
       "<Figure size 432x288 with 1 Axes>"
      ]
     },
     "metadata": {
      "needs_background": "light"
     },
     "output_type": "display_data"
    }
   ],
   "source": [
    "data_folder_path_str = '/home/jiongyi/Documents/bead_motility/2019_02_19/inf_min_100_nM_egfp_wave_pwca'\n",
    "npf_intensity_row = measure_npf_density(data_folder_path_str)\n",
    "fig_handle, ax_handle = subplots()\n",
    "ax_handle.hist(npf_intensity_row)\n",
    "ax_handle.set_xlabel('Mean intensity (AU)')\n",
    "ax_handle.set_ylabel('Counts')\n",
    "ax_handle.set_title('>45 min 100 nM EGFP-WAVE PWCA')"
   ]
  },
  {
   "cell_type": "code",
   "execution_count": 8,
   "metadata": {},
   "outputs": [
    {
     "name": "stderr",
     "output_type": "stream",
     "text": [
      "/home/jiongyi/anaconda3/lib/python3.6/site-packages/skimage/io/_io.py:140: UserWarning: /home/jiongyi/Documents/bead_motility/2019_02_19/inf_90_min_100_nM_egfp_n_wasp_pwwca/470_egfp_45/470_egfp_45_MMStack.ome_segmentation.tif is a low contrast image\n",
      "  warn('%s is a low contrast image' % fname)\n",
      "/home/jiongyi/anaconda3/lib/python3.6/site-packages/skimage/io/_io.py:140: UserWarning: /home/jiongyi/Documents/bead_motility/2019_02_19/inf_90_min_100_nM_egfp_n_wasp_pwwca/470_egfp_46/470_egfp_46_MMStack.ome_segmentation.tif is a low contrast image\n",
      "  warn('%s is a low contrast image' % fname)\n",
      "/home/jiongyi/anaconda3/lib/python3.6/site-packages/skimage/io/_io.py:140: UserWarning: /home/jiongyi/Documents/bead_motility/2019_02_19/inf_90_min_100_nM_egfp_n_wasp_pwwca/470_egfp_7/470_egfp_7_MMStack.ome_segmentation.tif is a low contrast image\n",
      "  warn('%s is a low contrast image' % fname)\n",
      "/home/jiongyi/anaconda3/lib/python3.6/site-packages/skimage/io/_io.py:140: UserWarning: /home/jiongyi/Documents/bead_motility/2019_02_19/inf_90_min_100_nM_egfp_n_wasp_pwwca/470_egfp_25/470_egfp_25_MMStack.ome_segmentation.tif is a low contrast image\n",
      "  warn('%s is a low contrast image' % fname)\n",
      "/home/jiongyi/anaconda3/lib/python3.6/site-packages/skimage/io/_io.py:140: UserWarning: /home/jiongyi/Documents/bead_motility/2019_02_19/inf_90_min_100_nM_egfp_n_wasp_pwwca/470_egfp_40/470_egfp_40_MMStack.ome_segmentation.tif is a low contrast image\n",
      "  warn('%s is a low contrast image' % fname)\n",
      "/home/jiongyi/anaconda3/lib/python3.6/site-packages/skimage/io/_io.py:140: UserWarning: /home/jiongyi/Documents/bead_motility/2019_02_19/inf_90_min_100_nM_egfp_n_wasp_pwwca/470_egfp_28/470_egfp_28_MMStack.ome_segmentation.tif is a low contrast image\n",
      "  warn('%s is a low contrast image' % fname)\n",
      "/home/jiongyi/anaconda3/lib/python3.6/site-packages/skimage/io/_io.py:140: UserWarning: /home/jiongyi/Documents/bead_motility/2019_02_19/inf_90_min_100_nM_egfp_n_wasp_pwwca/470_egfp_31/470_egfp_31_MMStack.ome_segmentation.tif is a low contrast image\n",
      "  warn('%s is a low contrast image' % fname)\n",
      "/home/jiongyi/anaconda3/lib/python3.6/site-packages/skimage/io/_io.py:140: UserWarning: /home/jiongyi/Documents/bead_motility/2019_02_19/inf_90_min_100_nM_egfp_n_wasp_pwwca/470_egfp_20/470_egfp_20_MMStack.ome_segmentation.tif is a low contrast image\n",
      "  warn('%s is a low contrast image' % fname)\n",
      "/home/jiongyi/anaconda3/lib/python3.6/site-packages/skimage/io/_io.py:140: UserWarning: /home/jiongyi/Documents/bead_motility/2019_02_19/inf_90_min_100_nM_egfp_n_wasp_pwwca/470_egfp_14/470_egfp_14_MMStack.ome_segmentation.tif is a low contrast image\n",
      "  warn('%s is a low contrast image' % fname)\n",
      "/home/jiongyi/anaconda3/lib/python3.6/site-packages/skimage/io/_io.py:140: UserWarning: /home/jiongyi/Documents/bead_motility/2019_02_19/inf_90_min_100_nM_egfp_n_wasp_pwwca/470_egfp_35/470_egfp_35_MMStack.ome_segmentation.tif is a low contrast image\n",
      "  warn('%s is a low contrast image' % fname)\n",
      "/home/jiongyi/anaconda3/lib/python3.6/site-packages/skimage/io/_io.py:140: UserWarning: /home/jiongyi/Documents/bead_motility/2019_02_19/inf_90_min_100_nM_egfp_n_wasp_pwwca/470_egfp_23/470_egfp_23_MMStack.ome_segmentation.tif is a low contrast image\n",
      "  warn('%s is a low contrast image' % fname)\n",
      "/home/jiongyi/anaconda3/lib/python3.6/site-packages/skimage/io/_io.py:140: UserWarning: /home/jiongyi/Documents/bead_motility/2019_02_19/inf_90_min_100_nM_egfp_n_wasp_pwwca/470_egfp_9/470_egfp_9_MMStack.ome_segmentation.tif is a low contrast image\n",
      "  warn('%s is a low contrast image' % fname)\n",
      "/home/jiongyi/anaconda3/lib/python3.6/site-packages/skimage/io/_io.py:140: UserWarning: /home/jiongyi/Documents/bead_motility/2019_02_19/inf_90_min_100_nM_egfp_n_wasp_pwwca/470_egfp_15/470_egfp_15_MMStack.ome_segmentation.tif is a low contrast image\n",
      "  warn('%s is a low contrast image' % fname)\n",
      "/home/jiongyi/anaconda3/lib/python3.6/site-packages/skimage/io/_io.py:140: UserWarning: /home/jiongyi/Documents/bead_motility/2019_02_19/inf_90_min_100_nM_egfp_n_wasp_pwwca/470_egfp_2/470_egfp_2_MMStack.ome_segmentation.tif is a low contrast image\n",
      "  warn('%s is a low contrast image' % fname)\n",
      "/home/jiongyi/anaconda3/lib/python3.6/site-packages/skimage/io/_io.py:140: UserWarning: /home/jiongyi/Documents/bead_motility/2019_02_19/inf_90_min_100_nM_egfp_n_wasp_pwwca/470_egfp_13/470_egfp_13_MMStack.ome_segmentation.tif is a low contrast image\n",
      "  warn('%s is a low contrast image' % fname)\n",
      "/home/jiongyi/anaconda3/lib/python3.6/site-packages/skimage/io/_io.py:140: UserWarning: /home/jiongyi/Documents/bead_motility/2019_02_19/inf_90_min_100_nM_egfp_n_wasp_pwwca/470_egfp_26/470_egfp_26_MMStack.ome_segmentation.tif is a low contrast image\n",
      "  warn('%s is a low contrast image' % fname)\n",
      "/home/jiongyi/anaconda3/lib/python3.6/site-packages/skimage/io/_io.py:140: UserWarning: /home/jiongyi/Documents/bead_motility/2019_02_19/inf_90_min_100_nM_egfp_n_wasp_pwwca/470_egfp_29/470_egfp_29_MMStack.ome_segmentation.tif is a low contrast image\n",
      "  warn('%s is a low contrast image' % fname)\n",
      "/home/jiongyi/anaconda3/lib/python3.6/site-packages/skimage/io/_io.py:140: UserWarning: /home/jiongyi/Documents/bead_motility/2019_02_19/inf_90_min_100_nM_egfp_n_wasp_pwwca/470_egfp_43/470_egfp_43_MMStack.ome_segmentation.tif is a low contrast image\n",
      "  warn('%s is a low contrast image' % fname)\n",
      "/home/jiongyi/anaconda3/lib/python3.6/site-packages/skimage/io/_io.py:140: UserWarning: /home/jiongyi/Documents/bead_motility/2019_02_19/inf_90_min_100_nM_egfp_n_wasp_pwwca/470_egfp_11/470_egfp_11_MMStack.ome_segmentation.tif is a low contrast image\n",
      "  warn('%s is a low contrast image' % fname)\n",
      "/home/jiongyi/anaconda3/lib/python3.6/site-packages/skimage/io/_io.py:140: UserWarning: /home/jiongyi/Documents/bead_motility/2019_02_19/inf_90_min_100_nM_egfp_n_wasp_pwwca/470_egfp_3/470_egfp_3_MMStack.ome_segmentation.tif is a low contrast image\n",
      "  warn('%s is a low contrast image' % fname)\n",
      "/home/jiongyi/anaconda3/lib/python3.6/site-packages/skimage/io/_io.py:140: UserWarning: /home/jiongyi/Documents/bead_motility/2019_02_19/inf_90_min_100_nM_egfp_n_wasp_pwwca/470_egfp_5/470_egfp_5_MMStack.ome_segmentation.tif is a low contrast image\n",
      "  warn('%s is a low contrast image' % fname)\n",
      "/home/jiongyi/anaconda3/lib/python3.6/site-packages/skimage/io/_io.py:140: UserWarning: /home/jiongyi/Documents/bead_motility/2019_02_19/inf_90_min_100_nM_egfp_n_wasp_pwwca/470_egfp_36/470_egfp_36_MMStack.ome_segmentation.tif is a low contrast image\n",
      "  warn('%s is a low contrast image' % fname)\n",
      "/home/jiongyi/anaconda3/lib/python3.6/site-packages/skimage/io/_io.py:140: UserWarning: /home/jiongyi/Documents/bead_motility/2019_02_19/inf_90_min_100_nM_egfp_n_wasp_pwwca/470_egfp_39/470_egfp_39_MMStack.ome_segmentation.tif is a low contrast image\n",
      "  warn('%s is a low contrast image' % fname)\n",
      "/home/jiongyi/anaconda3/lib/python3.6/site-packages/skimage/io/_io.py:140: UserWarning: /home/jiongyi/Documents/bead_motility/2019_02_19/inf_90_min_100_nM_egfp_n_wasp_pwwca/470_egfp_32/470_egfp_32_MMStack.ome_segmentation.tif is a low contrast image\n",
      "  warn('%s is a low contrast image' % fname)\n",
      "/home/jiongyi/anaconda3/lib/python3.6/site-packages/skimage/io/_io.py:140: UserWarning: /home/jiongyi/Documents/bead_motility/2019_02_19/inf_90_min_100_nM_egfp_n_wasp_pwwca/470_egfp_34/470_egfp_34_MMStack.ome_segmentation.tif is a low contrast image\n",
      "  warn('%s is a low contrast image' % fname)\n",
      "/home/jiongyi/anaconda3/lib/python3.6/site-packages/skimage/io/_io.py:140: UserWarning: /home/jiongyi/Documents/bead_motility/2019_02_19/inf_90_min_100_nM_egfp_n_wasp_pwwca/470_egfp_47/470_egfp_47_MMStack.ome_segmentation.tif is a low contrast image\n",
      "  warn('%s is a low contrast image' % fname)\n",
      "/home/jiongyi/anaconda3/lib/python3.6/site-packages/skimage/io/_io.py:140: UserWarning: /home/jiongyi/Documents/bead_motility/2019_02_19/inf_90_min_100_nM_egfp_n_wasp_pwwca/470_egfp_4/470_egfp_4_MMStack.ome_segmentation.tif is a low contrast image\n",
      "  warn('%s is a low contrast image' % fname)\n",
      "/home/jiongyi/anaconda3/lib/python3.6/site-packages/skimage/io/_io.py:140: UserWarning: /home/jiongyi/Documents/bead_motility/2019_02_19/inf_90_min_100_nM_egfp_n_wasp_pwwca/470_egfp_44/470_egfp_44_MMStack.ome_segmentation.tif is a low contrast image\n",
      "  warn('%s is a low contrast image' % fname)\n",
      "/home/jiongyi/anaconda3/lib/python3.6/site-packages/skimage/io/_io.py:140: UserWarning: /home/jiongyi/Documents/bead_motility/2019_02_19/inf_90_min_100_nM_egfp_n_wasp_pwwca/470_egfp_42/470_egfp_42_MMStack.ome_segmentation.tif is a low contrast image\n",
      "  warn('%s is a low contrast image' % fname)\n",
      "/home/jiongyi/anaconda3/lib/python3.6/site-packages/skimage/io/_io.py:140: UserWarning: /home/jiongyi/Documents/bead_motility/2019_02_19/inf_90_min_100_nM_egfp_n_wasp_pwwca/470_egfp_8/470_egfp_8_MMStack.ome_segmentation.tif is a low contrast image\n",
      "  warn('%s is a low contrast image' % fname)\n",
      "/home/jiongyi/anaconda3/lib/python3.6/site-packages/skimage/io/_io.py:140: UserWarning: /home/jiongyi/Documents/bead_motility/2019_02_19/inf_90_min_100_nM_egfp_n_wasp_pwwca/470_egfp_10/470_egfp_10_MMStack.ome_segmentation.tif is a low contrast image\n",
      "  warn('%s is a low contrast image' % fname)\n",
      "/home/jiongyi/anaconda3/lib/python3.6/site-packages/skimage/io/_io.py:140: UserWarning: /home/jiongyi/Documents/bead_motility/2019_02_19/inf_90_min_100_nM_egfp_n_wasp_pwwca/470_egfp_37/470_egfp_37_MMStack.ome_segmentation.tif is a low contrast image\n",
      "  warn('%s is a low contrast image' % fname)\n",
      "/home/jiongyi/anaconda3/lib/python3.6/site-packages/skimage/io/_io.py:140: UserWarning: /home/jiongyi/Documents/bead_motility/2019_02_19/inf_90_min_100_nM_egfp_n_wasp_pwwca/470_egfp_12/470_egfp_12_MMStack.ome_segmentation.tif is a low contrast image\n",
      "  warn('%s is a low contrast image' % fname)\n",
      "/home/jiongyi/anaconda3/lib/python3.6/site-packages/skimage/io/_io.py:140: UserWarning: /home/jiongyi/Documents/bead_motility/2019_02_19/inf_90_min_100_nM_egfp_n_wasp_pwwca/470_egfp_24/470_egfp_24_MMStack.ome_segmentation.tif is a low contrast image\n",
      "  warn('%s is a low contrast image' % fname)\n",
      "/home/jiongyi/anaconda3/lib/python3.6/site-packages/skimage/io/_io.py:140: UserWarning: /home/jiongyi/Documents/bead_motility/2019_02_19/inf_90_min_100_nM_egfp_n_wasp_pwwca/470_egfp_22/470_egfp_22_MMStack.ome_segmentation.tif is a low contrast image\n",
      "  warn('%s is a low contrast image' % fname)\n",
      "/home/jiongyi/anaconda3/lib/python3.6/site-packages/skimage/io/_io.py:140: UserWarning: /home/jiongyi/Documents/bead_motility/2019_02_19/inf_90_min_100_nM_egfp_n_wasp_pwwca/470_egfp_21/470_egfp_21_MMStack.ome_segmentation.tif is a low contrast image\n",
      "  warn('%s is a low contrast image' % fname)\n",
      "/home/jiongyi/anaconda3/lib/python3.6/site-packages/skimage/io/_io.py:140: UserWarning: /home/jiongyi/Documents/bead_motility/2019_02_19/inf_90_min_100_nM_egfp_n_wasp_pwwca/470_egfp_18/470_egfp_18_MMStack.ome_segmentation.tif is a low contrast image\n",
      "  warn('%s is a low contrast image' % fname)\n",
      "/home/jiongyi/anaconda3/lib/python3.6/site-packages/skimage/io/_io.py:140: UserWarning: /home/jiongyi/Documents/bead_motility/2019_02_19/inf_90_min_100_nM_egfp_n_wasp_pwwca/470_egfp_38/470_egfp_38_MMStack.ome_segmentation.tif is a low contrast image\n",
      "  warn('%s is a low contrast image' % fname)\n",
      "/home/jiongyi/anaconda3/lib/python3.6/site-packages/skimage/io/_io.py:140: UserWarning: /home/jiongyi/Documents/bead_motility/2019_02_19/inf_90_min_100_nM_egfp_n_wasp_pwwca/470_egfp_16/470_egfp_16_MMStack.ome_segmentation.tif is a low contrast image\n",
      "  warn('%s is a low contrast image' % fname)\n",
      "/home/jiongyi/anaconda3/lib/python3.6/site-packages/skimage/io/_io.py:140: UserWarning: /home/jiongyi/Documents/bead_motility/2019_02_19/inf_90_min_100_nM_egfp_n_wasp_pwwca/470_egfp_48/470_egfp_48_MMStack.ome_segmentation.tif is a low contrast image\n",
      "  warn('%s is a low contrast image' % fname)\n",
      "/home/jiongyi/anaconda3/lib/python3.6/site-packages/skimage/io/_io.py:140: UserWarning: /home/jiongyi/Documents/bead_motility/2019_02_19/inf_90_min_100_nM_egfp_n_wasp_pwwca/470_egfp_30/470_egfp_30_MMStack.ome_segmentation.tif is a low contrast image\n",
      "  warn('%s is a low contrast image' % fname)\n",
      "/home/jiongyi/anaconda3/lib/python3.6/site-packages/skimage/io/_io.py:140: UserWarning: /home/jiongyi/Documents/bead_motility/2019_02_19/inf_90_min_100_nM_egfp_n_wasp_pwwca/470_egfp_41/470_egfp_41_MMStack.ome_segmentation.tif is a low contrast image\n",
      "  warn('%s is a low contrast image' % fname)\n",
      "/home/jiongyi/anaconda3/lib/python3.6/site-packages/skimage/io/_io.py:140: UserWarning: /home/jiongyi/Documents/bead_motility/2019_02_19/inf_90_min_100_nM_egfp_n_wasp_pwwca/470_egfp_19/470_egfp_19_MMStack.ome_segmentation.tif is a low contrast image\n",
      "  warn('%s is a low contrast image' % fname)\n",
      "/home/jiongyi/anaconda3/lib/python3.6/site-packages/skimage/io/_io.py:140: UserWarning: /home/jiongyi/Documents/bead_motility/2019_02_19/inf_90_min_100_nM_egfp_n_wasp_pwwca/470_egfp_17/470_egfp_17_MMStack.ome_segmentation.tif is a low contrast image\n",
      "  warn('%s is a low contrast image' % fname)\n",
      "/home/jiongyi/anaconda3/lib/python3.6/site-packages/skimage/io/_io.py:140: UserWarning: /home/jiongyi/Documents/bead_motility/2019_02_19/inf_90_min_100_nM_egfp_n_wasp_pwwca/470_egfp_27/470_egfp_27_MMStack.ome_segmentation.tif is a low contrast image\n",
      "  warn('%s is a low contrast image' % fname)\n",
      "/home/jiongyi/anaconda3/lib/python3.6/site-packages/skimage/io/_io.py:140: UserWarning: /home/jiongyi/Documents/bead_motility/2019_02_19/inf_90_min_100_nM_egfp_n_wasp_pwwca/470_egfp_1/470_egfp_1_MMStack.ome_segmentation.tif is a low contrast image\n",
      "  warn('%s is a low contrast image' % fname)\n",
      "/home/jiongyi/anaconda3/lib/python3.6/site-packages/skimage/io/_io.py:140: UserWarning: /home/jiongyi/Documents/bead_motility/2019_02_19/inf_90_min_100_nM_egfp_n_wasp_pwwca/470_egfp_33/470_egfp_33_MMStack.ome_segmentation.tif is a low contrast image\n",
      "  warn('%s is a low contrast image' % fname)\n"
     ]
    },
    {
     "data": {
      "text/plain": [
       "Text(0.5, 1.0, '100 min 100 nM EGFP-N-WASP PWWCA')"
      ]
     },
     "execution_count": 8,
     "metadata": {},
     "output_type": "execute_result"
    },
    {
     "data": {
      "image/png": "[encoded data removed]",
      "text/plain": [
       "<Figure size 432x288 with 1 Axes>"
      ]
     },
     "metadata": {
      "needs_background": "light"
     },
     "output_type": "display_data"
    }
   ],
   "source": [
    "data_folder_path_str = '/home/jiongyi/Documents/bead_motility/2019_02_19/inf_90_min_100_nM_egfp_n_wasp_pwwca'\n",
    "npf_intensity_row = measure_npf_density(data_folder_path_str)\n",
    "fig_handle, ax_handle = subplots()\n",
    "ax_handle.hist(npf_intensity_row)\n",
    "ax_handle.set_xlabel('Mean intensity (AU)')\n",
    "ax_handle.set_ylabel('Counts')\n",
    "ax_handle.set_title('100 min 100 nM EGFP-N-WASP PWWCA')"
   ]
  },
  {
   "cell_type": "code",
   "execution_count": 9,
   "metadata": {},
   "outputs": [
    {
     "name": "stderr",
     "output_type": "stream",
     "text": [
      "/home/jiongyi/anaconda3/lib/python3.6/site-packages/skimage/io/_io.py:140: UserWarning: /home/jiongyi/Documents/bead_motility/2019_02_19/15_min_100_nM_egfp_wave_pwca_proline/470_egfp_45/470_egfp_45_MMStack.ome_segmentation.tif is a low contrast image\n",
      "  warn('%s is a low contrast image' % fname)\n",
      "/home/jiongyi/anaconda3/lib/python3.6/site-packages/skimage/io/_io.py:140: UserWarning: /home/jiongyi/Documents/bead_motility/2019_02_19/15_min_100_nM_egfp_wave_pwca_proline/470_egfp_46/470_egfp_46_MMStack.ome_segmentation.tif is a low contrast image\n",
      "  warn('%s is a low contrast image' % fname)\n",
      "/home/jiongyi/anaconda3/lib/python3.6/site-packages/skimage/io/_io.py:140: UserWarning: /home/jiongyi/Documents/bead_motility/2019_02_19/15_min_100_nM_egfp_wave_pwca_proline/470_egfp_7/470_egfp_7_MMStack.ome_segmentation.tif is a low contrast image\n",
      "  warn('%s is a low contrast image' % fname)\n",
      "/home/jiongyi/anaconda3/lib/python3.6/site-packages/skimage/io/_io.py:140: UserWarning: /home/jiongyi/Documents/bead_motility/2019_02_19/15_min_100_nM_egfp_wave_pwca_proline/470_egfp_49/470_egfp_49_MMStack.ome_segmentation.tif is a low contrast image\n",
      "  warn('%s is a low contrast image' % fname)\n",
      "/home/jiongyi/anaconda3/lib/python3.6/site-packages/skimage/io/_io.py:140: UserWarning: /home/jiongyi/Documents/bead_motility/2019_02_19/15_min_100_nM_egfp_wave_pwca_proline/470_egfp_25/470_egfp_25_MMStack.ome_segmentation.tif is a low contrast image\n",
      "  warn('%s is a low contrast image' % fname)\n",
      "/home/jiongyi/anaconda3/lib/python3.6/site-packages/skimage/io/_io.py:140: UserWarning: /home/jiongyi/Documents/bead_motility/2019_02_19/15_min_100_nM_egfp_wave_pwca_proline/470_egfp_40/470_egfp_40_MMStack.ome_segmentation.tif is a low contrast image\n",
      "  warn('%s is a low contrast image' % fname)\n",
      "/home/jiongyi/anaconda3/lib/python3.6/site-packages/skimage/io/_io.py:140: UserWarning: /home/jiongyi/Documents/bead_motility/2019_02_19/15_min_100_nM_egfp_wave_pwca_proline/470_egfp_28/470_egfp_28_MMStack.ome_segmentation.tif is a low contrast image\n",
      "  warn('%s is a low contrast image' % fname)\n",
      "/home/jiongyi/anaconda3/lib/python3.6/site-packages/skimage/io/_io.py:140: UserWarning: /home/jiongyi/Documents/bead_motility/2019_02_19/15_min_100_nM_egfp_wave_pwca_proline/470_egfp_31/470_egfp_31_MMStack.ome_segmentation.tif is a low contrast image\n",
      "  warn('%s is a low contrast image' % fname)\n",
      "/home/jiongyi/anaconda3/lib/python3.6/site-packages/skimage/io/_io.py:140: UserWarning: /home/jiongyi/Documents/bead_motility/2019_02_19/15_min_100_nM_egfp_wave_pwca_proline/470_egfp_20/470_egfp_20_MMStack.ome_segmentation.tif is a low contrast image\n",
      "  warn('%s is a low contrast image' % fname)\n",
      "/home/jiongyi/anaconda3/lib/python3.6/site-packages/skimage/io/_io.py:140: UserWarning: /home/jiongyi/Documents/bead_motility/2019_02_19/15_min_100_nM_egfp_wave_pwca_proline/470_egfp_14/470_egfp_14_MMStack.ome_segmentation.tif is a low contrast image\n",
      "  warn('%s is a low contrast image' % fname)\n",
      "/home/jiongyi/anaconda3/lib/python3.6/site-packages/skimage/io/_io.py:140: UserWarning: /home/jiongyi/Documents/bead_motility/2019_02_19/15_min_100_nM_egfp_wave_pwca_proline/470_egfp_35/470_egfp_35_MMStack.ome_segmentation.tif is a low contrast image\n",
      "  warn('%s is a low contrast image' % fname)\n",
      "/home/jiongyi/anaconda3/lib/python3.6/site-packages/skimage/io/_io.py:140: UserWarning: /home/jiongyi/Documents/bead_motility/2019_02_19/15_min_100_nM_egfp_wave_pwca_proline/470_egfp_23/470_egfp_23_MMStack.ome_segmentation.tif is a low contrast image\n",
      "  warn('%s is a low contrast image' % fname)\n",
      "/home/jiongyi/anaconda3/lib/python3.6/site-packages/skimage/io/_io.py:140: UserWarning: /home/jiongyi/Documents/bead_motility/2019_02_19/15_min_100_nM_egfp_wave_pwca_proline/470_egfp_9/470_egfp_9_MMStack.ome_segmentation.tif is a low contrast image\n",
      "  warn('%s is a low contrast image' % fname)\n",
      "/home/jiongyi/anaconda3/lib/python3.6/site-packages/skimage/io/_io.py:140: UserWarning: /home/jiongyi/Documents/bead_motility/2019_02_19/15_min_100_nM_egfp_wave_pwca_proline/470_egfp_50/470_egfp_50_MMStack.ome_segmentation.tif is a low contrast image\n",
      "  warn('%s is a low contrast image' % fname)\n",
      "/home/jiongyi/anaconda3/lib/python3.6/site-packages/skimage/io/_io.py:140: UserWarning: /home/jiongyi/Documents/bead_motility/2019_02_19/15_min_100_nM_egfp_wave_pwca_proline/470_egfp_15/470_egfp_15_MMStack.ome_segmentation.tif is a low contrast image\n",
      "  warn('%s is a low contrast image' % fname)\n",
      "/home/jiongyi/anaconda3/lib/python3.6/site-packages/skimage/io/_io.py:140: UserWarning: /home/jiongyi/Documents/bead_motility/2019_02_19/15_min_100_nM_egfp_wave_pwca_proline/470_egfp_2/470_egfp_2_MMStack.ome_segmentation.tif is a low contrast image\n",
      "  warn('%s is a low contrast image' % fname)\n",
      "/home/jiongyi/anaconda3/lib/python3.6/site-packages/skimage/io/_io.py:140: UserWarning: /home/jiongyi/Documents/bead_motility/2019_02_19/15_min_100_nM_egfp_wave_pwca_proline/470_egfp_13/470_egfp_13_MMStack.ome_segmentation.tif is a low contrast image\n",
      "  warn('%s is a low contrast image' % fname)\n",
      "/home/jiongyi/anaconda3/lib/python3.6/site-packages/skimage/io/_io.py:140: UserWarning: /home/jiongyi/Documents/bead_motility/2019_02_19/15_min_100_nM_egfp_wave_pwca_proline/470_egfp_26/470_egfp_26_MMStack.ome_segmentation.tif is a low contrast image\n",
      "  warn('%s is a low contrast image' % fname)\n",
      "/home/jiongyi/anaconda3/lib/python3.6/site-packages/skimage/io/_io.py:140: UserWarning: /home/jiongyi/Documents/bead_motility/2019_02_19/15_min_100_nM_egfp_wave_pwca_proline/470_egfp_29/470_egfp_29_MMStack.ome_segmentation.tif is a low contrast image\n",
      "  warn('%s is a low contrast image' % fname)\n",
      "/home/jiongyi/anaconda3/lib/python3.6/site-packages/skimage/io/_io.py:140: UserWarning: /home/jiongyi/Documents/bead_motility/2019_02_19/15_min_100_nM_egfp_wave_pwca_proline/470_egfp_43/470_egfp_43_MMStack.ome_segmentation.tif is a low contrast image\n",
      "  warn('%s is a low contrast image' % fname)\n",
      "/home/jiongyi/anaconda3/lib/python3.6/site-packages/skimage/io/_io.py:140: UserWarning: /home/jiongyi/Documents/bead_motility/2019_02_19/15_min_100_nM_egfp_wave_pwca_proline/470_egfp_11/470_egfp_11_MMStack.ome_segmentation.tif is a low contrast image\n",
      "  warn('%s is a low contrast image' % fname)\n",
      "/home/jiongyi/anaconda3/lib/python3.6/site-packages/skimage/io/_io.py:140: UserWarning: /home/jiongyi/Documents/bead_motility/2019_02_19/15_min_100_nM_egfp_wave_pwca_proline/470_egfp_36/470_egfp_36_MMStack.ome_segmentation.tif is a low contrast image\n",
      "  warn('%s is a low contrast image' % fname)\n",
      "/home/jiongyi/anaconda3/lib/python3.6/site-packages/skimage/io/_io.py:140: UserWarning: /home/jiongyi/Documents/bead_motility/2019_02_19/15_min_100_nM_egfp_wave_pwca_proline/470_egfp_39/470_egfp_39_MMStack.ome_segmentation.tif is a low contrast image\n",
      "  warn('%s is a low contrast image' % fname)\n",
      "/home/jiongyi/anaconda3/lib/python3.6/site-packages/skimage/io/_io.py:140: UserWarning: /home/jiongyi/Documents/bead_motility/2019_02_19/15_min_100_nM_egfp_wave_pwca_proline/470_egfp_32/470_egfp_32_MMStack.ome_segmentation.tif is a low contrast image\n",
      "  warn('%s is a low contrast image' % fname)\n",
      "/home/jiongyi/anaconda3/lib/python3.6/site-packages/skimage/io/_io.py:140: UserWarning: /home/jiongyi/Documents/bead_motility/2019_02_19/15_min_100_nM_egfp_wave_pwca_proline/470_egfp_34/470_egfp_34_MMStack.ome_segmentation.tif is a low contrast image\n",
      "  warn('%s is a low contrast image' % fname)\n",
      "/home/jiongyi/anaconda3/lib/python3.6/site-packages/skimage/io/_io.py:140: UserWarning: /home/jiongyi/Documents/bead_motility/2019_02_19/15_min_100_nM_egfp_wave_pwca_proline/470_egfp_47/470_egfp_47_MMStack.ome_segmentation.tif is a low contrast image\n",
      "  warn('%s is a low contrast image' % fname)\n",
      "/home/jiongyi/anaconda3/lib/python3.6/site-packages/skimage/io/_io.py:140: UserWarning: /home/jiongyi/Documents/bead_motility/2019_02_19/15_min_100_nM_egfp_wave_pwca_proline/470_egfp_4/470_egfp_4_MMStack.ome_segmentation.tif is a low contrast image\n",
      "  warn('%s is a low contrast image' % fname)\n",
      "/home/jiongyi/anaconda3/lib/python3.6/site-packages/skimage/io/_io.py:140: UserWarning: /home/jiongyi/Documents/bead_motility/2019_02_19/15_min_100_nM_egfp_wave_pwca_proline/470_egfp_44/470_egfp_44_MMStack.ome_segmentation.tif is a low contrast image\n",
      "  warn('%s is a low contrast image' % fname)\n",
      "/home/jiongyi/anaconda3/lib/python3.6/site-packages/skimage/io/_io.py:140: UserWarning: /home/jiongyi/Documents/bead_motility/2019_02_19/15_min_100_nM_egfp_wave_pwca_proline/470_egfp_8/470_egfp_8_MMStack.ome_segmentation.tif is a low contrast image\n",
      "  warn('%s is a low contrast image' % fname)\n",
      "/home/jiongyi/anaconda3/lib/python3.6/site-packages/skimage/io/_io.py:140: UserWarning: /home/jiongyi/Documents/bead_motility/2019_02_19/15_min_100_nM_egfp_wave_pwca_proline/470_egfp_37/470_egfp_37_MMStack.ome_segmentation.tif is a low contrast image\n",
      "  warn('%s is a low contrast image' % fname)\n",
      "/home/jiongyi/anaconda3/lib/python3.6/site-packages/skimage/io/_io.py:140: UserWarning: /home/jiongyi/Documents/bead_motility/2019_02_19/15_min_100_nM_egfp_wave_pwca_proline/470_egfp_52/470_egfp_52_MMStack.ome_segmentation.tif is a low contrast image\n",
      "  warn('%s is a low contrast image' % fname)\n",
      "/home/jiongyi/anaconda3/lib/python3.6/site-packages/skimage/io/_io.py:140: UserWarning: /home/jiongyi/Documents/bead_motility/2019_02_19/15_min_100_nM_egfp_wave_pwca_proline/470_egfp_12/470_egfp_12_MMStack.ome_segmentation.tif is a low contrast image\n",
      "  warn('%s is a low contrast image' % fname)\n",
      "/home/jiongyi/anaconda3/lib/python3.6/site-packages/skimage/io/_io.py:140: UserWarning: /home/jiongyi/Documents/bead_motility/2019_02_19/15_min_100_nM_egfp_wave_pwca_proline/470_egfp_51/470_egfp_51_MMStack.ome_segmentation.tif is a low contrast image\n",
      "  warn('%s is a low contrast image' % fname)\n",
      "/home/jiongyi/anaconda3/lib/python3.6/site-packages/skimage/io/_io.py:140: UserWarning: /home/jiongyi/Documents/bead_motility/2019_02_19/15_min_100_nM_egfp_wave_pwca_proline/470_egfp_24/470_egfp_24_MMStack.ome_segmentation.tif is a low contrast image\n",
      "  warn('%s is a low contrast image' % fname)\n",
      "/home/jiongyi/anaconda3/lib/python3.6/site-packages/skimage/io/_io.py:140: UserWarning: /home/jiongyi/Documents/bead_motility/2019_02_19/15_min_100_nM_egfp_wave_pwca_proline/470_egfp_22/470_egfp_22_MMStack.ome_segmentation.tif is a low contrast image\n",
      "  warn('%s is a low contrast image' % fname)\n",
      "/home/jiongyi/anaconda3/lib/python3.6/site-packages/skimage/io/_io.py:140: UserWarning: /home/jiongyi/Documents/bead_motility/2019_02_19/15_min_100_nM_egfp_wave_pwca_proline/470_egfp_21/470_egfp_21_MMStack.ome_segmentation.tif is a low contrast image\n",
      "  warn('%s is a low contrast image' % fname)\n",
      "/home/jiongyi/anaconda3/lib/python3.6/site-packages/skimage/io/_io.py:140: UserWarning: /home/jiongyi/Documents/bead_motility/2019_02_19/15_min_100_nM_egfp_wave_pwca_proline/470_egfp_18/470_egfp_18_MMStack.ome_segmentation.tif is a low contrast image\n",
      "  warn('%s is a low contrast image' % fname)\n",
      "/home/jiongyi/anaconda3/lib/python3.6/site-packages/skimage/io/_io.py:140: UserWarning: /home/jiongyi/Documents/bead_motility/2019_02_19/15_min_100_nM_egfp_wave_pwca_proline/470_egfp_38/470_egfp_38_MMStack.ome_segmentation.tif is a low contrast image\n",
      "  warn('%s is a low contrast image' % fname)\n",
      "/home/jiongyi/anaconda3/lib/python3.6/site-packages/skimage/io/_io.py:140: UserWarning: /home/jiongyi/Documents/bead_motility/2019_02_19/15_min_100_nM_egfp_wave_pwca_proline/470_egfp_16/470_egfp_16_MMStack.ome_segmentation.tif is a low contrast image\n",
      "  warn('%s is a low contrast image' % fname)\n",
      "/home/jiongyi/anaconda3/lib/python3.6/site-packages/skimage/io/_io.py:140: UserWarning: /home/jiongyi/Documents/bead_motility/2019_02_19/15_min_100_nM_egfp_wave_pwca_proline/470_egfp_48/470_egfp_48_MMStack.ome_segmentation.tif is a low contrast image\n",
      "  warn('%s is a low contrast image' % fname)\n",
      "/home/jiongyi/anaconda3/lib/python3.6/site-packages/skimage/io/_io.py:140: UserWarning: /home/jiongyi/Documents/bead_motility/2019_02_19/15_min_100_nM_egfp_wave_pwca_proline/470_egfp_30/470_egfp_30_MMStack.ome_segmentation.tif is a low contrast image\n",
      "  warn('%s is a low contrast image' % fname)\n",
      "/home/jiongyi/anaconda3/lib/python3.6/site-packages/skimage/io/_io.py:140: UserWarning: /home/jiongyi/Documents/bead_motility/2019_02_19/15_min_100_nM_egfp_wave_pwca_proline/470_egfp_41/470_egfp_41_MMStack.ome_segmentation.tif is a low contrast image\n",
      "  warn('%s is a low contrast image' % fname)\n",
      "/home/jiongyi/anaconda3/lib/python3.6/site-packages/skimage/io/_io.py:140: UserWarning: /home/jiongyi/Documents/bead_motility/2019_02_19/15_min_100_nM_egfp_wave_pwca_proline/470_egfp_19/470_egfp_19_MMStack.ome_segmentation.tif is a low contrast image\n",
      "  warn('%s is a low contrast image' % fname)\n",
      "/home/jiongyi/anaconda3/lib/python3.6/site-packages/skimage/io/_io.py:140: UserWarning: /home/jiongyi/Documents/bead_motility/2019_02_19/15_min_100_nM_egfp_wave_pwca_proline/470_egfp_17/470_egfp_17_MMStack.ome_segmentation.tif is a low contrast image\n",
      "  warn('%s is a low contrast image' % fname)\n",
      "/home/jiongyi/anaconda3/lib/python3.6/site-packages/skimage/io/_io.py:140: UserWarning: /home/jiongyi/Documents/bead_motility/2019_02_19/15_min_100_nM_egfp_wave_pwca_proline/470_egfp_27/470_egfp_27_MMStack.ome_segmentation.tif is a low contrast image\n",
      "  warn('%s is a low contrast image' % fname)\n",
      "/home/jiongyi/anaconda3/lib/python3.6/site-packages/skimage/io/_io.py:140: UserWarning: /home/jiongyi/Documents/bead_motility/2019_02_19/15_min_100_nM_egfp_wave_pwca_proline/470_egfp_1/470_egfp_1_MMStack.ome_segmentation.tif is a low contrast image\n",
      "  warn('%s is a low contrast image' % fname)\n",
      "/home/jiongyi/anaconda3/lib/python3.6/site-packages/skimage/io/_io.py:140: UserWarning: /home/jiongyi/Documents/bead_motility/2019_02_19/15_min_100_nM_egfp_wave_pwca_proline/470_egfp_33/470_egfp_33_MMStack.ome_segmentation.tif is a low contrast image\n",
      "  warn('%s is a low contrast image' % fname)\n"
     ]
    },
    {
     "data": {
      "text/plain": [
       "Text(0.5, 1.0, '15 min 100 nM EGFP-WAVE PWCA in proline+ buffer')"
      ]
     },
     "execution_count": 9,
     "metadata": {},
     "output_type": "execute_result"
    },
    {
     "data": {
      "image/png": "[encoded data removed]",
      "text/plain": [
       "<Figure size 432x288 with 1 Axes>"
      ]
     },
     "metadata": {
      "needs_background": "light"
     },
     "output_type": "display_data"
    }
   ],
   "source": [
    "data_folder_path_str = '/home/jiongyi/Documents/bead_motility/2019_02_19/15_min_100_nM_egfp_wave_pwca_proline'\n",
    "npf_intensity_row = measure_npf_density(data_folder_path_str)\n",
    "fig_handle, ax_handle = subplots()\n",
    "ax_handle.hist(npf_intensity_row)\n",
    "ax_handle.set_xlabel('Mean intensity (AU)')\n",
    "ax_handle.set_ylabel('Counts')\n",
    "ax_handle.set_title('15 min 100 nM EGFP-WAVE PWCA in proline+ buffer')"
   ]
  },
  {
   "cell_type": "code",
   "execution_count": 10,
   "metadata": {},
   "outputs": [
    {
     "name": "stderr",
     "output_type": "stream",
     "text": [
      "/home/jiongyi/anaconda3/lib/python3.6/site-packages/skimage/io/_io.py:140: UserWarning: /home/jiongyi/Documents/bead_motility/2019_02_19/15_min_100_nM_egfp_n_wasp_pwwca_proline/470_egfp_7/470_egfp_7_MMStack.ome_segmentation.tif is a low contrast image\n",
      "  warn('%s is a low contrast image' % fname)\n",
      "/home/jiongyi/anaconda3/lib/python3.6/site-packages/skimage/io/_io.py:140: UserWarning: /home/jiongyi/Documents/bead_motility/2019_02_19/15_min_100_nM_egfp_n_wasp_pwwca_proline/470_egfp_25/470_egfp_25_MMStack.ome_segmentation.tif is a low contrast image\n",
      "  warn('%s is a low contrast image' % fname)\n",
      "/home/jiongyi/anaconda3/lib/python3.6/site-packages/skimage/io/_io.py:140: UserWarning: /home/jiongyi/Documents/bead_motility/2019_02_19/15_min_100_nM_egfp_n_wasp_pwwca_proline/470_egfp_40/470_egfp_40_MMStack.ome_segmentation.tif is a low contrast image\n",
      "  warn('%s is a low contrast image' % fname)\n",
      "/home/jiongyi/anaconda3/lib/python3.6/site-packages/skimage/io/_io.py:140: UserWarning: /home/jiongyi/Documents/bead_motility/2019_02_19/15_min_100_nM_egfp_n_wasp_pwwca_proline/470_egfp_31/470_egfp_31_MMStack.ome_segmentation.tif is a low contrast image\n",
      "  warn('%s is a low contrast image' % fname)\n",
      "/home/jiongyi/anaconda3/lib/python3.6/site-packages/skimage/io/_io.py:140: UserWarning: /home/jiongyi/Documents/bead_motility/2019_02_19/15_min_100_nM_egfp_n_wasp_pwwca_proline/470_egfp_20/470_egfp_20_MMStack.ome_segmentation.tif is a low contrast image\n",
      "  warn('%s is a low contrast image' % fname)\n",
      "/home/jiongyi/anaconda3/lib/python3.6/site-packages/skimage/io/_io.py:140: UserWarning: /home/jiongyi/Documents/bead_motility/2019_02_19/15_min_100_nM_egfp_n_wasp_pwwca_proline/470_egfp_14/470_egfp_14_MMStack.ome_segmentation.tif is a low contrast image\n",
      "  warn('%s is a low contrast image' % fname)\n",
      "/home/jiongyi/anaconda3/lib/python3.6/site-packages/skimage/io/_io.py:140: UserWarning: /home/jiongyi/Documents/bead_motility/2019_02_19/15_min_100_nM_egfp_n_wasp_pwwca_proline/470_egfp_23/470_egfp_23_MMStack.ome_segmentation.tif is a low contrast image\n",
      "  warn('%s is a low contrast image' % fname)\n",
      "/home/jiongyi/anaconda3/lib/python3.6/site-packages/skimage/io/_io.py:140: UserWarning: /home/jiongyi/Documents/bead_motility/2019_02_19/15_min_100_nM_egfp_n_wasp_pwwca_proline/470_egfp_9/470_egfp_9_MMStack.ome_segmentation.tif is a low contrast image\n",
      "  warn('%s is a low contrast image' % fname)\n",
      "/home/jiongyi/anaconda3/lib/python3.6/site-packages/skimage/io/_io.py:140: UserWarning: /home/jiongyi/Documents/bead_motility/2019_02_19/15_min_100_nM_egfp_n_wasp_pwwca_proline/470_egfp_15/470_egfp_15_MMStack.ome_segmentation.tif is a low contrast image\n",
      "  warn('%s is a low contrast image' % fname)\n",
      "/home/jiongyi/anaconda3/lib/python3.6/site-packages/skimage/io/_io.py:140: UserWarning: /home/jiongyi/Documents/bead_motility/2019_02_19/15_min_100_nM_egfp_n_wasp_pwwca_proline/470_egfp_2/470_egfp_2_MMStack.ome_segmentation.tif is a low contrast image\n",
      "  warn('%s is a low contrast image' % fname)\n",
      "/home/jiongyi/anaconda3/lib/python3.6/site-packages/skimage/io/_io.py:140: UserWarning: /home/jiongyi/Documents/bead_motility/2019_02_19/15_min_100_nM_egfp_n_wasp_pwwca_proline/470_egfp_13/470_egfp_13_MMStack.ome_segmentation.tif is a low contrast image\n",
      "  warn('%s is a low contrast image' % fname)\n",
      "/home/jiongyi/anaconda3/lib/python3.6/site-packages/skimage/io/_io.py:140: UserWarning: /home/jiongyi/Documents/bead_motility/2019_02_19/15_min_100_nM_egfp_n_wasp_pwwca_proline/470_egfp_26/470_egfp_26_MMStack.ome_segmentation.tif is a low contrast image\n",
      "  warn('%s is a low contrast image' % fname)\n",
      "/home/jiongyi/anaconda3/lib/python3.6/site-packages/skimage/io/_io.py:140: UserWarning: /home/jiongyi/Documents/bead_motility/2019_02_19/15_min_100_nM_egfp_n_wasp_pwwca_proline/470_egfp_29/470_egfp_29_MMStack.ome_segmentation.tif is a low contrast image\n",
      "  warn('%s is a low contrast image' % fname)\n",
      "/home/jiongyi/anaconda3/lib/python3.6/site-packages/skimage/io/_io.py:140: UserWarning: /home/jiongyi/Documents/bead_motility/2019_02_19/15_min_100_nM_egfp_n_wasp_pwwca_proline/470_egfp_3/470_egfp_3_MMStack.ome_segmentation.tif is a low contrast image\n",
      "  warn('%s is a low contrast image' % fname)\n",
      "/home/jiongyi/anaconda3/lib/python3.6/site-packages/skimage/io/_io.py:140: UserWarning: /home/jiongyi/Documents/bead_motility/2019_02_19/15_min_100_nM_egfp_n_wasp_pwwca_proline/470_egfp_5/470_egfp_5_MMStack.ome_segmentation.tif is a low contrast image\n",
      "  warn('%s is a low contrast image' % fname)\n",
      "/home/jiongyi/anaconda3/lib/python3.6/site-packages/skimage/io/_io.py:140: UserWarning: /home/jiongyi/Documents/bead_motility/2019_02_19/15_min_100_nM_egfp_n_wasp_pwwca_proline/470_egfp_32/470_egfp_32_MMStack.ome_segmentation.tif is a low contrast image\n",
      "  warn('%s is a low contrast image' % fname)\n",
      "/home/jiongyi/anaconda3/lib/python3.6/site-packages/skimage/io/_io.py:140: UserWarning: /home/jiongyi/Documents/bead_motility/2019_02_19/15_min_100_nM_egfp_n_wasp_pwwca_proline/470_egfp_34/470_egfp_34_MMStack.ome_segmentation.tif is a low contrast image\n",
      "  warn('%s is a low contrast image' % fname)\n",
      "/home/jiongyi/anaconda3/lib/python3.6/site-packages/skimage/io/_io.py:140: UserWarning: /home/jiongyi/Documents/bead_motility/2019_02_19/15_min_100_nM_egfp_n_wasp_pwwca_proline/470_egfp_4/470_egfp_4_MMStack.ome_segmentation.tif is a low contrast image\n",
      "  warn('%s is a low contrast image' % fname)\n",
      "/home/jiongyi/anaconda3/lib/python3.6/site-packages/skimage/io/_io.py:140: UserWarning: /home/jiongyi/Documents/bead_motility/2019_02_19/15_min_100_nM_egfp_n_wasp_pwwca_proline/470_egfp_42/470_egfp_42_MMStack.ome_segmentation.tif is a low contrast image\n",
      "  warn('%s is a low contrast image' % fname)\n",
      "/home/jiongyi/anaconda3/lib/python3.6/site-packages/skimage/io/_io.py:140: UserWarning: /home/jiongyi/Documents/bead_motility/2019_02_19/15_min_100_nM_egfp_n_wasp_pwwca_proline/470_egfp_10/470_egfp_10_MMStack.ome_segmentation.tif is a low contrast image\n",
      "  warn('%s is a low contrast image' % fname)\n",
      "/home/jiongyi/anaconda3/lib/python3.6/site-packages/skimage/io/_io.py:140: UserWarning: /home/jiongyi/Documents/bead_motility/2019_02_19/15_min_100_nM_egfp_n_wasp_pwwca_proline/470_egfp_37/470_egfp_37_MMStack.ome_segmentation.tif is a low contrast image\n",
      "  warn('%s is a low contrast image' % fname)\n",
      "/home/jiongyi/anaconda3/lib/python3.6/site-packages/skimage/io/_io.py:140: UserWarning: /home/jiongyi/Documents/bead_motility/2019_02_19/15_min_100_nM_egfp_n_wasp_pwwca_proline/470_egfp_12/470_egfp_12_MMStack.ome_segmentation.tif is a low contrast image\n",
      "  warn('%s is a low contrast image' % fname)\n",
      "/home/jiongyi/anaconda3/lib/python3.6/site-packages/skimage/io/_io.py:140: UserWarning: /home/jiongyi/Documents/bead_motility/2019_02_19/15_min_100_nM_egfp_n_wasp_pwwca_proline/470_egfp_22/470_egfp_22_MMStack.ome_segmentation.tif is a low contrast image\n",
      "  warn('%s is a low contrast image' % fname)\n",
      "/home/jiongyi/anaconda3/lib/python3.6/site-packages/skimage/io/_io.py:140: UserWarning: /home/jiongyi/Documents/bead_motility/2019_02_19/15_min_100_nM_egfp_n_wasp_pwwca_proline/470_egfp_18/470_egfp_18_MMStack.ome_segmentation.tif is a low contrast image\n",
      "  warn('%s is a low contrast image' % fname)\n",
      "/home/jiongyi/anaconda3/lib/python3.6/site-packages/skimage/io/_io.py:140: UserWarning: /home/jiongyi/Documents/bead_motility/2019_02_19/15_min_100_nM_egfp_n_wasp_pwwca_proline/470_egfp_38/470_egfp_38_MMStack.ome_segmentation.tif is a low contrast image\n",
      "  warn('%s is a low contrast image' % fname)\n",
      "/home/jiongyi/anaconda3/lib/python3.6/site-packages/skimage/io/_io.py:140: UserWarning: /home/jiongyi/Documents/bead_motility/2019_02_19/15_min_100_nM_egfp_n_wasp_pwwca_proline/470_egfp_6/470_egfp_6_MMStack.ome_segmentation.tif is a low contrast image\n",
      "  warn('%s is a low contrast image' % fname)\n",
      "/home/jiongyi/anaconda3/lib/python3.6/site-packages/skimage/io/_io.py:140: UserWarning: /home/jiongyi/Documents/bead_motility/2019_02_19/15_min_100_nM_egfp_n_wasp_pwwca_proline/470_egfp_30/470_egfp_30_MMStack.ome_segmentation.tif is a low contrast image\n",
      "  warn('%s is a low contrast image' % fname)\n",
      "/home/jiongyi/anaconda3/lib/python3.6/site-packages/skimage/io/_io.py:140: UserWarning: /home/jiongyi/Documents/bead_motility/2019_02_19/15_min_100_nM_egfp_n_wasp_pwwca_proline/470_egfp_41/470_egfp_41_MMStack.ome_segmentation.tif is a low contrast image\n",
      "  warn('%s is a low contrast image' % fname)\n",
      "/home/jiongyi/anaconda3/lib/python3.6/site-packages/skimage/io/_io.py:140: UserWarning: /home/jiongyi/Documents/bead_motility/2019_02_19/15_min_100_nM_egfp_n_wasp_pwwca_proline/470_egfp_19/470_egfp_19_MMStack.ome_segmentation.tif is a low contrast image\n",
      "  warn('%s is a low contrast image' % fname)\n",
      "/home/jiongyi/anaconda3/lib/python3.6/site-packages/skimage/io/_io.py:140: UserWarning: /home/jiongyi/Documents/bead_motility/2019_02_19/15_min_100_nM_egfp_n_wasp_pwwca_proline/470_egfp_17/470_egfp_17_MMStack.ome_segmentation.tif is a low contrast image\n",
      "  warn('%s is a low contrast image' % fname)\n",
      "/home/jiongyi/anaconda3/lib/python3.6/site-packages/skimage/io/_io.py:140: UserWarning: /home/jiongyi/Documents/bead_motility/2019_02_19/15_min_100_nM_egfp_n_wasp_pwwca_proline/470_egfp_1/470_egfp_1_MMStack.ome_segmentation.tif is a low contrast image\n",
      "  warn('%s is a low contrast image' % fname)\n"
     ]
    },
    {
     "data": {
      "text/plain": [
       "Text(0.5, 1.0, '15 min 100 nM EGFP-N-WASP PWWCA in proline+ buffer')"
      ]
     },
     "execution_count": 10,
     "metadata": {},
     "output_type": "execute_result"
    },
    {
     "data": {
      "image/png": "[encoded data removed]",
      "text/plain": [
       "<Figure size 432x288 with 1 Axes>"
      ]
     },
     "metadata": {
      "needs_background": "light"
     },
     "output_type": "display_data"
    }
   ],
   "source": [
    "data_folder_path_str = '/home/jiongyi/Documents/bead_motility/2019_02_19/15_min_100_nM_egfp_n_wasp_pwwca_proline'\n",
    "npf_intensity_row = measure_npf_density(data_folder_path_str)\n",
    "fig_handle, ax_handle = subplots()\n",
    "ax_handle.hist(npf_intensity_row)\n",
    "ax_handle.set_xlabel('Mean intensity (AU)')\n",
    "ax_handle.set_ylabel('Counts')\n",
    "ax_handle.set_title('15 min 100 nM EGFP-N-WASP PWWCA in proline+ buffer')"
   ]
  },
  {
   "cell_type": "code",
   "execution_count": null,
   "metadata": {},
   "outputs": [],
   "source": []
  }
 ],
 "metadata": {
  "kernelspec": {
   "display_name": "Python 3",
   "language": "python",
   "name": "python3"
  },
  "language_info": {
   "codemirror_mode": {
    "name": "ipython",
    "version": 3
   },
   "file_extension": ".py",
   "mimetype": "text/x-python",
   "name": "python",
   "nbconvert_exporter": "python",
   "pygments_lexer": "ipython3",
   "version": "3.6.8"
  }
 },
 "nbformat": 4,
 "nbformat_minor": 2
}
