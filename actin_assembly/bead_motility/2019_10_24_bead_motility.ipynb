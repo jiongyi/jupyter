{
 "cells": [
  {
   "cell_type": "code",
   "execution_count": 1,
   "metadata": {},
   "outputs": [],
   "source": [
    "from bead_motility2 import *"
   ]
  },
  {
   "cell_type": "code",
   "execution_count": 2,
   "metadata": {},
   "outputs": [
    {
     "name": "stderr",
     "output_type": "stream",
     "text": [
      "/home/jiongyi/anaconda3/lib/python3.6/site-packages/skimage/util/dtype.py:135: UserWarning: Possible precision loss when converting from float64 to uint16\n",
      "  .format(dtypeobj_in, dtypeobj_out))\n",
      "/home/jiongyi/anaconda3/lib/python3.6/site-packages/skimage/io/_io.py:141: UserWarning: /home/jiongyi/Documents/bead_motility/2019_10_24/exp_04/470_egfp_n_wasp_pwwca_550_a568_pulse_640_a647_chase_actin_1/470_egfp_n_wasp_pwwca_550_a568_pulse_640_a647_chase_actin_1_MMStack.ome_tail_segmentation.tif is a low contrast image\n",
      "  warn('%s is a low contrast image' % fname)\n",
      "/home/jiongyi/anaconda3/lib/python3.6/site-packages/skimage/io/_io.py:141: UserWarning: /home/jiongyi/Documents/bead_motility/2019_10_24/exp_04/470_egfp_n_wasp_pwwca_550_a568_pulse_640_a647_chase_actin_2/470_egfp_n_wasp_pwwca_550_a568_pulse_640_a647_chase_actin_2_MMStack.ome_tail_segmentation.tif is a low contrast image\n",
      "  warn('%s is a low contrast image' % fname)\n",
      "/home/jiongyi/anaconda3/lib/python3.6/site-packages/skimage/io/_io.py:141: UserWarning: /home/jiongyi/Documents/bead_motility/2019_10_24/exp_04/470_egfp_n_wasp_pwwca_550_a568_pulse_640_a647_chase_actin_6/470_egfp_n_wasp_pwwca_550_a568_pulse_640_a647_chase_actin_6_MMStack.ome_tail_segmentation.tif is a low contrast image\n",
      "  warn('%s is a low contrast image' % fname)\n",
      "/home/jiongyi/anaconda3/lib/python3.6/site-packages/skimage/io/_io.py:141: UserWarning: /home/jiongyi/Documents/bead_motility/2019_10_24/exp_04/470_egfp_n_wasp_pwwca_550_a568_pulse_640_a647_chase_actin_8/470_egfp_n_wasp_pwwca_550_a568_pulse_640_a647_chase_actin_8_MMStack.ome_tail_segmentation.tif is a low contrast image\n",
      "  warn('%s is a low contrast image' % fname)\n"
     ]
    }
   ],
   "source": [
    "cp200_n_wasp_folder_path = '/home/jiongyi/Documents/bead_motility/2019_10_24/exp_04'\n",
    "cp200_n_wasp_props_mat = batch_analysis(cp200_n_wasp_folder_path)"
   ]
  },
  {
   "cell_type": "code",
   "execution_count": 6,
   "metadata": {},
   "outputs": [
    {
     "name": "stdout",
     "output_type": "stream",
     "text": [
      "Stored 'cp200_n_wasp_props_mat' (ndarray)\n"
     ]
    }
   ],
   "source": [
    "%store 'cp200_n_wasp_props_mat'"
   ]
  },
  {
   "cell_type": "code",
   "execution_count": null,
   "metadata": {},
   "outputs": [],
   "source": []
  }
 ],
 "metadata": {
  "kernelspec": {
   "display_name": "Python 3",
   "language": "python",
   "name": "python3"
  },
  "language_info": {
   "codemirror_mode": {
    "name": "ipython",
    "version": 3
   },
   "file_extension": ".py",
   "mimetype": "text/x-python",
   "name": "python",
   "nbconvert_exporter": "python",
   "pygments_lexer": "ipython3",
   "version": "3.6.9"
  }
 },
 "nbformat": 4,
 "nbformat_minor": 4
}
