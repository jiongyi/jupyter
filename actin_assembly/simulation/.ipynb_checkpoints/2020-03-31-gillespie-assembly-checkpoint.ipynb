{
 "cells": [
  {
   "cell_type": "code",
   "execution_count": 1,
   "metadata": {},
   "outputs": [],
   "source": [
    "%load_ext line_profiler\n",
    "from gillespie_simulation import *"
   ]
  },
  {
   "cell_type": "code",
   "execution_count": 2,
   "metadata": {},
   "outputs": [
    {
     "name": "stdout",
     "output_type": "stream",
     "text": [
      "10.0\n",
      "20.0\n",
      "30.000000000000004\n",
      "40.0\n",
      "50.0\n",
      "60.0\n",
      "70.0\n",
      "80.0\n",
      "89.99999999999999\n",
      "99.99999999999999\n",
      "44128\n",
      "11.12718723792151\n"
     ]
    },
    {
     "data": {
      "text/plain": [
       "Timer unit: 1e-06 s\n",
       "\n",
       "Total time: 460.859 s\n",
       "File: /home/jiongyi/github/jupyter/actin_assembly/simulation/gillespie_simulation.py\n",
       "Function: simulate at line 225\n",
       "\n",
       "Line #      Hits         Time  Per Hit   % Time  Line Contents\n",
       "==============================================================\n",
       "   225                                               def simulate(self):\n",
       "   226         1          2.0      2.0      0.0          i_percent = 0.1\n",
       "   227         1          1.0      1.0      0.0          no_iterations = 0\n",
       "   228     44129    1228117.0     27.8      0.3          while (self.current_time <= self.total_time) and (sum(~self.is_capped_row) >= 1):\n",
       "   229     44128  187857973.0   4257.1     40.8              self.calculate_transition_rates()\n",
       "   230     44128  271522186.0   6153.1     58.9              self.gillespie_step()\n",
       "   231     44128     178896.0      4.1      0.0              if self.current_time >= self.total_time * (i_percent):\n",
       "   232        10       1493.0    149.3      0.0                  print(i_percent * 100)\n",
       "   233        10         20.0      2.0      0.0                  i_percent += 0.1\n",
       "   234     44128      69998.0      1.6      0.0              no_iterations += 1\n",
       "   235         1         53.0     53.0      0.0          self.network_height = max(self.end_position_mat[:, 2])\n",
       "   236         1          3.0      3.0      0.0          self.normalized_network_growth_rate = self.network_height / (self.monomer_length * self.elongation_rate * self.current_time)\n",
       "   237         1         50.0     50.0      0.0          print(no_iterations)\n",
       "   238         1         48.0     48.0      0.0          print(self.normalized_network_growth_rate)"
      ]
     },
     "metadata": {},
     "output_type": "display_data"
    }
   ],
   "source": [
    "test_network = network(total_time = 1.0)\n",
    "%lprun -f test_network.simulate test_network.simulate()"
   ]
  },
  {
   "cell_type": "code",
   "execution_count": 5,
   "metadata": {},
   "outputs": [
    {
     "name": "stdout",
     "output_type": "stream",
     "text": [
      "210\n"
     ]
    }
   ],
   "source": [
    "print(test_network.no_ends)"
   ]
  },
  {
   "cell_type": "code",
   "execution_count": null,
   "metadata": {},
   "outputs": [],
   "source": []
  }
 ],
 "metadata": {
  "kernelspec": {
   "display_name": "Python 3",
   "language": "python",
   "name": "python3"
  },
  "language_info": {
   "codemirror_mode": {
    "name": "ipython",
    "version": 3
   },
   "file_extension": ".py",
   "mimetype": "text/x-python",
   "name": "python",
   "nbconvert_exporter": "python",
   "pygments_lexer": "ipython3",
   "version": "3.6.10"
  }
 },
 "nbformat": 4,
 "nbformat_minor": 4
}
