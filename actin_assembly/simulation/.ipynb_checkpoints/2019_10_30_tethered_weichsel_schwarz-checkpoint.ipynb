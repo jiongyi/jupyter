{
 "cells": [
  {
   "cell_type": "code",
   "execution_count": 1,
   "metadata": {},
   "outputs": [],
   "source": [
    "from tethered_weichsel_schwarz import *"
   ]
  },
  {
   "cell_type": "code",
   "execution_count": 2,
   "metadata": {},
   "outputs": [],
   "source": [
    "actin_network_obj = network()\n",
    "actin_network_obj.kCap = 1e-3 * actin_network_obj.kBr"
   ]
  },
  {
   "cell_type": "code",
   "execution_count": 3,
   "metadata": {},
   "outputs": [],
   "source": [
    "actin_network_obj.simulate()"
   ]
  },
  {
   "cell_type": "code",
   "execution_count": 4,
   "metadata": {},
   "outputs": [
    {
     "data": {
      "text/plain": [
       "1"
      ]
     },
     "execution_count": 4,
     "metadata": {},
     "output_type": "execute_result"
    }
   ],
   "source": [
    "len(actin_network_obj.idxActiveBarbArr)"
   ]
  },
  {
   "cell_type": "code",
   "execution_count": 5,
   "metadata": {},
   "outputs": [
    {
     "name": "stdout",
     "output_type": "stream",
     "text": [
      "7.206056719325606\n"
     ]
    }
   ],
   "source": [
    "print(actin_network_obj.xLead / actin_network_obj.t * 60 / 1000)"
   ]
  },
  {
   "cell_type": "code",
   "execution_count": 6,
   "metadata": {},
   "outputs": [
    {
     "name": "stdout",
     "output_type": "stream",
     "text": [
      "277\n"
     ]
    }
   ],
   "source": [
    "print(actin_network_obj.N)"
   ]
  },
  {
   "cell_type": "code",
   "execution_count": 7,
   "metadata": {},
   "outputs": [
    {
     "data": {
      "text/plain": [
       "(array([ 0.,  4., 13.,  4.,  6.,  6.,  0.,  0.,  0.,  2.,  6.,  1.,  5.,\n",
       "         0.,  0.,  0.,  3., 16., 11.]),\n",
       " array([-90.        , -80.52631579, -71.05263158, -61.57894737,\n",
       "        -52.10526316, -42.63157895, -33.15789474, -23.68421053,\n",
       "        -14.21052632,  -4.73684211,   4.73684211,  14.21052632,\n",
       "         23.68421053,  33.15789474,  42.63157895,  52.10526316,\n",
       "         61.57894737,  71.05263158,  80.52631579,  90.        ]),\n",
       " <a list of 19 Patch objects>)"
      ]
     },
     "execution_count": 7,
     "metadata": {},
     "output_type": "execute_result"
    },
    {
     "data": {
      "image/png": "[encoded data removed]",
      "text/plain": [
       "<Figure size 432x288 with 1 Axes>"
      ]
     },
     "metadata": {
      "needs_background": "light"
     },
     "output_type": "display_data"
    }
   ],
   "source": [
    "%matplotlib inline\n",
    "from numpy import arctan, pi, linspace\n",
    "from matplotlib.pyplot import subplots\n",
    "fig1_hand, axes1_hand = subplots()\n",
    "bin_row = linspace(-90, 90, 20)\n",
    "axes1_hand.hist(arctan(actin_network_obj.vArr[200:] / actin_network_obj.uArr[200:]) / pi * 180, bins = bin_row)"
   ]
  }
 ],
 "metadata": {
  "kernelspec": {
   "display_name": "Python 3",
   "language": "python",
   "name": "python3"
  },
  "language_info": {
   "codemirror_mode": {
    "name": "ipython",
    "version": 3
   },
   "file_extension": ".py",
   "mimetype": "text/x-python",
   "name": "python",
   "nbconvert_exporter": "python",
   "pygments_lexer": "ipython3",
   "version": "3.6.9"
  }
 },
 "nbformat": 4,
 "nbformat_minor": 4
}
