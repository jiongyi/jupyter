{
 "cells": [
  {
   "cell_type": "code",
   "execution_count": 1,
   "metadata": {
    "colab": {
     "autoexec": {
      "startup": false,
      "wait_interval": 0
     },
     "base_uri": "https://localhost:8080/",
     "height": 516,
     "output_extras": [
      {
       "item_id": 1
      },
      {
       "item_id": 2
      },
      {
       "item_id": 3
      }
     ]
    },
    "colab_type": "code",
    "executionInfo": {
     "elapsed": 33919,
     "status": "ok",
     "timestamp": 1521874767126,
     "user": {
      "displayName": "Jiongyi Tan",
      "photoUrl": "https://lh3.googleusercontent.com/a/default-user=s128",
      "userId": "104250426221569700734"
     },
     "user_tz": 420
    },
    "id": "xt3QoQYDzYro",
    "outputId": "8729250b-4aee-4a18-833b-104bafea69e1"
   },
   "outputs": [
    {
     "ename": "ModuleNotFoundError",
     "evalue": "No module named 'weichselSchwarz'",
     "output_type": "error",
     "traceback": [
      "\u001b[0;31m---------------------------------------------------------------------------\u001b[0m",
      "\u001b[0;31mModuleNotFoundError\u001b[0m                       Traceback (most recent call last)",
      "\u001b[0;32m<ipython-input-1-e8cd55a26bef>\u001b[0m in \u001b[0;36m<module>\u001b[0;34m\u001b[0m\n\u001b[1;32m      1\u001b[0m \u001b[0;32mimport\u001b[0m \u001b[0mdatetime\u001b[0m\u001b[0;34m\u001b[0m\u001b[0;34m\u001b[0m\u001b[0m\n\u001b[0;32m----> 2\u001b[0;31m \u001b[0;32mfrom\u001b[0m \u001b[0mweichselSchwarz\u001b[0m \u001b[0;32mimport\u001b[0m \u001b[0;34m*\u001b[0m\u001b[0;34m\u001b[0m\u001b[0;34m\u001b[0m\u001b[0m\n\u001b[0m\u001b[1;32m      3\u001b[0m \u001b[0;32mfrom\u001b[0m \u001b[0mnumpy\u001b[0m \u001b[0;32mimport\u001b[0m \u001b[0minvert\u001b[0m\u001b[0;34m\u001b[0m\u001b[0;34m\u001b[0m\u001b[0m\n\u001b[1;32m      4\u001b[0m \u001b[0;32mimport\u001b[0m \u001b[0mmatplotlib\u001b[0m\u001b[0;34m\u001b[0m\u001b[0;34m\u001b[0m\u001b[0m\n\u001b[1;32m      5\u001b[0m \u001b[0mmatplotlib\u001b[0m\u001b[0;34m.\u001b[0m\u001b[0muse\u001b[0m\u001b[0;34m(\u001b[0m\u001b[0;34m\"Agg\"\u001b[0m\u001b[0;34m)\u001b[0m\u001b[0;34m\u001b[0m\u001b[0;34m\u001b[0m\u001b[0m\n",
      "\u001b[0;31mModuleNotFoundError\u001b[0m: No module named 'weichselSchwarz'"
     ]
    }
   ],
   "source": [
    "import datetime\n",
    "from weichsel_schwarz import *\n",
    "from numpy import invert\n",
    "import matplotlib\n",
    "matplotlib.use(\"Agg\")\n",
    "import matplotlib.pyplot as plt\n",
    "from matplotlib.animation import FFMpegWriter"
   ]
  },
  {
   "cell_type": "code",
   "execution_count": null,
   "metadata": {},
   "outputs": [],
   "source": [
    "# Initialize actin network.\n",
    "actinNetwork = network()\n",
    "# Initialize figure.\n",
    "fig, ax = plt.subplots()\n",
    "ax.plot([actinNetwork.xPointArr, actinNetwork.xBarbArr], [actinNetwork.yPointArr, actinNetwork.yBarbArr], 'b')\n",
    "ax.set_xlim(0.0, actinNetwork.totalTime * 900)\n",
    "ax.set_ylim(0.0, 1000.0)\n",
    "ax.set_xlabel(\"x (nm)\", fontsize = 18)\n",
    "ax.set_ylabel(\"y (nm)\", fontsize = 18)\n",
    "\n",
    "# Animate.\n",
    "framesPerSecond = 24\n",
    "writer = FFMpegWriter(fps = framesPerSecond)\n",
    "with writer.saving(fig, \"network_\" + datetime.datetime.now().isoformat() + \".mp4\", dpi = 100):\n",
    "    while actinNetwork.t <= actinNetwork.totalTime:\n",
    "        nextTime = actinNetwork.t + 1.0 / framesPerSecond\n",
    "        while actinNetwork.t < nextTime:\n",
    "            actinNetwork.update()\n",
    "        del ax.lines[:]\n",
    "        for i in range(actinNetwork.N):\n",
    "            if actinNetwork.isCappedArr[i] == False:\n",
    "                filColor = 'b'\n",
    "            else:\n",
    "                filColor = 'r'\n",
    "            ax.plot([actinNetwork.xPointArr[i], actinNetwork.xBarbArr[i]], [actinNetwork.yPointArr[i], actinNetwork.yBarbArr[i]], filColor)\n",
    "        writer.grab_frame()"
   ]
  }
 ],
 "metadata": {
  "colab": {
   "collapsed_sections": [],
   "default_view": {},
   "name": "branched-actin-assembly",
   "provenance": [],
   "version": "0.3.2",
   "views": {}
  },
  "kernelspec": {
   "display_name": "Python 3",
   "language": "python",
   "name": "python3"
  },
  "language_info": {
   "codemirror_mode": {
    "name": "ipython",
    "version": 3
   },
   "file_extension": ".py",
   "mimetype": "text/x-python",
   "name": "python",
   "nbconvert_exporter": "python",
   "pygments_lexer": "ipython3",
   "version": "3.6.9"
  }
 },
 "nbformat": 4,
 "nbformat_minor": 4
}
