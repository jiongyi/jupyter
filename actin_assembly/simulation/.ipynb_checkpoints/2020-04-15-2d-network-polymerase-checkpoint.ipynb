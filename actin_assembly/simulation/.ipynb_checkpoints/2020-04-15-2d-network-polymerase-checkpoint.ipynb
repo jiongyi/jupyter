{
 "cells": [
  {
   "cell_type": "markdown",
   "metadata": {},
   "source": [
    "# A two-dimensional (surface) polymerase\n",
    "\n",
    "## Setup\n",
    "\n",
    "- A micron-long domain divided up into 37~ subdomains the width of an actin monomer (2.7 nm)\n",
    "- A barbed end starting in the first subdomain\n",
    "- An NPF every 10 subdomains\n",
    "- A solution elongation rate constant equal to $11\\ \\mathrm{\\mu M^{-1} s^{-1}}$\n",
    "- An actin loading rate constant equal to $5.0\\ \\mathrm{\\mu M^{-1} s^{-1}}$. The constant gets corrected by a factor that is the cubic root of the molecular-weight ratio.\n",
    "- A dissociation rate constant equal to $3.0\\ \\mathrm{s^{-1}}$\n",
    "- A monomer diffusion coefficient equal to $1.0\\ \\mathrm{\\mu m^2 s^{-1}}$\n",
    "- A Gillespie algorithm to simulate barbed-end elongation and explicit of monomers unbinding from NPF sites"
   ]
  },
  {
   "cell_type": "code",
   "execution_count": 1,
   "metadata": {},
   "outputs": [],
   "source": [
    "from numpy import arange, hstack, log, array, full, cumsum, searchsorted, unravel_index, logical_and, zeros, exp, meshgrid, array, sqrt\n",
    "from numpy.random import rand, choice\n",
    "from numba import jit\n",
    "%load_ext line_profiler"
   ]
  },
  {
   "cell_type": "code",
   "execution_count": 2,
   "metadata": {},
   "outputs": [],
   "source": [
    "@jit(nopython=True)\n",
    "def numba_cumsum(row):\n",
    "    return row.cumsum()\n",
    "\n",
    "@jit(nopython=True)\n",
    "def numba_search(row, x):\n",
    "    return searchsorted(row, x)\n",
    "\n",
    "@jit(nopython=True)\n",
    "def numba_nonzero(mat):\n",
    "    return mat.nonzero()"
   ]
  },
  {
   "cell_type": "code",
   "execution_count": 3,
   "metadata": {},
   "outputs": [],
   "source": [
    "def simulate_2d_polymerase(no_domains = 370, npf_spacing = 10, actin_conc = 5.0):\n",
    "    monomer_count_mat = zeros((no_domains, no_domains), dtype = int)\n",
    "    has_npf_mat = zeros((no_domains, no_domains), dtype = bool)\n",
    "    row_mat, col_mat = meshgrid(arange(0, no_domains, npf_spacing), arange(0, no_domains, npf_spacing))\n",
    "    has_npf_mat[row_mat, col_mat] = True\n",
    "    is_npf_loaded_mat = zeros((no_domains, no_domains), dtype = bool)\n",
    "    current_time = 0.0\n",
    "    total_time = 1.0\n",
    "    time_row = array([0.0])\n",
    "    no_loaded_npf_row = array([0])\n",
    "    transition_bin_row = cumsum([0, no_domains, no_domains, no_domains])\n",
    "    end_position = array([0, 0])\n",
    "    end_orientation = sqrt(2) / 2 * array([1, 1])\n",
    "    no_monomers = 0\n",
    "    transition_rate_mat = zeros((no_domains, no_domains * 3))\n",
    "    while current_time <= total_time:\n",
    "        transition_rate_mat[:, :no_domains][logical_and(has_npf_mat, is_npf_loaded_mat == False)] = 5.0 * actin_conc * (42 / (42 + 8))**(1/3)\n",
    "        transition_rate_mat[:, no_domains:(2 * no_domains)][logical_and(has_npf_mat, is_npf_loaded_mat == True)] = 3.0\n",
    "        transition_rate_mat[:, (2 * no_domains):] = 1.0 / 2.7e-3 * monomer_count_mat\n",
    "        #transition_rate_mat = hstack((loading_rate_mat, unloading_rate_mat, diffusion_rate_mat))\n",
    "        nonzero_rate_row_mat, nonzero_rate_col_mat = numba_nonzero(transition_rate_mat)\n",
    "        nonzero_rate_cumsum = numba_cumsum(hstack((0, transition_rate_mat[nonzero_rate_row_mat, nonzero_rate_col_mat].flatten())))\n",
    "        index_nonzero_transition = numba_search(nonzero_rate_cumsum > nonzero_rate_cumsum[-1] * rand(), True) - 1\n",
    "        transition_row = nonzero_rate_row_mat[index_nonzero_transition]\n",
    "        transition_col = nonzero_rate_col_mat[index_nonzero_transition]\n",
    "        index_transition = searchsorted(transition_bin_row > transition_col, True) - 1\n",
    "        rel_transition_col = transition_col - transition_bin_row[index_transition]\n",
    "        if index_transition == 2:\n",
    "            monomer_count_mat[transition_row, rel_transition_col] -= 1\n",
    "            direction = choice(4)\n",
    "            if direction == 0:\n",
    "                if rel_transition_col < (no_domains - 1):\n",
    "                    monomer_count_mat[transition_row, rel_transition_col + 1] += 1\n",
    "            elif direction == 1:\n",
    "                if transition_row > 0:\n",
    "                    monomer_count_mat[transition_row - 1, rel_transition_col] += 1\n",
    "            elif direction == 2:\n",
    "                if rel_transition_col > 0:\n",
    "                    monomer_count_mat[transition_row, rel_transition_col - 1] += 1\n",
    "            elif transition_row < (no_domains - 1):\n",
    "                monomer_count_mat[transition_row + 1, rel_transition_col] += 1\n",
    "        elif index_transition == 1:\n",
    "            is_npf_loaded_mat[transition_row, rel_transition_col] = False\n",
    "            monomer_count_mat[transition_row, rel_transition_col] += 1\n",
    "        else:\n",
    "            is_npf_loaded_mat[transition_row, rel_transition_col] = True\n",
    "        \n",
    "        time_interval = -log(rand()) / nonzero_rate_cumsum[-1]\n",
    "        current_time += time_interval\n",
    "        # Check if barbed end is near a monomer.\n",
    "        if (end_position < no_domains).all():\n",
    "            if monomer_count_mat[end_position[0] + 1, end_position[1] + 1] > 0:\n",
    "                monomer_count_mat[end_position[0] + 1, end_position[1] + 1] -= 1\n",
    "                end_position += 1\n",
    "                no_monomers += 1\n",
    "            if exp(- 11.0 * actin_conc * time_interval) < rand():\n",
    "                end_position += 1\n",
    "        time_row = hstack((time_row, current_time))\n",
    "        # From solution.\n",
    "        no_loaded_npf_row = hstack((no_loaded_npf_row, is_npf_loaded_mat.sum()))\n",
    "    print(end_position)\n",
    "    print(no_monomers)\n",
    "    return no_loaded_npf_row, time_row, monomer_count_mat"
   ]
  },
  {
   "cell_type": "code",
   "execution_count": 4,
   "metadata": {},
   "outputs": [
    {
     "name": "stdout",
     "output_type": "stream",
     "text": [
      "[65 65]\n",
      "5\n"
     ]
    },
    {
     "data": {
      "text/plain": [
       "Timer unit: 1e-06 s\n",
       "\n",
       "Total time: 1300.23 s\n",
       "File: <ipython-input-3-a18f9b7af5a4>\n",
       "Function: simulate_2d_polymerase at line 1\n",
       "\n",
       "Line #      Hits         Time  Per Hit   % Time  Line Contents\n",
       "==============================================================\n",
       "     1                                           def simulate_2d_polymerase(no_domains = 370, npf_spacing = 10, actin_conc = 5.0):\n",
       "     2         1        210.0    210.0      0.0      monomer_count_mat = zeros((no_domains, no_domains), dtype = int)\n",
       "     3         1        235.0    235.0      0.0      has_npf_mat = zeros((no_domains, no_domains), dtype = bool)\n",
       "     4         1        506.0    506.0      0.0      row_mat, col_mat = meshgrid(arange(0, no_domains, npf_spacing), arange(0, no_domains, npf_spacing))\n",
       "     5         1         65.0     65.0      0.0      has_npf_mat[row_mat, col_mat] = True\n",
       "     6         1        250.0    250.0      0.0      is_npf_loaded_mat = zeros((no_domains, no_domains), dtype = bool)\n",
       "     7         1        225.0    225.0      0.0      loading_rate_mat = zeros((no_domains, no_domains))\n",
       "     8         1        222.0    222.0      0.0      unloading_rate_mat = zeros((no_domains, no_domains))\n",
       "     9         1        222.0    222.0      0.0      diffusion_rate_mat = zeros((no_domains, no_domains))\n",
       "    10         1          5.0      5.0      0.0      current_time = 0.0\n",
       "    11         1          5.0      5.0      0.0      total_time = 1.0\n",
       "    12         1         22.0     22.0      0.0      time_row = array([0.0])\n",
       "    13         1         10.0     10.0      0.0      no_loaded_npf_row = array([0])\n",
       "    14         1        122.0    122.0      0.0      transition_bin_row = cumsum([0, no_domains, no_domains, no_domains])\n",
       "    15         1         12.0     12.0      0.0      end_position = array([0, 0])\n",
       "    16         1         73.0     73.0      0.0      end_orientation = sqrt(2) / 2 * array([1, 1])\n",
       "    17         1          5.0      5.0      0.0      no_monomers = 0\n",
       "    18         1         33.0     33.0      0.0      transition_rate_mat = zeros((no_domains, no_domains * 3))\n",
       "    19    694664    1255064.0      1.8      0.1      while current_time <= total_time:\n",
       "    20    694663  107468369.0    154.7      8.3          transition_rate_mat[:, :no_domains][logical_and(has_npf_mat, is_npf_loaded_mat == False)] = 5.0 * actin_conc * (42 / (42 + 8))**(1/3)\n",
       "    21    694663  102719603.0    147.9      7.9          transition_rate_mat[:, no_domains:(2 * no_domains)][logical_and(has_npf_mat, is_npf_loaded_mat == True)] = 3.0\n",
       "    22    694663  165902951.0    238.8     12.8          transition_rate_mat[:, (2 * no_domains):] = 1.0 / 2.7e-3 * monomer_count_mat\n",
       "    23                                                   #transition_rate_mat = hstack((loading_rate_mat, unloading_rate_mat, diffusion_rate_mat))\n",
       "    24    694663  215079420.0    309.6     16.5          nonzero_rate_row_mat, nonzero_rate_col_mat = numba_nonzero(transition_rate_mat)\n",
       "    25    694663   40227882.0     57.9      3.1          nonzero_rate_cumsum = numba_cumsum(hstack((0, transition_rate_mat[nonzero_rate_row_mat, nonzero_rate_col_mat].flatten())))\n",
       "    26    694663    8720946.0     12.6      0.7          index_nonzero_transition = numba_search(nonzero_rate_cumsum > nonzero_rate_cumsum[-1] * rand(), True) - 1\n",
       "    27    694663    1067305.0      1.5      0.1          transition_row = nonzero_rate_row_mat[index_nonzero_transition]\n",
       "    28    694663     833392.0      1.2      0.1          transition_col = nonzero_rate_col_mat[index_nonzero_transition]\n",
       "    29    694663    8732174.0     12.6      0.7          index_transition = searchsorted(transition_bin_row > transition_col, True) - 1\n",
       "    30    694663    1184289.0      1.7      0.1          rel_transition_col = transition_col - transition_bin_row[index_transition]\n",
       "    31    694663    1015653.0      1.5      0.1          if index_transition == 2:\n",
       "    32    658431    1501845.0      2.3      0.1              monomer_count_mat[transition_row, rel_transition_col] -= 1\n",
       "    33    658431   22375543.0     34.0      1.7              direction = choice(4)\n",
       "    34    658431     820443.0      1.2      0.1              if direction == 0:\n",
       "    35    164998     263987.0      1.6      0.0                  if rel_transition_col < (no_domains - 1):\n",
       "    36    164966     435518.0      2.6      0.0                      monomer_count_mat[transition_row, rel_transition_col + 1] += 1\n",
       "    37    493433     523743.0      1.1      0.0              elif direction == 1:\n",
       "    38    164634     238875.0      1.5      0.0                  if transition_row > 0:\n",
       "    39    164523     444079.0      2.7      0.0                      monomer_count_mat[transition_row - 1, rel_transition_col] += 1\n",
       "    40    328799     342551.0      1.0      0.0              elif direction == 2:\n",
       "    41    164612     237648.0      1.4      0.0                  if rel_transition_col > 0:\n",
       "    42    164493     436686.0      2.7      0.0                      monomer_count_mat[transition_row, rel_transition_col - 1] += 1\n",
       "    43    164187     258092.0      1.6      0.0              elif transition_row < (no_domains - 1):\n",
       "    44    164151     426386.0      2.6      0.0                  monomer_count_mat[transition_row + 1, rel_transition_col] += 1\n",
       "    45     36232      43887.0      1.2      0.0          elif index_transition == 1:\n",
       "    46      3922       5902.0      1.5      0.0              is_npf_loaded_mat[transition_row, rel_transition_col] = False\n",
       "    47      3922       8613.0      2.2      0.0              monomer_count_mat[transition_row, rel_transition_col] += 1\n",
       "    48                                                   else:\n",
       "    49     32310      48540.0      1.5      0.0              is_npf_loaded_mat[transition_row, rel_transition_col] = True\n",
       "    50                                                   \n",
       "    51    694663    3980485.0      5.7      0.3          time_interval = -log(rand()) / nonzero_rate_cumsum[-1]\n",
       "    52    694663     936397.0      1.3      0.1          current_time += time_interval\n",
       "    53                                                   # Check if barbed end is near a monomer.\n",
       "    54    694663    5804238.0      8.4      0.4          if (end_position < no_domains).all():\n",
       "    55    694663    1964221.0      2.8      0.2              if monomer_count_mat[end_position[0] + 1, end_position[1] + 1] > 0:\n",
       "    56         5         12.0      2.4      0.0                  monomer_count_mat[end_position[0] + 1, end_position[1] + 1] -= 1\n",
       "    57         5         24.0      4.8      0.0                  end_position += 1\n",
       "    58         5          5.0      1.0      0.0                  no_monomers += 1\n",
       "    59    694663    3491441.0      5.0      0.3              if exp(- 11.0 * actin_conc * time_interval) < rand():\n",
       "    60        60        324.0      5.4      0.0                  end_position += 1\n",
       "    61    694663  276912752.0    398.6     21.3          time_row = hstack((time_row, current_time))\n",
       "    62                                                   # From solution.\n",
       "    63    694663  324513836.0    467.2     25.0          no_loaded_npf_row = hstack((no_loaded_npf_row, is_npf_loaded_mat.sum()))\n",
       "    64         1        269.0    269.0      0.0      print(end_position)\n",
       "    65         1         35.0     35.0      0.0      print(no_monomers)\n",
       "    66         1         16.0     16.0      0.0      return no_loaded_npf_row, time_row, monomer_count_mat"
      ]
     },
     "metadata": {},
     "output_type": "display_data"
    }
   ],
   "source": [
    "%lprun -f simulate_2d_polymerase no_loaded_npf_row, time_row, monomer_count_row = simulate_2d_polymerase()"
   ]
  },
  {
   "cell_type": "code",
   "execution_count": 5,
   "metadata": {},
   "outputs": [
    {
     "data": {
      "text/plain": [
       "[<matplotlib.lines.Line2D at 0x7f0939792208>]"
      ]
     },
     "execution_count": 5,
     "metadata": {},
     "output_type": "execute_result"
    },
    {
     "data": {
      "image/png": "[encoded data removed]",
      "text/plain": [
       "<Figure size 432x288 with 1 Axes>"
      ]
     },
     "metadata": {
      "needs_background": "light"
     },
     "output_type": "display_data"
    }
   ],
   "source": [
    "from matplotlib.pyplot import subplots\n",
    "figure_hand, axes_hand = subplots()\n",
    "axes_hand.plot(time_row, no_loaded_npf_row)"
   ]
  }
 ],
 "metadata": {
  "kernelspec": {
   "display_name": "Python 3",
   "language": "python",
   "name": "python3"
  },
  "language_info": {
   "codemirror_mode": {
    "name": "ipython",
    "version": 3
   },
   "file_extension": ".py",
   "mimetype": "text/x-python",
   "name": "python",
   "nbconvert_exporter": "python",
   "pygments_lexer": "ipython3",
   "version": "3.6.10"
  }
 },
 "nbformat": 4,
 "nbformat_minor": 4
}
