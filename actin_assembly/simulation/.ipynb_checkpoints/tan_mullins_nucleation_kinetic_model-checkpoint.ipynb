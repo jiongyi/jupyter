{
 "cells": [
  {
   "cell_type": "code",
   "execution_count": 1,
   "metadata": {},
   "outputs": [],
   "source": [
    "from numpy import sqrt\n",
    "def assemble_network(load_const = 10.0, transfer_const = 1.0, \n",
    "               elongation_const = 100.0, nucleation_const = 1.0, capping_const = 0.1, \n",
    "               ppr_max = 1.0, wh2_max = 1.0):\n",
    "    wh2_eq = sqrt(capping_const / nucleation_const)\n",
    "    # Set up quadratic.\n",
    "    a = elongation_const * (capping_const + elongation_const * wh2_eq)\n",
    "    b = (load_const + transfer_const * (wh2_max - wh2_eq)) * (capping_const + elongation_const * wh2_eq)\n",
    "    c = - load_const * transfer_const * (wh2_max - wh2_eq) * ppr_max\n",
    "    if (b**2 - 4 * a * c < 0):\n",
    "        print(\"Non-real solution\")\n",
    "    ends_eq = (-b + sqrt(b**2 - 4 * a * c)) / (2 * a)\n",
    "    if ends_eq < 0.0:\n",
    "        ends_eq = (-b - sqrt(b**2 - 4 * a * c)) / (2 * a)\n",
    "    if ends_eq < 0.0:\n",
    "        print(\"Network failed to assemble\")\n",
    "    ppr_eq = load_const * ppr_max / (load_const + elongation_const * ends_eq + transfer_const * (wh2_max - wh2_eq))\n",
    "    return ppr_eq, wh2_eq, ends_eq"
   ]
  },
  {
   "cell_type": "code",
   "execution_count": 2,
   "metadata": {},
   "outputs": [],
   "source": [
    "from numpy import linspace, zeros\n",
    "def capping_effect(k_cap_max, k_load, k_transfer, k_pol, k_nuc, pa_max, wa_max):\n",
    "    capping_const_row = linspace(0.1, k_cap_max, 100)\n",
    "    no_points = len(capping_const_row)\n",
    "    ppr_eq_row = zeros(no_points)\n",
    "    wh2_eq_row = zeros(no_points)\n",
    "    ends_eq_row = zeros(no_points)\n",
    "\n",
    "    for i in range(no_points):\n",
    "        i_ppr_eq, i_wh2_eq, i_ends_eq = assemble_network(load_const = k_load,\n",
    "                                                         transfer_const = k_transfer,\n",
    "                                                         elongation_const = k_pol,\n",
    "                                                         nucleation_const = k_nuc,\n",
    "                                                         ppr_max = pa_max,\n",
    "                                                         wh2_max = wa_max,\n",
    "                                                         capping_const = capping_const_row[i])\n",
    "        ppr_eq_row[i] = i_ppr_eq\n",
    "        wh2_eq_row[i] = i_wh2_eq\n",
    "        ends_eq_row[i] = i_ends_eq\n",
    "    return ppr_eq_row, wh2_eq_row, ends_eq_row"
   ]
  }
 ],
 "metadata": {
  "kernelspec": {
   "display_name": "Python 3",
   "language": "python",
   "name": "python3"
  },
  "language_info": {
   "codemirror_mode": {
    "name": "ipython",
    "version": 3
   },
   "file_extension": ".py",
   "mimetype": "text/x-python",
   "name": "python",
   "nbconvert_exporter": "python",
   "pygments_lexer": "ipython3",
   "version": "3.6.9"
  }
 },
 "nbformat": 4,
 "nbformat_minor": 4
}
