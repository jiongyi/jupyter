{
 "cells": [
  {
   "cell_type": "markdown",
   "metadata": {},
   "source": [
    "# Rate equations\n",
    "\n",
    "\\begin{align}\n",
    "\\frac{d[PA]}{dt} &= k_L ([PA]_{max} - [PA])- k_T [PA]([WA]_{max} - [WA]) - k_P [E][PA] \\\\\n",
    "\\frac{d[WA]}{dt} &= k_T [PA] ([WA]_{max} - [WA]) - k_N [E][WA]^2 - k_P [E][WA] \\\\\n",
    "\\frac{d[E]}{dt} &= k_N [E] [WA]^2 - k_C [E]\n",
    "\\end{align}"
   ]
  },
  {
   "cell_type": "code",
   "execution_count": 108,
   "metadata": {},
   "outputs": [],
   "source": [
    "from numpy import array, zeros, arange, sqrt\n",
    "def nucleation(load_rate = 10.0, transfer_rate = 1.0, \n",
    "               elongation_rate = 100.0, nucleation_rate = 1.0, capping_rate = 0.1, \n",
    "               ppr_max = 1.0, wh2_max = 1.0, total_time = 300.0):\n",
    "    time_interval = 1e-3\n",
    "    time_row = arange(0.0, total_time, time_interval)\n",
    "    no_points = len(time_row)\n",
    "    ppr_row = zeros(no_points)\n",
    "    wh2_row = zeros(no_points)\n",
    "    ends_row = zeros(no_points)\n",
    "    ends_row[0] = 1.0\n",
    "    # Check constraint\n",
    "    wh2_eq = sqrt(capping_rate / nucleation_rate)\n",
    "    a = elongation_rate * (capping_rate + elongation_rate * wh2_eq)\n",
    "    b = (load_rate + transfer_rate * (wh2_max - wh2_eq)) * (capping_rate + elongation_rate * wh2_eq)\n",
    "    c = - load_rate * transfer_rate * (wh2_max - wh2_eq) * ppr_max\n",
    "    ends_eq = (-b + sqrt(b**2 - 4 * a * c)) / (2 * a)\n",
    "    if ends_eq < 0.0:\n",
    "        ends_eq = (-b -sqrt(b**2 - 4 * a * c)) / (2 * a)\n",
    "    print(ends_eq)\n",
    "    for i in range(0, no_points - 1):\n",
    "        load_change = load_rate * (ppr_max - ppr_row[i])\n",
    "        transfer_change = transfer_rate * ppr_row[i] * (wh2_max - wh2_row[i])\n",
    "        ppr_elongation_change = elongation_rate * ends_row[i] * ppr_row[i]\n",
    "        wh2_elongation_change = elongation_rate * ends_row[i] * wh2_row[i]\n",
    "        nucleation_change = nucleation_rate * ends_row[i] * wh2_row[i]**2\n",
    "        capping_change = capping_rate * ends_row[i]\n",
    "        ppr_change = load_change - transfer_change - ppr_elongation_change\n",
    "        wh2_change = transfer_change - nucleation_change - wh2_elongation_change\n",
    "        ends_change = nucleation_change - capping_change\n",
    "        ppr_row[i + 1] = ppr_row[i] + ppr_change * time_interval\n",
    "        wh2_row[i + 1] = wh2_row[i] + wh2_change * time_interval\n",
    "        ends_row[i + 1] = ends_row[i] + ends_change * time_interval\n",
    "    return time_row, ppr_row, wh2_row, ends_row\n",
    "\n",
    "def nucleation2(load_rate = 10.0, transfer_rate = 1.0, \n",
    "               elongation_rate = 100.0, nucleation_rate = 1.0, capping_rate = 0.1, \n",
    "               ppr_max = 1.0, wh2_max = 1.0):\n",
    "    wh2_eq = sqrt(capping_rate / nucleation_rate)\n",
    "    # Set up quadratic.\n",
    "    a = elongation_rate * (capping_rate + elongation_rate * wh2_eq)\n",
    "    b = (load_rate + transfer_rate * (wh2_max - wh2_eq)) * (capping_rate + elongation_rate * wh2_eq)\n",
    "    c = - load_rate * transfer_rate * (wh2_max - wh2_eq) * ppr_max\n",
    "    if (b**2 - 4 * a * c < 0):\n",
    "        print(\"Non-real solution\")\n",
    "    ends_eq = (-b + sqrt(b**2 - 4 * a * c)) / (2 * a)\n",
    "    if ends_eq < 0.0:\n",
    "        ends_eq = (-b - sqrt(b**2 - 4 * a * c)) / (2 * a)\n",
    "    ppr_eq = load_rate * ppr_max / (load_rate + elongation_rate * ends_eq + transfer_rate * (wh2_max - wh2_eq))\n",
    "    return ppr_eq, wh2_eq, ends_eq"
   ]
  },
  {
   "cell_type": "code",
   "execution_count": 112,
   "metadata": {},
   "outputs": [],
   "source": [
    "# Check monomer gating.\n",
    "capping_rate_row = arange(0.1, 120.0, 1)\n",
    "no_points = len(capping_rate_row)\n",
    "ppr_eq_row = zeros(no_points)\n",
    "wh2_eq_row = zeros(no_points)\n",
    "ends_eq_row = zeros(no_points)\n",
    "for i in range(no_points):\n",
    "    i_ppr_eq, i_wh2_eq, i_ends_eq = nucleation2(ppr_max = 10.0, wh2_max = 10.0, capping_rate = capping_rate_row[i])\n",
    "    ppr_eq_row[i] = i_ppr_eq\n",
    "    wh2_eq_row[i] = i_wh2_eq\n",
    "    ends_eq_row[i] = i_ends_eq"
   ]
  },
  {
   "cell_type": "code",
   "execution_count": 113,
   "metadata": {},
   "outputs": [
    {
     "data": {
      "text/plain": [
       "<matplotlib.legend.Legend at 0x7f686c7f2f98>"
      ]
     },
     "execution_count": 113,
     "metadata": {},
     "output_type": "execute_result"
    },
    {
     "data": {
      "image/png": "[encoded data removed]",
      "text/plain": [
       "<Figure size 432x288 with 1 Axes>"
      ]
     },
     "metadata": {
      "needs_background": "light"
     },
     "output_type": "display_data"
    }
   ],
   "source": [
    "%matplotlib inline\n",
    "from matplotlib.pyplot import subplots\n",
    "figure_handle, axes_handle = subplots()\n",
    "axes_handle.plot(capping_rate_row, ends_eq_row * wh2_eq_row**2, linewidth = 2, label = 'nucleation rate')\n",
    "axes_handle.plot(capping_rate_row, ends_eq_row, linewidth = 2, label = 'filament density')\n",
    "axes_handle.tick_params(labelsize = 18)\n",
    "axes_handle.set_xlabel(r'$k_C$ (/s)', fontsize = 18)\n",
    "axes_handle.set_ylabel('Steady state', fontsize = 18)\n",
    "axes_handle.legend(fontsize = 18)"
   ]
  },
  {
   "cell_type": "code",
   "execution_count": null,
   "metadata": {},
   "outputs": [],
   "source": []
  }
 ],
 "metadata": {
  "kernelspec": {
   "display_name": "Python 3",
   "language": "python",
   "name": "python3"
  },
  "language_info": {
   "codemirror_mode": {
    "name": "ipython",
    "version": 3
   },
   "file_extension": ".py",
   "mimetype": "text/x-python",
   "name": "python",
   "nbconvert_exporter": "python",
   "pygments_lexer": "ipython3",
   "version": "3.6.9"
  }
 },
 "nbformat": 4,
 "nbformat_minor": 4
}
