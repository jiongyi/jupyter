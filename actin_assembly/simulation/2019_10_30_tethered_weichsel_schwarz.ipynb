{
 "cells": [
  {
   "cell_type": "code",
   "execution_count": 1,
   "metadata": {},
   "outputs": [],
   "source": [
    "from tethered_weichsel_schwarz import *"
   ]
  },
  {
   "cell_type": "code",
   "execution_count": 2,
   "metadata": {},
   "outputs": [],
   "source": [
    "actin_network_obj = network()\n",
    "actin_network_obj.kCap = 0.08\n",
    "actin_network_obj.totalTime = 20.0"
   ]
  },
  {
   "cell_type": "code",
   "execution_count": null,
   "metadata": {},
   "outputs": [],
   "source": [
    "actin_network_obj.simulate()"
   ]
  },
  {
   "cell_type": "code",
   "execution_count": null,
   "metadata": {},
   "outputs": [],
   "source": [
    "len(actin_network_obj.idxActiveBarbArr)"
   ]
  },
  {
   "cell_type": "code",
   "execution_count": null,
   "metadata": {},
   "outputs": [],
   "source": [
    "print(actin_network_obj.xLead / actin_network_obj.t * 60 / 1000)"
   ]
  },
  {
   "cell_type": "code",
   "execution_count": null,
   "metadata": {},
   "outputs": [],
   "source": [
    "print(actin_network_obj.N)"
   ]
  },
  {
   "cell_type": "code",
   "execution_count": null,
   "metadata": {},
   "outputs": [],
   "source": [
    "%matplotlib inline\n",
    "from numpy import arctan, pi, linspace\n",
    "from matplotlib.pyplot import subplots\n",
    "fig1_hand, axes1_hand = subplots()\n",
    "fig1_hand.set_figheight(5)\n",
    "fig1_hand.set_figwidth(8)\n",
    "bin_row = linspace(-90, 90, 20)\n",
    "axes1_hand.hist(arctan(actin_network_obj.vArr[200:] / actin_network_obj.uArr[200:]) / pi * 180, bins = bin_row)\n",
    "axes1_hand.tick_params(labelsize = 14)\n",
    "axes1_hand.set_xlabel('Filament orientation', fontsize = 14)\n",
    "axes1_hand.set_ylabel('Filament count', fontsize = 14)"
   ]
  },
  {
   "cell_type": "code",
   "execution_count": null,
   "metadata": {},
   "outputs": [],
   "source": [
    "print(actin_network_obj.no_monomers / actin_network_obj.N * 2.7)"
   ]
  }
 ],
 "metadata": {
  "kernelspec": {
   "display_name": "Python 3",
   "language": "python",
   "name": "python3"
  },
  "language_info": {
   "codemirror_mode": {
    "name": "ipython",
    "version": 3
   },
   "file_extension": ".py",
   "mimetype": "text/x-python",
   "name": "python",
   "nbconvert_exporter": "python",
   "pygments_lexer": "ipython3",
   "version": "3.6.9"
  }
 },
 "nbformat": 4,
 "nbformat_minor": 4
}
