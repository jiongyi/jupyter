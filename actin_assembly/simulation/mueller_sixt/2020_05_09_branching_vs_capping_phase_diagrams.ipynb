{
 "cells": [
  {
   "cell_type": "code",
   "execution_count": 1,
   "metadata": {},
   "outputs": [],
   "source": [
    "from numpy import linspace, zeros, flip, arange, unravel_index\n",
    "from joblib import Parallel, delayed\n",
    "from matplotlib.pyplot import subplots, colorbar\n",
    "from matplotlib.cm import get_cmap\n",
    "from mueller_sixt import Network\n",
    "from dill import dump_session, load_session\n",
    "from mpl_toolkits.axes_grid1 import make_axes_locatable"
   ]
  },
  {
   "cell_type": "code",
   "execution_count": 2,
   "metadata": {},
   "outputs": [],
   "source": [
    "num_intervals = 10\n",
    "num_replicates = 1\n",
    "num_points = num_intervals**2\n",
    "branching_rate_const_row = linspace(1e-1, 10.0, num_intervals)\n",
    "capping_rate_const_row = linspace(1e-1, 10.0, num_intervals)\n",
    "order_parameter_mat = zeros((num_intervals, num_intervals, num_replicates))\n",
    "rel_growth_rate_mat = zeros((num_intervals, num_intervals, num_replicates))\n",
    "nucleation_rate_mat = zeros((num_intervals, num_intervals, num_replicates))\n",
    "density_active_mat = zeros((num_intervals, num_intervals, num_replicates))"
   ]
  },
  {
   "cell_type": "code",
   "execution_count": 3,
   "metadata": {},
   "outputs": [],
   "source": [
    "def compute_network_properties(x, y):\n",
    "    network = Network(branching_rate_const=x, capping_rate_const=y)\n",
    "    network.simulate()\n",
    "    network.compute_order_parameter()\n",
    "    rel_growth_rate = network.leading_edge_position / network.current_time / network.elongation_rate_const / network.monomer_width\n",
    "    nucleation_rate = (network.barbed_position_mat.shape[0] - 200) / network.current_time\n",
    "    density_active = network.active_in_region_index.size\n",
    "    return network.order_parameter, rel_growth_rate, nucleation_rate, density_active"
   ]
  },
  {
   "cell_type": "code",
   "execution_count": null,
   "metadata": {},
   "outputs": [],
   "source": [
    "for k in range(num_replicates):\n",
    "    for i in range(num_intervals):\n",
    "        ijk_output = Parallel(n_jobs=-2)(delayed(compute_network_properties)(branching_rate_const_row[i], capping_rate_const_row[j]) for j in range(num_intervals))\n",
    "        for j in range(num_intervals):\n",
    "            order_parameter_mat[i, j, k] = ijk_output[j][0]\n",
    "            rel_growth_rate_mat[i, j, k] = ijk_output[j][1]\n",
    "            nucleation_rate_mat[i, j, k] = ijk_output[j][2]\n",
    "            density_active_mat[i, j, k] = ijk_output[j][3]"
   ]
  },
  {
   "cell_type": "code",
   "execution_count": null,
   "metadata": {},
   "outputs": [],
   "source": [
    "ticks_row = linspace(1, num_intervals - 1, 5, dtype=int)\n",
    "x_label_row = []\n",
    "y_label_row = []\n",
    "for i in ticks_row:\n",
    "    x_label_row.append('{:.2f}'.format(capping_rate_const_row[i]))\n",
    "    y_label_row.append('{:.0f}'.format(branching_rate_const_row[-i]))"
   ]
  },
  {
   "cell_type": "code",
   "execution_count": null,
   "metadata": {},
   "outputs": [],
   "source": [
    "fig5_hand, axes5_hand = subplots(2, 2, sharey=True, sharex=True)\n",
    "fig5_hand.set_figwidth(11)\n",
    "fig5_hand.set_figheight(11)\n",
    "im5a_hand = axes5_hand[0][0].imshow(flip(order_parameter_mat, 0).mean(axis=-1), cmap=get_cmap('coolwarm'))\n",
    "axes5_hand[0][0].set_title('Order parameter', fontsize=16)\n",
    "im5b_hand = axes5_hand[0][1].imshow(flip(rel_growth_rate_mat, 0).mean(axis=-1), cmap=get_cmap('Reds'))\n",
    "axes5_hand[0][1].set_title('Growth rate', fontsize=16)\n",
    "im5c_hand = axes5_hand[1][0].imshow(flip(density_active_mat, 0).mean(axis=-1), cmap=get_cmap('Reds'))\n",
    "axes5_hand[1][0].set_title('Barbed-end density', fontsize=16)\n",
    "im5d_hand = axes5_hand[1][1].imshow(flip(nucleation_rate_mat, 0).mean(axis=-1), cmap=get_cmap('Reds'))\n",
    "axes5_hand[1][1].set_title('Nucleation rate', fontsize=16)\n",
    "for i in range(2):\n",
    "    for j in range(2):\n",
    "        axes5_hand[i][j].set_xticks(ticks_row)\n",
    "        axes5_hand[i][j].set_xticklabels(x_label_row, fontsize=12)\n",
    "        axes5_hand[i][j].set_yticks(ticks_row)\n",
    "        axes5_hand[i][j].set_yticklabels(y_label_row, fontsize=12)\n",
    "bar5a_hand = fig5_hand.colorbar(im5a_hand, ax=axes5_hand[0][0], fraction=0.046, pad=0.04)\n",
    "bar5a_hand.ax.tick_params(labelsize=12)\n",
    "bar5b_hand = fig5_hand.colorbar(im5b_hand, ax=axes5_hand[0][1], fraction=0.046, pad=0.04)\n",
    "bar5b_hand.ax.tick_params(labelsize=12)\n",
    "bar5c_hand = fig5_hand.colorbar(im5c_hand, ax=axes5_hand[1][0], fraction=0.046, pad=0.04)\n",
    "bar5c_hand.ax.tick_params(labelsize=12)\n",
    "axes5_hand[1][0].set_xlabel('Capping rate constant (/s)', fontsize=16)\n",
    "axes5_hand[1][0].set_ylabel('Branching rate constant (/s)', fontsize=16)\n",
    "bar5d_hand = fig5_hand.colorbar(im5d_hand, ax=axes5_hand[1][1], fraction=0.046, pad=0.04)\n",
    "bar5d_hand.ax.tick_params(labelsize=12)\n",
    "fig5_hand.savefig('capping-rate-const-vs-branching-rate-const-phase-diagrams.png')"
   ]
  }
 ],
 "metadata": {
  "kernelspec": {
   "display_name": "Python 3",
   "language": "python",
   "name": "python3"
  },
  "language_info": {
   "codemirror_mode": {
    "name": "ipython",
    "version": 3
   },
   "file_extension": ".py",
   "mimetype": "text/x-python",
   "name": "python",
   "nbconvert_exporter": "python",
   "pygments_lexer": "ipython3",
   "version": "3.6.10"
  }
 },
 "nbformat": 4,
 "nbformat_minor": 4
}
