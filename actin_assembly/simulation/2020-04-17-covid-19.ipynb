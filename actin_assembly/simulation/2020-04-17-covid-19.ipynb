{
 "cells": [
  {
   "cell_type": "code",
   "execution_count": null,
   "metadata": {},
   "outputs": [],
   "source": [
    "negative_tests = array([350, 311, 333, 392, 466, 639, 677, 529, 665, 673, 644, 480, 562, 657, 499, 511, 577, 399, 375, 447, 574, 487, 581, 534, 411, 270, 510, 191, 35])\n",
    "positive_tests = array([34, 52, 43, 50, 50, 61, 72, 54, 76, 67, 52, 51, 73, 62, 54, 46, 52, 46, 65, 40, 36, 53, 67, 69, 41, 58, 44, 8, 0])\n",
    "total_tests = negative_tests + positive_tests\n",
    "positive_rates = positive_tests / total_tests"
   ]
  },
  {
   "cell_type": "code",
   "execution_count": null,
   "metadata": {},
   "outputs": [],
   "source": [
    "from numpy import diff\n",
    "from matplotlib.pyplot import subplots\n",
    "figure_hand, axes_hand = subplots()\n",
    "axes_hand.plot(diff(total_tests) / total_tests[0], label = 'test')\n",
    "axes_hand.plot(diff(positive_rates) / positive_rates[0], label = 'positive-rate')\n",
    "axes_hand.legend(fontsize = 12)\n",
    "axes_hand.set_xlabel('Days', fontsize = 18)\n",
    "axes_hand.set_ylabel('Percent change', fontsize = 18)"
   ]
  }
 ],
 "metadata": {
  "kernelspec": {
   "display_name": "Python 3",
   "language": "python",
   "name": "python3"
  },
  "language_info": {
   "codemirror_mode": {
    "name": "ipython",
    "version": 3
   },
   "file_extension": ".py",
   "mimetype": "text/x-python",
   "name": "python",
   "nbconvert_exporter": "python",
   "pygments_lexer": "ipython3",
   "version": "3.6.10"
  }
 },
 "nbformat": 4,
 "nbformat_minor": 4
}
