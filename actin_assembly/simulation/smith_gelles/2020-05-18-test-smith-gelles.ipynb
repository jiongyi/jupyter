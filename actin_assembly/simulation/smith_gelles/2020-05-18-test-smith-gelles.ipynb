{
 "cells": [
  {
   "cell_type": "code",
   "execution_count": 1,
   "metadata": {},
   "outputs": [],
   "source": [
    "from smith_gelles import Network"
   ]
  },
  {
   "cell_type": "code",
   "execution_count": 2,
   "metadata": {},
   "outputs": [],
   "source": [
    "test_network = Network()\n",
    "test_network.calculate_transition_rates()"
   ]
  },
  {
   "cell_type": "code",
   "execution_count": 3,
   "metadata": {},
   "outputs": [
    {
     "data": {
      "text/plain": [
       "array([[5.50000000e+01, 2.51861054e-01, 5.35449482e-02, ...,\n",
       "        0.00000000e+00, 0.00000000e+00, 1.92187702e+00],\n",
       "       [5.50000000e+01, 3.37162238e+00, 2.14786936e-02, ...,\n",
       "        0.00000000e+00, 0.00000000e+00, 1.92187702e+00],\n",
       "       [5.50000000e+01, 1.47061651e-02, 2.58451278e-01, ...,\n",
       "        0.00000000e+00, 0.00000000e+00, 1.92187702e+00],\n",
       "       ...,\n",
       "       [2.54482058e+01, 0.00000000e+00, 3.16692826e-01, ...,\n",
       "        0.00000000e+00, 0.00000000e+00, 0.00000000e+00],\n",
       "       [2.54482058e+01, 0.00000000e+00, 3.16692826e-01, ...,\n",
       "        0.00000000e+00, 0.00000000e+00, 0.00000000e+00],\n",
       "       [2.54482058e+01, 0.00000000e+00, 3.16692826e-01, ...,\n",
       "        0.00000000e+00, 0.00000000e+00, 0.00000000e+00]])"
      ]
     },
     "execution_count": 3,
     "metadata": {},
     "output_type": "execute_result"
    }
   ],
   "source": [
    "test_network.transition_rate_mat"
   ]
  },
  {
   "cell_type": "code",
   "execution_count": null,
   "metadata": {},
   "outputs": [],
   "source": []
  }
 ],
 "metadata": {
  "kernelspec": {
   "display_name": "Python 3",
   "language": "python",
   "name": "python3"
  },
  "language_info": {
   "codemirror_mode": {
    "name": "ipython",
    "version": 3
   },
   "file_extension": ".py",
   "mimetype": "text/x-python",
   "name": "python",
   "nbconvert_exporter": "python",
   "pygments_lexer": "ipython3",
   "version": "3.6.10"
  }
 },
 "nbformat": 4,
 "nbformat_minor": 4
}
