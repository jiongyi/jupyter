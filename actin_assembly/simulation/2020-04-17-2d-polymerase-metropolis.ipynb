{
 "cells": [
  {
   "cell_type": "code",
   "execution_count": 1,
   "metadata": {},
   "outputs": [],
   "source": [
    "from numpy import sqrt, zeros, exp, linspace, meshgrid, array\n",
    "from numpy.random import rand, choice"
   ]
  },
  {
   "cell_type": "code",
   "execution_count": 2,
   "metadata": {},
   "outputs": [],
   "source": [
    "# Constants.\n",
    "wh2_density = 1000.0 # per square micron\n",
    "actin_conc = 5.0\n",
    "diff_rate_const = 1.0 / (2.7e-3)**2\n",
    "elongation_rate_const = 11.0\n",
    "elongation_rate = elongation_rate_const * actin_conc\n",
    "wh2_loading_rate_const = 5.0\n",
    "loading_rate = wh2_loading_rate_const * actin_conc * (42 / (42 + 8))**(1/3) # Correct for dimension.\n",
    "unloading_rate = 3.0 # per second"
   ]
  },
  {
   "cell_type": "code",
   "execution_count": 3,
   "metadata": {},
   "outputs": [],
   "source": [
    "# Setup simulation.\n",
    "no_wh2s_line = int(sqrt(wh2_density))\n",
    "no_wh2s = no_wh2s_line**2\n",
    "npf_state_mat = zeros((no_wh2s_line, no_wh2s_line), dtype = bool)\n",
    "current_time = 0.0\n",
    "time_interval = 1e-5\n",
    "total_time = 10.0\n",
    "\n",
    "no_domains_line = int(1.0 / 2.7e-3)\n",
    "monomer_count_mat = zeros((no_domains_line, no_domains_line), dtype = int)\n",
    "index_wh2_row = linspace(0, no_domains_line - 1, no_wh2s_line, dtype = int)\n",
    "index_wh2_row_mat, index_wh2_col_mat = meshgrid(index_wh2_row, index_wh2_row, indexing = 'ij')\n",
    "has_wh2_mat = zeros(monomer_count_mat.shape)\n",
    "has_wh2_mat[index_wh2_row_mat, index_wh2_col_mat] = True\n",
    "\n",
    "# Barbed end.\n",
    "end_position = array([1, 0])"
   ]
  },
  {
   "cell_type": "code",
   "execution_count": 4,
   "metadata": {},
   "outputs": [],
   "source": [
    "# Iterate.\n",
    "while current_time <= total_time and end_position[1] < (no_domains_line - 2):\n",
    "    # Check barbed end.\n",
    "    if exp(-elongation_rate * time_interval) < rand():\n",
    "        end_position[1] += 1\n",
    "    if monomer_count_mat[end_position[0], end_position[1] + 1] > 0:\n",
    "        monomer_count_mat[end_position[0], end_position[1] + 1] -= 1\n",
    "        end_position[1] += 1\n",
    "    # Diffuse free monomers.\n",
    "    do_move_mat = exp(-diff_rate_const * monomer_count_mat * time_interval) < rand(no_domains_line, no_domains_line)\n",
    "    monomer_count_mat[do_move_mat] -= 1\n",
    "    index_move_row_mat, index_move_col_mat = do_move_mat.nonzero()\n",
    "    no_moves = index_move_row_mat.size\n",
    "    for i in range(no_moves):\n",
    "        direction = choice(4)\n",
    "        if direction == 0:\n",
    "            if index_move_col_mat[i] < (no_domains_line - 1):\n",
    "                monomer_count_mat[index_move_row_mat[i], index_move_col_mat[i] + 1] += 1\n",
    "        elif direction == 1:\n",
    "            if index_move_row_mat[i] > 0:\n",
    "                monomer_count_mat[index_move_row_mat[i] - 1, index_move_col_mat[i]] += 1\n",
    "        elif direction == 2:\n",
    "            if index_move_col_mat[i] > 0:\n",
    "                monomer_count_mat[index_move_row_mat[i], index_move_col_mat[i] - 1] += 1\n",
    "        elif index_move_row_mat[i] < (no_domains_line - 1):\n",
    "            monomer_count_mat[index_move_row_mat[i] + 1, index_move_col_mat[i]] += 1\n",
    "    # Check NPFs for loading and unloading.\n",
    "    rand_mat = rand(no_wh2s_line, no_wh2s_line)\n",
    "    loading_prob_mat = rand_mat * (npf_state_mat == False)\n",
    "    unloading_prob_mat = rand_mat * (npf_state_mat == True)\n",
    "    npf_state_mat[exp(-loading_rate * time_interval) < loading_prob_mat] = True\n",
    "    is_unloading_likely_mat = exp(-unloading_rate * time_interval) < unloading_prob_mat\n",
    "    npf_state_mat[is_unloading_likely_mat] = False\n",
    "    monomer_count_mat[index_wh2_row_mat[is_unloading_likely_mat], index_wh2_col_mat[is_unloading_likely_mat]] += 1\n",
    "    current_time += time_interval"
   ]
  },
  {
   "cell_type": "code",
   "execution_count": 6,
   "metadata": {},
   "outputs": [
    {
     "name": "stdout",
     "output_type": "stream",
     "text": [
      "[ 0.17855995 65.7100615 ]\n"
     ]
    }
   ],
   "source": [
    "print(end_position / current_time)"
   ]
  },
  {
   "cell_type": "code",
   "execution_count": null,
   "metadata": {},
   "outputs": [],
   "source": []
  }
 ],
 "metadata": {
  "kernelspec": {
   "display_name": "Python 3",
   "language": "python",
   "name": "python3"
  },
  "language_info": {
   "codemirror_mode": {
    "name": "ipython",
    "version": 3
   },
   "file_extension": ".py",
   "mimetype": "text/x-python",
   "name": "python",
   "nbconvert_exporter": "python",
   "pygments_lexer": "ipython3",
   "version": "3.6.10"
  }
 },
 "nbformat": 4,
 "nbformat_minor": 4
}
