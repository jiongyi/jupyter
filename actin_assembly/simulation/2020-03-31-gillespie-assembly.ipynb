{
 "cells": [
  {
   "cell_type": "code",
   "execution_count": 1,
   "metadata": {},
   "outputs": [],
   "source": [
    "%load_ext line_profiler\n",
    "from gillespie_simulation import *"
   ]
  },
  {
   "cell_type": "code",
   "execution_count": 2,
   "metadata": {},
   "outputs": [
    {
     "name": "stdout",
     "output_type": "stream",
     "text": [
      "10.0\n",
      "20.0\n",
      "30.000000000000004\n",
      "40.0\n",
      "50.0\n",
      "60.0\n",
      "70.0\n",
      "80.0\n",
      "89.99999999999999\n",
      "99.99999999999999\n",
      "47614\n",
      "8.877409242512998\n"
     ]
    },
    {
     "data": {
      "text/plain": [
       "Timer unit: 1e-06 s\n",
       "\n",
       "Total time: 329.999 s\n",
       "File: /home/jiongyi/github/jupyter/actin_assembly/simulation/gillespie_simulation.py\n",
       "Function: simulate at line 225\n",
       "\n",
       "Line #      Hits         Time  Per Hit   % Time  Line Contents\n",
       "==============================================================\n",
       "   225                                               def simulate(self):\n",
       "   226         1          2.0      2.0      0.0          i_percent = 0.1\n",
       "   227         1          0.0      0.0      0.0          no_iterations = 0\n",
       "   228     47615     754116.0     15.8      0.2          while (self.current_time <= self.total_time) and (sum(~self.is_capped_row) >= 1):\n",
       "   229     47614  132165406.0   2775.8     40.1              self.calculate_transition_rates()\n",
       "   230     47614  196914132.0   4135.6     59.7              self.gillespie_step()\n",
       "   231     47614     116510.0      2.4      0.0              if self.current_time >= self.total_time * (i_percent):\n",
       "   232        10       1039.0    103.9      0.0                  print(i_percent * 100)\n",
       "   233        10         14.0      1.4      0.0                  i_percent += 0.1\n",
       "   234     47614      47699.0      1.0      0.0              no_iterations += 1\n",
       "   235         1         34.0     34.0      0.0          self.network_height = max(self.end_position_mat[:, 2])\n",
       "   236         1          2.0      2.0      0.0          self.normalized_network_growth_rate = self.network_height / (self.monomer_length * self.elongation_rate * self.current_time)\n",
       "   237         1         32.0     32.0      0.0          print(no_iterations)\n",
       "   238         1         30.0     30.0      0.0          print(self.normalized_network_growth_rate)"
      ]
     },
     "metadata": {},
     "output_type": "display_data"
    }
   ],
   "source": [
    "test_network = network(total_time = 1.0)\n",
    "%lprun -f test_network.simulate test_network.simulate()"
   ]
  }
 ],
 "metadata": {
  "kernelspec": {
   "display_name": "Python 3",
   "language": "python",
   "name": "python3"
  },
  "language_info": {
   "codemirror_mode": {
    "name": "ipython",
    "version": 3
   },
   "file_extension": ".py",
   "mimetype": "text/x-python",
   "name": "python",
   "nbconvert_exporter": "python",
   "pygments_lexer": "ipython3",
   "version": "3.6.10"
  }
 },
 "nbformat": 4,
 "nbformat_minor": 4
}
