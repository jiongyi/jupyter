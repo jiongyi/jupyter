{
 "cells": [
  {
   "cell_type": "code",
   "execution_count": null,
   "id": "behind-video",
   "metadata": {},
   "outputs": [],
   "source": [
    "import numpy as np"
   ]
  },
  {
   "cell_type": "code",
   "execution_count": 6,
   "id": "applied-closure",
   "metadata": {},
   "outputs": [],
   "source": [
    "def simulate_nuclease():\n",
    "    wh2_loading_rate_constant = 10.0\n",
    "    actin_concentration = 5.0\n",
    "    wh2_loading_rate = actin_concentration * wh2_loading_rate_constant\n",
    "    ca_loading_rate_constant = wh2_loading_rate_constant / 1.7\n",
    "    arp23_concentration = 50e-3\n",
    "    ca_loading_rate = arp23_concentration * ca_loading_rate_constant\n",
    "    print(wh2_loading_rate)\n",
    "    print(ca_loading_rate)"
   ]
  },
  {
   "cell_type": "code",
   "execution_count": 7,
   "id": "wooden-contribution",
   "metadata": {},
   "outputs": [
    {
     "name": "stdout",
     "output_type": "stream",
     "text": [
      "50.0\n",
      "0.29411764705882354\n"
     ]
    }
   ],
   "source": [
    "simulate_nuclease()"
   ]
  },
  {
   "cell_type": "code",
   "execution_count": null,
   "id": "radio-enemy",
   "metadata": {},
   "outputs": [],
   "source": []
  }
 ],
 "metadata": {
  "kernelspec": {
   "display_name": "Python 3",
   "language": "python",
   "name": "python3"
  },
  "language_info": {
   "codemirror_mode": {
    "name": "ipython",
    "version": 3
   },
   "file_extension": ".py",
   "mimetype": "text/x-python",
   "name": "python",
   "nbconvert_exporter": "python",
   "pygments_lexer": "ipython3",
   "version": "3.8.8"
  }
 },
 "nbformat": 4,
 "nbformat_minor": 5
}
