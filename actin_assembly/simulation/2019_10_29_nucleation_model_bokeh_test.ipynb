{
 "cells": [
  {
   "cell_type": "code",
   "execution_count": 1,
   "metadata": {},
   "outputs": [],
   "source": [
    "from numpy import sqrt, linspace\n",
    "def steady_state(load_const = 1.0, transfer_const = 0.1,\n",
    "               elongation_const = 0.5, nucleation_const = 0.05):\n",
    "    # Maximum capping rate constant.\n",
    "    max_capping_const = nucleation_const * 1.0**2\n",
    "    capping_rate_row = linspace(1e-3, max_capping_const, 100)\n",
    "    # Steady state for WA domain occupancy.\n",
    "    wh2_eq_row = sqrt(capping_rate_row / nucleation_const)\n",
    "    # Set up quadratic.\n",
    "    a = elongation_const * (capping_rate_row + elongation_const)\n",
    "    b = (load_const + transfer_const * (1.0 - wh2_eq_row)) * (capping_rate_row + elongation_const)\n",
    "    c = - load_const * transfer_const * (1.0 - wh2_eq_row)\n",
    "    ends_eq_row = (-b + sqrt(b**2 - 4 * a * c)) / (2 * a)\n",
    "    ppr_eq_row = load_const / (load_const + elongation_const * ends_eq_row + transfer_const * (1.0 - wh2_eq_row))\n",
    "    return ppr_eq_row, wh2_eq_row, ends_eq_row"
   ]
  },
  {
   "cell_type": "code",
   "execution_count": 2,
   "metadata": {},
   "outputs": [],
   "source": [
    "ppr_eq_row, wh2_eq_row, ends_eq_row = steady_state(load_const = 0.01)"
   ]
  },
  {
   "cell_type": "code",
   "execution_count": 3,
   "metadata": {},
   "outputs": [
    {
     "data": {
      "text/plain": [
       "array([0.09607086, 0.09912499, 0.10186169, 0.10440578, 0.10682133,\n",
       "       0.1091465 , 0.11140624, 0.11361797, 0.11579452, 0.11794567,\n",
       "       0.12007917, 0.12220129, 0.12431725, 0.1264315 , 0.12854785,\n",
       "       0.1306697 , 0.13280005, 0.13494166, 0.13709704, 0.13926852,\n",
       "       0.14145833, 0.14366855, 0.1459012 , 0.14815824, 0.15044157,\n",
       "       0.15275306, 0.15509457, 0.15746796, 0.15987508, 0.1623178 ,\n",
       "       0.16479801, 0.16731764, 0.16987863, 0.17248301, 0.17513282,\n",
       "       0.17783019, 0.1805773 , 0.18337643, 0.18622992, 0.18914021,\n",
       "       0.19210984, 0.19514148, 0.19823789, 0.20140197, 0.20463678,\n",
       "       0.2079455 , 0.21133151, 0.21479834, 0.21834973, 0.22198962,\n",
       "       0.2257222 , 0.22955189, 0.23348336, 0.23752162, 0.24167195,\n",
       "       0.24594   , 0.25033179, 0.25485376, 0.25951279, 0.26431625,\n",
       "       0.26927207, 0.27438875, 0.27967547, 0.28514211, 0.29079937,\n",
       "       0.29665883, 0.30273305, 0.30903571, 0.3155817 , 0.32238729,\n",
       "       0.32947032, 0.33685035, 0.34454893, 0.35258986, 0.36099949,\n",
       "       0.36980713, 0.37904543, 0.38875097, 0.39896484, 0.40973344,\n",
       "       0.42110936, 0.43315257, 0.44593178, 0.45952618, 0.4740277 ,\n",
       "       0.48954374, 0.50620083, 0.52414932, 0.54356964, 0.56468069,\n",
       "       0.58775144, 0.61311704, 0.64120215, 0.67255525, 0.70790114,\n",
       "       0.74822433, 0.79490819, 0.84998144, 0.91659011, 1.        ])"
      ]
     },
     "execution_count": 3,
     "metadata": {},
     "output_type": "execute_result"
    }
   ],
   "source": [
    "ppr_eq_row"
   ]
  },
  {
   "cell_type": "code",
   "execution_count": null,
   "metadata": {},
   "outputs": [],
   "source": []
  }
 ],
 "metadata": {
  "kernelspec": {
   "display_name": "Python 3",
   "language": "python",
   "name": "python3"
  },
  "language_info": {
   "codemirror_mode": {
    "name": "ipython",
    "version": 3
   },
   "file_extension": ".py",
   "mimetype": "text/x-python",
   "name": "python",
   "nbconvert_exporter": "python",
   "pygments_lexer": "ipython3",
   "version": "3.6.9"
  }
 },
 "nbformat": 4,
 "nbformat_minor": 4
}
