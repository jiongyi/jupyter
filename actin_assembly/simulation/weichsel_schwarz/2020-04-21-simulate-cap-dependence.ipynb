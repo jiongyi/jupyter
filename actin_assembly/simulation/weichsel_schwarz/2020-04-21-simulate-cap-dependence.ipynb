{
 "cells": [
  {
   "cell_type": "code",
   "execution_count": null,
   "metadata": {},
   "outputs": [],
   "source": [
    "from numpy import linspace, zeros\n",
    "from matplotlib.pyplot import subplots\n",
    "from weichsel_schwarz import Network"
   ]
  },
  {
   "cell_type": "code",
   "execution_count": null,
   "metadata": {},
   "outputs": [],
   "source": [
    "capping_rate_const_row = linspace(0.01, 1.0, 20)\n",
    "num_replicates = 10\n",
    "order_parameter_mat = zeros((capping_rate_const_row.size, num_replicates))\n",
    "rel_growth_rate_mat = zeros((capping_rate_const_row.size, num_replicates))\n",
    "nucleation_rate_mat = zeros((capping_rate_const_row.size, num_replicates))\n",
    "density_active_mat = zeros((capping_rate_const_row.size, num_replicates))"
   ]
  },
  {
   "cell_type": "code",
   "execution_count": null,
   "metadata": {},
   "outputs": [],
   "source": [
    "from joblib import Parallel, delayed\n",
    "def compute_network_properties(x):\n",
    "    network = Network(capping_rate_const=x)\n",
    "    network.simulate()\n",
    "    network.compute_order_parameter()\n",
    "    rel_growth_rate = network.leading_edge_position / network.current_time / network.elongation_rate_const\n",
    "    nucleation_rate = (network.barbed_position_mat.shape[0] - 150) / network.current_time\n",
    "    density_active = network.active_filament_index.size\n",
    "    return network.order_parameter, rel_growth_rate, nucleation_rate, density_active"
   ]
  },
  {
   "cell_type": "code",
   "execution_count": null,
   "metadata": {},
   "outputs": [],
   "source": [
    "for i in range(num_replicates):\n",
    "    i_output = Parallel(n_jobs=-1)(delayed(compute_network_properties)(j) for j in capping_rate_const_row)\n",
    "    for k in range(len(i_output)):\n",
    "        order_parameter_mat[k, i] = i_output[k][0]\n",
    "        rel_growth_rate_mat[k, i] = i_output[k][1]\n",
    "        nucleation_rate_mat[k, i] = i_output[k][2]\n",
    "        density_active_mat[k, i] = i_output[k][3]"
   ]
  },
  {
   "cell_type": "code",
   "execution_count": null,
   "metadata": {},
   "outputs": [],
   "source": [
    "def format_figure(fig_hand, axes_hand):\n",
    "    fig_hand.set_figheight(4)\n",
    "    fig_hand.set_figwidth(4)\n",
    "    axes_hand.tick_params(labelsize=12, length=6, width=1)"
   ]
  },
  {
   "cell_type": "code",
   "execution_count": null,
   "metadata": {},
   "outputs": [],
   "source": [
    "fig1_hand, axes1_hand = subplots()\n",
    "axes1_hand.errorbar(capping_rate_const_row, order_parameter_mat.mean(axis=1), order_parameter_mat.std(axis=1), linewidth=2)\n",
    "axes1_hand.set_xlabel('Capping rate constant', fontsize=12)\n",
    "axes1_hand.set_ylabel('Order parameter', fontsize=12)\n",
    "format_figure(fig1_hand, axes1_hand)"
   ]
  },
  {
   "cell_type": "code",
   "execution_count": null,
   "metadata": {},
   "outputs": [],
   "source": [
    "fig2_hand, axes2_hand = subplots()\n",
    "axes2_hand.errorbar(capping_rate_const_row, rel_growth_rate_mat.mean(axis=1), rel_growth_rate_mat.std(axis=1), linewidth=2)\n",
    "axes2_hand.set_xlabel('Capping rate constant', fontsize=12)\n",
    "axes2_hand.set_ylabel('Normalized growth rate', fontsize=12)\n",
    "format_figure(fig2_hand, axes2_hand)"
   ]
  },
  {
   "cell_type": "code",
   "execution_count": null,
   "metadata": {},
   "outputs": [],
   "source": [
    "fig4_hand, axes4_hand = subplots()\n",
    "axes4_hand.errorbar(capping_rate_const_row, nucleation_rate_mat.mean(axis=1), nucleation_rate_mat.std(axis=1), linewidth=2)\n",
    "axes4_hand.set_ylim(0, 33)\n",
    "axes4_hand.set_xlabel('Capping rate constant', fontsize=12)\n",
    "axes4_hand.set_ylabel('Nucleation rate', fontsize=12)\n",
    "format_figure(fig4_hand, axes4_hand)"
   ]
  },
  {
   "cell_type": "code",
   "execution_count": null,
   "metadata": {},
   "outputs": [],
   "source": [
    "fig5_hand, axes5_hand = subplots()\n",
    "axes5_hand.errorbar(capping_rate_const_row, density_active_mat.mean(axis=1), nucleation_rate_mat.std(axis=1), linewidth=2)\n",
    "axes5_hand.set_ylim(0, 12)\n",
    "axes5_hand.set_xlabel('Capping rate constant', fontsize=12)\n",
    "axes5_hand.set_ylabel('Number of active filaments', fontsize=12)\n",
    "format_figure(fig5_hand, axes5_hand)"
   ]
  }
 ],
 "metadata": {
  "kernelspec": {
   "display_name": "Python 3",
   "language": "python",
   "name": "python3"
  },
  "language_info": {
   "codemirror_mode": {
    "name": "ipython",
    "version": 3
   },
   "file_extension": ".py",
   "mimetype": "text/x-python",
   "name": "python",
   "nbconvert_exporter": "python",
   "pygments_lexer": "ipython3",
   "version": "3.6.10"
  }
 },
 "nbformat": 4,
 "nbformat_minor": 4
}
