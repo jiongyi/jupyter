{
 "cells": [
  {
   "cell_type": "code",
   "execution_count": 4,
   "metadata": {},
   "outputs": [
    {
     "name": "stdout",
     "output_type": "stream",
     "text": [
      "The line_profiler extension is already loaded. To reload it, use:\n",
      "  %reload_ext line_profiler\n"
     ]
    }
   ],
   "source": [
    "from numpy import arange, hstack, log, array, full, cumsum, searchsorted, delete, unravel_index, logical_and, zeros, exp\n",
    "from numpy.random import rand, choice\n",
    "%load_ext line_profiler\n",
    "def simulate_polymerase():\n",
    "    end_position = 0\n",
    "    no_domains = round(1.0 / (2.7e-3))\n",
    "    has_npf_row = zeros(no_domains, dtype = bool)\n",
    "    has_npf_row[arange(0, no_domains, 5)] = True\n",
    "    has_monomer_row = zeros(no_domains, dtype = bool)\n",
    "    monomer_count_row = zeros(no_domains, dtype = int)\n",
    "\n",
    "    actin_conc = 5.0\n",
    "    elongation_rate = 11 * actin_conc\n",
    "    loading_rate = 5.0 * actin_conc * (42 / (42 + 8))**(1/3)\n",
    "    unloading_rate = 3.0\n",
    "    actin_diff_rate = 1.0 / (2.7e-3)**2\n",
    "\n",
    "    current_time = 0.0\n",
    "    total_time = 1.0\n",
    "\n",
    "    transition_state_mat = zeros((4, no_domains))\n",
    "    while current_time <= total_time and end_position <= no_domains:\n",
    "        # Generate transition rate matrix.\n",
    "        # Actin loading.\n",
    "        transition_state_mat[0, logical_and(has_npf_row, ~has_monomer_row)] = loading_rate\n",
    "        # Actin unloading.\n",
    "        transition_state_mat[1, logical_and(has_npf_row, has_monomer_row)] = unloading_rate\n",
    "        # Forward diffusion.\n",
    "        transition_state_mat[2, :] = actin_diff_rate * monomer_count_row\n",
    "        # Backward diffusion\n",
    "        transition_state_mat[3, :] = actin_diff_rate * monomer_count_row\n",
    "        total_rate = transition_state_mat.sum()\n",
    "        #probability_row = transition_state_mat.flatten() / total_rate\n",
    "        #index_transition = choice(probability_row.size, p = probability_row)\n",
    "        transition_cumsum = cumsum(hstack((0, transition_state_mat.flatten())))\n",
    "        index_transition = searchsorted(transition_cumsum > total_rate * rand(), True) - 1\n",
    "        transition_row, transition_col = unravel_index(index_transition, transition_state_mat.shape)\n",
    "        if transition_row == 0:\n",
    "            has_monomer_row[transition_col] = True\n",
    "        elif transition_row == 1:\n",
    "            has_monomer_row[transition_col] = False\n",
    "            monomer_count_row[transition_col] += 1\n",
    "        elif transition_row == 2:\n",
    "            monomer_count_row[transition_col] -= 1\n",
    "            if transition_col < (no_domains - 1):\n",
    "                monomer_count_row[transition_col + 1] += 1\n",
    "        elif transition_row == 3:\n",
    "            monomer_count_row[transition_col] -= 1\n",
    "            if transition_col > 0:\n",
    "                monomer_count_row[transition_col - 1] += 1\n",
    "        time_interval = -log(rand()) / total_rate\n",
    "        current_time += time_interval\n",
    "        if monomer_count_row[end_position + 1] > 0:\n",
    "            monomer_count_row[end_position + 1] -= 1\n",
    "            end_position += 1\n",
    "        if exp(-elongation_rate * time_interval) < rand():\n",
    "            end_position += 1\n",
    "    print(end_position / current_time)\n",
    "    return end_position / current_time"
   ]
  },
  {
   "cell_type": "code",
   "execution_count": 5,
   "metadata": {},
   "outputs": [
    {
     "name": "stdout",
     "output_type": "stream",
     "text": [
      "182.99992926380608\n"
     ]
    },
    {
     "data": {
      "text/plain": [
       "Timer unit: 1e-06 s\n",
       "\n",
       "Total time: 379.274 s\n",
       "File: <ipython-input-4-6208e8f257ec>\n",
       "Function: simulate_polymerase at line 4\n",
       "\n",
       "Line #      Hits         Time  Per Hit   % Time  Line Contents\n",
       "==============================================================\n",
       "     4                                           def simulate_polymerase():\n",
       "     5         1          9.0      9.0      0.0      end_position = 0\n",
       "     6         1         14.0     14.0      0.0      no_domains = round(1.0 / (2.7e-3))\n",
       "     7         1         33.0     33.0      0.0      has_npf_row = zeros(no_domains, dtype = bool)\n",
       "     8         1         54.0     54.0      0.0      has_npf_row[arange(0, no_domains, 5)] = True\n",
       "     9         1         11.0     11.0      0.0      has_monomer_row = zeros(no_domains, dtype = bool)\n",
       "    10         1         28.0     28.0      0.0      monomer_count_row = zeros(no_domains, dtype = int)\n",
       "    11                                           \n",
       "    12         1          4.0      4.0      0.0      actin_conc = 5.0\n",
       "    13         1          6.0      6.0      0.0      elongation_rate = 11 * actin_conc\n",
       "    14         1          5.0      5.0      0.0      loading_rate = 5.0 * actin_conc * (42 / (42 + 8))**(1/3)\n",
       "    15         1          4.0      4.0      0.0      unloading_rate = 3.0\n",
       "    16         1          4.0      4.0      0.0      actin_diff_rate = 1.0 / (2.7e-3)**2\n",
       "    17                                           \n",
       "    18         1          3.0      3.0      0.0      current_time = 0.0\n",
       "    19         1          3.0      3.0      0.0      total_time = 1.0\n",
       "    20                                           \n",
       "    21         1         20.0     20.0      0.0      transition_state_mat = zeros((4, no_domains))\n",
       "    22   2483329    5166372.0      2.1      1.4      while current_time <= total_time and end_position <= no_domains:\n",
       "    23                                                   # Generate transition rate matrix.\n",
       "    24                                                   # Actin loading.\n",
       "    25   2483328   24568654.0      9.9      6.5          transition_state_mat[0, logical_and(has_npf_row, ~has_monomer_row)] = loading_rate\n",
       "    26                                                   # Actin unloading.\n",
       "    27   2483328   16208022.0      6.5      4.3          transition_state_mat[1, logical_and(has_npf_row, has_monomer_row)] = unloading_rate\n",
       "    28                                                   # Forward diffusion.\n",
       "    29   2483328   18359724.0      7.4      4.8          transition_state_mat[2, :] = actin_diff_rate * monomer_count_row\n",
       "    30                                                   # Backward diffusion\n",
       "    31   2483328   12981435.0      5.2      3.4          transition_state_mat[3, :] = actin_diff_rate * monomer_count_row\n",
       "    32   2483328   27470140.0     11.1      7.2          total_rate = transition_state_mat.sum()\n",
       "    33                                                   #probability_row = transition_state_mat.flatten() / total_rate\n",
       "    34                                                   #index_transition = choice(probability_row.size, p = probability_row)\n",
       "    35   2483328  118788688.0     47.8     31.3          transition_cumsum = cumsum(hstack((0, transition_state_mat.flatten())))\n",
       "    36   2483328   45909837.0     18.5     12.1          index_transition = searchsorted(transition_cumsum > total_rate * rand(), True) - 1\n",
       "    37   2483328   26045602.0     10.5      6.9          transition_row, transition_col = unravel_index(index_transition, transition_state_mat.shape)\n",
       "    38   2483328    5983762.0      2.4      1.6          if transition_row == 0:\n",
       "    39      1828       4738.0      2.6      0.0              has_monomer_row[transition_col] = True\n",
       "    40   2481500    4896424.0      2.0      1.3          elif transition_row == 1:\n",
       "    41       238        610.0      2.6      0.0              has_monomer_row[transition_col] = False\n",
       "    42       238        753.0      3.2      0.0              monomer_count_row[transition_col] += 1\n",
       "    43   2481262    4654364.0      1.9      1.2          elif transition_row == 2:\n",
       "    44   1240279    4364526.0      3.5      1.2              monomer_count_row[transition_col] -= 1\n",
       "    45   1240279    2687282.0      2.2      0.7              if transition_col < (no_domains - 1):\n",
       "    46   1240199    4072405.0      3.3      1.1                  monomer_count_row[transition_col + 1] += 1\n",
       "    47   1240983    2340202.0      1.9      0.6          elif transition_row == 3:\n",
       "    48   1240983    4382609.0      3.5      1.2              monomer_count_row[transition_col] -= 1\n",
       "    49   1240983    2398161.0      1.9      0.6              if transition_col > 0:\n",
       "    50   1240952    3980302.0      3.2      1.0                  monomer_count_row[transition_col - 1] += 1\n",
       "    51   2483328   16872282.0      6.8      4.4          time_interval = -log(rand()) / total_rate\n",
       "    52   2483328    4838715.0      1.9      1.3          current_time += time_interval\n",
       "    53   2483328    6445226.0      2.6      1.7          if monomer_count_row[end_position + 1] > 0:\n",
       "    54       123        314.0      2.6      0.0              monomer_count_row[end_position + 1] -= 1\n",
       "    55       123        208.0      1.7      0.0              end_position += 1\n",
       "    56   2483328   15851901.0      6.4      4.2          if exp(-elongation_rate * time_interval) < rand():\n",
       "    57        60        107.0      1.8      0.0              end_position += 1\n",
       "    58         1        129.0    129.0      0.0      print(end_position / current_time)\n",
       "    59         1          3.0      3.0      0.0      return end_position / current_time"
      ]
     },
     "metadata": {},
     "output_type": "display_data"
    }
   ],
   "source": [
    "%lprun -f simulate_polymerase simulate_polymerase()"
   ]
  },
  {
   "cell_type": "code",
   "execution_count": null,
   "metadata": {},
   "outputs": [],
   "source": []
  }
 ],
 "metadata": {
  "kernelspec": {
   "display_name": "Python 3",
   "language": "python",
   "name": "python3"
  },
  "language_info": {
   "codemirror_mode": {
    "name": "ipython",
    "version": 3
   },
   "file_extension": ".py",
   "mimetype": "text/x-python",
   "name": "python",
   "nbconvert_exporter": "python",
   "pygments_lexer": "ipython3",
   "version": "3.6.10"
  }
 },
 "nbformat": 4,
 "nbformat_minor": 4
}
