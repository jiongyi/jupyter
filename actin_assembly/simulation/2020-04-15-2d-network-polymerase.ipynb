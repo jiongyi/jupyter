{
 "cells": [
  {
   "cell_type": "markdown",
   "metadata": {},
   "source": [
    "# A two-dimensional (surface) polymerase\n",
    "\n",
    "## Setup\n",
    "\n",
    "- A micron-long domain divided up into 37~ subdomains the width of an actin monomer (2.7 nm)\n",
    "- A barbed end starting in the first subdomain\n",
    "- An NPF every 10 subdomains\n",
    "- A solution elongation rate constant equal to $11\\ \\mathrm{\\mu M^{-1} s^{-1}}$\n",
    "- An actin loading rate constant equal to $5.0\\ \\mathrm{\\mu M^{-1} s^{-1}}$. The constant gets corrected by a factor that is the cubic root of the molecular-weight ratio.\n",
    "- A dissociation rate constant equal to $3.0\\ \\mathrm{s^{-1}}$\n",
    "- A monomer diffusion coefficient equal to $1.0\\ \\mathrm{\\mu m^2 s^{-1}}$\n",
    "- A Gillespie algorithm to simulate barbed-end elongation and explicit of monomers unbinding from NPF sites"
   ]
  },
  {
   "cell_type": "code",
   "execution_count": 1,
   "metadata": {},
   "outputs": [],
   "source": [
    "from numpy import arange, hstack, log, array, full, cumsum, searchsorted, unravel_index, logical_and, zeros, exp, meshgrid, array, sqrt\n",
    "from numpy.random import rand, choice\n",
    "from numba import jit\n",
    "%load_ext line_profiler"
   ]
  },
  {
   "cell_type": "code",
   "execution_count": 2,
   "metadata": {},
   "outputs": [],
   "source": [
    "@jit(nopython=True)\n",
    "def numba_cumsum(row):\n",
    "    return row.cumsum()\n",
    "\n",
    "@jit(nopython=True)\n",
    "def numba_search(row, x):\n",
    "    return searchsorted(row, x)\n",
    "\n",
    "@jit(nopython=True)\n",
    "def numba_nonzero(mat):\n",
    "    return mat.nonzero()"
   ]
  },
  {
   "cell_type": "code",
   "execution_count": 3,
   "metadata": {},
   "outputs": [],
   "source": [
    "def simulate_2d_polymerase(no_domains = 370, npf_spacing = 10, actin_conc = 5.0):\n",
    "    monomer_count_mat = zeros((no_domains, no_domains), dtype = int)\n",
    "    has_npf_mat = zeros((no_domains, no_domains), dtype = bool)\n",
    "    row_mat, col_mat = meshgrid(arange(0, no_domains, npf_spacing), arange(0, no_domains, npf_spacing))\n",
    "    has_npf_mat[row_mat, col_mat] = True\n",
    "    is_npf_loaded_mat = zeros((no_domains, no_domains), dtype = bool)\n",
    "    current_time = 0.0\n",
    "    total_time = 20.0\n",
    "    time_row = array([0.0])\n",
    "    no_loaded_npf_row = array([0])\n",
    "    transition_bin_row = cumsum([0, no_domains, no_domains, no_domains])\n",
    "    end_position = array([0, 0])\n",
    "    end_orientation = sqrt(2) / 2 * array([1, 1])\n",
    "    no_monomers = 0\n",
    "    transition_rate_mat = zeros((no_domains, no_domains * 3))\n",
    "    while current_time <= total_time:\n",
    "        transition_rate_mat[:, :no_domains][logical_and(has_npf_mat, is_npf_loaded_mat == False)] = 5.0 * actin_conc * (42 / (42 + 8))**(1/3)\n",
    "        transition_rate_mat[:, no_domains:(2 * no_domains)][logical_and(has_npf_mat, is_npf_loaded_mat == True)] = 3.0\n",
    "        transition_rate_mat[:, (2 * no_domains):] = 1.0 / 2.7e-3 * monomer_count_mat\n",
    "        #transition_rate_mat = hstack((loading_rate_mat, unloading_rate_mat, diffusion_rate_mat))\n",
    "        nonzero_rate_row_mat, nonzero_rate_col_mat = numba_nonzero(transition_rate_mat)\n",
    "        nonzero_rate_cumsum = numba_cumsum(hstack((0, transition_rate_mat[nonzero_rate_row_mat, nonzero_rate_col_mat].flatten())))\n",
    "        index_nonzero_transition = numba_search(nonzero_rate_cumsum > nonzero_rate_cumsum[-1] * rand(), True) - 1\n",
    "        transition_row = nonzero_rate_row_mat[index_nonzero_transition]\n",
    "        transition_col = nonzero_rate_col_mat[index_nonzero_transition]\n",
    "        index_transition = searchsorted(transition_bin_row > transition_col, True) - 1\n",
    "        rel_transition_col = transition_col - transition_bin_row[index_transition]\n",
    "        if index_transition == 2:\n",
    "            monomer_count_mat[transition_row, rel_transition_col] -= 1\n",
    "            direction = choice(4)\n",
    "            if direction == 0:\n",
    "                if rel_transition_col < (no_domains - 1):\n",
    "                    monomer_count_mat[transition_row, rel_transition_col + 1] += 1\n",
    "            elif direction == 1:\n",
    "                if transition_row > 0:\n",
    "                    monomer_count_mat[transition_row - 1, rel_transition_col] += 1\n",
    "            elif direction == 2:\n",
    "                if rel_transition_col > 0:\n",
    "                    monomer_count_mat[transition_row, rel_transition_col - 1] += 1\n",
    "            elif transition_row < (no_domains - 1):\n",
    "                monomer_count_mat[transition_row + 1, rel_transition_col] += 1\n",
    "        elif index_transition == 1:\n",
    "            is_npf_loaded_mat[transition_row, rel_transition_col] = False\n",
    "            monomer_count_mat[transition_row, rel_transition_col] += 1\n",
    "        else:\n",
    "            is_npf_loaded_mat[transition_row, rel_transition_col] = True\n",
    "        \n",
    "        time_interval = -log(rand()) / nonzero_rate_cumsum[-1]\n",
    "        current_time += time_interval\n",
    "        # Check if barbed end is near a monomer.\n",
    "        if (end_position < no_domains).all():\n",
    "            if monomer_count_mat[end_position[0] + 1, end_position[1] + 1] > 0:\n",
    "                monomer_count_mat[end_position[0] + 1, end_position[1] + 1] -= 1\n",
    "                end_position += 1\n",
    "                no_monomers += 1\n",
    "            if exp(- 11.0 * actin_conc * time_interval) < rand():\n",
    "                end_position += 1\n",
    "        time_row = hstack((time_row, current_time))\n",
    "        # From solution.\n",
    "        no_loaded_npf_row = hstack((no_loaded_npf_row, is_npf_loaded_mat.sum()))\n",
    "    print(end_position)\n",
    "    print(no_monomers)\n",
    "    return no_loaded_npf_row, time_row, monomer_count_mat"
   ]
  },
  {
   "cell_type": "code",
   "execution_count": 4,
   "metadata": {},
   "outputs": [
    {
     "name": "stdout",
     "output_type": "stream",
     "text": [
      "*** KeyboardInterrupt exception caught in code being profiled."
     ]
    },
    {
     "data": {
      "text/plain": [
       "Timer unit: 1e-06 s\n",
       "\n",
       "Total time: 67503.8 s\n",
       "File: <ipython-input-3-1cd40c602b8c>\n",
       "Function: simulate_2d_polymerase at line 1\n",
       "\n",
       "Line #      Hits         Time  Per Hit   % Time  Line Contents\n",
       "==============================================================\n",
       "     1                                           def simulate_2d_polymerase(no_domains = 370, npf_spacing = 10, actin_conc = 5.0):\n",
       "     2         1        216.0    216.0      0.0      monomer_count_mat = zeros((no_domains, no_domains), dtype = int)\n",
       "     3         1        213.0    213.0      0.0      has_npf_mat = zeros((no_domains, no_domains), dtype = bool)\n",
       "     4         1        452.0    452.0      0.0      row_mat, col_mat = meshgrid(arange(0, no_domains, npf_spacing), arange(0, no_domains, npf_spacing))\n",
       "     5         1        106.0    106.0      0.0      has_npf_mat[row_mat, col_mat] = True\n",
       "     6         1        211.0    211.0      0.0      is_npf_loaded_mat = zeros((no_domains, no_domains), dtype = bool)\n",
       "     7         1          5.0      5.0      0.0      current_time = 0.0\n",
       "     8         1          5.0      5.0      0.0      total_time = 20.0\n",
       "     9         1         20.0     20.0      0.0      time_row = array([0.0])\n",
       "    10         1          9.0      9.0      0.0      no_loaded_npf_row = array([0])\n",
       "    11         1        113.0    113.0      0.0      transition_bin_row = cumsum([0, no_domains, no_domains, no_domains])\n",
       "    12         1         10.0     10.0      0.0      end_position = array([0, 0])\n",
       "    13         1         68.0     68.0      0.0      end_orientation = sqrt(2) / 2 * array([1, 1])\n",
       "    14         1          5.0      5.0      0.0      no_monomers = 0\n",
       "    15         1         32.0     32.0      0.0      transition_rate_mat = zeros((no_domains, no_domains * 3))\n",
       "    16   8338601   16694339.0      2.0      0.0      while current_time <= total_time:\n",
       "    17   8338601 1252651588.0    150.2      1.9          transition_rate_mat[:, :no_domains][logical_and(has_npf_mat, is_npf_loaded_mat == False)] = 5.0 * actin_conc * (42 / (42 + 8))**(1/3)\n",
       "    18   8338601 1202388145.0    144.2      1.8          transition_rate_mat[:, no_domains:(2 * no_domains)][logical_and(has_npf_mat, is_npf_loaded_mat == True)] = 3.0\n",
       "    19   8338600 1817006132.0    217.9      2.7          transition_rate_mat[:, (2 * no_domains):] = 1.0 / 2.7e-3 * monomer_count_mat\n",
       "    20                                                   #transition_rate_mat = hstack((loading_rate_mat, unloading_rate_mat, diffusion_rate_mat))\n",
       "    21   8338600 2836828046.0    340.2      4.2          nonzero_rate_row_mat, nonzero_rate_col_mat = numba_nonzero(transition_rate_mat)\n",
       "    22   8338600  715377717.0     85.8      1.1          nonzero_rate_cumsum = numba_cumsum(hstack((0, transition_rate_mat[nonzero_rate_row_mat, nonzero_rate_col_mat].flatten())))\n",
       "    23   8338600  107946210.0     12.9      0.2          index_nonzero_transition = numba_search(nonzero_rate_cumsum > nonzero_rate_cumsum[-1] * rand(), True) - 1\n",
       "    24   8338600   12183775.0      1.5      0.0          transition_row = nonzero_rate_row_mat[index_nonzero_transition]\n",
       "    25   8338600    9865356.0      1.2      0.0          transition_col = nonzero_rate_col_mat[index_nonzero_transition]\n",
       "    26   8338600   98905528.0     11.9      0.1          index_transition = searchsorted(transition_bin_row > transition_col, True) - 1\n",
       "    27   8338600   13888083.0      1.7      0.0          rel_transition_col = transition_col - transition_bin_row[index_transition]\n",
       "    28   8338600   12128669.0      1.5      0.0          if index_transition == 2:\n",
       "    29   8209761   19247466.0      2.3      0.0              monomer_count_mat[transition_row, rel_transition_col] -= 1\n",
       "    30   8209761  253093606.0     30.8      0.4              direction = choice(4)\n",
       "    31   8209761    9996649.0      1.2      0.0              if direction == 0:\n",
       "    32   2054962    3296292.0      1.6      0.0                  if rel_transition_col < (no_domains - 1):\n",
       "    33   2054631    5371194.0      2.6      0.0                      monomer_count_mat[transition_row, rel_transition_col + 1] += 1\n",
       "    34   6154799    6525531.0      1.1      0.0              elif direction == 1:\n",
       "    35   2051814    3003473.0      1.5      0.0                  if transition_row > 0:\n",
       "    36   2051134    5514042.0      2.7      0.0                      monomer_count_mat[transition_row - 1, rel_transition_col] += 1\n",
       "    37   4102985    4278575.0      1.0      0.0              elif direction == 2:\n",
       "    38   2049328    3001009.0      1.5      0.0                  if rel_transition_col > 0:\n",
       "    39   2048669    5446129.0      2.7      0.0                      monomer_count_mat[transition_row, rel_transition_col - 1] += 1\n",
       "    40   2053657    3268680.0      1.6      0.0              elif transition_row < (no_domains - 1):\n",
       "    41   2053320    5306772.0      2.6      0.0                  monomer_count_mat[transition_row + 1, rel_transition_col] += 1\n",
       "    42    128839     157682.0      1.2      0.0          elif index_transition == 1:\n",
       "    43     14371      22046.0      1.5      0.0              is_npf_loaded_mat[transition_row, rel_transition_col] = False\n",
       "    44     14371      31412.0      2.2      0.0              monomer_count_mat[transition_row, rel_transition_col] += 1\n",
       "    45                                                   else:\n",
       "    46    114468     177000.0      1.5      0.0              is_npf_loaded_mat[transition_row, rel_transition_col] = True\n",
       "    47                                                   \n",
       "    48   8338600   45299348.0      5.4      0.1          time_interval = -log(rand()) / nonzero_rate_cumsum[-1]\n",
       "    49   8338600   10794907.0      1.3      0.0          current_time += time_interval\n",
       "    50                                                   # Check if barbed end is near a monomer.\n",
       "    51   8338600   69225496.0      8.3      0.1          if (end_position < no_domains).all():\n",
       "    52   8338600   22738164.0      2.7      0.0              if monomer_count_mat[end_position[0] + 1, end_position[1] + 1] > 0:\n",
       "    53        54        149.0      2.8      0.0                  monomer_count_mat[end_position[0] + 1, end_position[1] + 1] -= 1\n",
       "    54        54        281.0      5.2      0.0                  end_position += 1\n",
       "    55        54         58.0      1.1      0.0                  no_monomers += 1\n",
       "    56   8338600   40914288.0      4.9      0.1              if exp(- 11.0 * actin_conc * time_interval) < rand():\n",
       "    57       221       1201.0      5.4      0.0                  end_position += 1\n",
       "    58   8338600 29042836104.0   3482.9     43.0          time_row = hstack((time_row, current_time))\n",
       "    59                                                   # From solution.\n",
       "    60   8338600 29848385213.0   3579.5     44.2          no_loaded_npf_row = hstack((no_loaded_npf_row, is_npf_loaded_mat.sum()))\n",
       "    61                                               print(end_position)\n",
       "    62                                               print(no_monomers)\n",
       "    63                                               return no_loaded_npf_row, time_row, monomer_count_mat"
      ]
     },
     "metadata": {},
     "output_type": "display_data"
    }
   ],
   "source": [
    "%lprun -f simulate_2d_polymerase no_loaded_npf_row, time_row, monomer_count_row = simulate_2d_polymerase()"
   ]
  },
  {
   "cell_type": "code",
   "execution_count": 5,
   "metadata": {},
   "outputs": [
    {
     "ename": "NameError",
     "evalue": "name 'time_row' is not defined",
     "output_type": "error",
     "traceback": [
      "\u001b[0;31m---------------------------------------------------------------------------\u001b[0m",
      "\u001b[0;31mNameError\u001b[0m                                 Traceback (most recent call last)",
      "\u001b[0;32m<ipython-input-5-cc2bd9b7490b>\u001b[0m in \u001b[0;36m<module>\u001b[0;34m\u001b[0m\n\u001b[1;32m      1\u001b[0m \u001b[0;32mfrom\u001b[0m \u001b[0mmatplotlib\u001b[0m\u001b[0;34m.\u001b[0m\u001b[0mpyplot\u001b[0m \u001b[0;32mimport\u001b[0m \u001b[0msubplots\u001b[0m\u001b[0;34m\u001b[0m\u001b[0;34m\u001b[0m\u001b[0m\n\u001b[1;32m      2\u001b[0m \u001b[0mfigure_hand\u001b[0m\u001b[0;34m,\u001b[0m \u001b[0maxes_hand\u001b[0m \u001b[0;34m=\u001b[0m \u001b[0msubplots\u001b[0m\u001b[0;34m(\u001b[0m\u001b[0;34m)\u001b[0m\u001b[0;34m\u001b[0m\u001b[0;34m\u001b[0m\u001b[0m\n\u001b[0;32m----> 3\u001b[0;31m \u001b[0maxes_hand\u001b[0m\u001b[0;34m.\u001b[0m\u001b[0mplot\u001b[0m\u001b[0;34m(\u001b[0m\u001b[0mtime_row\u001b[0m\u001b[0;34m,\u001b[0m \u001b[0mno_loaded_npf_row\u001b[0m\u001b[0;34m)\u001b[0m\u001b[0;34m\u001b[0m\u001b[0;34m\u001b[0m\u001b[0m\n\u001b[0m",
      "\u001b[0;31mNameError\u001b[0m: name 'time_row' is not defined"
     ]
    },
    {
     "data": {
      "image/png": "[encoded data removed]",
      "text/plain": [
       "<Figure size 432x288 with 1 Axes>"
      ]
     },
     "metadata": {
      "needs_background": "light"
     },
     "output_type": "display_data"
    }
   ],
   "source": [
    "from matplotlib.pyplot import subplots\n",
    "figure_hand, axes_hand = subplots()\n",
    "axes_hand.plot(time_row, no_loaded_npf_row)"
   ]
  }
 ],
 "metadata": {
  "kernelspec": {
   "display_name": "Python 3",
   "language": "python",
   "name": "python3"
  },
  "language_info": {
   "codemirror_mode": {
    "name": "ipython",
    "version": 3
   },
   "file_extension": ".py",
   "mimetype": "text/x-python",
   "name": "python",
   "nbconvert_exporter": "python",
   "pygments_lexer": "ipython3",
   "version": "3.7.9"
  }
 },
 "nbformat": 4,
 "nbformat_minor": 4
}
