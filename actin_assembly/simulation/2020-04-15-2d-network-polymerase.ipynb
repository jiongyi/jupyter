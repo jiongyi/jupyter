{
 "cells": [
  {
   "cell_type": "markdown",
   "metadata": {},
   "source": [
    "# A two-dimensional (surface) polymerase\n",
    "\n",
    "## Setup\n",
    "\n",
    "- A micron-long domain divided up into 37~ subdomains the width of an actin monomer (2.7 nm)\n",
    "- A barbed end starting in the first subdomain\n",
    "- An NPF every 10 subdomains\n",
    "- A solution elongation rate constant equal to $11\\ \\mathrm{\\mu M^{-1} s^{-1}}$\n",
    "- An actin loading rate constant equal to $5.0\\ \\mathrm{\\mu M^{-1} s^{-1}}$. The constant gets corrected by a factor that is the cubic root of the molecular-weight ratio.\n",
    "- A dissociation rate constant equal to $3.0\\ \\mathrm{s^{-1}}$\n",
    "- A monomer diffusion coefficient equal to $1.0\\ \\mathrm{\\mu m^2 s^{-1}}$\n",
    "- A Gillespie algorithm to simulate barbed-end elongation and explicit of monomers unbinding from NPF sites"
   ]
  },
  {
   "cell_type": "code",
   "execution_count": 1,
   "metadata": {},
   "outputs": [],
   "source": [
    "from numpy import arange, hstack, log, array, full, cumsum, searchsorted, unravel_index, logical_and, zeros, exp, meshgrid, array, sqrt\n",
    "from numpy.random import rand, choice\n",
    "from numba import jit\n",
    "%load_ext line_profiler"
   ]
  },
  {
   "cell_type": "code",
   "execution_count": 2,
   "metadata": {},
   "outputs": [],
   "source": [
    "@jit(nopython=True)\n",
    "def numba_cumsum(row):\n",
    "    return row.cumsum()\n",
    "\n",
    "@jit(nopython=True)\n",
    "def numba_search(row, x):\n",
    "    return searchsorted(row, x)\n",
    "\n",
    "@jit(nopython=True)\n",
    "def numba_nonzero(mat):\n",
    "    return mat.nonzero()"
   ]
  },
  {
   "cell_type": "code",
   "execution_count": 3,
   "metadata": {},
   "outputs": [],
   "source": [
    "def simulate_2d_polymerase(no_domains = 370, npf_spacing = 10, actin_conc = 5.0):\n",
    "    monomer_count_mat = zeros((no_domains, no_domains), dtype = int)\n",
    "    has_npf_mat = zeros((no_domains, no_domains), dtype = bool)\n",
    "    row_mat, col_mat = meshgrid(arange(0, no_domains, npf_spacing), arange(0, no_domains, npf_spacing))\n",
    "    has_npf_mat[row_mat, col_mat] = True\n",
    "    is_npf_loaded_mat = zeros((no_domains, no_domains), dtype = bool)\n",
    "    current_time = 0.0\n",
    "    total_time = 20.0\n",
    "    time_row = array([0.0])\n",
    "    no_loaded_npf_row = array([0])\n",
    "    transition_bin_row = cumsum([0, no_domains, no_domains, no_domains])\n",
    "    end_position = array([0, 0])\n",
    "    end_orientation = sqrt(2) / 2 * array([1, 1])\n",
    "    no_monomers = 0\n",
    "    transition_rate_mat = zeros((no_domains, no_domains * 3))\n",
    "    while current_time <= total_time:\n",
    "        transition_rate_mat[:, :no_domains][logical_and(has_npf_mat, is_npf_loaded_mat == False)] = 5.0 * actin_conc * (42 / (42 + 8))**(1/3)\n",
    "        transition_rate_mat[:, no_domains:(2 * no_domains)][logical_and(has_npf_mat, is_npf_loaded_mat == True)] = 3.0\n",
    "        transition_rate_mat[:, (2 * no_domains):] = 1.0 / 2.7e-3 * monomer_count_mat\n",
    "        #transition_rate_mat = hstack((loading_rate_mat, unloading_rate_mat, diffusion_rate_mat))\n",
    "        nonzero_rate_row_mat, nonzero_rate_col_mat = numba_nonzero(transition_rate_mat)\n",
    "        nonzero_rate_cumsum = numba_cumsum(hstack((0, transition_rate_mat[nonzero_rate_row_mat, nonzero_rate_col_mat].flatten())))\n",
    "        index_nonzero_transition = numba_search(nonzero_rate_cumsum > nonzero_rate_cumsum[-1] * rand(), True) - 1\n",
    "        transition_row = nonzero_rate_row_mat[index_nonzero_transition]\n",
    "        transition_col = nonzero_rate_col_mat[index_nonzero_transition]\n",
    "        index_transition = searchsorted(transition_bin_row > transition_col, True) - 1\n",
    "        rel_transition_col = transition_col - transition_bin_row[index_transition]\n",
    "        if index_transition == 2:\n",
    "            monomer_count_mat[transition_row, rel_transition_col] -= 1\n",
    "            direction = choice(4)\n",
    "            if direction == 0:\n",
    "                if rel_transition_col < (no_domains - 1):\n",
    "                    monomer_count_mat[transition_row, rel_transition_col + 1] += 1\n",
    "            elif direction == 1:\n",
    "                if transition_row > 0:\n",
    "                    monomer_count_mat[transition_row - 1, rel_transition_col] += 1\n",
    "            elif direction == 2:\n",
    "                if rel_transition_col > 0:\n",
    "                    monomer_count_mat[transition_row, rel_transition_col - 1] += 1\n",
    "            elif transition_row < (no_domains - 1):\n",
    "                monomer_count_mat[transition_row + 1, rel_transition_col] += 1\n",
    "        elif index_transition == 1:\n",
    "            is_npf_loaded_mat[transition_row, rel_transition_col] = False\n",
    "            monomer_count_mat[transition_row, rel_transition_col] += 1\n",
    "        else:\n",
    "            is_npf_loaded_mat[transition_row, rel_transition_col] = True\n",
    "        \n",
    "        time_interval = -log(rand()) / nonzero_rate_cumsum[-1]\n",
    "        current_time += time_interval\n",
    "        # Check if barbed end is near a monomer.\n",
    "        if (end_position < no_domains).all():\n",
    "            if monomer_count_mat[end_position[0] + 1, end_position[1] + 1] > 0:\n",
    "                monomer_count_mat[end_position[0] + 1, end_position[1] + 1] -= 1\n",
    "                end_position += 1\n",
    "                no_monomers += 1\n",
    "            if exp(- 11.0 * actin_conc * time_interval) < rand():\n",
    "                end_position += 1\n",
    "        time_row = hstack((time_row, current_time))\n",
    "        # From solution.\n",
    "        no_loaded_npf_row = hstack((no_loaded_npf_row, is_npf_loaded_mat.sum()))\n",
    "    print(end_position)\n",
    "    print(no_monomers)\n",
    "    return no_loaded_npf_row, time_row, monomer_count_mat"
   ]
  },
  {
   "cell_type": "code",
   "execution_count": null,
   "metadata": {},
   "outputs": [],
   "source": [
    "%lprun -f simulate_2d_polymerase no_loaded_npf_row, time_row, monomer_count_row = simulate_2d_polymerase()"
   ]
  },
  {
   "cell_type": "code",
   "execution_count": null,
   "metadata": {},
   "outputs": [],
   "source": [
    "from matplotlib.pyplot import subplots\n",
    "figure_hand, axes_hand = subplots()\n",
    "axes_hand.plot(time_row, no_loaded_npf_row)"
   ]
  }
 ],
 "metadata": {
  "kernelspec": {
   "display_name": "Python 3",
   "language": "python",
   "name": "python3"
  },
  "language_info": {
   "codemirror_mode": {
    "name": "ipython",
    "version": 3
   },
   "file_extension": ".py",
   "mimetype": "text/x-python",
   "name": "python",
   "nbconvert_exporter": "python",
   "pygments_lexer": "ipython3",
   "version": "3.8.8"
  }
 },
 "nbformat": 4,
 "nbformat_minor": 4
}
