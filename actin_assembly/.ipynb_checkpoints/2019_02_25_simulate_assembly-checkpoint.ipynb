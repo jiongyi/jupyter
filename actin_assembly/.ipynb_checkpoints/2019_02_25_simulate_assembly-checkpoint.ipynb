{
 "cells": [
  {
   "cell_type": "code",
   "execution_count": 1,
   "metadata": {},
   "outputs": [],
   "source": [
    "from bieling_et_al_branched_actin_assembly import *"
   ]
  },
  {
   "cell_type": "code",
   "execution_count": 2,
   "metadata": {},
   "outputs": [],
   "source": [
    "branched_actin_network = network()"
   ]
  },
  {
   "cell_type": "code",
   "execution_count": null,
   "metadata": {},
   "outputs": [],
   "source": [
    "branched_actin_network.simulate(60.0)"
   ]
  },
  {
   "cell_type": "code",
   "execution_count": null,
   "metadata": {},
   "outputs": [],
   "source": [
    "%matplotlib inline\n",
    "from matplotlib.pyplot import subplots\n",
    "from matplotlib.patches import Rectangle\n",
    "from numpy import array\n",
    "line_color_row = array(['b' for x in range(branched_actin_network.no_filaments)])\n",
    "line_color_row[branched_actin_network.is_capped_row] = 'r'\n",
    "\n",
    "fig_handle, axes_handle = subplots()\n",
    "for i in range(branched_actin_network.no_filaments):\n",
    "    axes_handle.plot([branched_actin_network.x_pointed_row[i], branched_actin_network.x_barbed_row[i]],\n",
    "                    [branched_actin_network.y_pointed_row[i], branched_actin_network.y_barbed_row[i]],\n",
    "                    line_color_row[i])\n",
    "axes_handle.add_patch(Rectangle((branched_actin_network.x_leading_edge, 0), 0.02 * branched_actin_network.x_leading_edge, 1000, color = [0.5, 0.5, 0.5]))\n",
    "axes_handle.set_xlabel('x (nm)')\n",
    "axes_handle.set_ylabel('L (nm)')"
   ]
  },
  {
   "cell_type": "code",
   "execution_count": null,
   "metadata": {},
   "outputs": [],
   "source": [
    "fig_handle, axes_handle = subplots()\n",
    "from numpy import arctan\n",
    "axes_handle.hist(arctan(branched_actin_network.v_row / branched_actin_network.u_row) / pi * 180, 20)"
   ]
  },
  {
   "cell_type": "code",
   "execution_count": null,
   "metadata": {},
   "outputs": [],
   "source": [
    "print(branched_actin_network.ratchet_weight)"
   ]
  },
  {
   "cell_type": "code",
   "execution_count": null,
   "metadata": {},
   "outputs": [],
   "source": [
    "print(sum(branched_actin_network.is_proximal_row))"
   ]
  }
 ],
 "metadata": {
  "kernelspec": {
   "display_name": "Python 3",
   "language": "python",
   "name": "python3"
  },
  "language_info": {
   "codemirror_mode": {
    "name": "ipython",
    "version": 3
   },
   "file_extension": ".py",
   "mimetype": "text/x-python",
   "name": "python",
   "nbconvert_exporter": "python",
   "pygments_lexer": "ipython3",
   "version": "3.6.8"
  }
 },
 "nbformat": 4,
 "nbformat_minor": 2
}
