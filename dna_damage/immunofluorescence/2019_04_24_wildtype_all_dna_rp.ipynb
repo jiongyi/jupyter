{
 "cells": [
  {
   "cell_type": "code",
   "execution_count": 1,
   "metadata": {},
   "outputs": [],
   "source": [
    "from puncta_quantification import *"
   ]
  },
  {
   "cell_type": "code",
   "execution_count": 15,
   "metadata": {},
   "outputs": [],
   "source": [
    "wt_arp3_df = batch_aggregate_data('/home/jiongyi/Documents/dna_damage/immunofluorescence/wildtype/2_gamma/Arp3 WT 2g 1hr postIR')\n",
    "wt_ku80_df = batch_aggregate_data('/home/jiongyi/Documents/dna_damage/immunofluorescence/wildtype/2_gamma/WT Ku80 2g 1hr postIR')\n",
    "wt_rad51_df = batch_aggregate_data('/home/jiongyi/Documents/dna_damage/immunofluorescence/wildtype/2_gamma/WT Rad51 2g 1hr postIR')\n",
    "wt_rpa32_df = batch_aggregate_data('/home/jiongyi/Documents/dna_damage/immunofluorescence/wildtype/2_gamma/WT Rad51 2g 1hr postIR')\n",
    "wt_atm_df = batch_aggregate_data('/home/jiongyi/Documents/dna_damage/immunofluorescence/wildtype/2_gamma/WT ATM 2g 1hr postIR/')\n",
    "wt_dnapkcs_df = batch_aggregate_data('/home/jiongyi/Documents/dna_damage/immunofluorescence/wildtype/2_gamma/WT DNA PKcs 1hr postIR/')"
   ]
  },
  {
   "cell_type": "code",
   "execution_count": 5,
   "metadata": {},
   "outputs": [],
   "source": [
    "all_dna_rp_ph2ax_flux_density_df = DataFrame.from_dict(data = {'Arp3': wt_arp3_df['pH2AX flux'] / wt_arp3_df['DAPI area'],\n",
    "                                                              'Ku80': wt_ku80_df['pH2AX flux'] / wt_ku80_df['DAPI area'],\n",
    "                                                              'Rad51': wt_rad51_df['pH2AX flux'] / wt_rad51_df['DAPI area'],\n",
    "                                                              'RPA2': wt_rpa32_df['pH2AX flux'] / wt_rpa32_df['DAPI area']}, orient = 'index')"
   ]
  },
  {
   "cell_type": "code",
   "execution_count": 12,
   "metadata": {},
   "outputs": [
    {
     "data": {
      "text/plain": [
       "Text(0, 0.5, 'pH2AX flux')"
      ]
     },
     "execution_count": 12,
     "metadata": {},
     "output_type": "execute_result"
    },
    {
     "data": {
      "image/png": "[encoded data removed]",
      "text/plain": [
       "<Figure size 432x288 with 1 Axes>"
      ]
     },
     "metadata": {
      "needs_background": "light"
     },
     "output_type": "display_data"
    }
   ],
   "source": [
    "%matplotlib inline\n",
    "from matplotlib.pyplot import subplots\n",
    "figure_hande, axes_handle = subplots()\n",
    "axes_handle = boxplot(data = all_dna_rp_ph2ax_flux_density_df.transpose())\n",
    "axes_handle.tick_params(labelsize = 14)\n",
    "axes_handle.set_ylabel(\"pH2AX flux\", fontsize = 14)"
   ]
  },
  {
   "cell_type": "code",
   "execution_count": 25,
   "metadata": {},
   "outputs": [
    {
     "data": {
      "text/plain": [
       "5.524717967144605"
      ]
     },
     "execution_count": 25,
     "metadata": {},
     "output_type": "execute_result"
    }
   ],
   "source": [
    "percentile(wt_rad51_df['pH2AX flux'] / wt_rad51_df['DAPI area'], 50)"
   ]
  },
  {
   "cell_type": "code",
   "execution_count": 24,
   "metadata": {},
   "outputs": [
    {
     "data": {
      "text/plain": [
       "2.8053399599999995"
      ]
     },
     "execution_count": 24,
     "metadata": {},
     "output_type": "execute_result"
    }
   ],
   "source": [
    "0.5 * (7.82702972 - 2.2163498)"
   ]
  },
  {
   "cell_type": "code",
   "execution_count": 17,
   "metadata": {},
   "outputs": [
    {
     "data": {
      "text/plain": [
       "Text(0, 0.5, 'Fraction pH2AX-positive DNA RP')"
      ]
     },
     "execution_count": 17,
     "metadata": {},
     "output_type": "execute_result"
    },
    {
     "data": {
      "image/png": "[encoded data removed]",
      "text/plain": [
       "<Figure size 432x288 with 1 Axes>"
      ]
     },
     "metadata": {
      "needs_background": "light"
     },
     "output_type": "display_data"
    }
   ],
   "source": [
    "all_dna_rp_dna_rp_flux_density_df = DataFrame.from_dict(data = {'DNAPKcs': wt_dnapkcs_df['Fraction DNA RP flux'],\n",
    "                                                              'ATM': wt_atm_df['Fraction DNA RP flux'],\n",
    "                                                              'Rad51': wt_rad51_df['Fraction DNA RP flux'],\n",
    "                                                              'RPA2': wt_rpa32_df['Fraction DNA RP flux']}, orient = 'index')\n",
    "figure_hande, axes_handle = subplots()\n",
    "axes_handle = boxplot(data = all_dna_rp_dna_rp_flux_density_df.transpose())\n",
    "axes_handle.tick_params(labelsize = 14)\n",
    "axes_handle.set_ylabel(\"Fraction pH2AX-positive DNA RP\", fontsize = 14)"
   ]
  },
  {
   "cell_type": "code",
   "execution_count": null,
   "metadata": {},
   "outputs": [],
   "source": []
  }
 ],
 "metadata": {
  "kernelspec": {
   "display_name": "Python 3",
   "language": "python",
   "name": "python3"
  },
  "language_info": {
   "codemirror_mode": {
    "name": "ipython",
    "version": 3
   },
   "file_extension": ".py",
   "mimetype": "text/x-python",
   "name": "python",
   "nbconvert_exporter": "python",
   "pygments_lexer": "ipython3",
   "version": "3.6.8"
  }
 },
 "nbformat": 4,
 "nbformat_minor": 2
}
