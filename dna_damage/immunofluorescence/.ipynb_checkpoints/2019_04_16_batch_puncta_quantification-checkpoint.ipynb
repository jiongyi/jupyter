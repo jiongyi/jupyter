{
 "cells": [
  {
   "cell_type": "code",
   "execution_count": 1,
   "metadata": {},
   "outputs": [
    {
     "name": "stderr",
     "output_type": "stream",
     "text": [
      "/home/jiongyi/anaconda3/lib/python3.6/site-packages/skimage/util/dtype.py:141: UserWarning: Possible precision loss when converting from uint16 to bool\n",
      "  .format(dtypeobj_in, dtypeobj_out))\n"
     ]
    }
   ],
   "source": [
    "from puncta_quantification import *\n",
    "data_folder = '/home/jiongyi/Documents/dna_damage/immunofluorescence/knock_down/formin_2/2_gamma/DNA PKcs'\n",
    "batch_get_regionprops(data_folder, dapi_channel_no=2, ph2ax_channel_no=1, dna_rp_channel_no=0)"
   ]
  },
  {
   "cell_type": "code",
   "execution_count": 2,
   "metadata": {},
   "outputs": [],
   "source": [
    "dna_pkcs_wt_df = batch_aggregate_data(data_folder)"
   ]
  },
  {
   "cell_type": "code",
   "execution_count": 13,
   "metadata": {},
   "outputs": [
    {
     "data": {
      "text/plain": [
       "(array([48., 45., 33., 27.,  6.,  2.,  5.,  1.,  1.,  1.]),\n",
       " array([0.        , 0.01032993, 0.02065986, 0.03098979, 0.04131972,\n",
       "        0.05164966, 0.06197959, 0.07230952, 0.08263945, 0.09296938,\n",
       "        0.10329931]),\n",
       " <a list of 10 Patch objects>)"
      ]
     },
     "execution_count": 13,
     "metadata": {},
     "output_type": "execute_result"
    },
    {
     "data": {
      "image/png": "[encoded data removed]",
      "text/plain": [
       "<Figure size 432x288 with 1 Axes>"
      ]
     },
     "metadata": {
      "needs_background": "light"
     },
     "output_type": "display_data"
    }
   ],
   "source": [
    "%matplotlib inline\n",
    "from matplotlib.pyplot import hist\n",
    "hist(dna_pkcs_wt_df['pH2AX flux'] / dna_pkcs_wt_df['DAPI area'] / dna_pkcs_wt_df['Mean DAPI AU'])"
   ]
  },
  {
   "cell_type": "code",
   "execution_count": 4,
   "metadata": {},
   "outputs": [
    {
     "name": "stderr",
     "output_type": "stream",
     "text": [
      "/home/jiongyi/anaconda3/lib/python3.6/site-packages/skimage/util/dtype.py:141: UserWarning: Possible precision loss when converting from uint16 to bool\n",
      "  .format(dtypeobj_in, dtypeobj_out))\n"
     ]
    }
   ],
   "source": [
    "data_folder = '/home/jiongyi/Documents/dna_damage/immunofluorescence/wildtype/2_gamma/WT DNA PKcs 1hr postIR'\n",
    "batch_get_regionprops(data_folder, dapi_channel_no=2, ph2ax_channel_no=1, dna_rp_channel_no=0)\n",
    "dna_pkcs_fmn2_kd_df = batch_aggregate_data(data_folder)"
   ]
  },
  {
   "cell_type": "code",
   "execution_count": 14,
   "metadata": {},
   "outputs": [
    {
     "data": {
      "text/plain": [
       "(array([135., 168.,  78.,  45.,  20.,   6.,   7.,   3.,   3.,   1.]),\n",
       " array([0.        , 0.02718044, 0.05436089, 0.08154133, 0.10872178,\n",
       "        0.13590222, 0.16308267, 0.19026311, 0.21744356, 0.244624  ,\n",
       "        0.27180445]),\n",
       " <a list of 10 Patch objects>)"
      ]
     },
     "execution_count": 14,
     "metadata": {},
     "output_type": "execute_result"
    },
    {
     "data": {
      "image/png": "[encoded data removed]",
      "text/plain": [
       "<Figure size 432x288 with 1 Axes>"
      ]
     },
     "metadata": {
      "needs_background": "light"
     },
     "output_type": "display_data"
    }
   ],
   "source": [
    "hist(dna_pkcs_fmn2_kd_df['pH2AX flux'] / dna_pkcs_fmn2_kd_df['DAPI area'] / dna_pkcs_fmn2_kd_df['Mean DAPI AU'])"
   ]
  },
  {
   "cell_type": "code",
   "execution_count": 15,
   "metadata": {},
   "outputs": [
    {
     "data": {
      "text/plain": [
       "(array([80., 13., 14., 17., 13., 10.,  7.,  5.,  5.,  5.]),\n",
       " array([0.        , 0.00095475, 0.0019095 , 0.00286425, 0.00381899,\n",
       "        0.00477374, 0.00572849, 0.00668324, 0.00763799, 0.00859274,\n",
       "        0.00954749]),\n",
       " <a list of 10 Patch objects>)"
      ]
     },
     "execution_count": 15,
     "metadata": {},
     "output_type": "execute_result"
    },
    {
     "data": {
      "image/png": "[encoded data removed]",
      "text/plain": [
       "<Figure size 432x288 with 1 Axes>"
      ]
     },
     "metadata": {
      "needs_background": "light"
     },
     "output_type": "display_data"
    }
   ],
   "source": [
    "hist(dna_pkcs_wt_df['DNA RP flux'] / dna_pkcs_wt_df['DAPI area'] / dna_pkcs_wt_df['Mean DAPI AU'])"
   ]
  },
  {
   "cell_type": "code",
   "execution_count": 16,
   "metadata": {},
   "outputs": [
    {
     "data": {
      "text/plain": [
       "(array([328.,  75.,  35.,  14.,   9.,   2.,   1.,   1.,   0.,   1.]),\n",
       " array([0.        , 0.00191984, 0.00383968, 0.00575952, 0.00767935,\n",
       "        0.00959919, 0.01151903, 0.01343887, 0.01535871, 0.01727855,\n",
       "        0.01919838]),\n",
       " <a list of 10 Patch objects>)"
      ]
     },
     "execution_count": 16,
     "metadata": {},
     "output_type": "execute_result"
    },
    {
     "data": {
      "image/png": "[encoded data removed]",
      "text/plain": [
       "<Figure size 432x288 with 1 Axes>"
      ]
     },
     "metadata": {
      "needs_background": "light"
     },
     "output_type": "display_data"
    }
   ],
   "source": [
    "hist(dna_pkcs_fmn2_kd_df['DNA RP flux'] / dna_pkcs_fmn2_kd_df['DAPI area'] / dna_pkcs_fmn2_kd_df['Mean DAPI AU'])"
   ]
  },
  {
   "cell_type": "code",
   "execution_count": null,
   "metadata": {},
   "outputs": [],
   "source": []
  }
 ],
 "metadata": {
  "kernelspec": {
   "display_name": "Python 3",
   "language": "python",
   "name": "python3"
  },
  "language_info": {
   "codemirror_mode": {
    "name": "ipython",
    "version": 3
   },
   "file_extension": ".py",
   "mimetype": "text/x-python",
   "name": "python",
   "nbconvert_exporter": "python",
   "pygments_lexer": "ipython3",
   "version": "3.6.8"
  }
 },
 "nbformat": 4,
 "nbformat_minor": 2
}
