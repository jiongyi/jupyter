{
 "cells": [
  {
   "cell_type": "code",
   "execution_count": 1,
   "metadata": {},
   "outputs": [
    {
     "name": "stderr",
     "output_type": "stream",
     "text": [
      "/home/jiongyi/anaconda3/lib/python3.6/site-packages/skimage/util/dtype.py:141: UserWarning: Possible precision loss when converting from uint16 to bool\n",
      "  .format(dtypeobj_in, dtypeobj_out))\n"
     ]
    }
   ],
   "source": [
    "from puncta_quantification import *\n",
    "data_folder = '/home/jiongyi/Documents/dna_damage/immunofluorescence/knock_down/formin_2/2_gamma/DNA PKcs'\n",
    "batch_get_regionprops(data_folder, dapi_channel_no=2, ph2ax_channel_no=1, dna_rp_channel_no=0)"
   ]
  },
  {
   "cell_type": "code",
   "execution_count": 2,
   "metadata": {},
   "outputs": [],
   "source": [
    "dna_pkcs_wt_df = batch_aggregate_data(data_folder)"
   ]
  },
  {
   "cell_type": "code",
   "execution_count": 3,
   "metadata": {},
   "outputs": [
    {
     "data": {
      "text/plain": [
       "(array([100., 202., 153.,  98.,  29.,  20.,   3.,   1.,   2.,   1.]),\n",
       " array([0.        , 0.09664167, 0.19328334, 0.28992501, 0.38656667,\n",
       "        0.48320834, 0.57985001, 0.67649168, 0.77313335, 0.86977502,\n",
       "        0.96641668]),\n",
       " <a list of 10 Patch objects>)"
      ]
     },
     "execution_count": 3,
     "metadata": {},
     "output_type": "execute_result"
    },
    {
     "data": {
      "image/png": "[encoded data removed]",
      "text/plain": [
       "<Figure size 432x288 with 1 Axes>"
      ]
     },
     "metadata": {
      "needs_background": "light"
     },
     "output_type": "display_data"
    }
   ],
   "source": [
    "%matplotlib inline\n",
    "from matplotlib.pyplot import hist\n",
    "hist(dna_pkcs_wt_df['pH2AX flux'] / dna_pkcs_wt_df['DAPI area'] / dna_pkcs_wt_df['Mean DAPI AU'])"
   ]
  },
  {
   "cell_type": "code",
   "execution_count": 4,
   "metadata": {},
   "outputs": [
    {
     "name": "stderr",
     "output_type": "stream",
     "text": [
      "/home/jiongyi/anaconda3/lib/python3.6/site-packages/skimage/util/dtype.py:141: UserWarning: Possible precision loss when converting from uint16 to bool\n",
      "  .format(dtypeobj_in, dtypeobj_out))\n"
     ]
    }
   ],
   "source": [
    "data_folder = '/home/jiongyi/Documents/dna_damage/immunofluorescence/wildtype/2_gamma/WT DNA PKcs 1hr postIR'\n",
    "batch_get_regionprops(data_folder, dapi_channel_no=2, ph2ax_channel_no=1, dna_rp_channel_no=0)\n",
    "dna_pkcs_fmn2_kd_df = batch_aggregate_data(data_folder)"
   ]
  },
  {
   "cell_type": "code",
   "execution_count": 5,
   "metadata": {},
   "outputs": [
    {
     "data": {
      "text/plain": [
       "(array([11., 20., 21., 21., 10., 14.,  8.,  3.,  2.,  2.]),\n",
       " array([0.        , 0.02884328, 0.05768656, 0.08652983, 0.11537311,\n",
       "        0.14421639, 0.17305967, 0.20190294, 0.23074622, 0.2595895 ,\n",
       "        0.28843278]),\n",
       " <a list of 10 Patch objects>)"
      ]
     },
     "execution_count": 5,
     "metadata": {},
     "output_type": "execute_result"
    },
    {
     "data": {
      "image/png": "[encoded data removed]",
      "text/plain": [
       "<Figure size 432x288 with 1 Axes>"
      ]
     },
     "metadata": {
      "needs_background": "light"
     },
     "output_type": "display_data"
    }
   ],
   "source": [
    "hist(dna_pkcs_fmn2_kd_df['pH2AX flux'] / dna_pkcs_fmn2_kd_df['DAPI area'] / dna_pkcs_fmn2_kd_df['Mean DAPI AU'])"
   ]
  },
  {
   "cell_type": "code",
   "execution_count": 6,
   "metadata": {},
   "outputs": [
    {
     "data": {
      "text/plain": [
       "(array([537.,  42.,  18.,  10.,   0.,   1.,   0.,   0.,   0.,   1.]),\n",
       " array([0.        , 0.00264696, 0.00529392, 0.00794089, 0.01058785,\n",
       "        0.01323481, 0.01588177, 0.01852874, 0.0211757 , 0.02382266,\n",
       "        0.02646962]),\n",
       " <a list of 10 Patch objects>)"
      ]
     },
     "execution_count": 6,
     "metadata": {},
     "output_type": "execute_result"
    },
    {
     "data": {
      "image/png": "[encoded data removed]",
      "text/plain": [
       "<Figure size 432x288 with 1 Axes>"
      ]
     },
     "metadata": {
      "needs_background": "light"
     },
     "output_type": "display_data"
    }
   ],
   "source": [
    "hist(dna_pkcs_wt_df['DNA RP flux'] / dna_pkcs_wt_df['DAPI area'] / dna_pkcs_wt_df['Mean DAPI AU'])"
   ]
  },
  {
   "cell_type": "code",
   "execution_count": 7,
   "metadata": {},
   "outputs": [
    {
     "data": {
      "text/plain": [
       "(array([49., 39., 16.,  3.,  1.,  0.,  0.,  2.,  1.,  1.]),\n",
       " array([0.        , 0.00178029, 0.00356057, 0.00534086, 0.00712115,\n",
       "        0.00890143, 0.01068172, 0.01246201, 0.0142423 , 0.01602258,\n",
       "        0.01780287]),\n",
       " <a list of 10 Patch objects>)"
      ]
     },
     "execution_count": 7,
     "metadata": {},
     "output_type": "execute_result"
    },
    {
     "data": {
      "image/png": "[encoded data removed]",
      "text/plain": [
       "<Figure size 432x288 with 1 Axes>"
      ]
     },
     "metadata": {
      "needs_background": "light"
     },
     "output_type": "display_data"
    }
   ],
   "source": [
    "hist(dna_pkcs_fmn2_kd_df['DNA RP flux'] / dna_pkcs_fmn2_kd_df['DAPI area'] / dna_pkcs_fmn2_kd_df['Mean DAPI AU'])"
   ]
  },
  {
   "cell_type": "code",
   "execution_count": null,
   "metadata": {},
   "outputs": [],
   "source": []
  }
 ],
 "metadata": {
  "kernelspec": {
   "display_name": "Python 3",
   "language": "python",
   "name": "python3"
  },
  "language_info": {
   "codemirror_mode": {
    "name": "ipython",
    "version": 3
   },
   "file_extension": ".py",
   "mimetype": "text/x-python",
   "name": "python",
   "nbconvert_exporter": "python",
   "pygments_lexer": "ipython3",
   "version": "3.6.8"
  }
 },
 "nbformat": 4,
 "nbformat_minor": 2
}
