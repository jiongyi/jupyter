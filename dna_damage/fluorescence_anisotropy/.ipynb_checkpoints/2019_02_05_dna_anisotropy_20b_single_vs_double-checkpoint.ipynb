{
 "cells": [
  {
   "cell_type": "code",
   "execution_count": 15,
   "metadata": {},
   "outputs": [],
   "source": [
    "from numpy import array, logspace, linspace\n",
    "ssdna_anisotropy_row = array([0.203, 0.207, 0.191, 0.142, 0.105, 0.084, 0.075, 0.080, 0.085, 0.072, 0.078])\n",
    "ssdna_arp23_concentration_row = array([3860, 1930, 965, 483, 241, 121, 60, 30, 15, 8, 0]) / 1000.0\n",
    "dsdna_anisotropy_row = array([0.088,\n",
    "                       0.086,\n",
    "                       0.093,\n",
    "                       0.099,\n",
    "                       0.099,\n",
    "                       0.108,\n",
    "                       0.118,\n",
    "                       0.122,\n",
    "                       0.153,\n",
    "                       0.176,\n",
    "                       0.182])\n",
    "dsdna_arp23_concentration_row = 2461 * logspace(-10, 0, num = 11, base = 2) / 1000.0"
   ]
  },
  {
   "cell_type": "code",
   "execution_count": 3,
   "metadata": {},
   "outputs": [],
   "source": [
    "def dna_anisotropy(arp23_concentration, dissociation_constant, min_anisotropy, max_anisotropy):\n",
    "    anisotropy = min_anisotropy + 0.5 * (max_anisotropy - min_anisotropy) * (dissociation_constant + arp23_concentration + 0.010 - \n",
    "                                       sqrt((dissociation_constant + arp23_concentration + 0.010)**2 - \n",
    "                                            4 * arp23_concentration * 0.010)) / 0.010\n",
    "    return anisotropy"
   ]
  },
  {
   "cell_type": "code",
   "execution_count": 8,
   "metadata": {},
   "outputs": [],
   "source": [
    "from scipy.optimize import curve_fit\n",
    "from numpy import sqrt"
   ]
  },
  {
   "cell_type": "code",
   "execution_count": 10,
   "metadata": {},
   "outputs": [],
   "source": [
    "ssdna_fit_opt, ssdna_cov = curve_fit(dna_anisotropy, ssdna_arp23_concentration_row, ssdna_anisotropy_row, p0 = [0.5, 0.07, 0.2])\n",
    "dsdna_fit_opt, dsdna_fit_cov = curve_fit(dna_anisotropy, dsdna_arp23_concentration_row, dsdna_anisotropy_row, p0 = [0.5, 0.07, 0.2])"
   ]
  },
  {
   "cell_type": "code",
   "execution_count": 4,
   "metadata": {},
   "outputs": [],
   "source": [
    "%matplotlib inline\n",
    "from matplotlib.pyplot import subplots"
   ]
  },
  {
   "cell_type": "code",
   "execution_count": 18,
   "metadata": {},
   "outputs": [
    {
     "data": {
      "text/plain": [
       "<matplotlib.legend.Legend at 0x7f5e53a73c88>"
      ]
     },
     "execution_count": 18,
     "metadata": {},
     "output_type": "execute_result"
    },
    {
     "data": {
      "image/png": "[encoded data removed]",
      "text/plain": [
       "<Figure size 432x288 with 1 Axes>"
      ]
     },
     "metadata": {
      "needs_background": "light"
     },
     "output_type": "display_data"
    }
   ],
   "source": [
    "figure_handle, axes_handle = subplots()\n",
    "figure_handle.set_figwidth(5)\n",
    "fit_arp23_concentration_row = linspace(0, 4, 100)\n",
    "axes_handle.plot(ssdna_arp23_concentration_row, ssdna_anisotropy_row, 'ro', label = '20mer ssDNA')\n",
    "axes_handle.plot(fit_arp23_concentration_row, dna_anisotropy(fit_arp23_concentration_row, *ssdna_fit_opt), 'r')\n",
    "axes_handle.plot(dsdna_arp23_concentration_row, dsdna_anisotropy_row, 'bo', label = '20mer dsDNA')\n",
    "axes_handle.plot(fit_arp23_concentration_row, dna_anisotropy(fit_arp23_concentration_row, *dsdna_fit_opt), 'b')\n",
    "axes_handle.set_ylabel(r'Anisotropy', fontsize = 14)\n",
    "axes_handle.set_xlabel(r'Arp2/3 complex ($\\mu$M)', fontsize = 14)\n",
    "axes_handle.legend(fontsize = 14)\n",
    "axes_handle.tick_param(labelsize = 14)"
   ]
  },
  {
   "cell_type": "code",
   "execution_count": null,
   "metadata": {},
   "outputs": [],
   "source": []
  }
 ],
 "metadata": {
  "kernelspec": {
   "display_name": "Python 3",
   "language": "python",
   "name": "python3"
  },
  "language_info": {
   "codemirror_mode": {
    "name": "ipython",
    "version": 3
   },
   "file_extension": ".py",
   "mimetype": "text/x-python",
   "name": "python",
   "nbconvert_exporter": "python",
   "pygments_lexer": "ipython3",
   "version": "3.6.8"
  }
 },
 "nbformat": 4,
 "nbformat_minor": 2
}
