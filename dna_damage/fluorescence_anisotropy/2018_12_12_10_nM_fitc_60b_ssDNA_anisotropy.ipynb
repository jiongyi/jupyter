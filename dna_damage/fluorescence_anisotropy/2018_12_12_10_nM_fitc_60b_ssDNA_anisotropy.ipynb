{
 "cells": [
  {
   "cell_type": "code",
   "execution_count": 1,
   "metadata": {},
   "outputs": [],
   "source": [
    "from numpy import array"
   ]
  },
  {
   "cell_type": "code",
   "execution_count": 2,
   "metadata": {},
   "outputs": [],
   "source": [
    "anisotropy_row = array([0.039,\n",
    "                        0.035,\n",
    "                        0.034,\n",
    "                        0.045,\n",
    "                        0.059,\n",
    "                        0.075,\n",
    "                        0.096,\n",
    "                        0.115,\n",
    "                        0.141,\n",
    "                        0.154,\n",
    "                        0.182,\n",
    "                        0.211])\n",
    "arp23_concentration_row = array([2,\n",
    "                                 4,\n",
    "                                 8,\n",
    "                                 15,\n",
    "                                 31,\n",
    "                                 62,\n",
    "                                 124,\n",
    "                                 248,\n",
    "                                 497,\n",
    "                                 993,\n",
    "                                 1986,\n",
    "                                 3973]) / 1000.0"
   ]
  },
  {
   "cell_type": "code",
   "execution_count": 3,
   "metadata": {},
   "outputs": [],
   "source": [
    "%matplotlib inline\n",
    "from matplotlib.pyplot import subplots"
   ]
  },
  {
   "cell_type": "code",
   "execution_count": 4,
   "metadata": {},
   "outputs": [],
   "source": [
    "from scipy.optimize import curve_fit\n",
    "from numpy import sqrt"
   ]
  },
  {
   "cell_type": "code",
   "execution_count": 5,
   "metadata": {},
   "outputs": [],
   "source": [
    "def dna_anisotropy(arp23_concentration, dissociation_constant, min_anisotropy, max_anisotropy):\n",
    "    anisotropy = min_anisotropy + 0.5 * (max_anisotropy - min_anisotropy) * (dissociation_constant + arp23_concentration + 0.010 - \n",
    "                                       sqrt((dissociation_constant + arp23_concentration + 0.010)**2 - \n",
    "                                            4 * arp23_concentration * 0.010)) / 0.010\n",
    "    return anisotropy"
   ]
  },
  {
   "cell_type": "code",
   "execution_count": 6,
   "metadata": {},
   "outputs": [],
   "source": [
    "p2opt, p2cov = curve_fit(dna_anisotropy, arp23_concentration_row, anisotropy_row, p0 = [0.5, 0.07, 0.2])"
   ]
  },
  {
   "cell_type": "code",
   "execution_count": 7,
   "metadata": {},
   "outputs": [
    {
     "data": {
      "text/plain": [
       "Text(0.5, 0, 'Arp2/3 complex ($\\\\mu$M)')"
      ]
     },
     "execution_count": 7,
     "metadata": {},
     "output_type": "execute_result"
    },
    {
     "data": {
      "image/png": "[encoded data removed]",
      "text/plain": [
       "<Figure size 360x288 with 1 Axes>"
      ]
     },
     "metadata": {
      "needs_background": "light"
     },
     "output_type": "display_data"
    }
   ],
   "source": [
    "figure_handle, axes_handle = subplots()\n",
    "figure_handle.set_figwidth(5)\n",
    "axes_handle.plot(arp23_concentration_row, anisotropy_row, 'o')\n",
    "axes_handle.plot(arp23_concentration_row, dna_anisotropy(arp23_concentration_row, *p2opt))\n",
    "axes_handle.tick_params(labelsize = 14)\n",
    "axes_handle.set_ylabel(r'Anisotropy', fontsize = 14)\n",
    "axes_handle.set_xlabel(r'Arp2/3 complex ($\\mu$M)', fontsize = 14)"
   ]
  },
  {
   "cell_type": "code",
   "execution_count": 8,
   "metadata": {},
   "outputs": [
    {
     "name": "stdout",
     "output_type": "stream",
     "text": [
      "[0.29466724 0.03777483 0.20840964]\n",
      "[0.06181161 0.00451561 0.00868026]\n"
     ]
    }
   ],
   "source": [
    "from numpy import diag\n",
    "print(p2opt)\n",
    "print(sqrt(diag(p2cov)))"
   ]
  }
 ],
 "metadata": {
  "kernelspec": {
   "display_name": "Python 3",
   "language": "python",
   "name": "python3"
  },
  "language_info": {
   "codemirror_mode": {
    "name": "ipython",
    "version": 3
   },
   "file_extension": ".py",
   "mimetype": "text/x-python",
   "name": "python",
   "nbconvert_exporter": "python",
   "pygments_lexer": "ipython3",
   "version": "3.6.8"
  }
 },
 "nbformat": 4,
 "nbformat_minor": 2
}
