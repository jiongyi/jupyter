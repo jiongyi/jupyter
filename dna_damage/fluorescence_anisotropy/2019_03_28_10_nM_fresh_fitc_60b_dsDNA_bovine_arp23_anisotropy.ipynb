{
 "cells": [
  {
   "cell_type": "markdown",
   "metadata": {},
   "source": [
    "# 10 nM FITC-labeled ds60mer (3/28) and bovine Arp2/3 complex"
   ]
  },
  {
   "cell_type": "code",
   "execution_count": 1,
   "metadata": {},
   "outputs": [
    {
     "name": "stdout",
     "output_type": "stream",
     "text": [
      "4.645928571428572\n"
     ]
    }
   ],
   "source": [
    "arp23_max_concentration = 59.4 / 60.0 * 0.657 / 140000 * 1e6\n",
    "print(arp23_max_concentration)"
   ]
  },
  {
   "cell_type": "code",
   "execution_count": 2,
   "metadata": {},
   "outputs": [],
   "source": [
    "from numpy import array, logspace"
   ]
  },
  {
   "cell_type": "code",
   "execution_count": 3,
   "metadata": {},
   "outputs": [],
   "source": [
    "anisotropy_row = array([0.060,\n",
    "                       0.061,\n",
    "                       0.060,\n",
    "                       0.061,\n",
    "                       0.061,\n",
    "                       0.062,\n",
    "                       0.064,\n",
    "                       0.064,\n",
    "                       0.066,\n",
    "                       0.071,\n",
    "                       0.072,\n",
    "                       0.083,\n",
    "                       0.097])\n",
    "no_points = len(anisotropy_row)\n",
    "arp23_concentration_row = arp23_max_concentration * logspace(-(no_points - 1), 0, num = no_points, base = 2)"
   ]
  },
  {
   "cell_type": "code",
   "execution_count": 4,
   "metadata": {},
   "outputs": [],
   "source": [
    "%matplotlib inline\n",
    "from matplotlib.pyplot import subplots"
   ]
  },
  {
   "cell_type": "code",
   "execution_count": 5,
   "metadata": {},
   "outputs": [],
   "source": [
    "from scipy.optimize import curve_fit\n",
    "from numpy import sqrt"
   ]
  },
  {
   "cell_type": "code",
   "execution_count": 6,
   "metadata": {},
   "outputs": [],
   "source": [
    "def dna_anisotropy(arp23_concentration, dissociation_constant, min_anisotropy, max_anisotropy):\n",
    "    anisotropy = min_anisotropy + 0.5 * (max_anisotropy - min_anisotropy) * (dissociation_constant + arp23_concentration + 0.010 - \n",
    "                                       sqrt((dissociation_constant + arp23_concentration + 0.010)**2 - \n",
    "                                            4 * arp23_concentration * 0.010)) / 0.010\n",
    "    return anisotropy"
   ]
  },
  {
   "cell_type": "code",
   "execution_count": 7,
   "metadata": {},
   "outputs": [],
   "source": [
    "p2opt, p2cov = curve_fit(dna_anisotropy, arp23_concentration_row, anisotropy_row, p0 = [0.5, 0.07, 0.2])"
   ]
  },
  {
   "cell_type": "code",
   "execution_count": 8,
   "metadata": {},
   "outputs": [
    {
     "data": {
      "text/plain": [
       "Text(0.5, 0, 'Arp2/3 complex ($\\\\mu$M)')"
      ]
     },
     "execution_count": 8,
     "metadata": {},
     "output_type": "execute_result"
    },
    {
     "data": {
      "image/png": "[encoded data removed]",
      "text/plain": [
       "<Figure size 432x288 with 1 Axes>"
      ]
     },
     "metadata": {
      "needs_background": "light"
     },
     "output_type": "display_data"
    }
   ],
   "source": [
    "figure_handle, axes_handle = subplots()\n",
    "axes_handle.plot(arp23_concentration_row, anisotropy_row, 'o')\n",
    "axes_handle.plot(arp23_concentration_row, dna_anisotropy(arp23_concentration_row, *p2opt))\n",
    "axes_handle.set_ylabel(r'Anisotropy', fontsize = 12)\n",
    "axes_handle.set_xlabel(r'Arp2/3 complex ($\\mu$M)', fontsize = 12)"
   ]
  },
  {
   "cell_type": "code",
   "execution_count": 9,
   "metadata": {},
   "outputs": [
    {
     "name": "stdout",
     "output_type": "stream",
     "text": [
      "[6.68650266 0.0613625  0.14744344]\n",
      "[2.42881141e+00 5.31383650e-04 2.03071717e-02]\n"
     ]
    }
   ],
   "source": [
    "from numpy import diag\n",
    "print(p2opt)\n",
    "print(sqrt(diag(p2cov)))"
   ]
  }
 ],
 "metadata": {
  "kernelspec": {
   "display_name": "Python 3",
   "language": "python",
   "name": "python3"
  },
  "language_info": {
   "codemirror_mode": {
    "name": "ipython",
    "version": 3
   },
   "file_extension": ".py",
   "mimetype": "text/x-python",
   "name": "python",
   "nbconvert_exporter": "python",
   "pygments_lexer": "ipython3",
   "version": "3.6.8"
  }
 },
 "nbformat": 4,
 "nbformat_minor": 2
}
