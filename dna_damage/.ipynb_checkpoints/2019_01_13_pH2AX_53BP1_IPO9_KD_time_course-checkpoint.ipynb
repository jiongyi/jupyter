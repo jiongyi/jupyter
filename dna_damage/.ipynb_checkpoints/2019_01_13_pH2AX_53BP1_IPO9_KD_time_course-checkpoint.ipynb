{
 "cells": [
  {
   "cell_type": "code",
   "execution_count": 1,
   "metadata": {},
   "outputs": [],
   "source": [
    "from puncta_quantification import *\n",
    "from numpy import array"
   ]
  },
  {
   "cell_type": "code",
   "execution_count": 2,
   "metadata": {},
   "outputs": [],
   "source": [
    "post0gr_dict_list = []\n",
    "post0gr_dict_list.append(compile_csv_files('/home/jiongyi/Documents/dna_damage/immunofluorescence/2018_12_28/u2os_ipo9_kd_30_m_post_0gr_pH2AX_53pb1_dapi_a'))\n",
    "post0gr_dict_list.append(compile_csv_files('/home/jiongyi/Documents/dna_damage/immunofluorescence/2019_01_14/6hr_ipo9_kd_a_happy/'))\n",
    "post0gr_dict_list.append(compile_csv_files('/home/jiongyi/Documents/dna_damage/immunofluorescence/2019_01_14/24hr_ipo9_kd_a_happy'))\n",
    "\n",
    "post2gr_dict_list = []\n",
    "post2gr_dict_list.append(compile_csv_files('/home/jiongyi/Documents/dna_damage/immunofluorescence/2018_12_28/u2os_ipo9_kd_60_m_post_2gr_pH2AX_53pb1_dapi_a'))\n",
    "post2gr_dict_list.append(compile_csv_files('/home/jiongyi/Documents/dna_damage/immunofluorescence/2019_01_14/6hr_ipo9_kd_a_sad'))\n",
    "post2gr_dict_list.append(compile_csv_files('/home/jiongyi/Documents/dna_damage/immunofluorescence/2019_01_14/24hr_ipo9_kd_sad/'))"
   ]
  },
  {
   "cell_type": "code",
   "execution_count": 8,
   "metadata": {},
   "outputs": [],
   "source": [
    "post0gr_lambda1_flux_density_median_row, post0gr_lambda1_flux_density_stderr_2d, post0gr_lambda2_flux_density_median_row, post0gr_lambda2_flux_density_stderr_2d, post0gr_no_overlaps_density_median_row, post0gr_no_overlaps_stderr_2d = compute_medians(post0gr_dict_list)\n",
    "post2gr_lambda1_flux_density_median_row, post2gr_lambda1_flux_density_stderr_2d, post2gr_lambda2_flux_density_median_row, post2gr_lambda2_flux_density_stderr_2d, post2gr_no_overlaps_density_median_row, post2gr_no_overlaps_stderr_2d = compute_medians(post2gr_dict_list)"
   ]
  },
  {
   "cell_type": "code",
   "execution_count": 9,
   "metadata": {},
   "outputs": [
    {
     "ename": "NameError",
     "evalue": "name 'post0gr_no_overlaps_stderr_2d' is not defined",
     "output_type": "error",
     "traceback": [
      "\u001b[0;31m---------------------------------------------------------------------------\u001b[0m",
      "\u001b[0;31mNameError\u001b[0m                                 Traceback (most recent call last)",
      "\u001b[0;32m<ipython-input-9-8ecec86c55ec>\u001b[0m in \u001b[0;36m<module>\u001b[0;34m\u001b[0m\n\u001b[1;32m     22\u001b[0m \u001b[0;34m\u001b[0m\u001b[0m\n\u001b[1;32m     23\u001b[0m axes_obj[1, 0].errorbar(hour_row, post0gr_no_overlaps_density_median_row,\n\u001b[0;32m---> 24\u001b[0;31m                   yerr = post0gr_no_overlaps_stderr_2d.transpose(), marker = 'o', linestyle = '', label = 'untreated')\n\u001b[0m\u001b[1;32m     25\u001b[0m axes_obj[1, 0].errorbar(hour_row, post2gr_no_overlaps_density_median_row,\n\u001b[1;32m     26\u001b[0m                   yerr = post2gr_no_overlaps_density_stderr_2d.transpose(), marker = 'o', linestyle = '', label = '2 rays')\n",
      "\u001b[0;31mNameError\u001b[0m: name 'post0gr_no_overlaps_stderr_2d' is not defined"
     ]
    },
    {
     "data": {
      "image/png": "[encoded data removed]",
      "text/plain": [
       "<Figure size 792x288 with 4 Axes>"
      ]
     },
     "metadata": {
      "needs_background": "light"
     },
     "output_type": "display_data"
    }
   ],
   "source": [
    "from matplotlib.pyplot import subplots\n",
    "hour_row = array([1, 6, 24])\n",
    "fig_obj, axes_obj = subplots(ncols = 2, nrows = 2)\n",
    "fig_obj.set_figwidth(11)\n",
    "axes_obj[0, 0].errorbar(hour_row, post0gr_lambda1_flux_density_median_row,\n",
    "                  yerr = post0gr_lambda1_flux_density_stderr_2d.transpose(), marker = 'o', linestyle = '', label = 'untreated')\n",
    "axes_obj[0, 0].errorbar(hour_row, post2gr_lambda1_flux_density_median_row,\n",
    "                  yerr = post2gr_lambda1_flux_density_stderr_2d.transpose(), marker = 'o', linestyle = '', label = '2 rays')\n",
    "axes_obj[0, 0].legend()\n",
    "axes_obj[0, 0].set_xlabel('Time (hr)')\n",
    "axes_obj[0, 0].set_ylabel('pH2AX median flux density')\n",
    "axes_obj[0, 0].set_title('IPO9 KD U2OS')\n",
    "\n",
    "axes_obj[0, 1].errorbar(hour_row, post0gr_lambda2_flux_density_median_row,\n",
    "                  yerr = post0gr_lambda2_flux_density_stderr_2d.transpose(), marker = 'o', linestyle = '', label = 'untreated')\n",
    "axes_obj[0, 1].errorbar(hour_row, post2gr_lambda2_flux_density_median_row,\n",
    "                  yerr = post2gr_lambda2_flux_density_stderr_2d.transpose(), marker = 'o', linestyle = '', label = '2 rays')\n",
    "axes_obj[0, 1].legend()\n",
    "axes_obj[0, 1].set_xlabel('Time (hr)')\n",
    "axes_obj[0, 1].set_ylabel('53BP1 median flux density')\n",
    "axes_obj[0, 1].set_title('IPO9 KD U2OS')\n",
    "\n",
    "axes_obj[1, 0].errorbar(hour_row, post0gr_no_overlaps_density_median_row,\n",
    "                  yerr = post0gr_no_overlaps_stderr_2d.transpose(), marker = 'o', linestyle = '', label = 'untreated')\n",
    "axes_obj[1, 0].errorbar(hour_row, post2gr_no_overlaps_density_median_row,\n",
    "                  yerr = post2gr_no_overlaps_density_stderr_2d.transpose(), marker = 'o', linestyle = '', label = '2 rays')\n",
    "axes_obj[1, 0].legend()\n",
    "axes_obj[1, 0].set_xlabel('Time (hr)')\n",
    "axes_obj[1, 0].set_ylabel('Median overlap density')\n",
    "axes_obj[1, 0].set_title('IPO9 KD U2OS')"
   ]
  },
  {
   "cell_type": "code",
   "execution_count": null,
   "metadata": {},
   "outputs": [],
   "source": []
  }
 ],
 "metadata": {
  "kernelspec": {
   "display_name": "Python 3",
   "language": "python",
   "name": "python3"
  },
  "language_info": {
   "codemirror_mode": {
    "name": "ipython",
    "version": 3
   },
   "file_extension": ".py",
   "mimetype": "text/x-python",
   "name": "python",
   "nbconvert_exporter": "python",
   "pygments_lexer": "ipython3",
   "version": "3.6.7"
  }
 },
 "nbformat": 4,
 "nbformat_minor": 2
}
