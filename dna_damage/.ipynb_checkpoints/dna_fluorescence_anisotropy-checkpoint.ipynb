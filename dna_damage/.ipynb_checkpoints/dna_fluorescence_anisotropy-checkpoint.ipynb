{
 "cells": [
  {
   "cell_type": "code",
   "execution_count": 1,
   "metadata": {},
   "outputs": [],
   "source": [
    "from numpy import array"
   ]
  },
  {
   "cell_type": "code",
   "execution_count": 2,
   "metadata": {},
   "outputs": [],
   "source": [
    "anisotropy_row = array([0.219, 0.202, 0.186, 0.169, 0.152, 0.095, 0.077, 0.065, 0.065, 0.048])\n",
    "arp23_concentration_row = array([6, 3, 1.5, 0.75, 0.375, 0.125, 0.0625, 0.0625 / 2, 0.0625 / 4, 0])"
   ]
  },
  {
   "cell_type": "code",
   "execution_count": 3,
   "metadata": {},
   "outputs": [],
   "source": [
    "from numpy import min, max\n",
    "bound_dna_row = anisotropy_row - min(anisotropy_row)\n",
    "bound_dna_row = bound_dna_row / max(bound_dna_row)"
   ]
  },
  {
   "cell_type": "code",
   "execution_count": 4,
   "metadata": {},
   "outputs": [],
   "source": [
    "%matplotlib inline\n",
    "from matplotlib.pyplot import subplots"
   ]
  },
  {
   "cell_type": "code",
   "execution_count": 5,
   "metadata": {},
   "outputs": [],
   "source": [
    "from scipy.optimize import curve_fit\n",
    "from numpy import sqrt"
   ]
  },
  {
   "cell_type": "code",
   "execution_count": 6,
   "metadata": {},
   "outputs": [],
   "source": [
    "def bound_dna(arp23_concentration, dissociation_constant, hill_coefficient):\n",
    "    bound_dna_concentration = arp23_concentration**hill_coefficient / (arp23_concentration**hill_coefficient + dissociation_constant)\n",
    "    return bound_dna_concentration\n",
    "\n",
    "def bound_dna_quad(arp23_concentration, dissociation_constant):\n",
    "    bound_dna_concentration = 0.5 * (dissociation_constant + arp23_concentration + 0.010 - \n",
    "                                       sqrt((dissociation_constant + arp23_concentration + 0.010)**2 - \n",
    "                                            4 * arp23_concentration * 0.010)) / 0.010\n",
    "    return bound_dna_concentration"
   ]
  },
  {
   "cell_type": "code",
   "execution_count": 7,
   "metadata": {},
   "outputs": [],
   "source": [
    "popt, pcov = curve_fit(bound_dna_quad, arp23_concentration_row, bound_dna_row, p0 = 0.3)"
   ]
  },
  {
   "cell_type": "code",
   "execution_count": 8,
   "metadata": {},
   "outputs": [
    {
     "data": {
      "text/plain": [
       "Text(0.5,0,'Arp2/3 complex ($\\\\mu$M)')"
      ]
     },
     "execution_count": 8,
     "metadata": {},
     "output_type": "execute_result"
    },
    {
     "data": {
      "image/png": "[encoded data removed]",
      "text/plain": [
       "<Figure size 432x288 with 1 Axes>"
      ]
     },
     "metadata": {
      "needs_background": "light"
     },
     "output_type": "display_data"
    }
   ],
   "source": [
    "figure_handle, axes_handle = subplots()\n",
    "axes_handle.plot(arp23_concentration_row, bound_dna_row, 'o')\n",
    "axes_handle.plot(arp23_concentration_row, bound_dna_quad(arp23_concentration_row, *popt))\n",
    "axes_handle.set_ylabel(r'Fraction bound DNA', fontsize = 12)\n",
    "axes_handle.set_xlabel(r'Arp2/3 complex ($\\mu$M)', fontsize = 12)"
   ]
  },
  {
   "cell_type": "code",
   "execution_count": 9,
   "metadata": {},
   "outputs": [
    {
     "name": "stdout",
     "output_type": "stream",
     "text": [
      "[0.28381401]\n",
      "[0.01960193]\n"
     ]
    }
   ],
   "source": [
    "from numpy import sqrt, diag\n",
    "variance_row = sqrt(diag(pcov))\n",
    "print(popt)\n",
    "print(variance_row)"
   ]
  },
  {
   "cell_type": "code",
   "execution_count": null,
   "metadata": {},
   "outputs": [],
   "source": []
  }
 ],
 "metadata": {
  "kernelspec": {
   "display_name": "Python 3",
   "language": "python",
   "name": "python3"
  },
  "language_info": {
   "codemirror_mode": {
    "name": "ipython",
    "version": 3
   },
   "file_extension": ".py",
   "mimetype": "text/x-python",
   "name": "python",
   "nbconvert_exporter": "python",
   "pygments_lexer": "ipython3",
   "version": "3.6.6"
  }
 },
 "nbformat": 4,
 "nbformat_minor": 2
}
