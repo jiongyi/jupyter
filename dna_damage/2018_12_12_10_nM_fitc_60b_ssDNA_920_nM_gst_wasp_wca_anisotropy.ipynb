{
 "cells": [
  {
   "cell_type": "code",
   "execution_count": 1,
   "metadata": {},
   "outputs": [],
   "source": [
    "from numpy import array"
   ]
  },
  {
   "cell_type": "code",
   "execution_count": 2,
   "metadata": {},
   "outputs": [],
   "source": [
    "anisotropy_row = array([0.062,\n",
    "                        0.063,\n",
    "                        0.058,\n",
    "                        0.061,\n",
    "                        0.061,\n",
    "                        0.065,\n",
    "                        0.068,\n",
    "                        0.077,\n",
    "                        0.102,\n",
    "                        0.148,\n",
    "                        0.162,\n",
    "                        0.174])\n",
    "arp23_concentration_row = array([2,\n",
    "                                 4,\n",
    "                                 7,\n",
    "                                 14,\n",
    "                                 29,\n",
    "                                 58,\n",
    "                                 116,\n",
    "                                 232,\n",
    "                                 463,\n",
    "                                 927,\n",
    "                                 1854,\n",
    "                                 3707]) / 1000.0"
   ]
  },
  {
   "cell_type": "code",
   "execution_count": 3,
   "metadata": {},
   "outputs": [],
   "source": [
    "%matplotlib inline\n",
    "from matplotlib.pyplot import subplots"
   ]
  },
  {
   "cell_type": "code",
   "execution_count": 4,
   "metadata": {},
   "outputs": [],
   "source": [
    "from scipy.optimize import curve_fit\n",
    "from numpy import sqrt"
   ]
  },
  {
   "cell_type": "code",
   "execution_count": 5,
   "metadata": {},
   "outputs": [],
   "source": [
    "def dna_anisotropy(arp23_concentration, dissociation_constant, min_anisotropy, max_anisotropy):\n",
    "    anisotropy = min_anisotropy + 0.5 * (max_anisotropy - min_anisotropy) * (dissociation_constant + arp23_concentration + 0.010 - \n",
    "                                       sqrt((dissociation_constant + arp23_concentration + 0.010)**2 - \n",
    "                                            4 * arp23_concentration * 0.010)) / 0.010\n",
    "    return anisotropy\n",
    "def dna_anisotropy_hill(arp23_concentration, dissociation_constant, min_anisotropy, max_anisotropy, hill_coeff):\n",
    "    anisotropy = min_anisotropy + 0.5 * (max_anisotropy - min_anisotropy) * (dissociation_constant + arp23_concentration**hill_coeff + 0.010 - \n",
    "                                       sqrt((dissociation_constant + arp23_concentration**hill_coeff + 0.010)**2 - \n",
    "                                            4 * arp23_concentration**hill_coeff * 0.010)) / 0.010\n",
    "    return anisotropy"
   ]
  },
  {
   "cell_type": "code",
   "execution_count": 6,
   "metadata": {},
   "outputs": [],
   "source": [
    "p2opt, p2cov = curve_fit(dna_anisotropy, arp23_concentration_row, anisotropy_row, p0 = [0.5, 0.07, 0.2])\n",
    "p3opt, p3cov = curve_fit(dna_anisotropy_hill, arp23_concentration_row, anisotropy_row, p0 = [0.5, 0.07, 0.2, 1.0])"
   ]
  },
  {
   "cell_type": "code",
   "execution_count": 7,
   "metadata": {},
   "outputs": [
    {
     "data": {
      "text/plain": [
       "Text(0.5,0,'Arp2/3 complex ($\\\\mu$M)')"
      ]
     },
     "execution_count": 7,
     "metadata": {},
     "output_type": "execute_result"
    },
    {
     "data": {
      "image/png": "[encoded data removed]",
      "text/plain": [
       "<Figure size 432x288 with 1 Axes>"
      ]
     },
     "metadata": {
      "needs_background": "light"
     },
     "output_type": "display_data"
    }
   ],
   "source": [
    "figure_handle, axes_handle = subplots()\n",
    "axes_handle.plot(arp23_concentration_row, anisotropy_row, 'o')\n",
    "axes_handle.plot(arp23_concentration_row, dna_anisotropy(arp23_concentration_row, *p2opt))\n",
    "axes_handle.plot(arp23_concentration_row, dna_anisotropy_hill(arp23_concentration_row, *p3opt))\n",
    "axes_handle.set_ylabel(r'Anisotropy', fontsize = 12)\n",
    "axes_handle.set_xlabel(r'Arp2/3 complex ($\\mu$M)', fontsize = 12)"
   ]
  },
  {
   "cell_type": "code",
   "execution_count": 8,
   "metadata": {},
   "outputs": [
    {
     "name": "stdout",
     "output_type": "stream",
     "text": [
      "[0.94888348 0.05709055 0.21152219]\n",
      "[0.24976548 0.00316611 0.01447788]\n",
      "[0.31136499 0.06184915 0.17454788 2.10843348]\n",
      "[0.05957339 0.00119939 0.00322557 0.20379661]\n"
     ]
    }
   ],
   "source": [
    "from numpy import diag\n",
    "print(p2opt)\n",
    "print(sqrt(diag(p2cov)))\n",
    "print(p3opt)\n",
    "print(sqrt(diag(p3cov)))"
   ]
  }
 ],
 "metadata": {
  "kernelspec": {
   "display_name": "Python 3",
   "language": "python",
   "name": "python3"
  },
  "language_info": {
   "codemirror_mode": {
    "name": "ipython",
    "version": 3
   },
   "file_extension": ".py",
   "mimetype": "text/x-python",
   "name": "python",
   "nbconvert_exporter": "python",
   "pygments_lexer": "ipython3",
   "version": "3.6.6"
  }
 },
 "nbformat": 4,
 "nbformat_minor": 2
}
