{
 "cells": [
  {
   "cell_type": "code",
   "execution_count": 1,
   "metadata": {},
   "outputs": [],
   "source": [
    "from skimage.io import imread, imsave\n",
    "from skimage.filters import median\n",
    "from skimage.feature import register_translation\n",
    "from scipy.ndimage import fourier_shift\n",
    "from numpy import zeros\n",
    "from numpy.fft import fftn, ifftn\n",
    "from skimage.util import img_as_uint"
   ]
  },
  {
   "cell_type": "code",
   "execution_count": 2,
   "metadata": {},
   "outputs": [],
   "source": [
    "file_path = '/home/jiongyi/Documents/johnny/ForDriftCorrection.tif'\n",
    "mm_stack = imread(file_path)\n",
    "no_frames, no_rows, no_cols = mm_stack.shape"
   ]
  },
  {
   "cell_type": "code",
   "execution_count": 3,
   "metadata": {},
   "outputs": [],
   "source": [
    "#Iterate to fix images.\n",
    "corrected_stack = zeros((no_frames, no_rows, no_cols))\n",
    "corrected_stack[0, :, :] = mm_stack[0, :, :]\n",
    "for i in range(0, no_frames - 1):\n",
    "    i_shift,_ ,_ = register_translation(median(corrected_stack[i, :, :]), median(mm_stack[i + 1, :, :]), 100)\n",
    "    i_corrected_dft = fourier_shift(fftn(mm_stack[i + 1, :, :]), i_shift)\n",
    "    corrected_stack[i + 1, :, :] = ifftn(i_corrected_dft).real"
   ]
  },
  {
   "cell_type": "code",
   "execution_count": 4,
   "metadata": {},
   "outputs": [
    {
     "name": "stderr",
     "output_type": "stream",
     "text": [
      "/home/jiongyi/anaconda3/lib/python3.6/site-packages/ipykernel_launcher.py:1: UserWarning: /home/jiongyi/Documents/johnny/drift_corrected_stack.tif is a low contrast image\n",
      "  \"\"\"Entry point for launching an IPython kernel.\n"
     ]
    }
   ],
   "source": [
    "imsave('/home/jiongyi/Documents/johnny/drift_corrected_stack.tif', img_as_uint(corrected_stack / (2**16 - 1)))"
   ]
  }
 ],
 "metadata": {
  "kernelspec": {
   "display_name": "Python 3",
   "language": "python",
   "name": "python3"
  },
  "language_info": {
   "codemirror_mode": {
    "name": "ipython",
    "version": 3
   },
   "file_extension": ".py",
   "mimetype": "text/x-python",
   "name": "python",
   "nbconvert_exporter": "python",
   "pygments_lexer": "ipython3",
   "version": "3.6.10"
  }
 },
 "nbformat": 4,
 "nbformat_minor": 4
}
