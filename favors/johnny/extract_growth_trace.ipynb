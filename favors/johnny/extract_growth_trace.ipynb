{
 "cells": [
  {
   "cell_type": "code",
   "execution_count": 1,
   "metadata": {},
   "outputs": [],
   "source": [
    "# Find all kymographs.\n",
    "from os import walk\n",
    "from os.path import join, split\n",
    "import fnmatch\n",
    "folderName = '/media/jiongyi/jiongyi_32g/Johnny/20190627_Kymographs'\n",
    "tifFilePaths = []\n",
    "searchString = 'Kymograph*.tif'\n",
    "for (dirPath, dirNames, fileNames) in walk(folderName):\n",
    "    for fileName in fileNames:\n",
    "        if fnmatch.fnmatch(fileName, searchString):\n",
    "            tifFilePaths.append(join(dirPath, fileName))"
   ]
  },
  {
   "cell_type": "code",
   "execution_count": 2,
   "metadata": {},
   "outputs": [],
   "source": [
    "# Binarize.\n",
    "from skimage.io import imread\n",
    "from skimage.util import numpy_pad\n",
    "from skimage.exposure import equalize_adapthist, rescale_intensity\n",
    "from skimage.filters import threshold_otsu, gaussian, threshold_mean, threshold_li\n",
    "from skimage.morphology import erosion, dilation, white_tophat, rectangle, opening\n",
    "from numpy import any, copy, mean, std, abs, flatnonzero, sum, min\n",
    "from skimage.restoration import denoise_tv_bregman\n",
    "\n",
    "def fix_dilation(raw_row, bw_row):\n",
    "    old_bw_row = copy(bw_row)\n",
    "    old_std = std(raw_row[~bw_row])\n",
    "    new_bw_row = dilation(old_bw_row, selem = (1, 1, 0))\n",
    "    new_std = std(raw_row[~new_bw_row])\n",
    "    while new_std < old_std:\n",
    "        old_std = std(raw_row[~old_bw_row])\n",
    "        new_bw_row = dilation(old_bw_row, selem = (1, 1, 0))\n",
    "        new_std = std(raw_row[~new_bw_row])\n",
    "        old_bw_row = copy(new_bw_row)\n",
    "\n",
    "    new_bw_row = dilation(old_bw_row, selem = (0, 1, 1))\n",
    "    new_std = std(raw_row[~new_bw_row])\n",
    "    while new_std < old_std:\n",
    "        old_std = std(raw_row[~old_bw_row])\n",
    "        new_bw_row = dilation(old_bw_row, selem = (0, 1, 1))\n",
    "        new_std = std(raw_row[~new_bw_row])\n",
    "        old_bw_row = copy(new_bw_row)\n",
    "    return old_bw_row\n",
    "\n",
    "def fix_erosion(raw_row, bw_row):\n",
    "    old_bw_row = copy(bw_row)\n",
    "    old_std = std(raw_row[~bw_row])\n",
    "    new_bw_row = erosion(old_bw_row, selem = (1, 1, 0))\n",
    "    new_std = std(raw_row[~new_bw_row])\n",
    "    while new_std < old_std:\n",
    "        old_std = std(raw_row[~old_bw_row])\n",
    "        new_bw_row = erosion(old_bw_row, selem = (1, 1, 0))\n",
    "        new_std = std(raw_row[~new_bw_row])\n",
    "        old_bw_row = copy(new_bw_row)\n",
    "\n",
    "    new_bw_row = erosion(old_bw_row, selem = (0, 1, 1))\n",
    "    new_std = std(raw_row[~new_bw_row])\n",
    "    while new_std < old_std:\n",
    "        old_std = std(raw_row[~old_bw_row])\n",
    "        new_bw_row = erosion(old_bw_row, selem = (0, 1, 1))\n",
    "        new_std = std(raw_row[~new_bw_row])\n",
    "        old_bw_row = copy(new_bw_row)\n",
    "    return old_bw_row\n",
    "\n",
    "def binarize_kymograph2(tif_file_path):\n",
    "    blank_actin_tpm_mat = imread(tif_file_path)\n",
    "    tpm_im = blank_actin_tpm_mat[:, :, 2]\n",
    "    enhanced_im = equalize_adapthist(tpm_im)\n",
    "    opened_im = opening(enhanced_im, selem = rectangle(1, enhanced_im.shape[1]))\n",
    "    mean_opened_row = mean(opened_im, axis = 1)\n",
    "    for i in range(enhanced_im.shape[0]):\n",
    "        enhanced_im[i, :] = enhanced_im[i, :] - mean_opened_row[i]\n",
    "    denoised_im = denoise_tv_bregman(enhanced_im, weight = 16)\n",
    "    denoised_im = denoised_im - min(denoised_im.flatten())\n",
    "    bw_im = denoised_im > threshold_li(denoised_im)\n",
    "    #recursive_grow_shrink(gauss_im, bw_im)\n",
    "    #for i_row in range(gauss_im.shape[0]):\n",
    "    #    if any(bw_im[i_row, :]):\n",
    "    #        bw_im[i_row, :] = fix_erosion(gauss_im[i_row, :], bw_im[i_row, :])\n",
    "    #        bw_im[i_row, :] = fix_dilation(gauss_im[i_row, :], bw_im[i_row, :])\n",
    "    return tpm_im, denoised_im, bw_im\n",
    "\n",
    "def binarize_kymograph(tif_file_path):\n",
    "    blank_actin_tpm_mat = imread(tif_file_path)\n",
    "    tpm_im = numpy_pad(blank_actin_tpm_mat[:, :, 2], pad_width = ((0, 0), (3, 3)), mode = 'edge')\n",
    "    for i in range(tpm_im.shape[0]):\n",
    "        tpm_im[i, :] = tpm_im[i, :] - 0.5 * (tpm_im[i, 0] + tpm_im[i, -1])\n",
    "    enhanced_im = equalize_adapthist(tpm_im, kernel_size = [3, tpm_im.shape[1]])\n",
    "    tophat_im = white_tophat(enhanced_im, rectangle(3, tpm_im.shape[1]))\n",
    "    gauss_im = gaussian(tophat_im, sigma = (0, 3))\n",
    "    gauss_im = denoise_tv_chambolle(tpm_im, weight = 0.0005)\n",
    "    bw_im = gauss_im > threshold_otsu(gauss_im)\n",
    "    return tpm_im, gauss_im, bw_im"
   ]
  },
  {
   "cell_type": "code",
   "execution_count": 3,
   "metadata": {},
   "outputs": [
    {
     "name": "stderr",
     "output_type": "stream",
     "text": [
      "/home/jiongyi/anaconda3/lib/python3.6/site-packages/skimage/util/dtype.py:135: UserWarning: Possible precision loss when converting from float64 to uint16\n",
      "  .format(dtypeobj_in, dtypeobj_out))\n"
     ]
    }
   ],
   "source": [
    "# Batch.\n",
    "from numpy import concatenate\n",
    "from skimage.io import imsave\n",
    "from skimage.util import img_as_float, img_as_uint\n",
    "for i in range(len(tifFilePaths)):\n",
    "    i_tpm_im, i_gauss_im, i_bw_im = binarize_kymograph2(tifFilePaths[i])\n",
    "    i_montage_im = concatenate((i_tpm_im / max(i_tpm_im.flatten()),\n",
    "                               i_gauss_im / max(i_gauss_im.flatten()),\n",
    "                               img_as_float(i_bw_im)), axis = 1)\n",
    "    imsave(tifFilePaths[i][:-4] + '_bw_montage.tif', img_as_uint(i_montage_im), check_contrast=False)"
   ]
  }
 ],
 "metadata": {
  "kernelspec": {
   "display_name": "Python 3",
   "language": "python",
   "name": "python3"
  },
  "language_info": {
   "codemirror_mode": {
    "name": "ipython",
    "version": 3
   },
   "file_extension": ".py",
   "mimetype": "text/x-python",
   "name": "python",
   "nbconvert_exporter": "python",
   "pygments_lexer": "ipython3",
   "version": "3.6.9"
  }
 },
 "nbformat": 4,
 "nbformat_minor": 4
}
