{
 "cells": [
  {
   "cell_type": "code",
   "execution_count": 1,
   "metadata": {},
   "outputs": [],
   "source": [
    "from skimage.io import imread, imsave\n",
    "from skimage.filters import median\n",
    "from skimage.feature import register_translation\n",
    "from scipy.ndimage import fourier_shift\n",
    "from numpy import zeros\n",
    "from numpy.fft import fftn, ifftn\n",
    "from skimage.util import img_as_uint"
   ]
  },
  {
   "cell_type": "code",
   "execution_count": 2,
   "metadata": {},
   "outputs": [
    {
     "name": "stderr",
     "output_type": "stream",
     "text": [
      "/home/jiongyi/anaconda3/lib/python3.6/site-packages/skimage/external/tifffile/tifffile.py:3724: UserWarning: invalid JSON 'b'{\\n  \"encoding\": \"UTF-8\",\\n  \"format\": \"Micro-Manager Property Map\",\\n  \"major_version\": 2,\\n  \"minor_version\": 0,\\n  \"map\": {\\n    \"AutoscaleIgnoredQuantile\": {\\n      \"type\": \"DOUBLE\",\\n      \"scalar\": 0.001\\n    },\\n    \"Autostretch\": {\\n      \"type\": \"BOOLEAN\",\\n      \"scalar\": true\\n    },\\n    \"ChannelSettings\": {\\n      \"type\": \"PROPERTY_MAP\",\\n      \"array\": [\\n        {\\n          \"Channel\": {\\n            \"type\": \"STRING\",\\n            \"scalar\": \"\"\\n          },\\n          \"Color\": {\\n            \"type\": \"COLOR\",\\n      ''\n",
      "  warnings.warn(\"invalid JSON '%s'\" % data)\n",
      "/home/jiongyi/anaconda3/lib/python3.6/site-packages/skimage/external/tifffile/tifffile.py:1822: UserWarning: ome-xml: failed to read 'Exp4_200nM_646Actin_568Seeds_50nMPhalloidinSurface_1_MMStack_Pos1.ome.tif'\n",
      "  \"ome-xml: failed to read '%s'\" % fname)\n",
      "/home/jiongyi/anaconda3/lib/python3.6/site-packages/skimage/external/tifffile/tifffile.py:1822: UserWarning: ome-xml: failed to read 'Exp4_200nM_646Actin_568Seeds_50nMPhalloidinSurface_1_MMStack_Pos2.ome.tif'\n",
      "  \"ome-xml: failed to read '%s'\" % fname)\n"
     ]
    }
   ],
   "source": [
    "file_path = '/home/jiongyi/Documents/johnny/Exp4_200nM_646Actin_568Seeds_50nMPhalloidinSurface_1_MMStack_Pos0.ome.tif'\n",
    "mm_stack = imread(file_path)\n",
    "no_frames, no_channels, no_rows, no_cols = mm_stack.shape"
   ]
  },
  {
   "cell_type": "code",
   "execution_count": 4,
   "metadata": {},
   "outputs": [],
   "source": [
    "#Iterate to fix images.\n",
    "corr_seed_stack = zeros((no_frames, no_rows, no_cols))\n",
    "corr_monomer_stack = zeros((no_frames, no_rows, no_cols))\n",
    "corr_seed_stack[0, :, :] = mm_stack[0, 0, :, :]\n",
    "for i in range(0, no_frames - 1):\n",
    "    i_shift,_ ,_ = register_translation(median(corr_seed_stack[i, :, :]), median(mm_stack[i + 1, 0, :, :]), 100)\n",
    "    i_corr_seed_dft = fourier_shift(fftn(mm_stack[i + 1, 0, :, :]), i_shift)\n",
    "    i_corr_monomer_dft = fourier_shift(fftn(mm_stack[i + 1, 1, :, :]), i_shift)\n",
    "    corr_seed_stack[i + 1, :, :] = ifftn(i_corr_seed_dft).real\n",
    "    corr_monomer_stack[i + 1, :, :] = ifftn(i_corr_monomer_dft).real"
   ]
  },
  {
   "cell_type": "code",
   "execution_count": 5,
   "metadata": {},
   "outputs": [
    {
     "name": "stderr",
     "output_type": "stream",
     "text": [
      "/home/jiongyi/anaconda3/lib/python3.6/site-packages/ipykernel_launcher.py:1: UserWarning: /home/jiongyi/Documents/johnny/corr_seed_stack.tif is a low contrast image\n",
      "  \"\"\"Entry point for launching an IPython kernel.\n",
      "/home/jiongyi/anaconda3/lib/python3.6/site-packages/ipykernel_launcher.py:2: UserWarning: /home/jiongyi/Documents/johnny/corr_monomer_stack.tif is a low contrast image\n",
      "  \n"
     ]
    }
   ],
   "source": [
    "imsave('/home/jiongyi/Documents/johnny/corr_seed_stack.tif', img_as_uint(corr_seed_stack / (2**16 - 1)))\n",
    "imsave('/home/jiongyi/Documents/johnny/corr_monomer_stack.tif', img_as_uint(corr_monomer_stack / (2**16 - 1)))"
   ]
  }
 ],
 "metadata": {
  "kernelspec": {
   "display_name": "Python 3",
   "language": "python",
   "name": "python3"
  },
  "language_info": {
   "codemirror_mode": {
    "name": "ipython",
    "version": 3
   },
   "file_extension": ".py",
   "mimetype": "text/x-python",
   "name": "python",
   "nbconvert_exporter": "python",
   "pygments_lexer": "ipython3",
   "version": "3.6.10"
  }
 },
 "nbformat": 4,
 "nbformat_minor": 4
}
