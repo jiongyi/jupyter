{
 "cells": [
  {
   "cell_type": "markdown",
   "metadata": {},
   "source": [
    "# Stochastic simulation of Arp2/3 complex recruitment to NPF-coated surface\n",
    "\n"
   ]
  },
  {
   "cell_type": "code",
   "execution_count": 1,
   "metadata": {},
   "outputs": [],
   "source": [
    "from numpy import zeros, sqrt, ceil, int, exp\n",
    "from numpy.random import rand"
   ]
  },
  {
   "cell_type": "code",
   "execution_count": 2,
   "metadata": {},
   "outputs": [],
   "source": [
    "npf_density = 1000 # in molecules per square micron\n",
    "square_length = 1.0 # in microns\n",
    "'''\n",
    "k_on_solution = 16E7 /M/s is a rate estimated from fluorescence anisotropy measurements in solution.\n",
    "If the rate is limited by diffusion, then perhaps I can adjust the constant:\n",
    "'''\n",
    "k_on = 16 * 10**7 * (220 / (220 + 2 * 42 + 2 * 8))**(1/3) * 50 * 10**-9\n",
    "# k_act = 5.0**-1 # in states per second, may depend on acidity of NPF CA region\n",
    "k_off = 0.7**-1 # in molecules per second, may be accelerated by a protrusive network"
   ]
  },
  {
   "cell_type": "code",
   "execution_count": 3,
   "metadata": {},
   "outputs": [],
   "source": [
    "no_npfs_side = int(sqrt(npf_density))\n",
    "npf_state_mat = zeros((no_npfs_side, no_npfs_side), dtype = int)\n",
    "'''\n",
    "0: unbound state\n",
    "1: inactive state\n",
    "2: active state\n",
    "'''\n",
    "\n",
    "time_interval = 1e-3 # in seconds\n",
    "simulation_time = 3.0 # in seconds\n",
    "\n",
    "def simulate_surface_nucleation(k_act):\n",
    "    current_time = 0.0 # in seconds\n",
    "    no_ends = 0\n",
    "\n",
    "    while current_time <= simulation_time:\n",
    "        # Iterate. Maybe vectorize at some point?\n",
    "        for i_npf in range(no_npfs_side):\n",
    "            for j_npf in range(no_npfs_side):\n",
    "                if npf_state_mat[i_npf, j_npf] == 0:\n",
    "                    if exp(-k_on * time_interval) < rand():\n",
    "                        npf_state_mat[i_npf, j_npf] = 1\n",
    "                elif npf_state_mat[i_npf, j_npf] == 1:\n",
    "                    if exp(-k_off * time_interval) < rand():\n",
    "                        npf_state_mat[i_npf, j_npf] = 0\n",
    "                        continue\n",
    "                    elif exp(-k_act * time_interval) < rand():\n",
    "                        npf_state_mat[i_npf, j_npf] = 2\n",
    "                elif npf_state_mat[i_npf, j_npf] == 2:\n",
    "                    if exp(-k_off * time_interval) < rand():\n",
    "                        npf_state_mat[i_npf, j_npf] = 0\n",
    "                        no_ends += 1\n",
    "                        continue\n",
    "        current_time += time_interval\n",
    "    nucleation_rate = no_ends / current_time\n",
    "    return nucleation_rate"
   ]
  },
  {
   "cell_type": "code",
   "execution_count": 4,
   "metadata": {},
   "outputs": [
    {
     "data": {
      "text/plain": [
       "(-0.5, 30.5, 30.5, -0.5)"
      ]
     },
     "execution_count": 4,
     "metadata": {},
     "output_type": "execute_result"
    },
    {
     "data": {
      "image/png": "[encoded data removed]",
      "text/plain": [
       "<Figure size 432x288 with 1 Axes>"
      ]
     },
     "metadata": {
      "needs_background": "light"
     },
     "output_type": "display_data"
    }
   ],
   "source": [
    "example_npf_state_mat = simulate_surface_nucleation(5.0**-1)\n",
    "# Display example.\n",
    "from matplotlib.pyplot import figure, subplots\n",
    "from skimage.color import label2rgb\n",
    "figure1_handle, axes1_handle = subplots()\n",
    "axes1_handle.imshow(label2rgb(npf_state_mat, colors = [[1, 1, 1], [1, 0, 0], [0, 0, 1]]))\n",
    "axes1_handle.axis('off')"
   ]
  },
  {
   "cell_type": "code",
   "execution_count": 5,
   "metadata": {},
   "outputs": [],
   "source": [
    "# Iterate in parallel.\n",
    "import multiprocessing\n",
    "from joblib import Parallel, delayed\n",
    "from numpy import linspace\n",
    "k_act_row = linspace(0.1, 10.0, 50)**-1\n",
    "no_cores = multiprocessing.cpu_count()\n",
    "nucleation_rate_row = Parallel(n_jobs = no_cores)(delayed(simulate_surface_nucleation)(i) for i in k_act_row)"
   ]
  },
  {
   "cell_type": "code",
   "execution_count": 6,
   "metadata": {},
   "outputs": [
    {
     "data": {
      "text/plain": [
       "Text(0, 0.5, 'Nucleation rate (/s)')"
      ]
     },
     "execution_count": 6,
     "metadata": {},
     "output_type": "execute_result"
    },
    {
     "data": {
      "image/png": "[encoded data removed]",
      "text/plain": [
       "<Figure size 432x288 with 1 Axes>"
      ]
     },
     "metadata": {
      "needs_background": "light"
     },
     "output_type": "display_data"
    }
   ],
   "source": [
    "fig2_handle, axes2_handle = subplots()\n",
    "axes2_handle.plot(k_act_row, nucleation_rate_row)\n",
    "axes2_handle.set_xlabel(\"activation rate (/s)\", fontsize = 12)\n",
    "axes2_handle.set_ylabel(\"Nucleation rate (/s)\", fontsize = 12)"
   ]
  }
 ],
 "metadata": {
  "kernelspec": {
   "display_name": "Python 3",
   "language": "python",
   "name": "python3"
  },
  "language_info": {
   "codemirror_mode": {
    "name": "ipython",
    "version": 3
   },
   "file_extension": ".py",
   "mimetype": "text/x-python",
   "name": "python",
   "nbconvert_exporter": "python",
   "pygments_lexer": "ipython3",
   "version": "3.6.10"
  }
 },
 "nbformat": 4,
 "nbformat_minor": 4
}
