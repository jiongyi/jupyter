{
 "cells": [
  {
   "cell_type": "code",
   "execution_count": 1,
   "metadata": {},
   "outputs": [],
   "source": [
    "def zalevsky(npfStart = 0.2, nucRate = 0.034):\n",
    "\n",
    "    \"\"\"\n",
    "    Dendritic nucleation model from Zalevsky et al., Current Biology, Vol 11 No 24\n",
    "    \"\"\"\n",
    "    from numpy import array, zeros, linspace, gradient, amax\n",
    "    from matplotlib.pyplot import plot, xlabel, ylabel\n",
    "    %matplotlib inline\n",
    "\n",
    "    # Rate constants\n",
    "    k_1a_for = 5.5\n",
    "    k_1a_rev = 3.0\n",
    "    k_2b_for = 5.5\n",
    "    k_2b_rev = 3.0\n",
    "    k_1b_for = 1.0\n",
    "    k_2a_for = 1.0\n",
    "    k_1b_rev = 0.4\n",
    "    k_2a_rev = 0.4\n",
    "    k_3_for = 8.6\n",
    "    k_3_rev = 0.01\n",
    "    k_4_for = nucRate\n",
    "    dt = 1e-2\n",
    "    num_steps = 30000\n",
    "\n",
    "    actinArr = zeros(num_steps)\n",
    "    actinArr[0] = 2.0\n",
    "    npfArr = zeros(num_steps)\n",
    "    npfArr[0] = npfStart\n",
    "    arpArr = zeros(num_steps)\n",
    "    arpArr[0] = 0.05\n",
    "\n",
    "    npfActinArr = zeros(num_steps)\n",
    "    npfArpArr = zeros(num_steps)\n",
    "    npfActinArpArr = zeros(num_steps)\n",
    "    filArr = zeros(num_steps)\n",
    "    filArr[0] = 2.0 / 3.0\n",
    "    npfActinArpFilArr = zeros(num_steps)\n",
    "\n",
    "    for i in range(num_steps - 1):\n",
    "        actin = actinArr[i]\n",
    "        npf = npfArr[i]\n",
    "        arp = arpArr[i]\n",
    "        npfActin = npfActinArr[i]\n",
    "        npfArp = npfArpArr[i]\n",
    "        npfActinArp = npfActinArpArr[i]\n",
    "        npfActinArpFil = npfActinArpFilArr[i]\n",
    "        fil = filArr[i]\n",
    "\n",
    "        d1a = (k_1a_for * npf * actin - k_1a_rev * npfActin) * dt\n",
    "        npfActin += d1a\n",
    "        npf -= d1a\n",
    "        actin -= d1a\n",
    "\n",
    "        d1b = (k_1b_for * npf * arp - k_1b_rev * npfArp) * dt\n",
    "        npfArp += d1b\n",
    "        npf -= d1b\n",
    "        arp -= d1b\n",
    "\n",
    "        d2a = (k_2a_for * npfActin * arp - k_2a_rev * npfActinArp) * dt\n",
    "        npfActinArp += d2a\n",
    "        npfActin -= d2a\n",
    "        arp -= d2a\n",
    "\n",
    "        d2b = (k_2b_for * npfArp * actin - k_2b_rev * npfActinArp) * dt\n",
    "        npfActinArp += d2b\n",
    "        npfArp -= d2b\n",
    "        actin -= d2b\n",
    "\n",
    "        d3 = (k_3_for * npfActinArp * fil - k_3_rev * npfActinArpFil) * dt\n",
    "        npfActinArpFil += d3\n",
    "        npfActinArp -= d3\n",
    "\n",
    "        d4 = k_4_for * npfActinArpFil * dt\n",
    "        fil += d4\n",
    "        npfActinArpFil -= d4\n",
    "        #npf += d4\n",
    "\n",
    "        actinArr[i + 1] = actin\n",
    "        npfArr[i + 1] = npf\n",
    "        arpArr[i + 1] = arp\n",
    "        npfActinArr[i + 1] = npfActin\n",
    "        npfArpArr[i + 1] = npfArp\n",
    "        npfActinArpArr[i + 1] = npfActinArp\n",
    "        npfActinArpFilArr[i + 1] = npfActinArpFil\n",
    "        filArr[i + 1] = fil\n",
    "    \n",
    "    timeArr = linspace(0.0, dt * (num_steps - 1), num_steps)\n",
    "    gradTimeArr = gradient(timeArr)\n",
    "    gradFilArr = gradient(filArr)\n",
    "    plot(timeArr, filArr - filArr[0])\n",
    "    nucRateArr = gradFilArr / gradTimeArr\n",
    "    return amax(nucRateArr)"
   ]
  },
  {
   "cell_type": "code",
   "execution_count": 5,
   "metadata": {},
   "outputs": [
    {
     "data": {
      "text/plain": [
       "0.0010987257779315985"
      ]
     },
     "execution_count": 5,
     "metadata": {},
     "output_type": "execute_result"
    },
    {
     "data": {
      "image/png": "[encoded data removed]",
      "text/plain": [
       "<matplotlib.figure.Figure at 0x7f357c890ac8>"
      ]
     },
     "metadata": {},
     "output_type": "display_data"
    }
   ],
   "source": [
    "zalevsky(0.2,0.034)"
   ]
  }
 ],
 "metadata": {
  "kernelspec": {
   "display_name": "Python 3",
   "language": "python",
   "name": "python3"
  },
  "language_info": {
   "codemirror_mode": {
    "name": "ipython",
    "version": 3
   },
   "file_extension": ".py",
   "mimetype": "text/x-python",
   "name": "python",
   "nbconvert_exporter": "python",
   "pygments_lexer": "ipython3",
   "version": "3.6.3"
  }
 },
 "nbformat": 4,
 "nbformat_minor": 2
}
