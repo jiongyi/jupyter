{
 "cells": [
  {
   "cell_type": "markdown",
   "metadata": {},
   "source": [
    "# Rate equations\n",
    "\n",
    "\\begin{align}\n",
    "\\frac{d[PA]}{dt} &= k_L ([PA]_{max} - [PA])- k_T [PA]([WA]_{max} - [WA]) - k_P [E][PA] \\\\\n",
    "\\frac{d[WA]}{dt} &= k_T [PA] ([WA]_{max} - [WA]) - k_N [E][WA]^2 - k_P [E][WA] \\\\\n",
    "\\frac{d[E]}{dt} &= k_N [E] [WA]^2 - k_C [E]\n",
    "\\end{align}"
   ]
  },
  {
   "cell_type": "code",
   "execution_count": 180,
   "metadata": {},
   "outputs": [],
   "source": [
    "from numpy import array, zeros, arange, sqrt\n",
    "def nucleation(load_rate = 10.0, transfer_rate = 1.0, \n",
    "               elongation_rate = 100.0, nucleation_rate = 1.0, capping_rate = 0.1, \n",
    "               ppr_max = 1.0, wh2_max = 1.0, total_time = 300.0):\n",
    "    time_interval = 1e-3\n",
    "    time_row = arange(0.0, total_time, time_interval)\n",
    "    no_points = len(time_row)\n",
    "    ppr_row = zeros(no_points)\n",
    "    wh2_row = zeros(no_points)\n",
    "    ends_row = zeros(no_points)\n",
    "    ends_row[0] = 1.0\n",
    "    # Check constraint\n",
    "    wh2_eq = sqrt(capping_rate / nucleation_rate)\n",
    "    a = elongation_rate * (capping_rate + elongation_rate * wh2_eq)\n",
    "    b = (load_rate + transfer_rate * (wh2_max - wh2_eq)) * (capping_rate + elongation_rate * wh2_eq)\n",
    "    c = - load_rate * transfer_rate * (wh2_max - wh2_eq) * ppr_max\n",
    "    ends_eq = (-b + sqrt(b**2 - 4 * a * c)) / (2 * a)\n",
    "    if ends_eq < ends_row[0]:\n",
    "        print('Net growth is negative')\n",
    "    for i in range(0, no_points - 1):\n",
    "        load_change = load_rate * (ppr_max - ppr_row[i])\n",
    "        transfer_change = transfer_rate * ppr_row[i] * (wh2_max - wh2_row[i])\n",
    "        ppr_elongation_change = elongation_rate * ends_row[i] * ppr_row[i]\n",
    "        wh2_elongation_change = elongation_rate * ends_row[i] * wh2_row[i]\n",
    "        nucleation_change = nucleation_rate * ends_row[i] * wh2_row[i]**2\n",
    "        capping_change = capping_rate * ends_row[i]\n",
    "        ppr_change = load_change - transfer_change - ppr_elongation_change\n",
    "        wh2_change = transfer_change - nucleation_change - wh2_elongation_change\n",
    "        ends_change = nucleation_change - capping_change\n",
    "        ppr_row[i + 1] = ppr_row[i] + ppr_change * time_interval\n",
    "        wh2_row[i + 1] = wh2_row[i] + wh2_change * time_interval\n",
    "        ends_row[i + 1] = ends_row[i] + ends_change * time_interval\n",
    "    return time_row, ppr_row, wh2_row, ends_row"
   ]
  },
  {
   "cell_type": "code",
   "execution_count": 184,
   "metadata": {},
   "outputs": [
    {
     "data": {
      "text/plain": [
       "Text(0,0.5,'$[E]$')"
      ]
     },
     "execution_count": 184,
     "metadata": {},
     "output_type": "execute_result"
    },
    {
     "data": {
      "image/png": "[encoded data removed]",
      "text/plain": [
       "<Figure size 432x288 with 1 Axes>"
      ]
     },
     "metadata": {
      "needs_background": "light"
     },
     "output_type": "display_data"
    }
   ],
   "source": [
    "%matplotlib inline\n",
    "from matplotlib.pyplot import subplots\n",
    "\n",
    "time_row, ppr_row, wh2_row, ends_row = nucleation(ppr_max = 40.0, wh2_max = 500.0, nucleation_rate = 10.0)\n",
    "figure_handle, axes_handle = subplots()\n",
    "axes_handle.plot(time_row, ends_row, linewidth = 2)\n",
    "axes_handle.tick_params(labelsize = 18)\n",
    "axes_handle.set_xlabel('Time (s)', fontsize = 18)\n",
    "axes_handle.set_ylabel(r'$[E]$', fontsize = 18)"
   ]
  },
  {
   "cell_type": "code",
   "execution_count": null,
   "metadata": {},
   "outputs": [],
   "source": []
  }
 ],
 "metadata": {
  "kernelspec": {
   "display_name": "Python 3",
   "language": "python",
   "name": "python3"
  },
  "language_info": {
   "codemirror_mode": {
    "name": "ipython",
    "version": 3
   },
   "file_extension": ".py",
   "mimetype": "text/x-python",
   "name": "python",
   "nbconvert_exporter": "python",
   "pygments_lexer": "ipython3",
   "version": "3.6.6"
  }
 },
 "nbformat": 4,
 "nbformat_minor": 2
}
