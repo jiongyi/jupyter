{
 "cells": [
  {
   "cell_type": "markdown",
   "metadata": {},
   "source": [
    "# Rate equations\n",
    "\\begin{align}\n",
    "\\frac{d[PA]}{dt} &= k_L ([PA]_{max} - [PA]) - k_P [E][PA] \\\\\n",
    "\\frac{d[WA]}{dt} &= k_T [PA] ([WA]_{max} - [WA]) - k_N [E][WA]^2 - k_P [E][WA] \\\\\n",
    "\\frac{d[E]}{dt} &= k_N [E] [WA]^2 - k_C [E]\n",
    "\\end{align}"
   ]
  },
  {
   "cell_type": "code",
   "execution_count": null,
   "metadata": {},
   "outputs": [],
   "source": []
  }
 ],
 "metadata": {
  "kernelspec": {
   "display_name": "Python 3",
   "language": "python",
   "name": "python3"
  },
  "language_info": {
   "codemirror_mode": {
    "name": "ipython",
    "version": 3
   },
   "file_extension": ".py",
   "mimetype": "text/x-python",
   "name": "python",
   "nbconvert_exporter": "python",
   "pygments_lexer": "ipython3",
   "version": "3.6.6"
  }
 },
 "nbformat": 4,
 "nbformat_minor": 2
}
