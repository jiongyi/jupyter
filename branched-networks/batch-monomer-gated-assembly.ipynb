{
 "cells": [
  {
   "cell_type": "code",
   "execution_count": null,
   "metadata": {},
   "outputs": [],
   "source": [
    "from monomerGating import *\n",
    "from numpy import array, linspace\n",
    "from scipy import stats\n",
    "\n",
    "dt = 1.0e-4\n",
    "tFinal  = 100.0\n",
    "noPoints= 10\n",
    "\n",
    "capRateArr = linspace(0.0, 50.0, noPoints)\n",
    "branchRateArr = zeros(noPoints)\n",
    "growthRateArr = zeros(noPoints)\n",
    "orderParamArr = zeros(noPoints)\n",
    "\n",
    "for i in range(noPoints):\n",
    "    n = network(100.0, 1.0, 0.1, 10.0, capRateArr[i])\n",
    "    n.evolve(dt, tFinal)\n",
    "    noBranchesArr = array([b for a, b, c in n.noFilaments])\n",
    "    timeArr = linspace(0.0, n.tElapsed, len(noBranchesArr))\n",
    "    slope, intercept, r_value, p_value, std_err = stats.linregress(\n",
    "        timeArr, noBranchesArr)\n",
    "    branchRateArr[i] = slope\n",
    "    slope, intercept, r_value, p_value, std_err = stats.linregress(\n",
    "        timeArr, n.xEdge)\n",
    "    growthRateArr[i] = slope\n",
    "    thetaArr = n.getAngles() / pi * 180\n",
    "    kde = stats.gaussian_kde(thetaArr)\n",
    "    orderParamArr[i] = (kde(0) - 0.5 * (kde(35) + kde(-35))) / (\n",
    "    kde(0) + 0.5 * (kde(35) + kde(-35)))\n",
    "    del n"
   ]
  },
  {
   "cell_type": "code",
   "execution_count": null,
   "metadata": {},
   "outputs": [],
   "source": [
    "from matplotlib.pyplot import plot, xlabel, ylabel\n",
    "%matplotlib inline\n",
    "plot(capRateArr, branchRateArr)\n",
    "xlabel(r\"Capping rate (1/s)\", fontsize = 18)\n",
    "ylabel(r\"Branching rate (1/s)\", fontsize = 18)"
   ]
  },
  {
   "cell_type": "code",
   "execution_count": null,
   "metadata": {},
   "outputs": [],
   "source": [
    "plot(capRateArr, growthRateArr)\n",
    "xlabel(r\"Capping rate (1/s)\", fontsize = 18)\n",
    "ylabel(r\"Growth rate (nm/s)\", fontsize = 18)"
   ]
  },
  {
   "cell_type": "code",
   "execution_count": null,
   "metadata": {},
   "outputs": [],
   "source": [
    "plot(capRateArr, orderParamArr)\n",
    "xlabel(r\"Capping rate (1/s)\", fontsize = 18)\n",
    "ylabel(r\"Order parameter (nm/s)\", fontsize = 18)"
   ]
  }
 ],
 "metadata": {
  "kernelspec": {
   "display_name": "Python 3",
   "language": "python",
   "name": "python3"
  },
  "language_info": {
   "codemirror_mode": {
    "name": "ipython",
    "version": 3
   },
   "file_extension": ".py",
   "mimetype": "text/x-python",
   "name": "python",
   "nbconvert_exporter": "python",
   "pygments_lexer": "ipython3",
   "version": "3.6.4"
  }
 },
 "nbformat": 4,
 "nbformat_minor": 2
}
