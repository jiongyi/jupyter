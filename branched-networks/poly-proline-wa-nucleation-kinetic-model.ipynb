{
 "cells": [
  {
   "cell_type": "code",
   "execution_count": 1,
   "metadata": {},
   "outputs": [],
   "source": [
    "from math import sqrt\n",
    "from numpy import zeros, array, linspace\n",
    "from matplotlib.pyplot import plot, xlabel, ylabel\n",
    "%matplotlib inline\n",
    "\n",
    "def nucleationmodel(kP = 100.0, kN = 10.0, kC = 0.1, kA = 10.0, kPA = 10.0, kT = 0.1):\n",
    "    noPoints = 20000\n",
    "    WAMax = 1.0\n",
    "    dt = 1e-3\n",
    "    EArr = zeros(noPoints)\n",
    "    WAArr = zeros(noPoints)\n",
    "    PAArr = zeros(noPoints)\n",
    "    timeArr = zeros(noPoints)\n",
    "    EArr[0] = 0.1\n",
    "    \n",
    "    for i in range(noPoints - 1):\n",
    "        E = EArr[i]\n",
    "        WA = WAArr[i]\n",
    "        PA = PAArr[i]\n",
    "        dEdt = kN * E * WA**2 - kC * E\n",
    "        dWAdt = (kA + kT * PA / WAMax) * (WAMax - WA) - kN * E * WA**2 - kP * E * WA\n",
    "        dPAdt = (kPA - kT * PA / WAMax) * (WAMax - WA) - kP * E * PA\n",
    "        EArr[i + 1] = EArr[i] + dEdt * dt\n",
    "        WAArr[i + 1] = WAArr[i] + dWAdt * dt\n",
    "        PAArr[i + 1] = PAArr[i] + dPAdt * dt\n",
    "        timeArr[i + 1] = timeArr[i] + dt\n",
    "        \n",
    "    #Plot.\n",
    "    #plot(timeArr, EArr)\n",
    "    #print(str(EArr[-1]))\n",
    "        \n",
    "    # Figure out steady-state quantities.\n",
    "    WAEq = sqrt(kC / kN)\n",
    "    PAEq = sqrt((kT / WAMax + kA / WAEq)**2 + 4 * kT * kPA / WAMax / WAEq) - (kT / WAMax + kA / WAEq)\n",
    "    PAEq = PAEq / (2 * kT / WAMax / WAEq)\n",
    "    EEq = (kA + kT * PAEq / WAMax) * (WAMax - WAEq) / kP / WAEq\n",
    "    return EEq, PAEq, WAEq"
   ]
  },
  {
   "cell_type": "code",
   "execution_count": 2,
   "metadata": {},
   "outputs": [
    {
     "data": {
      "text/plain": [
       "[<matplotlib.lines.Line2D at 0x7f081406a7f0>]"
      ]
     },
     "execution_count": 2,
     "metadata": {},
     "output_type": "execute_result"
    },
    {
     "data": {
      "image/png": "[encoded data removed]",
      "text/plain": [
       "<matplotlib.figure.Figure at 0x7f082c3fde10>"
      ]
     },
     "metadata": {},
     "output_type": "display_data"
    }
   ],
   "source": [
    "noPoints = 10\n",
    "capRateArr = linspace(0.01, 0.1, noPoints)\n",
    "nucleationRateArr = zeros(noPoints)\n",
    "\n",
    "for i in range(noPoints):\n",
    "    EEq, PAEq, WAEq = nucleationmodel(100.0, 10.0, capRateArr[i], 10.0, 10.0, 1.0)\n",
    "    nucleationRateArr[i] = 10.0 * EEq * WAEq**2\n",
    "    \n",
    "plot(capRateArr, nucleationRateArr)"
   ]
  }
 ],
 "metadata": {
  "kernelspec": {
   "display_name": "Python 3",
   "language": "python",
   "name": "python3"
  },
  "language_info": {
   "codemirror_mode": {
    "name": "ipython",
    "version": 3
   },
   "file_extension": ".py",
   "mimetype": "text/x-python",
   "name": "python",
   "nbconvert_exporter": "python",
   "pygments_lexer": "ipython3",
   "version": "3.6.4"
  }
 },
 "nbformat": 4,
 "nbformat_minor": 2
}
