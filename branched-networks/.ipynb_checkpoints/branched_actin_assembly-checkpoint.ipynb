{
 "cells": [
  {
   "cell_type": "code",
   "execution_count": 1,
   "metadata": {
    "colab": {
     "autoexec": {
      "startup": false,
      "wait_interval": 0
     },
     "base_uri": "https://localhost:8080/",
     "height": 516,
     "output_extras": [
      {
       "item_id": 1
      },
      {
       "item_id": 2
      },
      {
       "item_id": 3
      }
     ]
    },
    "colab_type": "code",
    "executionInfo": {
     "elapsed": 33919,
     "status": "ok",
     "timestamp": 1521874767126,
     "user": {
      "displayName": "Jiongyi Tan",
      "photoUrl": "https://lh3.googleusercontent.com/a/default-user=s128",
      "userId": "104250426221569700734"
     },
     "user_tz": 420
    },
    "id": "xt3QoQYDzYro",
    "outputId": "8729250b-4aee-4a18-833b-104bafea69e1"
   },
   "outputs": [
    {
     "data": {
      "text/plain": [
       "(0, 1000)"
      ]
     },
     "execution_count": 1,
     "metadata": {},
     "output_type": "execute_result"
    },
    {
     "data": {
      "image/png": "[encoded data removed]",
      "text/plain": [
       "<Figure size 432x288 with 1 Axes>"
      ]
     },
     "metadata": {},
     "output_type": "display_data"
    }
   ],
   "source": [
    "# Import libraries\n",
    "from numpy import array, zeros, pi, cos, sin, mod, int, argmin, append, amax, exp\n",
    "from numpy.random import rand, poisson, randn\n",
    "%matplotlib inline\n",
    "from matplotlib.pyplot import figure, plot, xlabel, ylabel, xlim, ylim\n",
    "\n",
    "# Define constants.\n",
    "N = 200 # Initial number of filaments\n",
    "L = 1000.0 # Length of leading edge in nanometers\n",
    "kPol = 100.0 # Polymerization rate in subunits per second\n",
    "kBr = kPol / 100 # branch rate in branches per second\n",
    "kCap = kPol / 100 # cap rate in branches per second\n",
    "d = 2.7 # Width of subunit in nanometers\n",
    "w = 10 * d # Width of branching region.\n",
    "muTheta = 70.0 / 180 * pi\n",
    "muSigma = 5.0 / 180 * pi\n",
    "extForce = 1e4 # external force in pN.\n",
    "\n",
    "# Initialize.\n",
    "t = 0.0 # Time in seconds.\n",
    "dt = 1e-3 # Simulation time interval in seconds\n",
    "tTotal = 10.0 # Total simulation time in seconds\n",
    "xPointArr = zeros(N) # x-coordinate of barbed end position\n",
    "yPointArr = L * rand(N) # y-coordinate of barbed end position\n",
    "thetaArr = pi * rand(N) - pi / 2 # angle of barbed end with respect to x-axis\n",
    "uArr = d * cos(thetaArr) # x-coordinate of theta\n",
    "vArr = d * sin(thetaArr) # y-coordinate of theta\n",
    "xBarbArr = xPointArr\n",
    "yBarbArr = yPointArr\n",
    "xLead = amax(xBarbArr)\n",
    "isCappedArr = zeros(N)\n",
    "n = int(tTotal / dt)\n",
    "\n",
    "# Define functions.\n",
    "def elongate(x, y, u, v, L):\n",
    "    xNew = x + u\n",
    "    yNew = mod(y + v, L) # Enforce periodic boundary in the y direction.\n",
    "    return xNew, yNew\n",
    "\n",
    "def branch(u, v):\n",
    "    theta = muTheta + muSigma * randn()\n",
    "    uNew = u * cos(theta) - v * sin(theta)\n",
    "    if uNew > 0:\n",
    "        vNew = u * sin(theta) + v * cos(theta)\n",
    "    else:\n",
    "        uNew = u * cos(theta) + v * sin(theta)\n",
    "        vNew = -u * sin(theta) + v * cos(theta)\n",
    "    return uNew, vNew\n",
    "\n",
    "# Iterate.\n",
    "for i in range(n):\n",
    "    N = len(xBarbArr)\n",
    "    forceWeight = exp(-extForce * d / 4.114 / N)\n",
    "    for j in range(N):\n",
    "        contactWeight = xLead - xBarbArr[j] <= w\n",
    "        isTouching = xLead - xBarbArr[j] < d\n",
    "        if isCappedArr[j] == 0:\n",
    "            # Cap.\n",
    "            if isTouching == False:\n",
    "                capProb = poisson(kCap * dt)\n",
    "            else:\n",
    "                capProb = poisson(kCap * forceWeight * dt)\n",
    "            if bool(capProb) == True:\n",
    "                isCappedArr[j] = 1\n",
    "                continue\n",
    "            # Branch.\n",
    "            if bool(poisson(kBr * contactWeight * dt)) == True:\n",
    "                xPointArr = append(xPointArr, xBarbArr[j])\n",
    "                yPointArr = append(yPointArr, yBarbArr[j])\n",
    "                xBarbArr = append(xBarbArr, xBarbArr[j])\n",
    "                yBarbArr = append(yBarbArr, yBarbArr[j])\n",
    "                uNew, vNew = branch(uArr[j], vArr[j])\n",
    "                uArr = append(uArr, uNew)\n",
    "                vArr = append(vArr, vNew)\n",
    "                isCappedArr = append(isCappedArr, 0)\n",
    "            # Elongate.\n",
    "            if isTouching == False:\n",
    "                polProb = poisson(kPol * contactWeight * dt)\n",
    "            else:\n",
    "                polProb = poisson(kPol * forceWeight * dt)\n",
    "            if bool(polProb) == True:\n",
    "                xBarbArr[j] = xBarbArr[j] + uArr[j]\n",
    "                yBarbArr[j] = yBarbArr[j] + vArr[j]\n",
    "                if yBarbArr[j] >= L:\n",
    "                    yBarbArr[j] = mod(yBarbArr[j], L)\n",
    "                    yPointArr[j] = 0.0\n",
    "                else:\n",
    "                    if yBarbArr[j] < 0:\n",
    "                        yBarbArr[j] = L + yBarbArr[j]\n",
    "                        yPointArr[j] = L\n",
    "    xLead = amax(xBarbArr)\n",
    "\n",
    "plot([xPointArr, xBarbArr], [yPointArr, yBarbArr], 'b')\n",
    "xlabel(r\"x (nm)\", fontsize = 18)\n",
    "ylabel(r\"y (nm)\", fontsize = 18)\n",
    "xlim(0, 3000)\n",
    "ylim(0, 1000)"
   ]
  },
  {
   "cell_type": "code",
   "execution_count": null,
   "metadata": {},
   "outputs": [],
   "source": [
    "print(len(xBarbArr))"
   ]
  }
 ],
 "metadata": {
  "colab": {
   "collapsed_sections": [],
   "default_view": {},
   "name": "branched-actin-assembly",
   "provenance": [],
   "version": "0.3.2",
   "views": {}
  },
  "kernelspec": {
   "display_name": "Python 3",
   "language": "python",
   "name": "python3"
  },
  "language_info": {
   "codemirror_mode": {
    "name": "ipython",
    "version": 3
   },
   "file_extension": ".py",
   "mimetype": "text/x-python",
   "name": "python",
   "nbconvert_exporter": "python",
   "pygments_lexer": "ipython3",
   "version": "3.6.4"
  }
 },
 "nbformat": 4,
 "nbformat_minor": 2
}
