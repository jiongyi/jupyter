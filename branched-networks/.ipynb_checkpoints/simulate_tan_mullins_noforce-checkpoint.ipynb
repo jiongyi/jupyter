{
 "cells": [
  {
   "cell_type": "code",
   "execution_count": 1,
   "metadata": {},
   "outputs": [],
   "source": [
    "from tanMullins_noforce import *"
   ]
  },
  {
   "cell_type": "code",
   "execution_count": 2,
   "metadata": {},
   "outputs": [],
   "source": [
    "actin_network = network()\n",
    "actin_network.total_time = 20.0"
   ]
  },
  {
   "cell_type": "code",
   "execution_count": null,
   "metadata": {},
   "outputs": [],
   "source": [
    "actin_network.simulate()"
   ]
  },
  {
   "cell_type": "code",
   "execution_count": null,
   "metadata": {},
   "outputs": [],
   "source": [
    "%matplotlib inline\n",
    "from matplotlib.pyplot import subplots\n",
    "# Plot network.\n",
    "figure_handle, axes_handle = subplots()\n",
    "for i in range(actin_network.no_filaments):\n",
    "    if actin_network.is_capped_row[i]:\n",
    "        axes_handle.plot([actin_network.x_pointed_row[i], actin_network.x_barbed_row[i]], [actin_network.y_pointed_row[i], actin_network.y_barbed_row[i]], 'r')\n",
    "    else:\n",
    "        axes_handle.plot([actin_network.x_pointed_row[i], actin_network.x_barbed_row[i]], [actin_network.y_pointed_row[i], actin_network.y_barbed_row[i]], 'b')\n",
    "axes_handle.tick_params(labelsize = 18)\n",
    "axes_handle.set_xlabel('x (nm)', fontsize = 18)\n",
    "axes_handle.set_ylabel('y (nm)', fontsize = 18)"
   ]
  },
  {
   "cell_type": "code",
   "execution_count": null,
   "metadata": {},
   "outputs": [],
   "source": [
    "print(actin_network.no_filaments)"
   ]
  }
 ],
 "metadata": {
  "kernelspec": {
   "display_name": "Python 3",
   "language": "python",
   "name": "python3"
  },
  "language_info": {
   "codemirror_mode": {
    "name": "ipython",
    "version": 3
   },
   "file_extension": ".py",
   "mimetype": "text/x-python",
   "name": "python",
   "nbconvert_exporter": "python",
   "pygments_lexer": "ipython3",
   "version": "3.6.6"
  }
 },
 "nbformat": 4,
 "nbformat_minor": 2
}
