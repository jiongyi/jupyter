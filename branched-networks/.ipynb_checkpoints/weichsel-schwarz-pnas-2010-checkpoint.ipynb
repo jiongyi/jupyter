{
 "cells": [
  {
   "cell_type": "markdown",
   "metadata": {},
   "source": [
    "# Weichsel and Schwarz, PNAS, 2010\n",
    "\n",
    "# Model\n",
    "\n",
    "- Elongation is deterministic.\n",
    "- Branching zeroth-order with respect to the number of barbed ends in the branching region.\n",
    "- Capping is first-order with respect to the number of barbed ends in the branching region.\n",
    "- Force-dependence is modeled by keeping a number of leading barbed ends inactive (stalled).\n",
    "\n",
    "# Predictions\n",
    "\n",
    "- Distributions of filament orientation adopt either a $-70/0/70$ or $\\pm35^\\circ$ pattern.\n",
    "- Distributions transitions through these patterns as network growth velocity is adjusted.\n",
    "- Force-velocity curves exhibit hysteresis."
   ]
  },
  {
   "cell_type": "code",
   "execution_count": null,
   "metadata": {},
   "outputs": [],
   "source": [
    "# Create actin network object and simulate over time.\n",
    "from weichselSchwarz import *\n",
    "\n",
    "actinNetwork = network()\n",
    "actinNetwork.kBr = 7410\n",
    "actinNetwork.kCap = 18.5\n",
    "actinNetwork.simulate()"
   ]
  },
  {
   "cell_type": "code",
   "execution_count": null,
   "metadata": {},
   "outputs": [],
   "source": [
    "# Plot kernel density estimate of the distribution of orientations of the active filaments.\n",
    "from scipy import stats\n",
    "%matplotlib inline\n",
    "from matplotlib.pyplot import plot, xlabel, ylabel\n",
    "\n",
    "kde = stats.gaussian_kde(actinNetwork.thetaArr)\n",
    "xArr = linspace(-pi, pi, 100)\n",
    "pArr = kde(xArr)\n",
    "plot(xArr / pi * 180, pArr)\n",
    "xlabel(r\"Angle\", fontsize = 18)\n",
    "ylabel(r\"Estimated PDF\", fontsize = 18)"
   ]
  }
 ],
 "metadata": {
  "kernelspec": {
   "display_name": "Python 3",
   "language": "python",
   "name": "python3"
  },
  "language_info": {
   "codemirror_mode": {
    "name": "ipython",
    "version": 3
   },
   "file_extension": ".py",
   "mimetype": "text/x-python",
   "name": "python",
   "nbconvert_exporter": "python",
   "pygments_lexer": "ipython3",
   "version": "3.6.5"
  }
 },
 "nbformat": 4,
 "nbformat_minor": 2
}
