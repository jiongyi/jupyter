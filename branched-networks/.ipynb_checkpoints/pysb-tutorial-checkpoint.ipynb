{
 "cells": [
  {
   "cell_type": "code",
   "execution_count": 4,
   "metadata": {},
   "outputs": [
    {
     "data": {
      "text/plain": [
       "Parameter('MEK_0', 3000000.0)"
      ]
     },
     "execution_count": 4,
     "metadata": {},
     "output_type": "execute_result"
    }
   ],
   "source": [
    "# import the pysb module and all its methods and functions\n",
    "from pysb import *\n",
    "\n",
    "# instantiate a model\n",
    "Model()\n",
    "\n",
    "# declare monomers\n",
    "Monomer('C8', ['b'])\n",
    "Monomer('Bid', ['b', 'S'], {'S':['u', 't']})\n",
    "\n",
    "# input the parameter values\n",
    "Parameter('kf', 1.0e-07)\n",
    "Parameter('kr', 1.0e-03)\n",
    "Parameter('kc', 1.0)\n",
    "\n",
    "# now input the rules\n",
    "Rule('C8_Bid_bind', C8(b=None) + Bid(b=None, S=None) | C8(b=1) % Bid(b=1, S=None), kf, kr)\n",
    "Rule('tBid_from_C8Bid', C8(b=1) % Bid(b=1, S='u') >> C8(b=None) + Bid(b=None, S='t'), kc)\n",
    "\n",
    "# Observables\n",
    "Observable('obsC8', C8(b=None))\n",
    "Observable('obsBid', Bid(b=None, S='u'))\n",
    "Observable('obstBid', Bid(b=None, S='t'))\n",
    "\n",
    "# Initial conditions\n",
    "Parameter('C8_0', 1000)\n",
    "Parameter('Bid_0', 10000)\n",
    "Initial(C8(b=None), C8_0)\n",
    "Initial(Bid(b=None, S='u'), Bid_0)\n",
    "\n",
    "# Simulation and analysis"
   ]
  }
 ],
 "metadata": {
  "kernelspec": {
   "display_name": "Python 3",
   "language": "python",
   "name": "python3"
  },
  "language_info": {
   "codemirror_mode": {
    "name": "ipython",
    "version": 3
   },
   "file_extension": ".py",
   "mimetype": "text/x-python",
   "name": "python",
   "nbconvert_exporter": "python",
   "pygments_lexer": "ipython3",
   "version": "3.6.5"
  }
 },
 "nbformat": 4,
 "nbformat_minor": 2
}
