{
 "cells": [
  {
   "cell_type": "code",
   "execution_count": 1,
   "metadata": {},
   "outputs": [
    {
     "data": {
      "text/plain": [
       "Rule('r4', arp23(npfBound=2, polymerBound=3) % monomer(npfBound=1) % npf(monomerBound=1, arp23Bound=2) % polymer(arp23Bound=3) >> polymer(arp23Bound=None) + polymer(arp23Bound=None) + npf(monomerBound=None, arp23Bound=None), k4)"
      ]
     },
     "execution_count": 1,
     "metadata": {},
     "output_type": "execute_result"
    }
   ],
   "source": [
    "from pysb import *\n",
    "from pysb.macros import *\n",
    "Model()\n",
    "\n",
    "Monomer('monomer', ['npfBound'])\n",
    "Monomer('polymer', ['arp23Bound'])\n",
    "Monomer('arp23', ['npfBound', 'polymerBound'])\n",
    "Monomer('npf', ['monomerBound', 'arp23Bound'])\n",
    "\n",
    "nA = 6.022e23\n",
    "V = 50e-6\n",
    "\n",
    "Parameter('k1af', 5.5 / nA / V)\n",
    "Parameter('k1ar', 3.0)\n",
    "Parameter('k1bf', 1.0 / nA / V)\n",
    "Parameter('k1br', 0.4)\n",
    "Parameter('k2af', 1.0 / nA / V)\n",
    "Parameter('k2ar', 0.4)\n",
    "Parameter('k2bf', 5.5 / nA / V)\n",
    "Parameter('k2br', 3.0)\n",
    "Parameter('k3f', 8.6 / nA / V)\n",
    "Parameter('k3r', 0.01)\n",
    "Parameter('k4', 0.034)\n",
    "\n",
    "Parameter('monomer_zero', 2e-6 * nA * V)\n",
    "Parameter('arp23_zero', 50e-9 * nA * V)\n",
    "Parameter('npf_zero', 300e-9 * nA * V)\n",
    "Parameter('polymer_zero', 1e-9 * nA * V)\n",
    "\n",
    "Initial(monomer(npfBound=None), monomer_zero)\n",
    "Initial(arp23(npfBound=None, polymerBound=None), arp23_zero)\n",
    "Initial(npf(monomerBound=None, arp23Bound=None), npf_zero)\n",
    "Initial(polymer(arp23Bound=None), polymer_zero)\n",
    "\n",
    "Observable('polymer_total', monomer(npfBound=None))\n",
    "\n",
    "Rule('r1a', monomer(npfBound=None) + npf(monomerBound=None, arp23Bound=None) | monomer(npfBound=1) % npf(monomerBound=1, arp23Bound=None), k1af, k1ar)\n",
    "Rule('r1b', arp23(npfBound=None, polymerBound=None) + npf(monomerBound=None, arp23Bound=None) | arp23(npfBound=2, polymerBound=None) % npf(monomerBound=None, arp23Bound=2), k1bf, k1br)\n",
    "Rule('r2a', arp23(npfBound=None, polymerBound=None) + monomer(npfBound=1) % npf(monomerBound=1, arp23Bound=None) | arp23(npfBound=2, polymerBound=None) % monomer(npfBound=1) % npf(monomerBound=1, arp23Bound=2), k2af, k2ar)\n",
    "Rule('r2b', monomer(npfBound=None) + arp23(npfBound=2, polymerBound=None) % npf(monomerBound=None, arp23Bound=2) | arp23(npfBound=2, polymerBound=None) % monomer(npfBound=1) % npf(monomerBound=1, arp23Bound=2), k2bf, k2br)\n",
    "Rule('r3', arp23(npfBound=2, polymerBound=None) % monomer(npfBound=1) % npf(monomerBound=1, arp23Bound=2) + polymer(arp23Bound=None) | arp23(npfBound=2, polymerBound=3) % monomer(npfBound=1) % npf(monomerBound=1, arp23Bound=2) % polymer(arp23Bound=3), k3f, k3r)\n",
    "# Rule('r4', arp23(npfBound=2, polymerBound=3) % monomer(npfBound=1) % npf(monomerBound=1, arp23Bound=2) % polymer(arp23Bound=3) >> polymer(arp23Bound=None) + polymer(arp23Bound=None) + npf(monomerBound=None, arp23Bound=None), k4)"
   ]
  },
  {
   "cell_type": "code",
   "execution_count": 2,
   "metadata": {},
   "outputs": [
    {
     "data": {
      "image/png": "[encoded data removed]",
      "text/plain": [
       "<Figure size 432x288 with 1 Axes>"
      ]
     },
     "metadata": {},
     "output_type": "display_data"
    }
   ],
   "source": [
    "%matplotlib inline\n",
    "from pysb.integrate import odesolve\n",
    "import matplotlib.pyplot as plt\n",
    "import numpy as np\n",
    "\n",
    "tspan = np.linspace(0, 100, 100)\n",
    "y = odesolve(model, tspan)\n",
    "\n",
    "plt.plot(tspan, y['polymer_total'])\n",
    "plt.xlabel('time')\n",
    "plt.ylabel('total polymer')\n",
    "plt.show()"
   ]
  }
 ],
 "metadata": {
  "kernelspec": {
   "display_name": "Python 3",
   "language": "python",
   "name": "python3"
  },
  "language_info": {
   "codemirror_mode": {
    "name": "ipython",
    "version": 3
   },
   "file_extension": ".py",
   "mimetype": "text/x-python",
   "name": "python",
   "nbconvert_exporter": "python",
   "pygments_lexer": "ipython3",
   "version": "3.6.6"
  }
 },
 "nbformat": 4,
 "nbformat_minor": 2
}
