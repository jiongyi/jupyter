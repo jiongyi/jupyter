{
 "cells": [
  {
   "cell_type": "code",
   "execution_count": 1,
   "metadata": {},
   "outputs": [],
   "source": [
    "# Look for *.tif files in all subfolders.\n",
    "from skimage.io import imread, imsave, imshow\n",
    "from os import walk\n",
    "from os.path import join\n",
    "import fnmatch\n",
    "folderName = '/home/jiongyi/Documents/profilin-pulse-chase/2018-07-27-pulse-chase/'\n",
    "tifFilePaths = []\n",
    "searchString = '*.tif'\n",
    "for (dirPath, dirNames, fileNames) in walk(folderName):\n",
    "    for fileName in fileNames:\n",
    "        if fnmatch.fnmatch(fileName, searchString):\n",
    "            tifFilePaths.append(join(dirPath, fileName))"
   ]
  },
  {
   "cell_type": "code",
   "execution_count": 2,
   "metadata": {},
   "outputs": [
    {
     "name": "stderr",
     "output_type": "stream",
     "text": [
      "/home/jiongyi/anaconda3/lib/python3.6/site-packages/skimage/util/dtype.py:130: UserWarning: Possible precision loss when converting from float64 to uint16\n",
      "  .format(dtypeobj_in, dtypeobj_out))\n",
      "/home/jiongyi/anaconda3/lib/python3.6/site-packages/skimage/io/_io.py:140: UserWarning: /home/jiongyi/Documents/profilin-pulse-chase/2018-07-27-pulse-chase/2018-07-27-pulse-chase-200-nM-npf-lcb-50-nM-arp23-5-uM-nhs-actin-prof_6_488_zProj.tif is a low contrast image\n",
      "  warn('%s is a low contrast image' % fname)\n",
      "/home/jiongyi/anaconda3/lib/python3.6/site-packages/skimage/io/_io.py:140: UserWarning: /home/jiongyi/Documents/profilin-pulse-chase/2018-07-27-pulse-chase/2018-07-27-profilin-pulse-chase-200-nM-npf-lcb-50-nM-arp23-100-nM-cp-2half-uM-nhs-actin_20_647_zProj.tif is a low contrast image\n",
      "  warn('%s is a low contrast image' % fname)\n",
      "/home/jiongyi/anaconda3/lib/python3.6/site-packages/skimage/io/_io.py:140: UserWarning: /home/jiongyi/Documents/profilin-pulse-chase/2018-07-27-pulse-chase/2018-07-27-pulse-chase-200-nM-npf-lcb-50-nM-arp23-5-uM-mal-actin-prof_6_488_zProj.tif is a low contrast image\n",
      "  warn('%s is a low contrast image' % fname)\n",
      "/home/jiongyi/anaconda3/lib/python3.6/site-packages/skimage/io/_io.py:140: UserWarning: /home/jiongyi/Documents/profilin-pulse-chase/2018-07-27-pulse-chase/2018-07-27-pulse-chase-02-200-nM-npf-lcb-50-nM-arp23-5-uM-nhs-actin-prof_5_488_zProj.tif is a low contrast image\n",
      "  warn('%s is a low contrast image' % fname)\n",
      "/home/jiongyi/anaconda3/lib/python3.6/site-packages/skimage/io/_io.py:140: UserWarning: /home/jiongyi/Documents/profilin-pulse-chase/2018-07-27-pulse-chase/2018-07-27-profilin-pulse-chase-200-nM-npf-lcb-50-nM-arp23-100-nM-cp-2half-uM-nhs-actin_4_488_zProj.tif is a low contrast image\n",
      "  warn('%s is a low contrast image' % fname)\n",
      "/home/jiongyi/anaconda3/lib/python3.6/site-packages/skimage/io/_io.py:140: UserWarning: /home/jiongyi/Documents/profilin-pulse-chase/2018-07-27-pulse-chase/2018-07-27-profilin-pulse-chase-200-nM-npf-lcb-50-nM-arp23-100-nM-cp-2half-uM-nhs-actin_4_647_zProj.tif is a low contrast image\n",
      "  warn('%s is a low contrast image' % fname)\n",
      "/home/jiongyi/anaconda3/lib/python3.6/site-packages/skimage/io/_io.py:140: UserWarning: /home/jiongyi/Documents/profilin-pulse-chase/2018-07-27-pulse-chase/2018-07-27-pulse-chase-200-nM-npf-lcb-50-nM-arp23-5-uM-nhs-actin-prof_9_488_zProj.tif is a low contrast image\n",
      "  warn('%s is a low contrast image' % fname)\n",
      "/home/jiongyi/anaconda3/lib/python3.6/site-packages/skimage/io/_io.py:140: UserWarning: /home/jiongyi/Documents/profilin-pulse-chase/2018-07-27-pulse-chase/2018-07-27-pulse-chase-02-200-nM-npf-lcb-50-nM-arp23-5-uM-nhs-actin-prof_3_488_zProj.tif is a low contrast image\n",
      "  warn('%s is a low contrast image' % fname)\n",
      "/home/jiongyi/anaconda3/lib/python3.6/site-packages/skimage/io/_io.py:140: UserWarning: /home/jiongyi/Documents/profilin-pulse-chase/2018-07-27-pulse-chase/2018-07-27-pulse-chase-200-nM-npf-lcb-50-nM-arp23-5-uM-nhs-actin-prof_11_488_zProj.tif is a low contrast image\n",
      "  warn('%s is a low contrast image' % fname)\n",
      "/home/jiongyi/anaconda3/lib/python3.6/site-packages/skimage/io/_io.py:140: UserWarning: /home/jiongyi/Documents/profilin-pulse-chase/2018-07-27-pulse-chase/2018-07-27-pulse-chase-200-nM-npf-lcb-50-nM-arp23-5-uM-mal-actin-prof_5_488_zProj.tif is a low contrast image\n",
      "  warn('%s is a low contrast image' % fname)\n",
      "/home/jiongyi/anaconda3/lib/python3.6/site-packages/skimage/io/_io.py:140: UserWarning: /home/jiongyi/Documents/profilin-pulse-chase/2018-07-27-pulse-chase/2018-07-27-profilin-pulse-chase-200-nM-npf-lcb-50-nM-arp23-100-nM-cp-2half-uM-nhs-actin_1_647_zProj.tif is a low contrast image\n",
      "  warn('%s is a low contrast image' % fname)\n",
      "/home/jiongyi/anaconda3/lib/python3.6/site-packages/skimage/io/_io.py:140: UserWarning: /home/jiongyi/Documents/profilin-pulse-chase/2018-07-27-pulse-chase/2018-07-27-pulse-chase-200-nM-npf-lcb-50-nM-arp23-5-uM-mal-actin-prof_9_488_zProj.tif is a low contrast image\n",
      "  warn('%s is a low contrast image' % fname)\n",
      "/home/jiongyi/anaconda3/lib/python3.6/site-packages/skimage/io/_io.py:140: UserWarning: /home/jiongyi/Documents/profilin-pulse-chase/2018-07-27-pulse-chase/2018-07-27-pulse-chase-200-nM-npf-lcb-50-nM-arp23-5-uM-mal-actin-prof_12_488_zProj.tif is a low contrast image\n",
      "  warn('%s is a low contrast image' % fname)\n",
      "/home/jiongyi/anaconda3/lib/python3.6/site-packages/skimage/io/_io.py:140: UserWarning: /home/jiongyi/Documents/profilin-pulse-chase/2018-07-27-pulse-chase/2018-07-27-pulse-chase-200-nM-npf-lcb-50-nM-arp23-5-uM-mal-actin-prof_1_488_zProj.tif is a low contrast image\n",
      "  warn('%s is a low contrast image' % fname)\n",
      "/home/jiongyi/anaconda3/lib/python3.6/site-packages/skimage/io/_io.py:140: UserWarning: /home/jiongyi/Documents/profilin-pulse-chase/2018-07-27-pulse-chase/2018-07-27-pulse-chase-200-nM-npf-lcb-50-nM-arp23-5-uM-mal-actin-prof_1_647_zProj.tif is a low contrast image\n",
      "  warn('%s is a low contrast image' % fname)\n",
      "/home/jiongyi/anaconda3/lib/python3.6/site-packages/skimage/io/_io.py:140: UserWarning: /home/jiongyi/Documents/profilin-pulse-chase/2018-07-27-pulse-chase/2018-07-27-profilin-pulse-chase-200-nM-npf-lcb-50-nM-arp23-100-nM-cp-2half-uM-nhs-actin_2_647_zProj.tif is a low contrast image\n",
      "  warn('%s is a low contrast image' % fname)\n",
      "/home/jiongyi/anaconda3/lib/python3.6/site-packages/skimage/io/_io.py:140: UserWarning: /home/jiongyi/Documents/profilin-pulse-chase/2018-07-27-pulse-chase/2018-07-27-profilin-pulse-chase-200-nM-npf-lcb-50-nM-arp23-100-nM-cp-2half-uM-nhs-actin_11_647_zProj.tif is a low contrast image\n",
      "  warn('%s is a low contrast image' % fname)\n",
      "/home/jiongyi/anaconda3/lib/python3.6/site-packages/skimage/io/_io.py:140: UserWarning: /home/jiongyi/Documents/profilin-pulse-chase/2018-07-27-pulse-chase/2018-07-27-pulse-chase-200-nM-npf-lcb-50-nM-arp23-5-uM-mal-actin-prof_10_488_zProj.tif is a low contrast image\n",
      "  warn('%s is a low contrast image' % fname)\n",
      "/home/jiongyi/anaconda3/lib/python3.6/site-packages/skimage/io/_io.py:140: UserWarning: /home/jiongyi/Documents/profilin-pulse-chase/2018-07-27-pulse-chase/2018-07-27-pulse-chase-200-nM-npf-lcb-50-nM-arp23-5-uM-mal-actin-prof_10_647_zProj.tif is a low contrast image\n",
      "  warn('%s is a low contrast image' % fname)\n"
     ]
    }
   ],
   "source": [
    "# Project the average intensity along z.\n",
    "from numpy import mean\n",
    "from os.path import basename\n",
    "from skimage import img_as_uint\n",
    "noStacks = len(tifFilePaths)\n",
    "scalingFactor = 1 / (2**14 - 1)\n",
    "for i in range(noStacks):\n",
    "    currentStack = imread(tifFilePaths[i])\n",
    "    if len(currentStack.shape) == 4:\n",
    "        current488Stack = currentStack[:, 0, :, :]\n",
    "        current647Stack = currentStack[:, -1, :, :]\n",
    "        zAverage488Image = mean(current488Stack, axis = 0) * scalingFactor\n",
    "        zAverage647Image = mean(current647Stack, axis = 0) * scalingFactor\n",
    "        currentFileName = basename(tifFilePaths[i])\n",
    "        imsave(folderName + currentFileName[:-15] + '488_zProj.tif', img_as_uint(zAverage488Image))\n",
    "        imsave(folderName + currentFileName[:-15] + '647_zProj.tif', img_as_uint(zAverage647Image))"
   ]
  },
  {
   "cell_type": "code",
   "execution_count": null,
   "metadata": {},
   "outputs": [],
   "source": []
  }
 ],
 "metadata": {
  "kernelspec": {
   "display_name": "Python 3",
   "language": "python",
   "name": "python3"
  },
  "language_info": {
   "codemirror_mode": {
    "name": "ipython",
    "version": 3
   },
   "file_extension": ".py",
   "mimetype": "text/x-python",
   "name": "python",
   "nbconvert_exporter": "python",
   "pygments_lexer": "ipython3",
   "version": "3.6.6"
  }
 },
 "nbformat": 4,
 "nbformat_minor": 2
}
