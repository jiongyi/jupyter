{
 "cells": [
  {
   "cell_type": "code",
   "execution_count": 1,
   "metadata": {},
   "outputs": [],
   "source": [
    "# Load images.\n",
    "from skimage.io import imread, imshow\n",
    "rawArr = imread('/home/jiongyi/jupyter/branched-networks/bead-motility/actin_seeds_dual_channel.tif')"
   ]
  },
  {
   "cell_type": "code",
   "execution_count": 2,
   "metadata": {},
   "outputs": [
    {
     "name": "stderr",
     "output_type": "stream",
     "text": [
      "/home/jiongyi/anaconda3/lib/python3.6/site-packages/skimage/util/dtype.py:130: UserWarning: Possible precision loss when converting from float64 to uint16\n",
      "  .format(dtypeobj_in, dtypeobj_out))\n"
     ]
    }
   ],
   "source": [
    "# Reorganize stacks and scale to 16-bit\n",
    "from skimage import img_as_uint\n",
    "scalingFactor = 1 / (2**16 - 1)\n",
    "actinArr = img_as_uint(rawArr[:, 0, :, :] * scalingFactor)\n",
    "trpMyoArr = img_as_uint(rawArr[:, 1, :, :] * scalingFactor)"
   ]
  },
  {
   "cell_type": "code",
   "execution_count": 3,
   "metadata": {},
   "outputs": [],
   "source": [
    "from skimage.morphology import erosion, dilation, reconstruction\n",
    "from skimage.util import invert\n",
    "def openclose(inputArr, structuralElement):\n",
    "    erodedArr = erosion(inputArr, structuralElement)\n",
    "    openedArr = reconstruction(erodedArr, inputArr)\n",
    "    dilatedArr = dilation(openedArr, structuralElement)\n",
    "    ocArr = invert(reconstruction((invert(dilatedArr), invert(openedArr)))\n",
    "    return ocArr"
   ]
  },
  {
   "cell_type": "code",
   "execution_count": 4,
   "metadata": {},
   "outputs": [
    {
     "name": "stderr",
     "output_type": "stream",
     "text": [
      "/home/jiongyi/anaconda3/lib/python3.6/site-packages/skimage/morphology/greyreconstruct.py:143: FutureWarning: Using a non-tuple sequence for multidimensional indexing is deprecated; use `arr[tuple(seq)]` instead of `arr[seq]`. In the future this will be interpreted as an array index, `arr[np.array(seq)]`, which will result either in an error or a different result.\n",
      "  selem[[slice(d, d + 1) for d in offset]] = False\n",
      "/home/jiongyi/anaconda3/lib/python3.6/site-packages/skimage/morphology/greyreconstruct.py:161: FutureWarning: Using a non-tuple sequence for multidimensional indexing is deprecated; use `arr[tuple(seq)]` instead of `arr[seq]`. In the future this will be interpreted as an array index, `arr[np.array(seq)]`, which will result either in an error or a different result.\n",
      "  images[[0] + inside_slices] = seed\n",
      "/home/jiongyi/anaconda3/lib/python3.6/site-packages/skimage/morphology/greyreconstruct.py:162: FutureWarning: Using a non-tuple sequence for multidimensional indexing is deprecated; use `arr[tuple(seq)]` instead of `arr[seq]`. In the future this will be interpreted as an array index, `arr[np.array(seq)]`, which will result either in an error or a different result.\n",
      "  images[[1] + inside_slices] = mask\n",
      "/home/jiongyi/anaconda3/lib/python3.6/site-packages/skimage/morphology/greyreconstruct.py:201: FutureWarning: Using a non-tuple sequence for multidimensional indexing is deprecated; use `arr[tuple(seq)]` instead of `arr[seq]`. In the future this will be interpreted as an array index, `arr[np.array(seq)]`, which will result either in an error or a different result.\n",
      "  return rec_img[inside_slices]\n"
     ]
    },
    {
     "ename": "ValueError",
     "evalue": "The truth value of an array with more than one element is ambiguous. Use a.any() or a.all()",
     "output_type": "error",
     "traceback": [
      "\u001b[0;31m---------------------------------------------------------------------------\u001b[0m",
      "\u001b[0;31mValueError\u001b[0m                                Traceback (most recent call last)",
      "\u001b[0;32m<ipython-input-4-2238e7f6b872>\u001b[0m in \u001b[0;36m<module>\u001b[0;34m()\u001b[0m\n\u001b[1;32m     12\u001b[0m     \u001b[0;31m# Gaussian filter\u001b[0m\u001b[0;34m\u001b[0m\u001b[0;34m\u001b[0m\u001b[0m\n\u001b[1;32m     13\u001b[0m     \u001b[0mgaussianArr\u001b[0m \u001b[0;34m=\u001b[0m \u001b[0mgaussian\u001b[0m\u001b[0;34m(\u001b[0m\u001b[0mclaheArr\u001b[0m\u001b[0;34m,\u001b[0m \u001b[0msigma\u001b[0m \u001b[0;34m=\u001b[0m \u001b[0;36m1\u001b[0m\u001b[0;34m)\u001b[0m\u001b[0;34m\u001b[0m\u001b[0m\n\u001b[0;32m---> 14\u001b[0;31m     \u001b[0mopenClosedArr\u001b[0m \u001b[0;34m=\u001b[0m \u001b[0mopenclose\u001b[0m\u001b[0;34m(\u001b[0m\u001b[0mgaussianArr\u001b[0m\u001b[0;34m,\u001b[0m \u001b[0msquare\u001b[0m\u001b[0;34m(\u001b[0m\u001b[0;36m3\u001b[0m\u001b[0;34m)\u001b[0m\u001b[0;34m)\u001b[0m\u001b[0;34m\u001b[0m\u001b[0m\n\u001b[0m\u001b[1;32m     15\u001b[0m     \u001b[0;31m# Top-hat filtering to subtract background.\u001b[0m\u001b[0;34m\u001b[0m\u001b[0;34m\u001b[0m\u001b[0m\n\u001b[1;32m     16\u001b[0m     \u001b[0mtophatArr\u001b[0m \u001b[0;34m=\u001b[0m \u001b[0mwhite_tophat\u001b[0m\u001b[0;34m(\u001b[0m\u001b[0mopenClosedArr\u001b[0m\u001b[0;34m,\u001b[0m \u001b[0msquare\u001b[0m\u001b[0;34m(\u001b[0m\u001b[0;36m21\u001b[0m\u001b[0;34m)\u001b[0m\u001b[0;34m)\u001b[0m\u001b[0;34m\u001b[0m\u001b[0m\n",
      "\u001b[0;32m<ipython-input-3-36a0762fd372>\u001b[0m in \u001b[0;36mopenclose\u001b[0;34m(inputArr, structuralElement)\u001b[0m\n\u001b[1;32m      5\u001b[0m     \u001b[0mopenedArr\u001b[0m \u001b[0;34m=\u001b[0m \u001b[0mreconstruction\u001b[0m\u001b[0;34m(\u001b[0m\u001b[0merodedArr\u001b[0m\u001b[0;34m,\u001b[0m \u001b[0minputArr\u001b[0m\u001b[0;34m)\u001b[0m\u001b[0;34m\u001b[0m\u001b[0m\n\u001b[1;32m      6\u001b[0m     \u001b[0mdilatedArr\u001b[0m \u001b[0;34m=\u001b[0m \u001b[0mdilation\u001b[0m\u001b[0;34m(\u001b[0m\u001b[0mopenedArr\u001b[0m\u001b[0;34m,\u001b[0m \u001b[0mstructuralElement\u001b[0m\u001b[0;34m)\u001b[0m\u001b[0;34m\u001b[0m\u001b[0m\n\u001b[0;32m----> 7\u001b[0;31m     \u001b[0mocArr\u001b[0m \u001b[0;34m=\u001b[0m \u001b[0minvert\u001b[0m\u001b[0;34m(\u001b[0m\u001b[0minvert\u001b[0m\u001b[0;34m(\u001b[0m\u001b[0mdilatedArr\u001b[0m\u001b[0;34m)\u001b[0m\u001b[0;34m,\u001b[0m \u001b[0minvert\u001b[0m\u001b[0;34m(\u001b[0m\u001b[0mopenedArr\u001b[0m\u001b[0;34m)\u001b[0m\u001b[0;34m)\u001b[0m\u001b[0;34m\u001b[0m\u001b[0m\n\u001b[0m\u001b[1;32m      8\u001b[0m     \u001b[0;32mreturn\u001b[0m \u001b[0mocArr\u001b[0m\u001b[0;34m\u001b[0m\u001b[0m\n",
      "\u001b[0;32m~/anaconda3/lib/python3.6/site-packages/skimage/util/_invert.py\u001b[0m in \u001b[0;36minvert\u001b[0;34m(image, signed_float)\u001b[0m\n\u001b[1;32m     68\u001b[0m         \u001b[0minverted\u001b[0m \u001b[0;34m=\u001b[0m \u001b[0mnp\u001b[0m\u001b[0;34m.\u001b[0m\u001b[0msubtract\u001b[0m\u001b[0;34m(\u001b[0m\u001b[0;34m-\u001b[0m\u001b[0;36m1\u001b[0m\u001b[0;34m,\u001b[0m \u001b[0mimage\u001b[0m\u001b[0;34m,\u001b[0m \u001b[0mdtype\u001b[0m\u001b[0;34m=\u001b[0m\u001b[0mimage\u001b[0m\u001b[0;34m.\u001b[0m\u001b[0mdtype\u001b[0m\u001b[0;34m)\u001b[0m\u001b[0;34m\u001b[0m\u001b[0m\n\u001b[1;32m     69\u001b[0m     \u001b[0;32melse\u001b[0m\u001b[0;34m:\u001b[0m  \u001b[0;31m# float dtype\u001b[0m\u001b[0;34m\u001b[0m\u001b[0m\n\u001b[0;32m---> 70\u001b[0;31m         \u001b[0;32mif\u001b[0m \u001b[0msigned_float\u001b[0m\u001b[0;34m:\u001b[0m\u001b[0;34m\u001b[0m\u001b[0m\n\u001b[0m\u001b[1;32m     71\u001b[0m             \u001b[0minverted\u001b[0m \u001b[0;34m=\u001b[0m \u001b[0;34m-\u001b[0m\u001b[0mimage\u001b[0m\u001b[0;34m\u001b[0m\u001b[0m\n\u001b[1;32m     72\u001b[0m         \u001b[0;32melse\u001b[0m\u001b[0;34m:\u001b[0m\u001b[0;34m\u001b[0m\u001b[0m\n",
      "\u001b[0;31mValueError\u001b[0m: The truth value of an array with more than one element is ambiguous. Use a.any() or a.all()"
     ]
    }
   ],
   "source": [
    "# Apply filters.\n",
    "from numpy import zeros\n",
    "from skimage.exposure import equalize_adapthist\n",
    "from skimage.filters import gaussian\n",
    "from skimage.morphology import white_tophat, square\n",
    "from skimage import img_as_uint\n",
    "noTimePoints, noRows, noColumns = actinArr.shape\n",
    "filteredArr = zeros((noTimePoints, noRows, noColumns))\n",
    "for i in range(noTimePoints):\n",
    "    # Enhance contrast.\n",
    "    claheArr = equalize_adapthist(actinArr[i, :, :])\n",
    "    # Gaussian filter\n",
    "    gaussianArr = gaussian(claheArr, sigma = 1)\n",
    "    openClosedArr = openclose(gaussianArr, square(3))\n",
    "    # Top-hat filtering to subtract background.\n",
    "    tophatArr = white_tophat(openClosedArr, square(21))\n",
    "    filteredArr[i, :, :] = tophatArr"
   ]
  },
  {
   "cell_type": "code",
   "execution_count": null,
   "metadata": {},
   "outputs": [],
   "source": [
    "# Estimate background.\n",
    "from numpy import mean, std\n",
    "muBackground = mean(filteredArr[0, :, :].flatten())\n",
    "sigmaBackground = std(filteredArr[0, :, :].flatten())\n",
    "threshold = muBackground + 3 * sigmaBackground"
   ]
  },
  {
   "cell_type": "code",
   "execution_count": null,
   "metadata": {},
   "outputs": [],
   "source": [
    "# Initialize binarized array.\n",
    "isActinArr = zeros(filteredArr.shape, dtype = bool)\n",
    "isActinArr[0, :, :] = filteredArr[0, :, :] > threshold\n",
    "noBackground = sum(~isActinArr[0, :, :].flatten())"
   ]
  },
  {
   "cell_type": "code",
   "execution_count": null,
   "metadata": {},
   "outputs": [],
   "source": [
    "# Iterate\n",
    "for i in range(1, noTimePoints):\n",
    "    # isActinArr[i, :, :] = distBackground.cdf(filteredArr[i, :, :]) > cdfThreshold\n",
    "    isActinArr[i, :, :] = filteredArr[i, :, :] > threshold\n",
    "    # Calculate new means and standard deviations.\n",
    "    noNewBackground = sum(~isActinArr[i, :, :].flatten())\n",
    "    muNewBackground = mean(filteredArr[i, :, :][~isActinArr[i, :, :]].flatten())\n",
    "    sigmaNewBackground = std(filteredArr[i, :, :][~isActinArr[i, :, :]].flatten())\n",
    "    # Update distribution.\n",
    "    muBackground = (muBackground * noBackground + muNewBackground * noNewBackground) / (noBackground + noNewBackground)\n",
    "    sigmaBackground = (sigmaBackground * noBackground + sigmaNewBackground * noNewBackground) / (noBackground + noNewBackground)\n",
    "    #distBackground = norm(muBackground, sigmaBackground)\n",
    "    threshold = muBackground + 3 * sigmaBackground"
   ]
  },
  {
   "cell_type": "code",
   "execution_count": null,
   "metadata": {},
   "outputs": [],
   "source": [
    "# Save images.\n",
    "from skimage.io import imsave\n",
    "imsave('is_actin.tiff', img_as_uint(isActinArr * (2**16 - 1)))\n",
    "imsave('actin_channel_filtered.tiff', img_as_uint(filteredArr))"
   ]
  },
  {
   "cell_type": "code",
   "execution_count": null,
   "metadata": {},
   "outputs": [],
   "source": [
    "# Extract region properties.\n",
    "from skimage.measure import regionprops, label\n",
    "from skimage.segmentation import clear_border\n",
    "regionPropertiesList = []\n",
    "for i in range(noTimePoints):\n",
    "    regionPropertiesList.append(regionprops(clear_border(label(isActinArr[i, :, :])), filteredArr[i, :, :]))"
   ]
  },
  {
   "cell_type": "code",
   "execution_count": null,
   "metadata": {},
   "outputs": [],
   "source": [
    "# Generate initial snakes.\n",
    "from numpy import array, sin, cos, linspace\n",
    "from skimage.exposure import equalize_adapthist\n",
    "from skimage.segmentation import active_contour\n",
    "from matplotlib.pyplot import subplots, plot, cm\n",
    "for i in range(9):\n",
    "    figureHandle, axesHandle = subplots(figsize = (8, 8))\n",
    "    axesHandle.imshow(filteredArr[i, :, :], cmap = cm.gray)\n",
    "    for j in range(len(regionPropertiesList[i])):\n",
    "        if regionPropertiesList[i][j].area > 64:\n",
    "            rCentroid, cCentroid = regionPropertiesList[i][j].centroid\n",
    "            a = 0.5 * regionPropertiesList[i][j].major_axis_length\n",
    "            theta = regionPropertiesList[i][j].orientation\n",
    "            dx = a * cos(theta)\n",
    "            dy = a * sin(theta)\n",
    "            xInitial = cCentroid - dx\n",
    "            xFinal = cCentroid + dx\n",
    "            yInitial = rCentroid + dy\n",
    "            yFinal = rCentroid - dy\n",
    "            xArr = linspace(xInitial, xFinal, 100)\n",
    "            yArr = linspace(yInitial, yFinal, 100)\n",
    "            initialCoordsArr = array([xArr, yArr]).T\n",
    "            snakesCoordsList = active_contour(filteredArr[i, :, :], initialCoordsArr, alpha = -0.00001, w_line = 0.75, w_edge = -0.25, max_px_move = 0.1)\n",
    "            axesHandle.plot(initialCoordsArr[:, 0], initialCoordsArr[:, 1], '--c', linewidth = 1)\n",
    "            axesHandle.plot(snakesCoordsList[:, 0], snakesCoordsList[:, 1], 'm', linewidth = 1)"
   ]
  },
  {
   "cell_type": "code",
   "execution_count": null,
   "metadata": {},
   "outputs": [],
   "source": []
  }
 ],
 "metadata": {
  "kernelspec": {
   "display_name": "Python 3",
   "language": "python",
   "name": "python3"
  },
  "language_info": {
   "codemirror_mode": {
    "name": "ipython",
    "version": 3
   },
   "file_extension": ".py",
   "mimetype": "text/x-python",
   "name": "python",
   "nbconvert_exporter": "python",
   "pygments_lexer": "ipython3",
   "version": "3.6.6"
  }
 },
 "nbformat": 4,
 "nbformat_minor": 2
}
