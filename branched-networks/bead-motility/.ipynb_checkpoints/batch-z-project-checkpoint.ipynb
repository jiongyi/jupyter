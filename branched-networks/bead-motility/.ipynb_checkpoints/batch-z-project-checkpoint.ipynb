{
 "cells": [
  {
   "cell_type": "code",
   "execution_count": 1,
   "metadata": {},
   "outputs": [],
   "source": [
    "# Look for *.tif files in all subfolders.\n",
    "from skimage.io import imread, imsave, imshow\n",
    "from os import walk\n",
    "from os.path import join\n",
    "import fnmatch\n",
    "folderName = '/home/jiongyi/Documents/profilin-pulse-chase/2018-07-27-pulse-chase/'\n",
    "tifFilePaths = []\n",
    "searchString = '*.tif'\n",
    "for (dirPath, dirNames, fileNames) in walk(folderName):\n",
    "    for fileName in fileNames:\n",
    "        if fnmatch.fnmatch(fileName, searchString):\n",
    "            tifFilePaths.append(join(dirPath, fileName))"
   ]
  },
  {
   "cell_type": "code",
   "execution_count": 2,
   "metadata": {},
   "outputs": [
    {
     "name": "stderr",
     "output_type": "stream",
     "text": [
      "/home/jiongyi/anaconda3/lib/python3.6/site-packages/skimage/util/dtype.py:130: UserWarning: Possible precision loss when converting from float64 to uint16\n",
      "  .format(dtypeobj_in, dtypeobj_out))\n",
      "/home/jiongyi/anaconda3/lib/python3.6/site-packages/skimage/io/_io.py:140: UserWarning: /home/jiongyi/Documents/profilin-pulse-chase/2018-07-26-n-wasp-mal-vs-nhs-actin/2018-07-26-pulse-chase-200-nM-npf-lcb-50-nM-arp23-5-uM-nhs-actin-prof__9_488_zProj.tif is a low contrast image\n",
      "  warn('%s is a low contrast image' % fname)\n",
      "/home/jiongyi/anaconda3/lib/python3.6/site-packages/skimage/io/_io.py:140: UserWarning: /home/jiongyi/Documents/profilin-pulse-chase/2018-07-26-n-wasp-mal-vs-nhs-actin/2018-07-26-pulse-chase-200-nM-npf-lcb-50-nM-arp23-5-uM-mal-actin-prof__8_488_zProj.tif is a low contrast image\n",
      "  warn('%s is a low contrast image' % fname)\n",
      "/home/jiongyi/anaconda3/lib/python3.6/site-packages/skimage/io/_io.py:140: UserWarning: /home/jiongyi/Documents/profilin-pulse-chase/2018-07-26-n-wasp-mal-vs-nhs-actin/2018-07-26-pulse-chase-200-nM-npf-lcb-50-nM-arp23-5-uM-mal-actin-prof__6_488_zProj.tif is a low contrast image\n",
      "  warn('%s is a low contrast image' % fname)\n",
      "/home/jiongyi/anaconda3/lib/python3.6/site-packages/skimage/io/_io.py:140: UserWarning: /home/jiongyi/Documents/profilin-pulse-chase/2018-07-26-n-wasp-mal-vs-nhs-actin/2018-07-26-pulse-chase-200-nM-npf-lcb-50-nM-arp23-5-uM-mal-actin-prof__13_488_zProj.tif is a low contrast image\n",
      "  warn('%s is a low contrast image' % fname)\n",
      "/home/jiongyi/anaconda3/lib/python3.6/site-packages/skimage/io/_io.py:140: UserWarning: /home/jiongyi/Documents/profilin-pulse-chase/2018-07-26-n-wasp-mal-vs-nhs-actin/2018-07-26-pulse-chase-200-nM-npf-lcb-50-nM-arp23-5-uM-nhs-actin-prof__4_488_zProj.tif is a low contrast image\n",
      "  warn('%s is a low contrast image' % fname)\n",
      "/home/jiongyi/anaconda3/lib/python3.6/site-packages/skimage/io/_io.py:140: UserWarning: /home/jiongyi/Documents/profilin-pulse-chase/2018-07-26-n-wasp-mal-vs-nhs-actin/2018-07-26-pulse-chase-200-nM-npf-lcb-50-nM-arp23-5-uM-mal-actin-prof__11_488_zProj.tif is a low contrast image\n",
      "  warn('%s is a low contrast image' % fname)\n",
      "/home/jiongyi/anaconda3/lib/python3.6/site-packages/skimage/io/_io.py:140: UserWarning: /home/jiongyi/Documents/profilin-pulse-chase/2018-07-26-n-wasp-mal-vs-nhs-actin/2018-07-26-pulse-chase-200-nM-npf-lcb-50-nM-arp23-5-uM-mal-actin-prof__10_488_zProj.tif is a low contrast image\n",
      "  warn('%s is a low contrast image' % fname)\n",
      "/home/jiongyi/anaconda3/lib/python3.6/site-packages/skimage/io/_io.py:140: UserWarning: /home/jiongyi/Documents/profilin-pulse-chase/2018-07-26-n-wasp-mal-vs-nhs-actin/2018-07-26-pulse-chase-200-nM-npf-lcb-50-nM-arp23-5-uM-mal-actin-prof__14_488_zProj.tif is a low contrast image\n",
      "  warn('%s is a low contrast image' % fname)\n",
      "/home/jiongyi/anaconda3/lib/python3.6/site-packages/skimage/io/_io.py:140: UserWarning: /home/jiongyi/Documents/profilin-pulse-chase/2018-07-26-n-wasp-mal-vs-nhs-actin/2018-07-26-pulse-chase-200-nM-npf-lcb-50-nM-arp23-5-uM-nhs-actin-prof__8_488_zProj.tif is a low contrast image\n",
      "  warn('%s is a low contrast image' % fname)\n",
      "/home/jiongyi/anaconda3/lib/python3.6/site-packages/skimage/io/_io.py:140: UserWarning: /home/jiongyi/Documents/profilin-pulse-chase/2018-07-26-n-wasp-mal-vs-nhs-actin/2018-07-26-pulse-chase-200-nM-npf-lcb-50-nM-arp23-5-uM-nhs-actin-prof__2_488_zProj.tif is a low contrast image\n",
      "  warn('%s is a low contrast image' % fname)\n",
      "/home/jiongyi/anaconda3/lib/python3.6/site-packages/skimage/io/_io.py:140: UserWarning: /home/jiongyi/Documents/profilin-pulse-chase/2018-07-26-n-wasp-mal-vs-nhs-actin/2018-07-26-pulse-chase-200-nM-npf-lcb-50-nM-arp23-5-uM-mal-actin-prof__12_488_zProj.tif is a low contrast image\n",
      "  warn('%s is a low contrast image' % fname)\n",
      "/home/jiongyi/anaconda3/lib/python3.6/site-packages/skimage/external/tifffile/tifffile.py:3717: UserWarning: invalid JSON 'b'[{\"Name\":\"filtered 470 GFP epi\",\"DisplayMode\":2,\"HistogramMax\":-1,\"Max\":16276,\"Gamma\":1,\"Min\":91,\"Color\":-16711936},{\"Name\":\"filtered 550 RFP epi\",\"DisplayMode\":2,\"HistogramMax\":-1,\"Max\":185,\"Gamma\":1,\"Min\":82,\"Color\":-52429},{\"Name\":\"filtered 640 Cy5 epi\",\"DisplayMode\":2,\"HistogramMax\":-1,\"Max\":16274,\"Gamma\":1,\"Min\":251,\"Color\":-65332}]a\":1,\"Min\":87,\"Color\":-52429},{\"Name\":\"filtered 640 Cy5 epi\",\"DisplayMode\":2,\"HistogramMax\":-1,\"Max\":16275,\"Gamma\":1,\"Min\":404,\"Color\":-65332}]\\x00\\x00\\x00\\x00\\x00\\x00\\x00\\x00\\x00\\x00\\x00\\x00\\x00\\x00\\x00\\x00\\x00\\x00\\x00\\x00\\x00\\x00\\x00\\x00\\x00\\x00\\x00\\x00\\x00\\x00\\x00\\x00\\x00\\x00\\x00\\x00\\x00\\x00\\x00\\x00\\x00\\x00\\x00\\x00\\x00\\x00\\x00\\x00\\x00\\x00\\x00\\x00\\x00\\x00\\x00\\x00\\x00\\x00\\x00\\x00\\x00\\x00\\x00\\x00\\x00\\x00\\x00\\x00\\x00\\x00\\x00\\x00\\x00\\x00\\x00\\x00\\x00\\x00\\x00\\x00\\x00\\x00\\x00\\x00\\x00\\x00\\x00\\x00\\x00\\x00\\x00\\x00\\x00\\x00\\x00\\x00\\x00\\x00\\x00\\x00\\x00\\x00\\x00\\x00\\x00\\x00\\x00\\x00\\x00\\x00\\x00\\x00\\x00\\x00\\x00\\x00\\x00\\x00\\x00\\x00\\x00\\x00\\x00\\x00\\x00\\x00\\x00\\x00\\x00\\x00\\x00\\x00\\x00\\x00\\x00\\x00\\x00\\x00\\x00\\x00\\x00\\x00\\x00\\x00\\x00\\x00\\x00\\x00\\x00\\x00\\x00\\x00\\x00\\x00\\x00\\x00\\x00\\x00\\x00\\x00\\x00\\x00\\x00\\x00\\x00\\x00\\x00\\x00\\x00\\x00\\x00\\x00\\x00\\x00\\x00\\x00\\x00\\x00\\x00\\x00\\x00\\x00\\x00\\x00\\x00\\x00\\x00\\x00\\x00\\x00\\x00\\x00\\x00\\x00\\x00\\x00\\x00\\x00\\x00\\x00\\x00\\x00\\x00\\x00\\x00\\x00\\x00\\x00\\x00\\x00\\x00\\x00\\x00\\x00\\x00\\x00\\x00\\x00\\x00\\x00\\x00\\x00\\x00\\x00\\x00\\x00\\x00\\x00\\x00\\x00\\x00\\x00\\x00\\x00\\x00\\x00\\x00\\x00\\x00\\x00\\x00\\x00\\x00\\x00\\x00\\x00\\x00\\x00\\x00\\x00\\x00\\x00\\x00\\x00\\x00\\x00\\x00\\x00\\x00\\x00\\x00\\x00\\x00\\x00\\x00\\x00\\x00\\x00\\x00\\x00\\x00\\x00\\x00\\x00\\x00\\x00\\x00\\x00\\x00\\x00\\x00\\x00\\x00\\x00\\x00\\x00''\n",
      "  warnings.warn(\"invalid JSON '%s'\" % data)\n",
      "/home/jiongyi/anaconda3/lib/python3.6/site-packages/skimage/external/tifffile/tifffile.py:1815: UserWarning: ome-xml: failed to read '\\2018-07-26-200-nM-npf-lcb-50-nM-arp23-3-uM-actin_1_MMStack.ome.tif'\n",
      "  \"ome-xml: failed to read '%s'\" % fname)\n",
      "/home/jiongyi/anaconda3/lib/python3.6/site-packages/skimage/io/_io.py:140: UserWarning: /home/jiongyi/Documents/profilin-pulse-chase/2018-07-26-n-wasp-mal-vs-nhs-actin/2018-07-26-pulse-chase-200-nM-npf-lcb-50-nM-arp23-5-uM-nhs-actin-prof__5_488_zProj.tif is a low contrast image\n",
      "  warn('%s is a low contrast image' % fname)\n",
      "/home/jiongyi/anaconda3/lib/python3.6/site-packages/skimage/external/tifffile/tifffile.py:3717: UserWarning: invalid JSON 'b'[{\"Name\":\"filtered 470 GFP epi\",\"DisplayMode\":2,\"HistogramMax\":-1,\"Max\":5149,\"Gamma\":1,\"Min\":89,\"Color\":-16711936},{\"Name\":\"filtered 550 RFP epi\",\"DisplayMode\":2,\"HistogramMax\":-1,\"Max\":160,\"Gamma\":1,\"Min\":85,\"Color\":-52429},{\"Name\":\"filtered 640 Cy5 epi\",\"DisplayMode\":2,\"HistogramMax\":-1,\"Max\":3431,\"Gamma\":1,\"Min\":153,\"Color\":-65332}]layMode\":2,\"HistogramMax\":-1,\"Max\":5189,\"Gamma\":1,\"Min\":179,\"Color\":-65332}]isplayMode\":2,\"HistogramMax\":-1,\"Max\":4575,\"Gamma\":1,\"Min\":189,\"Color\":-65332}]\\x00\\x00\\x00\\x00\\x00\\x00\\x00\\x00\\x00\\x00\\x00\\x00\\x00\\x00\\x00\\x00\\x00\\x00\\x00\\x00\\x00\\x00\\x00\\x00\\x00\\x00\\x00\\x00\\x00\\x00\\x00\\x00\\x00\\x00\\x00\\x00\\x00\\x00\\x00\\x00\\x00\\x00\\x00\\x00\\x00\\x00\\x00\\x00\\x00\\x00\\x00\\x00\\x00\\x00\\x00\\x00\\x00\\x00\\x00\\x00\\x00\\x00\\x00\\x00\\x00\\x00\\x00\\x00\\x00\\x00\\x00\\x00\\x00\\x00\\x00\\x00\\x00\\x00\\x00\\x00\\x00\\x00\\x00\\x00\\x00\\x00\\x00\\x00\\x00\\x00\\x00\\x00\\x00\\x00\\x00\\x00\\x00\\x00\\x00\\x00\\x00\\x00\\x00\\x00\\x00\\x00\\x00\\x00\\x00\\x00\\x00\\x00\\x00\\x00\\x00\\x00\\x00\\x00\\x00\\x00\\x00\\x00\\x00\\x00\\x00\\x00\\x00\\x00\\x00\\x00\\x00\\x00\\x00\\x00\\x00\\x00\\x00\\x00\\x00\\x00\\x00\\x00\\x00\\x00\\x00\\x00\\x00\\x00\\x00\\x00\\x00\\x00\\x00\\x00\\x00\\x00\\x00\\x00\\x00\\x00\\x00\\x00\\x00\\x00\\x00\\x00\\x00\\x00\\x00\\x00\\x00\\x00\\x00\\x00\\x00\\x00\\x00\\x00\\x00\\x00\\x00\\x00\\x00\\x00\\x00\\x00\\x00\\x00\\x00\\x00\\x00\\x00\\x00\\x00\\x00\\x00\\x00\\x00\\x00\\x00\\x00\\x00\\x00\\x00\\x00\\x00\\x00\\x00\\x00\\x00\\x00\\x00\\x00\\x00\\x00\\x00\\x00\\x00\\x00\\x00\\x00\\x00\\x00\\x00\\x00\\x00\\x00\\x00\\x00\\x00\\x00\\x00\\x00\\x00\\x00\\x00\\x00\\x00\\x00\\x00\\x00\\x00\\x00\\x00\\x00\\x00\\x00\\x00\\x00\\x00\\x00\\x00\\x00\\x00\\x00\\x00\\x00\\x00\\x00\\x00\\x00\\x00\\x00\\x00\\x00\\x00\\x00\\x00\\x00\\x00e\\xbb\\x0c\\x05\\x0e\\x00''\n",
      "  warnings.warn(\"invalid JSON '%s'\" % data)\n",
      "/home/jiongyi/anaconda3/lib/python3.6/site-packages/skimage/external/tifffile/tifffile.py:1815: UserWarning: ome-xml: failed to read '\\2018-07-26-200-nM-npf-lcb-50-nM-old-arp23-3-uM-actin_1_MMStack.ome.tif'\n",
      "  \"ome-xml: failed to read '%s'\" % fname)\n",
      "/home/jiongyi/anaconda3/lib/python3.6/site-packages/skimage/external/tifffile/tifffile.py:3717: UserWarning: invalid JSON 'b'[{\"Name\":\"filtered 470 GFP epi\",\"DisplayMode\":2,\"HistogramMax\":-1,\"Max\":16273,\"Gamma\":1,\"Min\":251,\"Color\":-16711936},{\"Name\":\"filtered 640 Cy5 epi\",\"DisplayMode\":2,\"HistogramMax\":-1,\"Max\":4523,\"Gamma\":1,\"Min\":355,\"Color\":-65332}]=\"\\xc2\\xb5m\" PositionZ=\"6174.860000000001\" PositionZUnit=\"\\xc2\\xb5m\" TheC=\"1\" TheT=\"0\" TheZ=\"4\"/></Pixels></Image></OME> \\x00ImageJ=1.48v\\nchannels=2\\nslices=5\\nhyperstack=true\\nunit=um\\nspacing=1.0\\nmode=color\\n\\x00\\x00d\\x89\\xbb\\x14\\x00\\x02\\x00\\x00[{\"Name\":\"filtered 470 GFP epi\",\"DisplayMode\":2,\"HistogramMax\":-1,\"Max\":16272,\"Gamm''\n",
      "  warnings.warn(\"invalid JSON '%s'\" % data)\n",
      "/home/jiongyi/anaconda3/lib/python3.6/site-packages/skimage/external/tifffile/tifffile.py:1815: UserWarning: ome-xml: failed to read '\\2018-07-26-200-nM-npf-lcb-50-nM-arp23-5-uM-mal-actin-prof_1_MMStack.ome.tif'\n",
      "  \"ome-xml: failed to read '%s'\" % fname)\n",
      "/home/jiongyi/anaconda3/lib/python3.6/site-packages/skimage/io/_io.py:140: UserWarning: /home/jiongyi/Documents/profilin-pulse-chase/2018-07-26-n-wasp-mal-vs-nhs-actin/2018-07-26-pulse-chase-200-nM-npf-lcb-50-nM-arp23-5-uM-mal-actin-prof__9_488_zProj.tif is a low contrast image\n",
      "  warn('%s is a low contrast image' % fname)\n"
     ]
    }
   ],
   "source": [
    "# Project the average intensity along z.\n",
    "from numpy import mean\n",
    "from os.path import basename\n",
    "from skimage import img_as_uint\n",
    "noStacks = len(tifFilePaths)\n",
    "scalingFactor = 1 / (2**14 - 1)\n",
    "for i in range(noStacks):\n",
    "    currentStack = imread(tifFilePaths[i])\n",
    "    if len(currentStack.shape) == 4:\n",
    "        current488Stack = currentStack[:, 0, :, :]\n",
    "        current647Stack = currentStack[:, -1, :, :]\n",
    "        zAverage488Image = mean(current488Stack, axis = 0) * scalingFactor\n",
    "        zAverage647Image = mean(current647Stack, axis = 0) * scalingFactor\n",
    "        currentFileName = basename(tifFilePaths[i])\n",
    "        imsave(folderName + currentFileName[:-15] + '488_zProj.tif', img_as_uint(zAverage488Image))\n",
    "        imsave(folderName + currentFileName[:-15] + '647_zProj.tif', img_as_uint(zAverage647Image))"
   ]
  },
  {
   "cell_type": "code",
   "execution_count": null,
   "metadata": {},
   "outputs": [],
   "source": []
  }
 ],
 "metadata": {
  "kernelspec": {
   "display_name": "Python 3",
   "language": "python",
   "name": "python3"
  },
  "language_info": {
   "codemirror_mode": {
    "name": "ipython",
    "version": 3
   },
   "file_extension": ".py",
   "mimetype": "text/x-python",
   "name": "python",
   "nbconvert_exporter": "python",
   "pygments_lexer": "ipython3",
   "version": "3.6.6"
  }
 },
 "nbformat": 4,
 "nbformat_minor": 2
}
