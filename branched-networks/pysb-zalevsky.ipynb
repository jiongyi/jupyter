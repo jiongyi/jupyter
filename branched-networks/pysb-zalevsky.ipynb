{
 "cells": [
  {
   "cell_type": "code",
   "execution_count": 1,
   "metadata": {},
   "outputs": [
    {
     "data": {
      "text/plain": [
       "Observable('obsGActin', GActin(wh2=None))"
      ]
     },
     "execution_count": 1,
     "metadata": {},
     "output_type": "execute_result"
    }
   ],
   "source": [
    "from pysb import *\n",
    "Model()\n",
    "\n",
    "# Declare molecules\n",
    "Monomer('GActin', ['wh2'])\n",
    "Monomer('FActin', ['arp23'])\n",
    "Monomer('Arp23', ['npf', 'filament'])\n",
    "Monomer('NPF', ['monomer', 'arp23'])\n",
    "\n",
    "# Declare parameters\n",
    "nA = 6.022e23\n",
    "volume = 50e-6\n",
    "Parameter('k1af', 5.5e-6 * nA * volume)\n",
    "Parameter('k1bf', 1.0e-6 * nA * volume)\n",
    "Parameter('k1ar', 3.0)\n",
    "Parameter('k1br', 0.4)\n",
    "Parameter('k2af', 1.0e-6 * nA * volume)\n",
    "Parameter('k2bf', 5.5e-6 * nA * volume)\n",
    "Parameter('k2ar', 3.0)\n",
    "Parameter('k2br', 0.4)\n",
    "Parameter('k3f', 8.6e-6 * nA * volume)\n",
    "Parameter('k3r', 0.01)\n",
    "Parameter('k4', 0.034)\n",
    "\n",
    "# Establish rules.\n",
    "Rule('r1a', GActin(wh2 = None) + NPF(monomer = None, arp23 = None) | GActin(wh2 = 1) % NPF(monomer = 1, arp23 = None),\n",
    "     k1af, k1ar)\n",
    "Rule('r1b', Arp23(npf = None, filament = None) + NPF(monomer = None, arp23 = None) | Arp23(npf = 2, filament = None) % NPF(monomer = None, arp23 = 2),\n",
    "     k1bf, k1br)\n",
    "Rule('r2a',\n",
    "     GActin(wh2 = 1) % NPF(monomer = 1, arp23 = None) + Arp23(npf = None, filament = None) | GActin(wh2 = 1) % NPF(monomer = 1, arp23 = 2) % Arp23(npf = 2, filament = None),\n",
    "     k2af, k2ar)\n",
    "Rule('r2b',\n",
    "     Arp23(npf = 2, filament = None) % NPF(monomer = None, arp23 = 2) + GActin(wh2 = None) | Arp23(npf = 2, filament = None) % NPF(monomer = 1, arp23 = 2) % GActin(wh2 = 1),\n",
    "     k2bf, k2br)\n",
    "Rule('r3',\n",
    "     Arp23(npf = 2, filament = None) % NPF(monomer = 1, arp23 = 2) % GActin(wh2 = 1) + FActin(arp23 = None) | Arp23(npf = 2, filament = 3) % NPF(monomer = 1, arp23 = 2) % GActin(wh2 = 1) % FActin(arp23 = 3),\n",
    "     k3f, k3r)\n",
    "Rule('r4',\n",
    "     Arp23(npf = 2, filament = 3) % NPF(monomer = 1, arp23 = 2) % GActin(wh2 = 1) % FActin(arp23 = 3) >> Arp23(npf = None, filament = 3) % GActin(wh2 = None) % FActin(arp23 = 3) + NPF(monomer = None, arp23 = None),\n",
    "     k4)\n",
    "\n",
    "# Initial conditions.\n",
    "Parameter('GActin_0', 2e-6 * nA * volume)\n",
    "Parameter('FActin_0', 1.0)\n",
    "Parameter('Arp23_0', 50e-9 * nA * volume)\n",
    "Parameter('NPF_0', 300e-9 * nA * volume)\n",
    "Initial(GActin(wh2 = None), GActin_0)\n",
    "Initial(FActin(arp23 = None), FActin_0)\n",
    "Initial(Arp23(npf = None, filament = None), Arp23_0)\n",
    "Initial(NPF(monomer = None, arp23 = None), NPF_0)\n",
    "\n",
    "# State observables\n",
    "Observable('obsFActin', Arp23(npf = None, filament = 3) % GActin(wh2 = None) % FActin(arp23 = 3))\n",
    "Observable('obsGActin', GActin(wh2 = None))"
   ]
  },
  {
   "cell_type": "code",
   "execution_count": 2,
   "metadata": {},
   "outputs": [
    {
     "name": "stderr",
     "output_type": "stream",
     "text": [
      "/home/jiongyi/anaconda3/lib/python3.6/site-packages/h5py/__init__.py:36: FutureWarning: Conversion of the second argument of issubdtype from `float` to `np.floating` is deprecated. In future, it will be treated as `np.float64 == np.dtype(float).type`.\n",
      "  from ._conv import register_converters as _register_converters\n"
     ]
    }
   ],
   "source": [
    "from pysb.simulator import ScipyOdeSimulator\n",
    "from numpy import linspace\n",
    "\n",
    "t = linspace(0.0, 500.0, 1000)\n",
    "simres = ScipyOdeSimulator(model, tspan = t).run()\n",
    "yout = simres.all"
   ]
  },
  {
   "cell_type": "code",
   "execution_count": 4,
   "metadata": {},
   "outputs": [
    {
     "name": "stdout",
     "output_type": "stream",
     "text": [
      "[0. 0. 0. 0. 0. 0. 0. 0. 0. 0. 0. 0. 0. 0. 0. 0. 0. 0. 0. 0. 0. 0. 0. 0.\n",
      " 0. 0. 0. 0. 0. 0. 0. 0. 0. 0. 0. 0. 0. 0. 0. 0. 0. 0. 0. 0. 0. 0. 0. 0.\n",
      " 0. 0. 0. 0. 0. 0. 0. 0. 0. 0. 0. 0. 0. 0. 0. 0. 0. 0. 0. 0. 0. 0. 0. 0.\n",
      " 0. 0. 0. 0. 0. 0. 0. 0. 0. 0. 0. 0. 0. 0. 0. 0. 0. 0. 0. 0. 0. 0. 0. 0.\n",
      " 0. 0. 0. 0. 0. 0. 0. 0. 0. 0. 0. 0. 0. 0. 0. 0. 0. 0. 0. 0. 0. 0. 0. 0.\n",
      " 0. 0. 0. 0. 0. 0. 0. 0. 0. 0. 0. 0. 0. 0. 0. 0. 0. 0. 0. 0. 0. 0. 0. 0.\n",
      " 0. 0. 0. 0. 0. 0. 0. 0. 0. 0. 0. 0. 0. 0. 0. 0. 0. 0. 0. 0. 0. 0. 0. 0.\n",
      " 0. 0. 0. 0. 0. 0. 0. 0. 0. 0. 0. 0. 0. 0. 0. 0. 0. 0. 0. 0. 0. 0. 0. 0.\n",
      " 0. 0. 0. 0. 0. 0. 0. 0. 0. 0. 0. 0. 0. 0. 0. 0. 0. 0. 0. 0. 0. 0. 0. 0.\n",
      " 0. 0. 0. 0. 0. 0. 0. 0. 0. 0. 0. 0. 0. 0. 0. 0. 0. 0. 0. 0. 0. 0. 0. 0.\n",
      " 0. 0. 0. 0. 0. 0. 0. 0. 0. 0. 0. 0. 0. 0. 0. 0. 0. 0. 0. 0. 0. 0. 0. 0.\n",
      " 0. 0. 0. 0. 0. 0. 0. 0. 0. 0. 0. 0. 0. 0. 0. 0. 0. 0. 0. 0. 0. 0. 0. 0.\n",
      " 0. 0. 0. 0. 0. 0. 0. 0. 0. 0. 0. 0. 0. 0. 0. 0. 0. 0. 0. 0. 0. 0. 0. 0.\n",
      " 0. 0. 0. 0. 0. 0. 0. 0. 0. 0. 0. 0. 0. 0. 0. 0. 0. 0. 0. 0. 0. 0. 0. 0.\n",
      " 0. 0. 0. 0. 0. 0. 0. 0. 0. 0. 0. 0. 0. 0. 0. 0. 0. 0. 0. 0. 0. 0. 0. 0.\n",
      " 0. 0. 0. 0. 0. 0. 0. 0. 0. 0. 0. 0. 0. 0. 0. 0. 0. 0. 0. 0. 0. 0. 0. 0.\n",
      " 0. 0. 0. 0. 0. 0. 0. 0. 0. 0. 0. 0. 0. 0. 0. 0. 0. 0. 0. 0. 0. 0. 0. 0.\n",
      " 0. 0. 0. 0. 0. 0. 0. 0. 0. 0. 0. 0. 0. 0. 0. 0. 0. 0. 0. 0. 0. 0. 0. 0.\n",
      " 0. 0. 0. 0. 0. 0. 0. 0. 0. 0. 0. 0. 0. 0. 0. 0. 0. 0. 0. 0. 0. 0. 0. 0.\n",
      " 0. 0. 0. 0. 0. 0. 0. 0. 0. 0. 0. 0. 0. 0. 0. 0. 0. 0. 0. 0. 0. 0. 0. 0.\n",
      " 0. 0. 0. 0. 0. 0. 0. 0. 0. 0. 0. 0. 0. 0. 0. 0. 0. 0. 0. 0. 0. 0. 0. 0.\n",
      " 0. 0. 0. 0. 0. 0. 0. 0. 0. 0. 0. 0. 0. 0. 0. 0. 0. 0. 0. 0. 0. 0. 0. 0.\n",
      " 0. 0. 0. 0. 0. 0. 0. 0. 0. 0. 0. 0. 0. 0. 0. 0. 0. 0. 0. 0. 0. 0. 0. 0.\n",
      " 0. 0. 0. 0. 0. 0. 0. 0. 0. 0. 0. 0. 0. 0. 0. 0. 0. 0. 0. 0. 0. 0. 0. 0.\n",
      " 0. 0. 0. 0. 0. 0. 0. 0. 0. 0. 0. 0. 0. 0. 0. 0. 0. 0. 0. 0. 0. 0. 0. 0.\n",
      " 0. 0. 0. 0. 0. 0. 0. 0. 0. 0. 0. 0. 0. 0. 0. 0. 0. 0. 0. 0. 0. 0. 0. 0.\n",
      " 0. 0. 0. 0. 0. 0. 0. 0. 0. 0. 0. 0. 0. 0. 0. 0. 0. 0. 0. 0. 0. 0. 0. 0.\n",
      " 0. 0. 0. 0. 0. 0. 0. 0. 0. 0. 0. 0. 0. 0. 0. 0. 0. 0. 0. 0. 0. 0. 0. 0.\n",
      " 0. 0. 0. 0. 0. 0. 0. 0. 0. 0. 0. 0. 0. 0. 0. 0. 0. 0. 0. 0. 0. 0. 0. 0.\n",
      " 0. 0. 0. 0. 0. 0. 0. 0. 0. 0. 0. 0. 0. 0. 0. 0. 0. 0. 0. 0. 0. 0. 0. 0.\n",
      " 0. 0. 0. 0. 0. 0. 0. 0. 0. 0. 0. 0. 0. 0. 0. 0. 0. 0. 0. 0. 0. 0. 0. 0.\n",
      " 0. 0. 0. 0. 0. 0. 0. 0. 0. 0. 0. 0. 0. 0. 0. 0. 0. 0. 0. 0. 0. 0. 0. 0.\n",
      " 0. 0. 0. 0. 0. 0. 0. 0. 0. 0. 0. 0. 0. 0. 0. 0. 0. 0. 0. 0. 0. 0. 0. 0.\n",
      " 0. 0. 0. 0. 0. 0. 0. 0. 0. 0. 0. 0. 0. 0. 0. 0. 0. 0. 0. 0. 0. 0. 0. 0.\n",
      " 0. 0. 0. 0. 0. 0. 0. 0. 0. 0. 0. 0. 0. 0. 0. 0. 0. 0. 0. 0. 0. 0. 0. 0.\n",
      " 0. 0. 0. 0. 0. 0. 0. 0. 0. 0. 0. 0. 0. 0. 0. 0. 0. 0. 0. 0. 0. 0. 0. 0.\n",
      " 0. 0. 0. 0. 0. 0. 0. 0. 0. 0. 0. 0. 0. 0. 0. 0. 0. 0. 0. 0. 0. 0. 0. 0.\n",
      " 0. 0. 0. 0. 0. 0. 0. 0. 0. 0. 0. 0. 0. 0. 0. 0. 0. 0. 0. 0. 0. 0. 0. 0.\n",
      " 0. 0. 0. 0. 0. 0. 0. 0. 0. 0. 0. 0. 0. 0. 0. 0. 0. 0. 0. 0. 0. 0. 0. 0.\n",
      " 0. 0. 0. 0. 0. 0. 0. 0. 0. 0. 0. 0. 0. 0. 0. 0. 0. 0. 0. 0. 0. 0. 0. 0.\n",
      " 0. 0. 0. 0. 0. 0. 0. 0. 0. 0. 0. 0. 0. 0. 0. 0. 0. 0. 0. 0. 0. 0. 0. 0.\n",
      " 0. 0. 0. 0. 0. 0. 0. 0. 0. 0. 0. 0. 0. 0. 0. 0.]\n"
     ]
    },
    {
     "data": {
      "image/png": "[encoded data removed]",
      "text/plain": [
       "<Figure size 432x288 with 1 Axes>"
      ]
     },
     "metadata": {},
     "output_type": "display_data"
    }
   ],
   "source": [
    "%matplotlib inline\n",
    "from matplotlib.pyplot import plot, legend, xlabel, ylabel\n",
    "plot(t, yout['obsFActin'])\n",
    "plot(t, yout['obsGActin'])"
   ]
  }
 ],
 "metadata": {
  "kernelspec": {
   "display_name": "Python 3",
   "language": "python",
   "name": "python3"
  },
  "language_info": {
   "codemirror_mode": {
    "name": "ipython",
    "version": 3
   },
   "file_extension": ".py",
   "mimetype": "text/x-python",
   "name": "python",
   "nbconvert_exporter": "python",
   "pygments_lexer": "ipython3",
   "version": "3.6.5"
  }
 },
 "nbformat": 4,
 "nbformat_minor": 2
}
