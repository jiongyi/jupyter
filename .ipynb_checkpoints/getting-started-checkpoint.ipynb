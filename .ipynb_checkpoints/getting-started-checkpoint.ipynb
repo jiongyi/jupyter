{
 "cells": [
  {
   "cell_type": "markdown",
   "metadata": {},
   "source": [
    "# Getting started with Jupyter notebook\n",
    "\n",
    "Jupyter can be installed using [Anaconda](https://www.anaconda.com/), a Python data science platform that includes the most popular science libraries and makes their management pretty straightforward.\n",
    "\n",
    "## Installation\n",
    "\n",
    "If you have a Mac, then follow this [link](https://docs.anaconda.com/anaconda/install/mac-os) to install Anaconda. Jupyter will be installed by default. If you need to install, remove, or manage other packages, refer to the conda user [guide](https://conda.io/docs/user-guide/getting-started.html).\n",
    "\n",
    "## Accessing Jupyter notebooks\n",
    "\n",
    "#### Locally\n",
    "\n",
    "A Jupyter notebook server can be started by issuing the following command in a terminal:\n",
    "\n",
    "```\n",
    "jupyter notebook\n",
    "```\n",
    "\n",
    "By default, the server can be accessed at http://localhost:8888 via your web browser of choice.\n",
    "\n",
    "#### Remotely\n",
    "\n",
    "I have setup a Jupyter notebook server so that it can be accessed at https://jupyter.ucsf.edu:8888. The domain name can be resolved only by UCSF's DNS servers, so you must connect to UCSF's VPN. The connection has been secured using an SSL certificate, and the server password is \"serpiente y culebra\" (without quotes). Jupyter was not designed to have a multi-user environment, so overwriting other people's work when they are logged on is a concern. [JupyterHub](https://jupyterhub.readthedocs.io/en/latest/) is a possible solution, but I'm still working on setting the server up properly.\n",
    "\n",
    "## Using Jupyter notebooks\n",
    "\n",
    "Jupyter notebooks feel like Mathematica notebooks but are much more versatile. Notebook contents are organized into cells; in one type you can use markdown to format text on the fly (LaTeX is also supported), and in another type you can run code using a variety of kernels supported by Jupyter. The server at jupyter.ucsf.edu supports only Python at the moment. This [link](https://jupyter-notebook.readthedocs.io/en/stable/ui_components.html) explains how the user interface is setup.\n",
    "\n",
    "## Programming in Python\n",
    "\n",
    "[Codecademy](https://www.codecademy.com/learn/learn-python) is a great resource for true beginners, but if you already have some programming experience (especially in MATLAB), this [article](https://docs.scipy.org/doc/numpy-dev/user/numpy-for-matlab-users.html) is a good start. In the middle of programming, you can use help() to look up what an object does:\n"
   ]
  },
  {
   "cell_type": "code",
   "execution_count": 4,
   "metadata": {},
   "outputs": [
    {
     "name": "stdout",
     "output_type": "stream",
     "text": [
      "Help on built-in function exponential:\n",
      "\n",
      "exponential(...) method of mtrand.RandomState instance\n",
      "    exponential(scale=1.0, size=None)\n",
      "    \n",
      "    Draw samples from an exponential distribution.\n",
      "    \n",
      "    Its probability density function is\n",
      "    \n",
      "    .. math:: f(x; \\frac{1}{\\beta}) = \\frac{1}{\\beta} \\exp(-\\frac{x}{\\beta}),\n",
      "    \n",
      "    for ``x > 0`` and 0 elsewhere. :math:`\\beta` is the scale parameter,\n",
      "    which is the inverse of the rate parameter :math:`\\lambda = 1/\\beta`.\n",
      "    The rate parameter is an alternative, widely used parameterization\n",
      "    of the exponential distribution [3]_.\n",
      "    \n",
      "    The exponential distribution is a continuous analogue of the\n",
      "    geometric distribution.  It describes many common situations, such as\n",
      "    the size of raindrops measured over many rainstorms [1]_, or the time\n",
      "    between page requests to Wikipedia [2]_.\n",
      "    \n",
      "    Parameters\n",
      "    ----------\n",
      "    scale : float or array_like of floats\n",
      "        The scale parameter, :math:`\\beta = 1/\\lambda`.\n",
      "    size : int or tuple of ints, optional\n",
      "        Output shape.  If the given shape is, e.g., ``(m, n, k)``, then\n",
      "        ``m * n * k`` samples are drawn.  If size is ``None`` (default),\n",
      "        a single value is returned if ``scale`` is a scalar.  Otherwise,\n",
      "        ``np.array(scale).size`` samples are drawn.\n",
      "    \n",
      "    Returns\n",
      "    -------\n",
      "    out : ndarray or scalar\n",
      "        Drawn samples from the parameterized exponential distribution.\n",
      "    \n",
      "    References\n",
      "    ----------\n",
      "    .. [1] Peyton Z. Peebles Jr., \"Probability, Random Variables and\n",
      "           Random Signal Principles\", 4th ed, 2001, p. 57.\n",
      "    .. [2] Wikipedia, \"Poisson process\",\n",
      "           http://en.wikipedia.org/wiki/Poisson_process\n",
      "    .. [3] Wikipedia, \"Exponential distribution\",\n",
      "           http://en.wikipedia.org/wiki/Exponential_distribution\n",
      "\n"
     ]
    }
   ],
   "source": [
    "from numpy.random import exponential\n",
    "help(exponential)"
   ]
  },
  {
   "cell_type": "markdown",
   "metadata": {},
   "source": [
    "## Version control\n",
    "\n",
    "I'm keeping a copy of the jupyter.ucsf.edu folder in one of my GitHub [repositories](https://github.com/jiongyi/software). The repository is currently public, so one can download its contents and view/edit them from a local Jupyter notebook server. One great GitHub feature is that it can render Jupyter notebooks; see an example [here](https://github.com/jiongyi/software/blob/master/jupyter/branched-networks/network-density-mechanics.ipynb).\n"
   ]
  }
 ],
 "metadata": {
  "kernelspec": {
   "display_name": "Python 3",
   "language": "python",
   "name": "python3"
  },
  "language_info": {
   "codemirror_mode": {
    "name": "ipython",
    "version": 3
   },
   "file_extension": ".py",
   "mimetype": "text/x-python",
   "name": "python",
   "nbconvert_exporter": "python",
   "pygments_lexer": "ipython3",
   "version": "3.6.4"
  }
 },
 "nbformat": 4,
 "nbformat_minor": 2
}
